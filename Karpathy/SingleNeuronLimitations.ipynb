{
 "cells": [
  {
   "cell_type": "code",
   "execution_count": 855,
   "id": "14a4a562-9008-4b3a-8d1d-8f33ffef6d16",
   "metadata": {},
   "outputs": [
    {
     "name": "stdout",
     "output_type": "stream",
     "text": [
      "Requirement already satisfied: numpy in /Users/prakhardixit/.pyenv/versions/3.12.4/lib/python3.12/site-packages (2.1.3)\n",
      "Requirement already satisfied: micrograd in /Users/prakhardixit/.pyenv/versions/3.12.4/lib/python3.12/site-packages (0.1.0)\n",
      "Requirement already satisfied: matplotlib in /Users/prakhardixit/.pyenv/versions/3.12.4/lib/python3.12/site-packages (3.9.2)\n",
      "Requirement already satisfied: contourpy>=1.0.1 in /Users/prakhardixit/.pyenv/versions/3.12.4/lib/python3.12/site-packages (from matplotlib) (1.3.0)\n",
      "Requirement already satisfied: cycler>=0.10 in /Users/prakhardixit/.pyenv/versions/3.12.4/lib/python3.12/site-packages (from matplotlib) (0.12.1)\n",
      "Requirement already satisfied: fonttools>=4.22.0 in /Users/prakhardixit/.pyenv/versions/3.12.4/lib/python3.12/site-packages (from matplotlib) (4.54.1)\n",
      "Requirement already satisfied: kiwisolver>=1.3.1 in /Users/prakhardixit/.pyenv/versions/3.12.4/lib/python3.12/site-packages (from matplotlib) (1.4.7)\n",
      "Requirement already satisfied: packaging>=20.0 in /Users/prakhardixit/.pyenv/versions/3.12.4/lib/python3.12/site-packages (from matplotlib) (24.1)\n",
      "Requirement already satisfied: pillow>=8 in /Users/prakhardixit/.pyenv/versions/3.12.4/lib/python3.12/site-packages (from matplotlib) (11.0.0)\n",
      "Requirement already satisfied: pyparsing>=2.3.1 in /Users/prakhardixit/.pyenv/versions/3.12.4/lib/python3.12/site-packages (from matplotlib) (3.2.0)\n",
      "Requirement already satisfied: python-dateutil>=2.7 in /Users/prakhardixit/.pyenv/versions/3.12.4/lib/python3.12/site-packages (from matplotlib) (2.9.0.post0)\n",
      "Requirement already satisfied: six>=1.5 in /Users/prakhardixit/.pyenv/versions/3.12.4/lib/python3.12/site-packages (from python-dateutil>=2.7->matplotlib) (1.16.0)\n",
      "\n",
      "\u001b[1m[\u001b[0m\u001b[34;49mnotice\u001b[0m\u001b[1;39;49m]\u001b[0m\u001b[39;49m A new release of pip is available: \u001b[0m\u001b[31;49m24.0\u001b[0m\u001b[39;49m -> \u001b[0m\u001b[32;49m24.3.1\u001b[0m\n",
      "\u001b[1m[\u001b[0m\u001b[34;49mnotice\u001b[0m\u001b[1;39;49m]\u001b[0m\u001b[39;49m To update, run: \u001b[0m\u001b[32;49mpip install --upgrade pip\u001b[0m\n"
     ]
    }
   ],
   "source": [
    "!pip install numpy micrograd matplotlib"
   ]
  },
  {
   "cell_type": "code",
   "execution_count": null,
   "id": "050f6ca3-0375-490e-9445-19114724517a",
   "metadata": {},
   "outputs": [],
   "source": [
    "import math \n",
    "import numpy as np\n",
    "import matplotlib.pyplot as plt\n",
    "%matplotlib inline"
   ]
  },
  {
   "cell_type": "code",
   "execution_count": null,
   "id": "3ce4a16f-344e-427b-8102-4ea92bb61b16",
   "metadata": {},
   "outputs": [],
   "source": [
    "class Value:\n",
    "    def __init__(self, x, _children=set(), _op='', label=''):\n",
    "        self.data = x\n",
    "        self.grad = 0.0\n",
    "        self._backward = lambda: None\n",
    "        self._prev = set(_children)\n",
    "        self._op = _op\n",
    "        self.label = label\n",
    "\n",
    "    def __add__(self, other):\n",
    "        other = other if isinstance(other, Value) else Value(other)\n",
    "        out = Value(self.data + other.data, (self, other), '+')\n",
    "\n",
    "        def _backward(): \n",
    "            self.grad += 1.0 * out.grad\n",
    "            other.grad += 1.0 * out.grad\n",
    "\n",
    "        out._backward = _backward\n",
    "        return out\n",
    "    def __radd__(self, other): \n",
    "        return self + other\n",
    "    \n",
    "    def __mul__(self, other):\n",
    "        other = other if isinstance(other, Value) else Value(other)\n",
    "        out = Value(self.data * other.data, (self, other), '*')\n",
    "        def _backward():\n",
    "            self.grad = +other.data * out.grad\n",
    "            other.grad = +self.data * out.grad\n",
    "\n",
    "        out._backward = _backward\n",
    "        return out\n",
    "\n",
    "    def __rmul__(self, other):\n",
    "        return self * other\n",
    "    def __neg__(self): \n",
    "        return self * -1\n",
    "\n",
    "    def __sub__(self, other):\n",
    "        return self + (-other)\n",
    "\n",
    "    def __pow__(self, other):\n",
    "        out = Value(self.data ** other, (self,), label=f'**{other}')\n",
    "        def _backward():\n",
    "            # Corrected line for gradient calculation\n",
    "            self.grad += other * (self.data ** (other - 1)) * out.grad\n",
    "        out._backward = _backward\n",
    "        return out\n",
    "    \n",
    "    def __repr__(self):\n",
    "        return f\"Value=(data={self.data})\"\n",
    "\n",
    "    def exp(self): \n",
    "        x = self.data \n",
    "        out = Value(math.exp(x), (self, ), label='exp')\n",
    "        def _backward():\n",
    "            self.grad = out.data * out.grad\n",
    "        self._backward = _backward\n",
    "\n",
    "        return out\n",
    "\n",
    "    def __truediv__(self, other):\n",
    "        return self * (other ** -1)\n",
    "    \n",
    "    def tanh(self):\n",
    "        x = self.data\n",
    "        t = (math.exp(2*x) - 1)/(math.exp(2*x) + 1)\n",
    "        out = Value(t, (self, ), 'tanh')\n",
    "        \n",
    "        def _backward():\n",
    "          self.grad += (1 - t**2) * out.grad\n",
    "        out._backward = _backward\n",
    "        \n",
    "        return out\n",
    "\n",
    "    def backward(self):\n",
    "        topo = []\n",
    "        visited = set()\n",
    "        def build_topo(v):\n",
    "          if v not in visited:\n",
    "            visited.add(v)\n",
    "            for child in v._prev:\n",
    "              build_topo(child)\n",
    "            topo.append(v)\n",
    "        build_topo(self)\n",
    "        self.grad = 1\n",
    "        for v in reversed(topo):\n",
    "            v._backward()\n",
    "   \n",
    "        \n",
    "        "
   ]
  },
  {
   "cell_type": "code",
   "execution_count": null,
   "id": "9f537deb-5c2f-444f-9923-f6bd3ba76648",
   "metadata": {},
   "outputs": [],
   "source": [
    "from graphviz import Digraph\n",
    "\n",
    "def trace(root):\n",
    "  # builds a set of all nodes and edges in a graph\n",
    "  nodes, edges = set(), set()\n",
    "  def build(v):\n",
    "    if v not in nodes:\n",
    "      nodes.add(v)\n",
    "      for child in v._prev:\n",
    "        edges.add((child, v))\n",
    "        build(child)\n",
    "  build(root)\n",
    "  return nodes, edges\n",
    "\n",
    "def draw_dot(root):\n",
    "  dot = Digraph(format='svg', graph_attr={'rankdir': 'LR'}) # LR = left to right\n",
    "  \n",
    "  nodes, edges = trace(root)\n",
    "  for n in nodes:\n",
    "    uid = str(id(n))\n",
    "    # for any value in the graph, create a rectangular ('record') node for it\n",
    "    dot.node(name = uid, label = \"{ %s | data %.4f | grad %.4f }\" % (n.label, n.data, n.grad), shape='record')\n",
    "    if n._op:\n",
    "      # if this value is a result of some operation, create an op node for it\n",
    "      dot.node(name = uid + n._op, label = n._op)\n",
    "      # and connect this node to it\n",
    "      dot.edge(uid + n._op, uid)\n",
    "\n",
    "  for n1, n2 in edges:\n",
    "    # connect n1 to the op node of n2\n",
    "    dot.edge(str(id(n1)), str(id(n2)) + n2._op)\n",
    "\n",
    "  return dot"
   ]
  },
  {
   "cell_type": "code",
   "execution_count": null,
   "id": "401cec72-cc9d-4dcb-b0f8-c0ed4c06ead9",
   "metadata": {},
   "outputs": [],
   "source": [
    "import matplotlib.image as mpimg\n",
    "img=mpimg.imread('neuronMathModel.png')\n",
    "plt.imshow(img)"
   ]
  },
  {
   "cell_type": "code",
   "execution_count": null,
   "id": "975f7050-60b5-49ec-bfe1-2d1b3d4bf27d",
   "metadata": {},
   "outputs": [],
   "source": [
    "# Inputs to a neuron are called axons and mathematically they can be x0, x1... xn. Inputs come to a neuron through synapses. \n",
    "# Each synapse has a weight associated with it. When an input x0 comes to neuron through a synapse s with weight w0, the weight of synapse w0 gets multiplied to x0. \n",
    "\n",
    "# If a neuron has n synapses and n inputes are sent through those n synapses, overall input to a neuron becomes:\n",
    "# x0w0 + x1w1 + .... + xnwn\n",
    "# Bias\n",
    "# Bias of a neuron is the 'happy trigger' that is applies to the output\n",
    "# So the neuron will be applying bias be to the afformentioned input. (x0w0 + x1w1 + ... + nxwn) + b\n",
    "# Apply the activation function to the output of n to get the final output of the neuron\n",
    "\n",
    "\n"
   ]
  },
  {
   "cell_type": "code",
   "execution_count": null,
   "id": "38f138d3-69e8-44e1-b0bc-16152524637f",
   "metadata": {},
   "outputs": [],
   "source": [
    "# inputs x1,x2\n",
    "x1 = Value(2.0, label='x1')\n",
    "x2 = Value(0.0, label='x2')\n",
    "# weights w1,w2\n",
    "w1 = Value(-3.0, label='w1')\n",
    "w2 = Value(1.0, label='w2')\n",
    "# bias of the neuron\n",
    "b = Value(6.8813735870195432, label='b')\n",
    "# x1*w1 + x2*w2 + b\n",
    "x1w1 = x1*w1; x1w1.label = 'x1*w1'\n",
    "x2w2 = x2*w2; x2w2.label = 'x2*w2'\n",
    "x1w1x2w2 = x1w1 + x2w2; x1w1x2w2.label = 'x1*w1 + x2*w2'\n",
    "n = x1w1x2w2 + b; n.label = 'n'\n",
    "o = n.tanh(); o.label = 'o'"
   ]
  },
  {
   "cell_type": "code",
   "execution_count": null,
   "id": "e05f38c2-e348-4c1d-9bda-8b021ae1bebe",
   "metadata": {},
   "outputs": [],
   "source": [
    "o.backward()"
   ]
  },
  {
   "cell_type": "code",
   "execution_count": null,
   "id": "f60e9645-0eab-48ea-9aab-d1f214b35086",
   "metadata": {},
   "outputs": [],
   "source": [
    "draw_dot(o)"
   ]
  },
  {
   "cell_type": "code",
   "execution_count": null,
   "id": "ae77ec9d-01cd-4cd8-95ad-76d6fc2c8b4e",
   "metadata": {},
   "outputs": [],
   "source": [
    "import random\n",
    "class Neuron: \n",
    "    def __init__(self, n):\n",
    "        self.w = [Value(random.uniform(-1, 1)) for _ in range(n)]\n",
    "        self.b = Value(random.uniform(-1, 1))\n",
    "\n",
    "    def __call__(self, x):\n",
    "        # x * w + b \n",
    "        act = sum(wi * xi for wi, xi in zip(self.w, x)) + self.b\n",
    "        out = act.tanh() \n",
    "        return out\n",
    "    \n",
    "    def parameters(self):\n",
    "        return self.w + [self.b]\n",
    "\n",
    "class Layer:\n",
    "    def __init__(self, nin, nout):\n",
    "        self. neurons = [Neuron(nin) for _ in range(nout)]\n",
    "\n",
    "    def __call__(self, x):\n",
    "        outs = [n(x) for n in self.neurons]\n",
    "        return outs\n",
    "    def parameters(self): \n",
    "        params = []\n",
    "        params.extend(neuron.parameters() for neuron in self.neurons)\n",
    "        return params\n",
    "\n",
    "class MLP:\n",
    "    def __init__(self, nin, nouts):\n",
    "        sz = [nin] + nouts\n",
    "        self.layers = [Layer(sz[i], sz[i+1]) for i in range(len(nouts))]\n",
    "    def __call__(self, x):\n",
    "        for layer in self.layers:\n",
    "            x = layer(x)\n",
    "        return x[0] if len(x) == 1 else x\n",
    "\n",
    "    def parameters(self):\n",
    "        return [param for layer in self.layers for neuron in layer.neurons for param in neuron.parameters()]\n",
    "        \n",
    "        "
   ]
  },
  {
   "cell_type": "code",
   "execution_count": null,
   "id": "f5f0eabb-4914-4629-a7c2-f0c055325c82",
   "metadata": {},
   "outputs": [],
   "source": [
    "\"\"\"\n",
    "Let's try and figure out why a single neuron is not apt for non-linear data. \n",
    "\n",
    "The output of a neuron with inputs x1, x2 and weights w1, w2 and bias b is defined as,\n",
    "    y = x1w1 + x2w2 + b\n",
    "\n",
    "    The above equation defines a line in 2D plane.\n",
    "    Hence each neuron slices the input space by a line, also known as its decision boundary. \n",
    "\n",
    "    Any point on one side of that line, the nueron classifies as activated or 1 and any point below it, the neuron classifies as 0 or weak.\n",
    "\n",
    "\n",
    "What is a decision boundary?\n",
    "A decision boundary of a neuron is a line above which the output of that neuron is >0 or 'activated' and below is < 0 or 'deactivated'.\n",
    "How do we compute the decision boundary?\n",
    "Let's take an example of x1 and x2 as inputs, w1 and w2 as weights and b as bias. \n",
    "\n",
    "The neuron's output is y. \n",
    "y is defined as,\n",
    "\n",
    "    y = x1w1 + x2w2 +b\n",
    "    This represents a line in 2D plane. \n",
    "\n",
    "On the decision boundary, the output of the neuron is 0. \n",
    "Hence, \n",
    "    x1w1 + x2w2 + b = 0 \n",
    "\n",
    "Rearranging terms, \n",
    "    x2 = -(w1/w2)x1 - (b / w2) \n",
    "\n",
    "    This represents a line with -(w1/w2) as its slope and - (b / w2) as its intercept (this point at which this line intersects x2 axis).\n",
    "\"\"\"\n",
    "\n",
    "\"\"\"\n",
    "Let's take an example of xor. The xor data is non-linearly scattered. \n",
    "Let's see how a single neuron fails to classify a non-linearly scattered data.\n",
    "\"\"\""
   ]
  },
  {
   "cell_type": "code",
   "execution_count": null,
   "id": "e23b0a21-3519-4809-8e27-18a4dae88cfb",
   "metadata": {},
   "outputs": [],
   "source": [
    "import numpy as np\n",
    "import matplotlib.pyplot as plt\n",
    "\n",
    "# Assuming the Neuron and Value classes are defined as in the code provided above\n",
    "\n",
    "# Define XOR points and labels\n",
    "xor_points = np.array([[0, 0], [0, 1], [1, 0], [1, 1]])\n",
    "labels = np.array([0, 1, 1, 0])\n",
    "\n",
    "# Create a single neuron with 2 inputs\n",
    "nn = Neuron(2)\n"
   ]
  },
  {
   "cell_type": "code",
   "execution_count": null,
   "id": "6ab80b59-33eb-44d1-8c94-a32e3209511f",
   "metadata": {},
   "outputs": [],
   "source": [
    "\n",
    "def plot_decision_boundary(weights, biases):\n",
    "    # Retrieve weights and bias from the neuron\n",
    "    # w1 = nn.w[0].data  # Weight for x1\n",
    "    # w2 = nn.w[1].data  # Weight for x2\n",
    "    # b = nn.b.data      # Bias\n",
    "\n",
    "    all_x_vals = []\n",
    "    all_y_vals = []\n",
    "\n",
    "    for w, b in zip(weights, biases):\n",
    "        x_vals = np.linspace(-0.5, 1.5, 100)\n",
    "        if w[1] != 0:\n",
    "            y_vals = - (w[0] / w[1]) * x_vals - (b / w[1])\n",
    "        else:\n",
    "            y_vals = np.full_like(x_vals, 10)\n",
    "\n",
    "        all_x_vals.append(x_vals)\n",
    "        all_y_vals.append(y_vals)\n",
    "\n",
    "    # Calculate the decision boundary line based on neuron weights and bias\n",
    "    x_vals = np.linspace(-0.5, 1.5, 100)\n",
    "    if w2 != 0:\n",
    "        y_vals = - (w1 / w2) * x_vals - (b / w2)\n",
    "    else:\n",
    "        # If w2 is zero, avoid division by zero and set y_vals to an arbitrary large value\n",
    "        y_vals = np.full_like(x_vals, 10)\n",
    "    \n",
    "    # Plot XOR points\n",
    "    plt.figure(figsize=(8, 6))\n",
    "    plt.scatter(xor_points[labels == 0][:, 0], xor_points[labels == 0][:, 1], color='red', label='Class 0', s=100, edgecolor='k')\n",
    "    plt.scatter(xor_points[labels == 1][:, 0], xor_points[labels == 1][:, 1], color='blue', label='Class 1', s=100, edgecolor='k')\n",
    "    \n",
    "    # Plot the decision boundary line\n",
    "    for x, y in zip(all_x_vals, all_y_vals):\n",
    "         plt.plot(x, y, 'k--', label=\"\")\n",
    "    \n",
    "    # Set plot limits and labels\n",
    "    plt.xlim(-0.5, 1.5)\n",
    "    plt.ylim(-0.5, 1.5)\n",
    "    plt.title(\"Decision Boundary Line Created by Single Neuron for XOR Data\")\n",
    "    plt.xlabel(\"Input x1\")\n",
    "    plt.ylabel(\"Input x2\")\n",
    "    plt.legend()\n",
    "    plt.show()"
   ]
  },
  {
   "cell_type": "code",
   "execution_count": null,
   "id": "86eb621b-44bd-44df-b18d-0216ffffc4c3",
   "metadata": {},
   "outputs": [],
   "source": [
    "# Caputre original weights and bias of the neuron. So that when we update weights, we don't actually change the original neuron weights and biases\n",
    "weights = [[w.data for w in nn.w]]\n",
    "biases = [nn.b.data]\n",
    "\n",
    "plot_decision_boundary(weights, biases)"
   ]
  },
  {
   "cell_type": "code",
   "execution_count": null,
   "id": "9f787c7d-eecf-474c-be7e-e6be83349f65",
   "metadata": {},
   "outputs": [],
   "source": [
    "\"\"\"\n",
    "The boundary line above is created by randomly assigning weights and biases.\n",
    "\"\"\""
   ]
  },
  {
   "cell_type": "code",
   "execution_count": null,
   "id": "4d229b17-0582-48c9-9a1f-0aa462dec383",
   "metadata": {},
   "outputs": [],
   "source": [
    "#Obtain ys from neuron\n",
    "\n",
    "y = [] \n",
    "\n",
    "for p in xor_points:\n",
    "    y.append(nn(p))\n",
    "    \n",
    "y3 = y[3]\n",
    "print(y3)"
   ]
  },
  {
   "cell_type": "code",
   "execution_count": null,
   "id": "fc2d4286-aaf3-4a07-abe2-3d70a3dca77c",
   "metadata": {},
   "outputs": [],
   "source": [
    "\n",
    "# Do backprop to figure out how do weights and bias impact the output.\n",
    "y3.backward()"
   ]
  },
  {
   "cell_type": "code",
   "execution_count": null,
   "id": "234318ab-bc28-44d5-8e38-46947abfaec7",
   "metadata": {},
   "outputs": [],
   "source": [
    "print(f\"grad of neuron of w1: {nn.w[0].grad}\")\n",
    "print(f\"grad of neuron of w2: {nn.w[1].grad}\")\n",
    "print(f\"grad of neuron of bias: {nn.b.grad}\")"
   ]
  },
  {
   "cell_type": "code",
   "execution_count": null,
   "id": "f96b630b-4c1a-47ed-a72c-40ecd3d272ef",
   "metadata": {},
   "outputs": [],
   "source": [
    "\"\"\"\n",
    "From the original decision boundary, we can see that point(1,1) lies on the positive or 'activated' side of the output, but the actual output for point (1,1) should be 0 (1 xor 1 = 0). \n",
    "Let's change the weights and bias gradually to accomodate output of y3, which should be close to 0. \n",
    "Take a small h and start applying it to weights and biases.\n",
    "\"\"\""
   ]
  },
  {
   "cell_type": "code",
   "execution_count": null,
   "id": "0a817ded-4f1a-420b-9663-c0b415917461",
   "metadata": {},
   "outputs": [],
   "source": [
    "\n",
    "weights = [[w.data for w in nn.w]]\n",
    "biases = [nn.b.data]\n",
    "h = 0.03\n",
    "w1, w2 = weights[0]\n",
    "b = biases[0]\n",
    "for _ in range(10):\n",
    "    w1 -= h\n",
    "    w2 -= h\n",
    "    b -= h\n",
    "    \n",
    "    weights.append([w1, w2])\n",
    "    biases.append(b)"
   ]
  },
  {
   "cell_type": "code",
   "execution_count": null,
   "id": "5c3dbe2d-9255-401c-aa41-399b71d79ef2",
   "metadata": {},
   "outputs": [],
   "source": [
    "# Let's plot how the decision boundary moves\n",
    "\n",
    "plot_decision_boundary(weights, biases)"
   ]
  },
  {
   "cell_type": "code",
   "execution_count": null,
   "id": "4a4c353c-abd1-41ef-83e4-18193d84fded",
   "metadata": {},
   "outputs": [],
   "source": [
    "# Let's plot just the last boundary line\n",
    "plot_decision_boundary(weights[len(weights) - 1:], biases[len(biases)-1:])"
   ]
  },
  {
   "cell_type": "code",
   "execution_count": null,
   "id": "0d35a22b-5583-41e5-807a-ba213aadbdf8",
   "metadata": {},
   "outputs": [],
   "source": []
  },
  {
   "cell_type": "code",
   "execution_count": null,
   "id": "10b7841d-a932-4e67-98c9-76b6fb942b49",
   "metadata": {},
   "outputs": [],
   "source": []
  },
  {
   "cell_type": "code",
   "execution_count": null,
   "id": "342a6c7e-f738-4d40-ab92-0f5dbdbb7ebe",
   "metadata": {},
   "outputs": [],
   "source": []
  },
  {
   "cell_type": "code",
   "execution_count": null,
   "id": "c7969aae-468f-4eeb-b9d7-bea82a032d9a",
   "metadata": {},
   "outputs": [],
   "source": [
    "\"\"\"\n",
    "As we can see, the last decision boundary after adjusting the weights, correctly classifies the point (1,1).\n",
    "But it still misclassifies (1, 0). Which is why, single neuron cannot correctly classify non-linear data.\n",
    "\"\"\""
   ]
  },
  {
   "cell_type": "code",
   "execution_count": null,
   "id": "31eca9c7-1336-4858-9fa5-619d0f0a721e",
   "metadata": {},
   "outputs": [],
   "source": [
    "\"\"\" \n",
    "Let's start defining multiple neurons, called a layer and see how using multiple neurons, \n",
    "the data space is sliced into more complex regions.\n",
    "\"\"\"\n"
   ]
  },
  {
   "cell_type": "code",
   "execution_count": null,
   "id": "1cb09ff1-bd19-4207-8b4d-dc4d4a4fda5f",
   "metadata": {},
   "outputs": [],
   "source": [
    "def plot_decision_boundary_layer(weights, biases, colors):\n",
    "    # Retrieve weights and bias from the neuron\n",
    "    # w1 = nn.w[0].data  # Weight for x1\n",
    "    # w2 = nn.w[1].data  # Weight for x2\n",
    "    # b = nn.b.data      # Bias\n",
    "\n",
    "    all_x_vals = []\n",
    "    all_y_vals = []\n",
    "\n",
    "    for w, b in zip(weights, biases):\n",
    "        x_vals = np.linspace(-0.5, 1.5, 100)\n",
    "        if w[1] != 0:\n",
    "            y_vals = - (w[0] / w[1]) * x_vals - (b / w[1])\n",
    "        else:\n",
    "            y_vals = np.full_like(x_vals, 10)\n",
    "\n",
    "        all_x_vals.append(x_vals)\n",
    "        all_y_vals.append(y_vals)\n",
    "\n",
    "    # Calculate the decision boundary line based on neuron weights and bias\n",
    "    x_vals = np.linspace(-0.5, 1.5, 100)\n",
    "    if w2 != 0:\n",
    "        y_vals = - (w1 / w2) * x_vals - (b / w2)\n",
    "    else:\n",
    "        # If w2 is zero, avoid division by zero and set y_vals to an arbitrary large value\n",
    "        y_vals = np.full_like(x_vals, 10)\n",
    "    \n",
    "    # Plot XOR points\n",
    "    plt.figure(figsize=(8, 6))\n",
    "    plt.scatter(xor_points[labels == 0][:, 0], xor_points[labels == 0][:, 1], color='red', label='Class 0', s=100, edgecolor='k')\n",
    "    plt.scatter(xor_points[labels == 1][:, 0], xor_points[labels == 1][:, 1], color='blue', label='Class 1', s=100, edgecolor='k')\n",
    "    \n",
    "    # Plot the decision boundary line\n",
    "    for x, y, c in zip(all_x_vals, all_y_vals, colors):\n",
    "         plt.plot(x, y, f\"{c}--\", label=\"\")\n",
    "    \n",
    "    # Set plot limits and labels\n",
    "    plt.xlim(-0.5, 1.5)\n",
    "    plt.ylim(-0.5, 1.5)\n",
    "    plt.title(\"Decision Boundary Line Created by Single Neuron for XOR Data\")\n",
    "    plt.xlabel(\"Input x1\")\n",
    "    plt.ylabel(\"Input x2\")\n",
    "    plt.legend()\n",
    "    plt.show()"
   ]
  },
  {
   "cell_type": "code",
   "execution_count": null,
   "id": "5254838a-2e33-4b84-81ce-562425cf12a6",
   "metadata": {},
   "outputs": [],
   "source": [
    "layer = Layer(2, 10)"
   ]
  },
  {
   "cell_type": "code",
   "execution_count": null,
   "id": "ca334ec0-d26b-4df8-a1b4-2b46dec346e5",
   "metadata": {},
   "outputs": [],
   "source": [
    "weights = [[n.w[0].data, n.w[1].data] for n in layer.neurons]\n",
    "biases = [n.b.data for n in layer.neurons]\n",
    "\n",
    "colors = ['r', 'g']\n",
    "plot_decision_boundary_layer(weights, biases, colors)"
   ]
  },
  {
   "cell_type": "code",
   "execution_count": null,
   "id": "26d7d507-845d-4c64-a3d0-ce945a73dc59",
   "metadata": {},
   "outputs": [],
   "source": [
    "# Define xor_inputs here\n",
    "xor_inputs = [[0,0], [0,1], [1,0], [1,1]]\n",
    "\n",
    "#This is the expected outputs for all the inputs above\n",
    "y_exp = [0, 1, 1, 0]"
   ]
  },
  {
   "cell_type": "code",
   "execution_count": null,
   "id": "086be580-ab5c-48c0-b8bc-2e46772f0a11",
   "metadata": {},
   "outputs": [],
   "source": [
    "\"\"\"\n",
    "Let's understand what exactly does 2 neurons in a layer means. \n",
    "\n",
    "We have an input with 2 dimensions, x1 & x2. Both of these dimensions are fed to each neuron. \n",
    "And the output of each neuron tells us whether it classifies the given (x1, x2) as 1 or zero. \n",
    "In other words, it tells us that whether the neuron is active or inactive for the given input (x1, x2).\n",
    "\n",
    "The layer that we have defined as 2 neurons in it. \n",
    "The output of layer tells us the output of each neuron for a given input (x1, x2)\n",
    "\n",
    "\"\"\"\n",
    "\n",
    "y_pred = layer([0, 0])\n",
    "print(y_pred)\n",
    "\n",
    "\"\"\"\n",
    "The above output tells us the output of each neuron for the input [0,0]\n",
    "The output of neuron 1 tells us that [0,0] activates it (or the output is close to 1). Obviously this is incorrect, as 0 xor 0 should be zero.\n",
    "The output of neuron 2 tells us that [0,0] deactivates it (or the output is close to 0). This is correct but coincidentally. \n",
    "Since the weights and biases of both the neurons are randomly assigned, we are getting these values.\n",
    "\n",
    "\"\"\""
   ]
  },
  {
   "cell_type": "code",
   "execution_count": null,
   "id": "b6567fb0-35e3-427e-915d-339e703e7d0e",
   "metadata": {},
   "outputs": [],
   "source": [
    "# Let's gather the outputs of both the neurons for each input data (there are 4 inputs defined above)\n",
    "\n",
    "y_pred_neuron1 = [] \n",
    "y_pred_neuron2 = []\n",
    "\n",
    "for input in xor_inputs:\n",
    "    y_pred = layer(input)\n",
    "    y_pred_neuron1.append(y_pred[0])\n",
    "    y_pred_neuron2.append(y_pred[1])\n",
    "\n",
    "y_pred_neuron1, y_pred_neuron2"
   ]
  },
  {
   "cell_type": "code",
   "execution_count": null,
   "id": "b1130d7c-a556-455b-a0ff-a5fce6d36aa2",
   "metadata": {},
   "outputs": [],
   "source": [
    "\"\"\"\n",
    "Let's try and modify the weights and biases of these neurons such that the outputs get closer and closer to actual expected outputs\n",
    "\"\"\""
   ]
  },
  {
   "cell_type": "code",
   "execution_count": null,
   "id": "d8dc3d79-e04d-404f-a246-8a52a301b52c",
   "metadata": {},
   "outputs": [],
   "source": [
    "\"\"\"\n",
    "Instead of manually adjusting the weights and biases this time, since we have double the number of weights and biases, we will try to do this\n",
    "in a more organised manner.\n",
    "\n",
    "Let's introduce the concept of a loss, here.\n",
    "\n",
    "Loss is defined as the distance between the output of a neuron from the actual expected output. It has a much broader explanation but this\n",
    "simple definition fits our current layer. \n",
    "We will continue to evolve this definition as we go along.\n",
    "\n",
    "For each neuron, we will compute the loss. We will be using mean squared loss here, which defined as the sum of squared differences between\n",
    "neuron's outputs vs its inputs\n",
    "\"\"\"\n",
    "\n"
   ]
  },
  {
   "cell_type": "code",
   "execution_count": null,
   "id": "22a842ce-89b0-4f3b-b0f3-dab8b6a49ae1",
   "metadata": {},
   "outputs": [],
   "source": [
    "\"\"\"\n",
    "Our goal is to update the weights and biases such that these indivisual losses of both the neurons reduce.\n",
    "We will do this one neuron at a time.\n",
    "\"\"\"\n",
    "\n",
    "\"\"\"\n",
    "Till now we have manually adjusted the values of weights and biases to move the output of a neuron closer to the expected output (in other words, \n",
    "reduce the loss). \n",
    "But now, we will do this with the following steps. \n",
    "\n",
    "1. Define a small change value, h. \n",
    "2. compute the outputs from the inputs (also known as a forward pass). \n",
    "3. compute the loss\n",
    "4. Do backpropogation on the loss object, so that all the gradients of all the weights and biases are computed. \n",
    "5. Update the weights and bias in order to reduce the overall loss\n",
    "6. Zero out the grads. Since we accumulate the gradients (+= in the Value class while computing gradients), we need to flush them so that \n",
    "gradient computation starts from 0 for the new loss. \n",
    "\n",
    "7. Iterate steps 2 to 6 and monitor the loss go down.\n",
    "\"\"\"\n"
   ]
  },
  {
   "cell_type": "code",
   "execution_count": null,
   "id": "2d7bc9bc-ba20-4bcd-b62b-81875e4e20b5",
   "metadata": {},
   "outputs": [],
   "source": [
    "layer = Layer(2, 20)"
   ]
  },
  {
   "cell_type": "code",
   "execution_count": null,
   "id": "6d260122-2963-4ea4-850b-b696d0aa27be",
   "metadata": {},
   "outputs": [],
   "source": [
    "weights = [[n.w[0].data, n.w[1].data] for n in layer.neurons]\n",
    "biases = [n.b.data for n in layer.neurons]\n",
    "\n",
    "colors = ['r', 'g']\n",
    "plot_decision_boundary_layer(weights, biases, colors)"
   ]
  },
  {
   "cell_type": "code",
   "execution_count": null,
   "id": "3c7dd963-fdc9-4100-a594-43aa06219377",
   "metadata": {},
   "outputs": [],
   "source": [
    "h = 0.1 \n",
    "min_loss = 100000\n",
    "apt_parameters = []\n",
    "# For neuron 2\n",
    "loss=0\n",
    "for k in range(500):\n",
    "    loss=0\n",
    "    # Forward pass\n",
    "    y = [layer(input) for input in xor_inputs]\n",
    "    for i in range(len(layer.neurons)):\n",
    "        ypred = [d[i] for d in y]\n",
    "        loss += sum((pred - exp)**2 for pred, exp in zip(ypred, y_exp))\n",
    "    loss = loss / len(layer.neurons)\n",
    "    \n",
    "\n",
    "    # grad 0 for each neuron\n",
    "    for neuron in layer.neurons:\n",
    "        for p in neuron.parameters():\n",
    "            p.grad = 0\n",
    "\n",
    "    # Backward pass\n",
    "\n",
    "    loss.backward()\n",
    "\n",
    "    # Update the parameters \n",
    "    for neuron in layer.neurons: \n",
    "        for p in neuron.parameters():\n",
    "            p.data += -h * p.grad\n",
    "\n",
    "    if loss.data < min_loss:\n",
    "        min_loss = loss.data \n",
    "        # collect parameters\n",
    "        params = []\n",
    "        for neuron in layer.neurons:\n",
    "            params.append([p.data for p in neuron.parameters()])\n",
    "        apt_parameters = params\n",
    "\n",
    "    if k % 100 == 0:\n",
    "        print(f\"pass: {k}, loss: {loss.data}\")\n",
    "\n",
    "print(min_loss, apt_parameters)"
   ]
  },
  {
   "cell_type": "code",
   "execution_count": null,
   "id": "587e4f00-e964-4885-9c3b-469cc9a809f0",
   "metadata": {},
   "outputs": [],
   "source": [
    "w = [weight[:len(weight) - 1] for weight in apt_parameters]\n",
    "b = [weight[len(weight) - 1] for weight in apt_parameters]\n",
    "w, b\n",
    "\n",
    "colors = ['r', 'g', 'b', 'k', 'y', 'c', 'm']\n",
    "\n",
    "# Generate the color list based on the number of neurons\n",
    "num_neurons = len(w)  # Assuming `w` contains weights for each neuron\n",
    "colors = colors[:num_neurons]\n",
    "\n",
    "plot_decision_boundary_layer(w, b, colors)"
   ]
  },
  {
   "cell_type": "code",
   "execution_count": null,
   "id": "46e12ac5-bbc0-42fd-8a02-6cb1a9a76491",
   "metadata": {},
   "outputs": [],
   "source": [
    "import numpy as np\n",
    "import matplotlib.pyplot as plt\n",
    "from matplotlib.colors import ListedColormap\n",
    "\n",
    "def plot_combined_decision_boundary(layer, xor_points, labels):\n",
    "    # Generate a grid of points to evaluate\n",
    "    x_min, x_max = -0.5, 1.5\n",
    "    y_min, y_max = -0.5, 1.5\n",
    "    xx, yy = np.meshgrid(np.linspace(x_min, x_max, 100), np.linspace(y_min, y_max, 100))\n",
    "    \n",
    "    # For each point on the grid, calculate the combined output of all neurons in the layer\n",
    "    combined_output = np.zeros(xx.shape)\n",
    "    for i in range(xx.shape[0]):\n",
    "        for j in range(xx.shape[1]):\n",
    "            point = [xx[i, j], yy[i, j]]\n",
    "            neuron_outputs = [neuron(point).data for neuron in layer.neurons]\n",
    "            \n",
    "            # Use a threshold to determine neuron activation (tanh output close to 1 or -1)\n",
    "            # XOR logic: a simple way to classify the output as 1 if neuron combination approximates XOR\n",
    "            combined_output[i, j] = 1 if sum(1 if o > 0 else 0 for o in neuron_outputs) % 2 == 1 else 0\n",
    "\n",
    "    # Plot XOR points\n",
    "    plt.figure(figsize=(8, 6))\n",
    "    plt.scatter(xor_points[labels == 0][:, 0], xor_points[labels == 0][:, 1], color='red', label='Class 0', s=100, edgecolor='k')\n",
    "    plt.scatter(xor_points[labels == 1][:, 0], xor_points[labels == 1][:, 1], color='blue', label='Class 1', s=100, edgecolor='k')\n",
    "    \n",
    "    # Plot the combined decision boundary\n",
    "    cmap_light = ListedColormap(['#FFAAAA', '#AAAAFF'])\n",
    "    plt.contourf(xx, yy, combined_output, cmap=cmap_light, alpha=0.3)\n",
    "    \n",
    "    # Set plot limits and labels\n",
    "    plt.xlim(x_min, x_max)\n",
    "    plt.ylim(y_min, y_max)\n",
    "    plt.title(\"Combined Decision Boundary for XOR\")\n",
    "    plt.xlabel(\"Input x1\")\n",
    "    plt.ylabel(\"Input x2\")\n",
    "    plt.legend()\n",
    "    plt.show()\n",
    "\n",
    "# Assuming layer, xor_points, and labels are defined as before\n",
    "plot_combined_decision_boundary(layer, xor_points, labels)\n"
   ]
  },
  {
   "cell_type": "code",
   "execution_count": null,
   "id": "685e5bc4-d280-488c-97a1-2180e0042f37",
   "metadata": {},
   "outputs": [],
   "source": [
    "layer = Layer(2, 2)"
   ]
  },
  {
   "cell_type": "code",
   "execution_count": null,
   "id": "638e5e8c-3bb5-42f5-840b-603b97e272d9",
   "metadata": {},
   "outputs": [],
   "source": [
    "print(layer.parameters())"
   ]
  },
  {
   "cell_type": "markdown",
   "id": "134d2945-0c37-4095-8e3d-46f1ac2b73df",
   "metadata": {},
   "source": [
    "## Adding MLP to have multiple Layers now"
   ]
  },
  {
   "cell_type": "code",
   "execution_count": 850,
   "id": "9a30e7be-2375-406a-a5e1-7602f09b0719",
   "metadata": {},
   "outputs": [],
   "source": [
    "def plot_combined_decision_boundary_mlp(mlp, xor_points, labels):\n",
    "    # Generate a grid of points to evaluate\n",
    "    x_min, x_max = -0.5, 1.5\n",
    "    y_min, y_max = -0.5, 1.5\n",
    "    xx, yy = np.meshgrid(np.linspace(x_min, x_max, 100), np.linspace(y_min, y_max, 100))\n",
    "    \n",
    "    # For each point on the grid, calculate the output of the MLP\n",
    "    combined_output = np.zeros(xx.shape)\n",
    "    for i in range(xx.shape[0]):\n",
    "        for j in range(xx.shape[1]):\n",
    "            point = [xx[i, j], yy[i, j]]\n",
    "            \n",
    "            # Pass the point through the entire MLP to get the final output\n",
    "            final_output = mlp(point)\n",
    "            \n",
    "            # If final_output is a list, retrieve the first element\n",
    "            if isinstance(final_output, list):\n",
    "                final_output = final_output[0]\n",
    "            \n",
    "            # Use a threshold to classify the output: if final_output > 0, classify as 1; otherwise, classify as 0\n",
    "            combined_output[i, j] = 1 if final_output.data > 0 else 0\n",
    "\n",
    "    # Plot XOR points\n",
    "    plt.figure(figsize=(8, 6))\n",
    "    plt.scatter(xor_points[labels == 0][:, 0], xor_points[labels == 0][:, 1], color='red', label='Class 0', s=100, edgecolor='k')\n",
    "    plt.scatter(xor_points[labels == 1][:, 0], xor_points[labels == 1][:, 1], color='blue', label='Class 1', s=100, edgecolor='k')\n",
    "    \n",
    "    # Plot the combined decision boundary\n",
    "    cmap_light = ListedColormap(['#FFAAAA', '#AAAAFF'])\n",
    "    plt.contourf(xx, yy, combined_output, cmap=cmap_light, alpha=0.3)\n",
    "    \n",
    "    # Set plot limits and labels\n",
    "    plt.xlim(x_min, x_max)\n",
    "    plt.ylim(y_min, y_max)\n",
    "    plt.title(\"Combined Decision Boundary for XOR using MLP\")\n",
    "    plt.xlabel(\"Input x1\")\n",
    "    plt.ylabel(\"Input x2\")\n",
    "    plt.legend()\n",
    "    plt.show()\n"
   ]
  },
  {
   "cell_type": "code",
   "execution_count": 852,
   "id": "f84c9db6-2e48-49ad-af6c-383a4ecffa1f",
   "metadata": {},
   "outputs": [],
   "source": [
    "n = MLP(2, [2])"
   ]
  },
  {
   "cell_type": "code",
   "execution_count": 853,
   "id": "d8a63fd3-762b-4841-a205-9a1ac2c6a836",
   "metadata": {},
   "outputs": [
    {
     "data": {
      "image/png": "[encoded data removed]",
      "text/plain": [
       "<Figure size 800x600 with 1 Axes>"
      ]
     },
     "metadata": {},
     "output_type": "display_data"
    }
   ],
   "source": [
    "plot_combined_decision_boundary(n.layers[0], xor_points, labels)"
   ]
  },
  {
   "cell_type": "markdown",
   "id": "0861a31c-8230-4842-a69c-be5d3786a645",
   "metadata": {},
   "source": [
    "#### We have added one more layer with a single neuron now. This single neuron will take the piecewise decision boundaries created by layer 1 as input and will apply linear transformation to that, along with a non linear activation function. Thus, making the combined decision boundary as non-linear."
   ]
  },
  {
   "cell_type": "code",
   "execution_count": 854,
   "id": "ea4db886-20ee-4b17-8bd3-b6aa6ac3aed3",
   "metadata": {},
   "outputs": [
    {
     "ename": "TypeError",
     "evalue": "unsupported operand type(s) for -: 'list' and 'Value'",
     "output_type": "error",
     "traceback": [
      "\u001b[0;31m---------------------------------------------------------------------------\u001b[0m",
      "\u001b[0;31mTypeError\u001b[0m                                 Traceback (most recent call last)",
      "Cell \u001b[0;32mIn[854], line 8\u001b[0m\n\u001b[1;32m      5\u001b[0m ypred \u001b[38;5;241m=\u001b[39m [n(\u001b[38;5;28minput\u001b[39m) \u001b[38;5;28;01mfor\u001b[39;00m \u001b[38;5;28minput\u001b[39m \u001b[38;5;129;01min\u001b[39;00m xor_inputs]\n\u001b[1;32m      7\u001b[0m \u001b[38;5;66;03m# Compute loss as a Value instance\u001b[39;00m\n\u001b[0;32m----> 8\u001b[0m loss \u001b[38;5;241m=\u001b[39m \u001b[38;5;28msum\u001b[39m([(\u001b[43my\u001b[49m\u001b[43m \u001b[49m\u001b[38;5;241;43m-\u001b[39;49m\u001b[43m \u001b[49m\u001b[43mValue\u001b[49m\u001b[43m(\u001b[49m\u001b[43mexp\u001b[49m\u001b[43m)\u001b[49m)\u001b[38;5;241m*\u001b[39m\u001b[38;5;241m*\u001b[39m\u001b[38;5;241m2\u001b[39m \u001b[38;5;28;01mfor\u001b[39;00m y, exp \u001b[38;5;129;01min\u001b[39;00m \u001b[38;5;28mzip\u001b[39m(ypred, labels)])\n\u001b[1;32m     10\u001b[0m \u001b[38;5;66;03m# Zero gradients for each parameter before backward pass\u001b[39;00m\n\u001b[1;32m     11\u001b[0m \u001b[38;5;28;01mfor\u001b[39;00m p \u001b[38;5;129;01min\u001b[39;00m n\u001b[38;5;241m.\u001b[39mparameters():\n",
      "\u001b[0;31mTypeError\u001b[0m: unsupported operand type(s) for -: 'list' and 'Value'"
     ]
    }
   ],
   "source": [
    "h = 0.1\n",
    "for k in range(100):\n",
    "    \n",
    "    # Forward pass \n",
    "    ypred = [n(input) for input in xor_inputs]\n",
    "\n",
    "    # Compute loss as a Value instance\n",
    "    loss = sum([(y - Value(exp))**2 for y, exp in zip(ypred, labels)])\n",
    "    \n",
    "    # Zero gradients for each parameter before backward pass\n",
    "    for p in n.parameters():\n",
    "        p.grad = 0 \n",
    "\n",
    "    # Backward pass\n",
    "    loss.backward()\n",
    "\n",
    "    # Update the parameters\n",
    "    for p in n.parameters():\n",
    "        p.data += -h * p.grad\n",
    "\n",
    "    # Print loss every 100 iterations\n",
    "    if k % 100 == 0:\n",
    "        print(f\"Pass: {k} | Loss: {loss.data}\")\n",
    "        plot_combined_decision_boundary(n, xor_points, labels)\n"
   ]
  },
  {
   "cell_type": "code",
   "execution_count": 825,
   "id": "de215c38-300a-432f-93ae-d1ef809be971",
   "metadata": {},
   "outputs": [
    {
     "data": {
      "image/png": "[encoded data removed]",
      "text/plain": [
       "<Figure size 800x600 with 1 Axes>"
      ]
     },
     "metadata": {},
     "output_type": "display_data"
    }
   ],
   "source": [
    "plot_combined_decision_boundary(n, xor_points, labels)"
   ]
  },
  {
   "cell_type": "code",
   "execution_count": null,
   "id": "76f479fc-16a9-4664-84b3-d369c975dfde",
   "metadata": {},
   "outputs": [],
   "source": []
  },
  {
   "cell_type": "code",
   "execution_count": null,
   "id": "71464359-931e-4996-b5eb-ef33c5e35b0c",
   "metadata": {},
   "outputs": [],
   "source": []
  },
  {
   "cell_type": "code",
   "execution_count": null,
   "id": "2173cde5-c12c-484b-9e56-9b149f5dbc81",
   "metadata": {},
   "outputs": [],
   "source": []
  }
 ],
 "metadata": {
  "kernelspec": {
   "display_name": "Python 3 (ipykernel)",
   "language": "python",
   "name": "python3"
  },
  "language_info": {
   "codemirror_mode": {
    "name": "ipython",
    "version": 3
   },
   "file_extension": ".py",
   "mimetype": "text/x-python",
   "name": "python",
   "nbconvert_exporter": "python",
   "pygments_lexer": "ipython3",
   "version": "3.12.4"
  }
 },
 "nbformat": 4,
 "nbformat_minor": 5
}
