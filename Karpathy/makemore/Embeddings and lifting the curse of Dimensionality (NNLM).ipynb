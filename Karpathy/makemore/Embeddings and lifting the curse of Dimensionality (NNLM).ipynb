{
 "cells": [
  {
   "cell_type": "code",
   "execution_count": 3,
   "id": "f4c24058-f242-478b-9b72-8b5b0076e466",
   "metadata": {},
   "outputs": [],
   "source": [
    "words = open('names.txt', 'r').read().splitlines()"
   ]
  },
  {
   "cell_type": "code",
   "execution_count": 4,
   "id": "3c78e337-dbe8-480a-9ec2-669a49d2cdd9",
   "metadata": {},
   "outputs": [],
   "source": [
    "import torch \n",
    "import matplotlib.pyplot as plt\n",
    "%matplotlib inline"
   ]
  },
  {
   "cell_type": "code",
   "execution_count": 5,
   "id": "42cec380-d818-49c6-ad68-36b76b377003",
   "metadata": {},
   "outputs": [
    {
     "name": "stdout",
     "output_type": "stream",
     "text": [
      "emma\n",
      "... ---> e\n",
      "..e ---> m\n",
      ".em ---> m\n",
      "emm ---> a\n",
      "mma ---> .\n",
      "olivia\n",
      "... ---> o\n",
      "..o ---> l\n",
      ".ol ---> i\n",
      "oli ---> v\n",
      "liv ---> i\n",
      "ivi ---> a\n",
      "via ---> .\n",
      "ava\n",
      "... ---> a\n",
      "..a ---> v\n",
      ".av ---> a\n",
      "ava ---> .\n",
      "isabella\n",
      "... ---> i\n",
      "..i ---> s\n",
      ".is ---> a\n",
      "isa ---> b\n",
      "sab ---> e\n",
      "abe ---> l\n",
      "bel ---> l\n",
      "ell ---> a\n",
      "lla ---> .\n",
      "sophia\n",
      "... ---> s\n",
      "..s ---> o\n",
      ".so ---> p\n",
      "sop ---> h\n",
      "oph ---> i\n",
      "phi ---> a\n",
      "hia ---> .\n"
     ]
    }
   ],
   "source": [
    "chars = sorted(list(set(''.join(words))))\n",
    "stoi = {s:i+1 for i,s in enumerate(chars)}\n",
    "stoi['.'] = 0\n",
    "itos = {i:s for s,i in stoi.items()}\n",
    "xs = []\n",
    "ys = []\n",
    "\n",
    "block_size = 3 # block size defines the number of characters to pass as input in order to predict the next character.\n",
    "for w in words[:5]: \n",
    "    print(w)\n",
    "    context = [0] * block_size\n",
    "    for ch in w + '.':\n",
    "        xs.append(context)\n",
    "        ys.append(stoi[ch])\n",
    "        print(''.join([itos[c] for c in context]), '--->', ch)\n",
    "        context = context[1:] + [stoi[ch]] # This is a sliding window which adds the current ch to context so that the next character becomes the expected outcome\n",
    "\n",
    "\n",
    "X = torch.tensor(xs)\n",
    "Y = torch.tensor(ys)"
   ]
  },
  {
   "cell_type": "code",
   "execution_count": 6,
   "id": "ec76d9c3-6cbd-43d2-b960-547081b55d56",
   "metadata": {},
   "outputs": [
    {
     "data": {
      "text/plain": [
       "(torch.Size([32, 3]), torch.Size([32, 3]))"
      ]
     },
     "execution_count": 6,
     "metadata": {},
     "output_type": "execute_result"
    }
   ],
   "source": [
    "X.shape, X.shape"
   ]
  },
  {
   "cell_type": "markdown",
   "id": "295d88f5-12ae-429b-b9e2-cd21a52c151c",
   "metadata": {},
   "source": [
    "### What does the shape of X signify?\n",
    "X shape is [32, 3]. The block size that we have taken is 3, which means we need 3 characters as input to predict the next character. \n",
    "Hence, each input has 3 character indices, each index representing 1 character. \n",
    "We have 32 such inputs, that is, the batch size is 32. \n",
    "\n",
    "### What does the shape of Y signify? \n",
    "Y shape is [32], which indicates the expected character for each input. The model will predict 1 character as its output, hence there will be in total of 32 characters which are expected, one for each input. "
   ]
  },
  {
   "cell_type": "markdown",
   "id": "2b29c74b-c612-4f85-9631-e22b8a1c0689",
   "metadata": {},
   "source": [
    "## What is our goal here? \n",
    "The goal is as simple as it was in our trigram model. We want to build a neural net which takes the input characters of count = block size and it outputs the probabilities of all 27 characters as the next character. \n",
    "The output probabilities are the <i>Likelyhood</i> of each character to be the next character in the sequence. \n",
    "\n",
    "The next goal will be to increase the likelyhood of the character which, according to the ys vector is the expected next character in the sequence, out of all 27 possible ones.\n",
    "\n",
    "### How to feed the input to the network? \n",
    "As seen above, each input is of length equal to block size, 3 at the moment. So we have 3 indices of characters which are integers. \n",
    "We cannot simply feed these integer values to the model. One way to do this is, we convert each index into one hot encoded vector. That will give us a vector of shape [3, 27], since each index will be a vector of length 27 (since there are 27 possible characters). \n",
    "\n",
    "Ofc, we cannot feed 3 different vectors of length 27, as a single input. So one way to deal with this is, we <i>Flatten</i> these 3 vectors and create a vector of shape [1, 81]. And that will be perfectly fine; at least for the current usecase. \n",
    "\n",
    "But let me familiarise you with a problem with this approach briefly with an example, and we will discuss it at greater length later.\n",
    "The current dictionary/vocabulary or corpus that we have right now is of size 27 (since there are 27 possible characters, and each expected next character is supposed to be one of these 27 ones).\n",
    "\n",
    "The one hot encoded vector of each index is therefore length 27 (it is also known as, of 27 dimentionality). Depending on how many characters we feed at the same time, say n, the actual input vector becomes of length 27 times n (where n is 3 right now).\n",
    "\n",
    "Imagine a scenario where the vocabulary is of massive size, say 20,000. And we feed say 3 inputs at a time. So the length of the input vector would be whopping 60,000. In a fully connected network, this would require us to have 60,000 neurons in the first layer. \n",
    "\n",
    "This is known as the <b><i>Curse of dimentionality</i></b>. We will look at it more closely later. \n",
    "\n",
    "#### So what can we do? \n",
    "One thing we can do is, we fix the dimension size, say m, of the vector and try to represent each index with with a vector having m dimensions. \n",
    "\n",
    "I found the word <i>Dimensions</i> a little confusing here. In mathematics, when we say 3 dimensions, we expect a matrix having 3 dimensions of varied lengths. Say x, y, z. \n",
    "If we say m = 30 in the above example, it simply means that the 1D vector will have 30 features (the length of the vector will be 30), where each value of the vector represents a feature. Each value does represent a point in a vector space of 30 dimensions but we do not define the vector with 30 elements in the shape of the vector, each with its own length. I find it important to point this out, in order to prevent the same confusion that I went through. \n",
    "\n",
    "Another way to look at it is, there are 30 axises, each with length of 1. If we flatten that matrix, we will get a 1D vector of length 30.\n",
    "\n",
    "The vectors of fixed dimension size m, is known as an embedding. More on embeddings later. Let's define the embeddings first. \n",
    "Since our vocabulary size is small, let's just take the embedding of 2 dimensions.\n",
    "There are 27 possible characters, so there would in total be [27, 2] embeddings, and we will call this our lookup C. \n",
    "C[0] will be the embedding of character index 0. C[5] will be the embedding of character of index 5 (which is 'e').\n",
    "\n",
    "Let's define our lookup. "
   ]
  },
  {
   "cell_type": "code",
   "execution_count": 19,
   "id": "ab717230-6826-4b3e-aa39-2980f082d801",
   "metadata": {},
   "outputs": [
    {
     "data": {
      "text/plain": [
       "torch.Size([27, 2])"
      ]
     },
     "execution_count": 19,
     "metadata": {},
     "output_type": "execute_result"
    }
   ],
   "source": [
    "g = torch.Generator().manual_seed(2147483646)\n",
    "C = torch.randn((27, 2), generator=g)\n",
    "C.shape"
   ]
  },
  {
   "cell_type": "markdown",
   "id": "2f349a11-daf6-474c-8f30-71e768f5daef",
   "metadata": {},
   "source": [
    "I mentioned above that the embedding of character with index 5 will be C[5]. How did we get to this conclusion? There are two ways to look at it actually. One way to look at it is, that there are 27 possible characters, and 27 possible embeddings, hence each embedding must represent a unique character index. This is more of an intuitive approach. \n",
    "Another way to look at it, is the following: \n",
    "\n",
    "1. Define a one hot encoded vector of the index. This one hot encoded vector will have 27 values, out of which only one value will be 1 or 'active', the rest will be zero. Then we perform matrix multiplication of this one hot encoded vector with C, giving us an embedding for that character. Since all the character indices will have a unique bit 'active', we will get a unique embedding for each character index from our lookup table.\n",
    "\n",
    "You'll notice the with both the techniques, we will end up with the same embedding for an index.\n",
    "\n",
    "Let's take an example of index 5. "
   ]
  },
  {
   "cell_type": "code",
   "execution_count": 20,
   "id": "19abb38b-7446-4a70-aa4b-1161db3ad070",
   "metadata": {},
   "outputs": [
    {
     "data": {
      "text/plain": [
       "tensor([-0.1800, -0.6908])"
      ]
     },
     "execution_count": 20,
     "metadata": {},
     "output_type": "execute_result"
    }
   ],
   "source": [
    "C[5]"
   ]
  },
  {
   "cell_type": "code",
   "execution_count": 21,
   "id": "4fff2e9c-2ab6-4194-a24c-ae23b6a568a2",
   "metadata": {},
   "outputs": [
    {
     "data": {
      "text/plain": [
       "tensor([-0.1800, -0.6908])"
      ]
     },
     "execution_count": 21,
     "metadata": {},
     "output_type": "execute_result"
    }
   ],
   "source": [
    "import torch.nn.functional as F\n",
    "F.one_hot(torch.tensor(5), num_classes=27).float() @ C"
   ]
  },
  {
   "cell_type": "markdown",
   "id": "5f89af0d-2587-41eb-b15d-b996da8a3420",
   "metadata": {},
   "source": [
    "As you can see above, both the methods provide us with the same embedding for index 5. "
   ]
  },
  {
   "cell_type": "markdown",
   "id": "7ad20ea6-0b09-4753-aa63-97f312da706e",
   "metadata": {},
   "source": [
    "### Let's look more closely at embeddings vs one hot vector approach\n",
    "\n",
    "One hot vector representation of each character is a sparse matrix. The size of which will always depend on the size of the vocabulary. This poses a big problem when the vocabulary on which we are training is huge. \n",
    "<br>\n",
    "But the problem does not end there. If we closely observe the one hot encoding of 2 characters, say 'a' and 'o', the one hot encoded vectors of these characters are simply two vectors with 1 at index 1 and index 15, respectively. \n",
    "<br/>a = [0,1,0,0,0,0,0,0,0,0,0,0,0,0,0,0,0,0,0,0,0,0,0,0,0,0]\n",
    "<br/>o = [0,0,0,0,0,0,0,0,0,0,0,0,0,0,1,0,0,0,0,0,0,0,0,0,0,0]<br/>\n",
    "Each vector tells us about the character which it is representing, but it does not tell us anything else. Looking at these two vectors, it does not tell us anything about the relationship between the characters 'a' and 'o'.\n",
    "\n",
    "Thus, this representation is a <b>Discrete</b> representation of the characters. Why so? There is no small amount (real value) of change I can make to the input which would make the vector 'a' move towards representing vector 'o'. Thus, these vectors are disconnected.\n",
    "Simply looking at the values, 0 or 1, we can see that these are discrete values. One hot encoded vector cannot take a value like 0.65. Thus this representation is not continuous. \n",
    "\n",
    "On the other hand, embeddings offer a way to represent discrete entities (like characters or words) in a continuous space. This continuous representation allows models to generalize better and capture relationships between characters or words based on patterns observed in training.\n",
    "\n",
    "Embeddings convert each character into a dense, low-dimensional vector with real values (e.g., [0.3, -0.7]). These vectors lie in a continuous space (like a 2D plane, in our case). The distances and directions between embeddings in this space capture relationships, like similarity or even sequential order.\n",
    "\n",
    "<br/>\n",
    "Another way to look at it is the following. \n",
    "Make following observations. \n",
    "1. The one hot encoded vector values for a given character are fixed. In the above example of 'a' and 'o', the position of these characters in the 27 dimensional space is fixed. This position will not change.\n",
    "   \n",
    "2. But, the embeddings that we generate for a given character start at random values. Thus each character starts off as a single point in 2D space, randomly assigned (since our embeddings are 2D, or m = 2). These embeddings are also treated as trainable parameters. As we perform gradient descent, these embeddings start changing and the position of characters in the 2D space starts to shift.\n",
    "\n",
    "After enough training, the relative positions of these characters start to signify their relationships with each other. \n",
    "For example, let's say 'a' and 'o' started off with random points in 2D plane as such. <br/>\n",
    "a = [-1,-1] o = [10, 10]. \n",
    "But as we train these embeddings, these two characters might shift their position closer together and start to cluster up.\n",
    "This denotes the relationship between 'a' and 'o', in that both of these are vowels. \n",
    "\n",
    "Since one hot encoded vector of a character does not change, these relationships between characters is not possible to infer there.\n"
   ]
  },
  {
   "cell_type": "markdown",
   "id": "a16d8c26-5c13-49b5-a071-bb458965fb3b",
   "metadata": {},
   "source": [
    "### Why use one hot encoding method instead of directly getting the index? \n",
    "Great question! This can be helpful when you are getting the embeddings for a batch size greater than 1. \n",
    "In our input, we have 3 characters. If we were to get embeddings for all 3 characters by indexing, we will have to iterate and get embedding for each character indivisually. \n",
    "However, if I were to get embeddings using one hot approach, I will get those in a single operation, thus eradicating the need for iteration. This is highly e"
   ]
  },
  {
   "cell_type": "code",
   "execution_count": 22,
   "id": "5b920925-5465-450f-bbeb-6e85d87099d9",
   "metadata": {},
   "outputs": [
    {
     "data": {
      "text/plain": [
       "(torch.Size([3]), tensor([ 5, 13, 13]))"
      ]
     },
     "execution_count": 22,
     "metadata": {},
     "output_type": "execute_result"
    }
   ],
   "source": [
    "xsingle = X[3]\n",
    "xsingle.shape, xsingle"
   ]
  },
  {
   "cell_type": "markdown",
   "id": "d18edc16-7df2-4efb-92a2-98c303c05326",
   "metadata": {},
   "source": [
    "We have 3 characters in the above single input. \n",
    "Let's get embeddings of these 3 characters using a single matrix multiplication operation."
   ]
  },
  {
   "cell_type": "code",
   "execution_count": 23,
   "id": "8583cb22-c83d-4e2f-aef0-99a387e38228",
   "metadata": {},
   "outputs": [
    {
     "data": {
      "text/plain": [
       "torch.Size([3, 27])"
      ]
     },
     "execution_count": 23,
     "metadata": {},
     "output_type": "execute_result"
    }
   ],
   "source": [
    "xsingle_onehot = F.one_hot(xsingle, num_classes=27).float()\n",
    "xsingle_onehot.shape"
   ]
  },
  {
   "cell_type": "code",
   "execution_count": 24,
   "id": "fcc4fa30-f48c-4a96-9a4e-9ad77c14ec41",
   "metadata": {},
   "outputs": [
    {
     "data": {
      "text/plain": [
       "tensor([[-0.1800, -0.6908],\n",
       "        [-0.7117,  1.2759],\n",
       "        [-0.7117,  1.2759]])"
      ]
     },
     "execution_count": 24,
     "metadata": {},
     "output_type": "execute_result"
    }
   ],
   "source": [
    "xsingle_onehot @ C"
   ]
  },
  {
   "cell_type": "markdown",
   "id": "577b3529-24fc-4e60-9d80-094faba92f97",
   "metadata": {},
   "source": [
    "As you can see, we were able to obtain the embeddings for all 3 indices in one go. \n",
    "\n",
    "Let's get the dimensions of all the 32 inputs. Remember, each of 32 inputs have 3 character indices and each character index is represented as an embedding of length 2 (or 2 dimensional embedding). "
   ]
  },
  {
   "cell_type": "code",
   "execution_count": 25,
   "id": "4b991aee-78a3-4a58-aafb-3b322a4c07f9",
   "metadata": {},
   "outputs": [
    {
     "data": {
      "text/plain": [
       "torch.Size([32, 3, 27])"
      ]
     },
     "execution_count": 25,
     "metadata": {},
     "output_type": "execute_result"
    }
   ],
   "source": [
    "X_onehot = F.one_hot(X, num_classes=27).float()\n",
    "X_onehot.shape"
   ]
  },
  {
   "cell_type": "code",
   "execution_count": 26,
   "id": "9fe2b768-9e67-4678-abd1-caee8fe99761",
   "metadata": {},
   "outputs": [
    {
     "data": {
      "text/plain": [
       "(torch.Size([32, 3, 2]),\n",
       " tensor([[ 0.0828, -0.0431],\n",
       "         [ 0.0828, -0.0431],\n",
       "         [ 0.0828, -0.0431]]))"
      ]
     },
     "execution_count": 26,
     "metadata": {},
     "output_type": "execute_result"
    }
   ],
   "source": [
    "emb = X_onehot @ C\n",
    "emb.shape, emb[0] "
   ]
  },
  {
   "cell_type": "markdown",
   "id": "90380f4d-4336-48cf-b8d0-59a375fbf9fb",
   "metadata": {},
   "source": [
    "We have obtained the embeddings of all 32 inputs. \n",
    "### What does the shape of embeddings signify?\n",
    "Let's start from right to left. \n",
    "1. 2 signifies that embedding of each character index is of 2 dimensions (m = 2).\n",
    "2. 3 signifies that there are 3 character indices in a single input.\n",
    "3. 32 signifies that there are 32 such inputs (batch size is 32).\n",
    "So, in conclusion, there are 32 inputs. Each input has 3 characters and each character has a 2 dimensional embedding.\n",
    "<br>\n",
    "Let's look more closely at embeddings of just the first out of 32 inputs. The embeddings is of shape [3, 2] (3 characters with 2 dimensional embedding for each character).\n",
    "\n",
    "Since, a single input has 3 rows of embeddings of size 2 each, we cannot directly feed it to the network. What do we do? \n",
    "We do exactly what we did for our one hot encoded vector in the trigram model. <b>We flatten it</b>.\n",
    "<br>\n",
    "After flattening the 3 rows and 2 columns, we will get a single row of 6 columns.\n"
   ]
  },
  {
   "cell_type": "code",
   "execution_count": 27,
   "id": "a440c5dd-5d86-42ef-980a-f282f532e73d",
   "metadata": {},
   "outputs": [
    {
     "data": {
      "text/plain": [
       "torch.Size([3, 2])"
      ]
     },
     "execution_count": 27,
     "metadata": {},
     "output_type": "execute_result"
    }
   ],
   "source": [
    "emb[0].shape"
   ]
  },
  {
   "cell_type": "code",
   "execution_count": 28,
   "id": "6c80c92b-f0d1-4bdb-8f05-873415e472db",
   "metadata": {},
   "outputs": [
    {
     "data": {
      "text/plain": [
       "tensor([ 0.0828, -0.0431,  0.0828, -0.0431,  0.0828, -0.0431])"
      ]
     },
     "execution_count": 28,
     "metadata": {},
     "output_type": "execute_result"
    }
   ],
   "source": [
    "emb[0].flatten(start_dim=0, end_dim=-1)"
   ]
  },
  {
   "cell_type": "markdown",
   "id": "ba48dabc-f078-4356-9712-e4abd1587997",
   "metadata": {},
   "source": [
    "We flattened the embeddings of the first input of shape [3, 2] into [6]. Now this can be fed to the network. \n",
    "Let's do this flattening to all the 32 inputs. Can you guess the shape of the resulting output?\n",
    "Let's do some math. \n",
    "We have [32, 3, 2] and we want to flatten only [3, 2]. So the resulting vector will be of shape [32, 6]. \n",
    "Where each row is the embedding of all three characters for one input. \n",
    "\n",
    "A good post to read regarding how torch stores n dimensional tensors and manipulates them with .view or .flatten [Here](http://blog.ezyang.com/2019/05/pytorch-internals/)."
   ]
  },
  {
   "cell_type": "code",
   "execution_count": 71,
   "id": "d4c8abc2-bbd8-431b-b31e-decbe3d2d9f7",
   "metadata": {},
   "outputs": [
    {
     "data": {
      "text/plain": [
       "(torch.Size([22767, 6]),\n",
       " tensor([ 0.3985, -0.9001,  0.3985, -0.9001,  0.3985, -0.9001],\n",
       "        grad_fn=<SelectBackward0>))"
      ]
     },
     "execution_count": 71,
     "metadata": {},
     "output_type": "execute_result"
    }
   ],
   "source": [
    "embeddings = emb.flatten(start_dim=1, end_dim=-1)\n",
    "embeddings.shape, embeddings[0]"
   ]
  },
  {
   "cell_type": "markdown",
   "id": "a1848525-e499-4161-ad11-735c01954d23",
   "metadata": {},
   "source": [
    "We passed start_dim=1, because we do not want to flatten the 32 rows. We only want to flatten the 3 rows having 2 columns each, for all 32 inputs, thus resulting in a [32, 6] embeddings vector. Hence, the flattening starts at dimension 1.\n",
    "\n",
    "### What's next? \n",
    "Well, I think we are ready to feed this to the first layer of the network!\n",
    "#### What will the first layer of network look like? How many neurons will it have? How many weights will each neuron have? \n",
    "As we can see, each input has 6 features. Hence each neuron will have to have 6 weights. Now, how many neurons will this layer have? That depends on whether this layer is a hidden layer or an output layer. \n",
    "\n",
    "We saw in the trigram example, that we only had a single layer network. That is why, the layer had to have 27 neurons, one neuron for every possible character. \n",
    "\n",
    "Let's do things differently here. Let's make this a hidden layer. Since it is a hidden layer, we can have as many neurons as we want. The number of neurons in this hidden layer will be a tunable value. Let's start with 100 neurons. \n",
    "\n",
    "Hence the vector for this layer will be 100 neurons, with each neuron having 6 weights. \n",
    "Remember, since our input is a row vector, the weights for each of the neuron will have to be column vector for matrix multiplication to work. \n",
    "\n",
    "The resulting shape will be [6, 100]. \n",
    "\n",
    "Let's also define biasies for each neuron. \n",
    "Each neuron will have one bias and there are 100 neurons. Hence, we will have a [100] shape."
   ]
  },
  {
   "cell_type": "code",
   "execution_count": 32,
   "id": "3ea21070-80ad-475d-ad91-fff5d127b317",
   "metadata": {},
   "outputs": [
    {
     "data": {
      "text/plain": [
       "(torch.Size([6, 100]), torch.Size([100]))"
      ]
     },
     "execution_count": 32,
     "metadata": {},
     "output_type": "execute_result"
    }
   ],
   "source": [
    "W1 = torch.randn((6, 100), generator=g)\n",
    "B1 = torch.randn(100, generator=g)\n",
    "W1.shape, B1.shape"
   ]
  },
  {
   "cell_type": "markdown",
   "id": "883f33dc-5023-4bea-bcc9-523b447288b3",
   "metadata": {},
   "source": [
    "### Forward Pass!\n",
    "Let's perform the Forward pass!\n",
    "Forward pass will simply be the matrix multiplication of embeddings and weights + biases. \n",
    "### What will be the shape of the output of this hidden layer?\n",
    "$$\n",
    "    h = embeddings @ weights + biases\n",
    "$$\n",
    "\n",
    "Shape of embeddings is [32, 6]. Shape of weights is [6, 100] and shape of biases is [100]. So the shape of h will be, [32, 100].\n",
    "Each row out of 32 rows defines the outputs of 100 neurons of this hidden layer. "
   ]
  },
  {
   "cell_type": "code",
   "execution_count": 33,
   "id": "6f1aca58-cb17-47e6-b2ff-f6c915cd51b5",
   "metadata": {},
   "outputs": [
    {
     "data": {
      "text/plain": [
       "(torch.Size([32, 100]),\n",
       " tensor([[ 0.6829, -0.2790,  0.7205,  ..., -1.3493,  0.0491,  0.1634],\n",
       "         [ 1.3716, -0.2074,  0.7693,  ..., -1.5391, -0.3338,  0.0768],\n",
       "         [-1.8279, -3.6489,  1.8339,  ..., -2.0723, -1.8298, -0.1937],\n",
       "         ...,\n",
       "         [-0.9216,  1.1303, -0.6437,  ..., -5.2282, -1.4187,  2.2133],\n",
       "         [-0.6291, -0.4228,  0.6946,  ..., -4.3961, -0.7987,  0.1020],\n",
       "         [-1.3263,  4.4537, -0.8420,  ..., -2.7766,  2.8504,  3.0177]]))"
      ]
     },
     "execution_count": 33,
     "metadata": {},
     "output_type": "execute_result"
    }
   ],
   "source": [
    "h = embeddings @ W1 + B1\n",
    "h.shape, h"
   ]
  },
  {
   "cell_type": "markdown",
   "id": "79a74d14-3d72-42e3-b331-c802bdd5103c",
   "metadata": {},
   "source": [
    "The output of the hidden layer does not have any non-linear activation function. Let's apply that as well."
   ]
  },
  {
   "cell_type": "code",
   "execution_count": 34,
   "id": "bd4e8684-1ba6-493c-9ec9-7580dff0795f",
   "metadata": {},
   "outputs": [
    {
     "data": {
      "text/plain": [
       "(torch.Size([32, 100]),\n",
       " tensor([[ 0.5934, -0.2720,  0.6172,  ..., -0.8739,  0.0490,  0.1619],\n",
       "         [ 0.8791, -0.2045,  0.6465,  ..., -0.9120, -0.3219,  0.0767],\n",
       "         [-0.9496, -0.9986,  0.9502,  ..., -0.9688, -0.9498, -0.1914],\n",
       "         ...,\n",
       "         [-0.7267,  0.8111, -0.5674,  ..., -0.9999, -0.8893,  0.9764],\n",
       "         [-0.5574, -0.3993,  0.6009,  ..., -0.9997, -0.6633,  0.1016],\n",
       "         [-0.8683,  0.9997, -0.6869,  ..., -0.9923,  0.9933,  0.9952]]))"
      ]
     },
     "execution_count": 34,
     "metadata": {},
     "output_type": "execute_result"
    }
   ],
   "source": [
    "h = torch.tanh(embeddings @ W1 + B1)\n",
    "h.shape, h"
   ]
  },
  {
   "cell_type": "markdown",
   "id": "096c903c-d598-4c30-b9c0-6f02b659bde0",
   "metadata": {},
   "source": [
    "### Final layer (output layer of the network)!\n",
    "#### Let's define how many neurons will the output layer have, and how many weights will each neuron have. \n",
    "1. The output, h of the hidden layer will output 100 values for each input. These inputs will be fed to the output layer. Another way to say this is that each row in h will have 100 features. Hence each neuron in th output layer will have to have 100 weights and 1 bias.\n",
    "\n",
    "2. The output layers needs to give us likelyhood of all 27 characters. Hence we will need 27 neurons.\n",
    "\n",
    "3. We will need 27 biases, one for each neuron.\n",
    "Again, the each output in h is a row vector of 100 features. Hence the weights of each neuron in output layer will be a column vector.\n",
    "<br>\n",
    "Let's define the output layer.\n"
   ]
  },
  {
   "cell_type": "code",
   "execution_count": 35,
   "id": "ec870a13-8be9-4058-a6d6-2b15abfbe6aa",
   "metadata": {},
   "outputs": [
    {
     "data": {
      "text/plain": [
       "(torch.Size([100, 27]), torch.Size([27]))"
      ]
     },
     "execution_count": 35,
     "metadata": {},
     "output_type": "execute_result"
    }
   ],
   "source": [
    "W2 = torch.randn((100, 27), generator=g)\n",
    "B2 = torch.randn(27, generator=g)\n",
    "W2.shape, B2.shape"
   ]
  },
  {
   "cell_type": "markdown",
   "id": "49dd3f60-3e16-420e-aed7-48932309b317",
   "metadata": {},
   "source": [
    "Before performing forward pass of this layer, let's do some math to understand the shape of the output vector. \n",
    "$$\n",
    "    logits = h @ W2 + B2\n",
    "$$\n",
    "The shape of the h is [32, 100] and the shape of W2 is [100, 27]. The shape of output will be [32, 27]. \n",
    "This signifies that each row gives the likelyhood of all the 27 possible characters. "
   ]
  },
  {
   "cell_type": "code",
   "execution_count": 36,
   "id": "a3b31e7c-2999-40c7-993f-f0a1eef23b37",
   "metadata": {},
   "outputs": [
    {
     "data": {
      "text/plain": [
       "torch.Size([32, 27])"
      ]
     },
     "execution_count": 36,
     "metadata": {},
     "output_type": "execute_result"
    }
   ],
   "source": [
    "logits = h @ W2 + B2\n",
    "logits.shape"
   ]
  },
  {
   "cell_type": "markdown",
   "id": "92299173-72ca-4621-a19b-9b96cc9ea419",
   "metadata": {},
   "source": [
    "The output vector values are just logits. We need to pass it through Softmax function in order to get actual probabilities. \n",
    "Softmax function is defined in detail in the trigrams example we have done previously. \n",
    "So let's apply the Softmax operation to all the outputs. "
   ]
  },
  {
   "cell_type": "code",
   "execution_count": 37,
   "id": "bc97192d-cd7f-4296-b9d7-a271a5b53d7b",
   "metadata": {},
   "outputs": [],
   "source": [
    "exps = logits.exp()\n",
    "probs = exps / exps.sum(1, keepdims=True)"
   ]
  },
  {
   "cell_type": "markdown",
   "id": "21abb375-2ccb-4ffe-87ea-dd9b32b59ac0",
   "metadata": {},
   "source": [
    "We have our expected output character index for each input in the vector Y. \n",
    "Let's pluck out the probability of the expected output character for each input."
   ]
  },
  {
   "cell_type": "code",
   "execution_count": 38,
   "id": "fdc74c01-6146-47ed-93a3-376380ca8cd9",
   "metadata": {},
   "outputs": [
    {
     "data": {
      "text/plain": [
       "tensor([2.4077e-03, 4.7803e-10, 2.1626e-07, 1.4836e-05, 5.6464e-13, 8.3907e-03,\n",
       "        3.6897e-09, 1.1129e-09, 7.9615e-05, 2.3800e-10, 7.2688e-07, 8.3708e-08,\n",
       "        1.0014e-05, 2.8991e-01, 1.7231e-09, 1.0309e-10, 4.7138e-07, 4.3720e-10,\n",
       "        2.3355e-08, 1.2607e-07, 3.8858e-03, 9.0561e-07, 2.2698e-12, 6.4204e-11,\n",
       "        2.3466e-08, 1.5140e-06, 5.1228e-06, 1.5183e-03, 6.9057e-06, 1.6527e-06,\n",
       "        7.1567e-02, 2.7635e-10])"
      ]
     },
     "execution_count": 38,
     "metadata": {},
     "output_type": "execute_result"
    }
   ],
   "source": [
    "probs[torch.arange(32), Y]"
   ]
  },
  {
   "cell_type": "markdown",
   "id": "fb55f05b-985c-4681-a2e4-9a1222af2a91",
   "metadata": {},
   "source": [
    "Let's compute the negative log likelyhood loss of these probabilities."
   ]
  },
  {
   "cell_type": "code",
   "execution_count": 39,
   "id": "68d25355-9eda-490e-be18-c545deebc9de",
   "metadata": {},
   "outputs": [],
   "source": [
    "nll = - probs[torch.arange(32), Y].log().mean()"
   ]
  },
  {
   "cell_type": "code",
   "execution_count": 40,
   "id": "c5a5bf3a-875b-4893-a6e1-974e5dbdd064",
   "metadata": {},
   "outputs": [
    {
     "data": {
      "text/plain": [
       "tensor(15.1166)"
      ]
     },
     "execution_count": 40,
     "metadata": {},
     "output_type": "execute_result"
    }
   ],
   "source": [
    "nll"
   ]
  },
  {
   "cell_type": "markdown",
   "id": "549f5a0c-b8b9-4ade-9c59-ca05be67c23b",
   "metadata": {},
   "source": [
    "This nll loss is what we will intend to reduce by backpropogation. \n",
    "Let's collect all the network parameters and define them in one place for better readability. \n",
    "\n",
    "Above, we have computed the negative loss likelyhood manually. Torch provides a function that can do this for us, called Function.cross_entropy. Let's use that below."
   ]
  },
  {
   "cell_type": "code",
   "execution_count": 41,
   "id": "31c10ce2-f971-45b3-be35-26147c0bb397",
   "metadata": {},
   "outputs": [
    {
     "data": {
      "text/plain": [
       "tensor(15.1166)"
      ]
     },
     "execution_count": 41,
     "metadata": {},
     "output_type": "execute_result"
    }
   ],
   "source": [
    "h = torch.tanh(embeddings @ W1 + B1)\n",
    "logits = h @ W2 + B2\n",
    "F.cross_entropy(logits, Y)"
   ]
  },
  {
   "cell_type": "code",
   "execution_count": 42,
   "id": "a11553f6-07d0-4055-90d2-05732c18fdc7",
   "metadata": {},
   "outputs": [],
   "source": [
    "g = torch.Generator().manual_seed(2147483646)\n",
    "C = torch.randn((27, 2), generator=g)\n",
    "\n",
    "W1 = torch.randn((6, 100), generator=g)\n",
    "B1 = torch.randn(100, generator=g)\n",
    "\n",
    "W2 = torch.randn((100, 27), generator=g)\n",
    "B2 = torch.randn(27, generator=g)\n",
    "\n",
    "parameters = [C, W1, B1, W2, B2]\n",
    "\n",
    "# Get embeddings\n",
    "X_onehot = F.one_hot(X, num_classes=27).float()\n",
    "emb = X_onehot @ C\n",
    "embeddings = emb.flatten(start_dim=1, end_dim=-1)"
   ]
  },
  {
   "cell_type": "code",
   "execution_count": 43,
   "id": "26b53af0-2685-4832-8438-be40ef646bce",
   "metadata": {},
   "outputs": [
    {
     "data": {
      "text/plain": [
       "3481"
      ]
     },
     "execution_count": 43,
     "metadata": {},
     "output_type": "execute_result"
    }
   ],
   "source": [
    "sum(p.nelement() for p in parameters) # Number of parameters"
   ]
  },
  {
   "cell_type": "markdown",
   "id": "1fbc8087-e855-4ef5-99c5-ff01dd8d0ea6",
   "metadata": {},
   "source": [
    "### Let's plot the embeddings before the gradient descent. \n",
    "This will be our reference. As the embeddings are randomly assigned, the character points are expected to be scattered randomly. "
   ]
  },
  {
   "cell_type": "code",
   "execution_count": 44,
   "id": "6642a415-c03a-4ff6-be85-aaf2e76668b4",
   "metadata": {},
   "outputs": [
    {
     "data": {
      "image/png": "[encoded data removed]",
      "text/plain": [
       "<Figure size 1000x800 with 1 Axes>"
      ]
     },
     "metadata": {},
     "output_type": "display_data"
    }
   ],
   "source": [
    "all_embeddings = C[:27]\n",
    "\n",
    "# Plot embeddings\n",
    "plt.figure(figsize=(10, 8))\n",
    "for i in range(27):\n",
    "    x, y = all_embeddings[i].tolist()\n",
    "    char = itos[i]  # Get the character from index\n",
    "    plt.scatter(x, y)\n",
    "    plt.text(x, y, char, fontsize=12, ha='right')\n",
    "\n",
    "plt.xlabel(\"Embedding Dimension 1\")\n",
    "plt.ylabel(\"Embedding Dimension 2\")\n",
    "plt.title(\"Embeddings of All 27 Characters\")\n",
    "plt.grid(True)\n",
    "plt.show()\n"
   ]
  },
  {
   "cell_type": "markdown",
   "id": "4aa5cdff-0040-4153-9817-4ff403af9755",
   "metadata": {},
   "source": [
    "\n",
    "\n",
    "#### Ready for forward pass! Before that, an observation.\n",
    "We know that parameters are the values which get updated during the gradient descent. A good question to ask here, is why do we have embeddings C in the parameters? Would embeddings values be updated? If so, why! Since, we never updated the one hot encodings of the inputs when we fed those as inputs to the network in our trigram model.\n",
    "<br>\n",
    "The reason behind this is what we have explained above. Updating these embeddings with gradient descent is what clusters the related characters closer in the 2D space. That's how the model can infer a relationship between them."
   ]
  },
  {
   "cell_type": "code",
   "execution_count": 45,
   "id": "89365f74-faab-4017-8d1c-62c10d37d2d8",
   "metadata": {},
   "outputs": [],
   "source": [
    "# Let's set requires_grad to True for all parameters\n",
    "for p in parameters: \n",
    "    p.requires_grad = True"
   ]
  },
  {
   "cell_type": "code",
   "execution_count": 46,
   "id": "06b521e2-9ecd-48f4-9008-15766f597c15",
   "metadata": {},
   "outputs": [
    {
     "name": "stdout",
     "output_type": "stream",
     "text": [
      "0.2556522488594055\n"
     ]
    }
   ],
   "source": [
    "e = 0.1\n",
    "for _ in range (1000):\n",
    "    # forward pass\n",
    "    X_onehot = F.one_hot(X, num_classes=27).float()\n",
    "    emb = X_onehot @ C\n",
    "    embeddings = emb.flatten(start_dim=1, end_dim=-1)\n",
    "    h = torch.tanh(embeddings @ W1 + B1)\n",
    "    logits = h @ W2 + B2\n",
    "    # compute nll loss\n",
    "    loss = F.cross_entropy(logits, Y)\n",
    "    # print(loss.item())\n",
    "    # update the grad to None\n",
    "    for p in parameters: \n",
    "        p.grad = None\n",
    "    \n",
    "    # Backward pass \n",
    "    loss.backward()\n",
    "    \n",
    "    # Update the values of the parameters \n",
    "    for p in parameters: \n",
    "        p.data -= e * p.grad\n",
    "\n",
    "print(loss.item())"
   ]
  },
  {
   "cell_type": "markdown",
   "id": "8ee94acc-2453-420b-bd91-97a7cc417986",
   "metadata": {},
   "source": [
    "Let's use full dataset now."
   ]
  },
  {
   "cell_type": "code",
   "execution_count": 47,
   "id": "9d69e825-dea7-419d-bec9-118ab85ce183",
   "metadata": {},
   "outputs": [],
   "source": [
    "chars = sorted(list(set(''.join(words))))\n",
    "stoi = {s:i+1 for i,s in enumerate(chars)}\n",
    "stoi['.'] = 0\n",
    "itos = {i:s for s,i in stoi.items()}\n",
    "xs = []\n",
    "ys = []\n",
    "\n",
    "block_size = 3 # block size defines the number of characters to pass as input in order to predict the next character.\n",
    "for w in words: \n",
    "    # print(w)\n",
    "    context = [0] * block_size\n",
    "    for ch in w + '.':\n",
    "        xs.append(context)\n",
    "        ys.append(stoi[ch])\n",
    "        # print(''.join([itos[c] for c in context]), '--->', ch)\n",
    "        context = context[1:] + [stoi[ch]] # This is a sliding window which adds the current ch to context so that the next character becomes the expected outcome\n",
    "\n",
    "\n",
    "X = torch.tensor(xs)\n",
    "Y = torch.tensor(ys)"
   ]
  },
  {
   "cell_type": "code",
   "execution_count": 48,
   "id": "3311af84-efdb-473d-b9cc-0bd700814301",
   "metadata": {},
   "outputs": [],
   "source": [
    "g = torch.Generator().manual_seed(2147483646)\n",
    "C = torch.randn((27, 2), generator=g)\n",
    "\n",
    "W1 = torch.randn((6, 100), generator=g)\n",
    "B1 = torch.randn(100, generator=g)\n",
    "\n",
    "W2 = torch.randn((100, 27), generator=g)\n",
    "B2 = torch.randn(27, generator=g)\n",
    "\n",
    "parameters = [C, W1, B1, W2, B2]"
   ]
  },
  {
   "cell_type": "code",
   "execution_count": 49,
   "id": "be97ef62-d08c-47dc-b616-c9f57e8bfd4d",
   "metadata": {},
   "outputs": [],
   "source": [
    "# Let's set requires_grad to True for all parameters\n",
    "for p in parameters: \n",
    "    p.requires_grad = True"
   ]
  },
  {
   "cell_type": "code",
   "execution_count": 54,
   "id": "8928ab9e-b7f5-43ac-8bf8-10802a32a30f",
   "metadata": {},
   "outputs": [],
   "source": [
    "e = 0.1\n",
    "for _ in range (50000):\n",
    "    # forward pass\n",
    "    ix = torch.randint(0, X.shape[0], (32, )) # We are taking batch sizes of the input data. \n",
    "    X_onehot = F.one_hot(X[ix], num_classes=27).float()\n",
    "    emb = X_onehot @ C\n",
    "    embeddings = emb.flatten(start_dim=1, end_dim=-1)\n",
    "    h = torch.tanh(embeddings @ W1 + B1)\n",
    "    logits = h @ W2 + B2\n",
    "    # compute nll loss\n",
    "    loss = F.cross_entropy(logits, Y[ix])\n",
    "    # print(loss.item())\n",
    "    # update the grad to None\n",
    "    for p in parameters: \n",
    "        p.grad = None\n",
    "    \n",
    "    # Backward pass \n",
    "    loss.backward()\n",
    "    \n",
    "    # Update the values of the parameters \n",
    "    for p in parameters: \n",
    "        p.data -= e * p.grad\n",
    "\n",
    "# print(loss.item())"
   ]
  },
  {
   "cell_type": "code",
   "execution_count": 55,
   "id": "088be5c6-0b60-452b-b15c-6acbde26555e",
   "metadata": {},
   "outputs": [
    {
     "data": {
      "text/plain": [
       "tensor(2.3900, grad_fn=<NllLossBackward0>)"
      ]
     },
     "execution_count": 55,
     "metadata": {},
     "output_type": "execute_result"
    }
   ],
   "source": [
    "    X_onehot = F.one_hot(X, num_classes=27).float()\n",
    "    emb = X_onehot @ C\n",
    "    embeddings = emb.flatten(start_dim=1, end_dim=-1)\n",
    "    h = torch.tanh(embeddings @ W1 + B1)\n",
    "    logits = h @ W2 + B2\n",
    "    # compute nll loss\n",
    "    loss = F.cross_entropy(logits, Y)\n",
    "    loss"
   ]
  },
  {
   "cell_type": "markdown",
   "id": "ce93588a-5a28-4744-b435-85339c3a8c46",
   "metadata": {},
   "source": [
    "### Let's look at some of the similarities that our embeddings might have captured\n",
    "Let's look at which characters often start the names (are the first characters of the names). And plot them."
   ]
  },
  {
   "cell_type": "code",
   "execution_count": 56,
   "id": "f80fa251-bf8f-4f91-af35-6ac7355bdc0d",
   "metadata": {},
   "outputs": [],
   "source": [
    "start_count = {} \n",
    "for w in words:\n",
    "    start_count[w[0]] = start_count.get(w[0], 0) + 1\n"
   ]
  },
  {
   "cell_type": "code",
   "execution_count": 57,
   "id": "57f52205-a809-47aa-8041-0dd918ccc680",
   "metadata": {},
   "outputs": [
    {
     "data": {
      "text/plain": [
       "['a', 'k', 'm', 'j', 's']"
      ]
     },
     "execution_count": 57,
     "metadata": {},
     "output_type": "execute_result"
    }
   ],
   "source": [
    "top_5_chars = sorted(start_count, key=start_count.get, reverse=True)[:5]\n",
    "top_5_chars"
   ]
  },
  {
   "cell_type": "code",
   "execution_count": 58,
   "id": "4141bd06-8cf0-43ba-ae58-97e3057b8d96",
   "metadata": {},
   "outputs": [
    {
     "data": {
      "text/plain": [
       "tensor([[ 1.7321,  1.1893],\n",
       "        [-0.1093, -0.2873],\n",
       "        [-0.0640, -0.1144],\n",
       "        [-0.0218, -0.0482],\n",
       "        [ 0.1180, -0.4899]], grad_fn=<IndexBackward0>)"
      ]
     },
     "execution_count": 58,
     "metadata": {},
     "output_type": "execute_result"
    }
   ],
   "source": [
    "top_5_indices = [stoi[ch] for ch in top_5_chars]\n",
    "top_5_embeddings = C[top_5_indices]\n",
    "top_5_embeddings"
   ]
  },
  {
   "cell_type": "code",
   "execution_count": 59,
   "id": "188fe374-a14c-434d-a883-52f088114a72",
   "metadata": {},
   "outputs": [
    {
     "data": {
      "image/png": "[encoded data removed]",
      "text/plain": [
       "<Figure size 800x600 with 1 Axes>"
      ]
     },
     "metadata": {},
     "output_type": "display_data"
    }
   ],
   "source": [
    "plt.figure(figsize=(8, 6))\n",
    "for i, char in enumerate(top_5_chars):\n",
    "    x, y = top_5_embeddings[i].tolist()\n",
    "    plt.scatter(x, y, label=f'{char} (count={start_count[char]})')\n",
    "    plt.text(x, y, char, fontsize=12, ha='right')\n",
    "\n",
    "plt.xlabel(\"Embedding Dimension 1\")\n",
    "plt.ylabel(\"Embedding Dimension 2\")\n",
    "plt.title(\"Embeddings of Top 5 Most Frequent Starting Characters\")\n",
    "plt.legend()\n",
    "plt.grid(True)\n",
    "plt.show()"
   ]
  },
  {
   "cell_type": "markdown",
   "id": "222c7546-cfc1-44a1-b56a-59d01ce8dbe0",
   "metadata": {},
   "source": [
    "As you can see, the positions of j, m, k, s are clustered together. Showing that these characters are often the first character of names.\n",
    "Character 'a' is an outlier here because it might also depict some other, more concrete relations with other characters. \n",
    "\n",
    "### Let's look at the points of all the character embeddings now. "
   ]
  },
  {
   "cell_type": "code",
   "execution_count": 60,
   "id": "ca5e06fd-a9b7-4be6-9aee-f25e84581580",
   "metadata": {},
   "outputs": [
    {
     "data": {
      "image/png": "[encoded data removed]",
      "text/plain": [
       "<Figure size 1000x800 with 1 Axes>"
      ]
     },
     "metadata": {},
     "output_type": "display_data"
    }
   ],
   "source": [
    "import matplotlib.pyplot as plt\n",
    "\n",
    "# Assuming 'C' is the trained embedding matrix of shape [27, 2]\n",
    "# 'itos' dictionary maps indices back to characters\n",
    "\n",
    "# Retrieve all 27 embeddings\n",
    "all_embeddings = C[:27]\n",
    "\n",
    "# Plot embeddings\n",
    "plt.figure(figsize=(10, 8))\n",
    "for i in range(27):\n",
    "    x, y = all_embeddings[i].tolist()\n",
    "    char = itos[i]  # Get the character from index\n",
    "    plt.scatter(x, y)\n",
    "    plt.text(x, y, char, fontsize=12, ha='right')\n",
    "\n",
    "plt.xlabel(\"Embedding Dimension 1\")\n",
    "plt.ylabel(\"Embedding Dimension 2\")\n",
    "plt.title(\"Embeddings of All 27 Characters\")\n",
    "plt.grid(True)\n",
    "plt.show()\n"
   ]
  },
  {
   "cell_type": "markdown",
   "id": "22c814d7-176c-4e06-bd89-148460977354",
   "metadata": {},
   "source": [
    "### A lot of inference that we can do from the above plot!\n",
    "1. You can see that all the vowels have clustered up closer to one another.\n",
    "2. All the consonants have clustered up together.\n",
    "3. 'q' is an outlier, since there are very specific relations that 'q' has with other characters. Example, 'q' is most likely followed by 'u' in a word. Since no other character behaves like 'q', it is far away alone in the 2D space."
   ]
  },
  {
   "cell_type": "markdown",
   "id": "ed85b370-cac0-4159-bfde-9a92166b9494",
   "metadata": {},
   "source": [
    "### Train test split"
   ]
  },
  {
   "cell_type": "code",
   "execution_count": 66,
   "id": "9b91d31a-df63-4186-bed2-ef065d4795e6",
   "metadata": {},
   "outputs": [
    {
     "name": "stdout",
     "output_type": "stream",
     "text": [
      "torch.Size([182580, 3]) torch.Size([182580])\n",
      "torch.Size([22767, 3]) torch.Size([22767])\n",
      "torch.Size([22799, 3]) torch.Size([22799])\n"
     ]
    }
   ],
   "source": [
    "# build the dataset\n",
    "block_size = 3 # context length: how many characters do we take to predict the next one?\n",
    "\n",
    "def build_dataset(words):  \n",
    "  X, Y = [], []\n",
    "  for w in words:\n",
    "\n",
    "    #print(w)\n",
    "    context = [0] * block_size\n",
    "    for ch in w + '.':\n",
    "      ix = stoi[ch]\n",
    "      X.append(context)\n",
    "      Y.append(ix)\n",
    "      #print(''.join(itos[i] for i in context), '--->', itos[ix])\n",
    "      context = context[1:] + [ix] # crop and append\n",
    "\n",
    "  X = torch.tensor(X)\n",
    "  Y = torch.tensor(Y)\n",
    "  print(X.shape, Y.shape)\n",
    "  return X, Y\n",
    "\n",
    "import random\n",
    "random.seed(42)\n",
    "random.shuffle(words)\n",
    "n1 = int(0.8*len(words))\n",
    "n2 = int(0.9*len(words))\n",
    "\n",
    "Xtr, Ytr = build_dataset(words[:n1])\n",
    "Xdev, Ydev = build_dataset(words[n1:n2])\n",
    "Xte, Yte = build_dataset(words[n2:])"
   ]
  },
  {
   "cell_type": "code",
   "execution_count": 67,
   "id": "ba3272a0-1282-4aae-a9ff-065a8d220c46",
   "metadata": {},
   "outputs": [],
   "source": [
    "g = torch.Generator().manual_seed(2147483646)\n",
    "C = torch.randn((27, 2), generator=g)\n",
    "\n",
    "W1 = torch.randn((6, 100), generator=g)\n",
    "B1 = torch.randn(100, generator=g)\n",
    "\n",
    "W2 = torch.randn((100, 27), generator=g)\n",
    "B2 = torch.randn(27, generator=g)\n",
    "\n",
    "parameters = [C, W1, B1, W2, B2]"
   ]
  },
  {
   "cell_type": "code",
   "execution_count": 68,
   "id": "0d6a8d60-09a0-4763-8ea3-22550f61ed66",
   "metadata": {},
   "outputs": [],
   "source": [
    "# Let's set requires_grad to True for all parameters\n",
    "for p in parameters: \n",
    "    p.requires_grad = True"
   ]
  },
  {
   "cell_type": "code",
   "execution_count": 69,
   "id": "7cd5558c-210d-49ab-adce-42c3b781a366",
   "metadata": {},
   "outputs": [
    {
     "name": "stdout",
     "output_type": "stream",
     "text": [
      "2.1628470420837402\n"
     ]
    }
   ],
   "source": [
    "e = 0.1\n",
    "for _ in range (50000):\n",
    "    # forward pass\n",
    "    ix = torch.randint(0, Xtr.shape[0], (32, ))\n",
    "    X_onehot = F.one_hot(Xtr[ix], num_classes=27).float()\n",
    "    emb = X_onehot @ C\n",
    "    embeddings = emb.flatten(start_dim=1, end_dim=-1)\n",
    "    h = torch.tanh(embeddings @ W1 + B1)\n",
    "    logits = h @ W2 + B2\n",
    "    # compute nll loss\n",
    "    loss = F.cross_entropy(logits, Ytr[ix])\n",
    "    # print(loss.item())\n",
    "    # update the grad to None\n",
    "    for p in parameters: \n",
    "        p.grad = None\n",
    "    \n",
    "    # Backward pass \n",
    "    loss.backward()\n",
    "    \n",
    "    # Update the values of the parameters \n",
    "    for p in parameters: \n",
    "        p.data -= e * p.grad\n",
    "\n",
    "print(loss.item())"
   ]
  },
  {
   "cell_type": "code",
   "execution_count": 70,
   "id": "7b30ce23-ac33-4dd6-8b2e-7d7d535b7357",
   "metadata": {},
   "outputs": [
    {
     "data": {
      "text/plain": [
       "tensor(2.3691, grad_fn=<NllLossBackward0>)"
      ]
     },
     "execution_count": 70,
     "metadata": {},
     "output_type": "execute_result"
    }
   ],
   "source": [
    "    X_onehot = F.one_hot(Xdev, num_classes=27).float()\n",
    "    emb = X_onehot @ C\n",
    "    embeddings = emb.flatten(start_dim=1, end_dim=-1)\n",
    "    h = torch.tanh(embeddings @ W1 + B1)\n",
    "    logits = h @ W2 + B2\n",
    "    # compute nll loss\n",
    "    loss = F.cross_entropy(logits, Ydev)\n",
    "    loss"
   ]
  },
  {
   "cell_type": "code",
   "execution_count": null,
   "id": "f298676c-df35-4354-8704-44052319d3bf",
   "metadata": {},
   "outputs": [],
   "source": []
  }
 ],
 "metadata": {
  "kernelspec": {
   "display_name": "Python 3 (ipykernel)",
   "language": "python",
   "name": "python3"
  },
  "language_info": {
   "codemirror_mode": {
    "name": "ipython",
    "version": 3
   },
   "file_extension": ".py",
   "mimetype": "text/x-python",
   "name": "python",
   "nbconvert_exporter": "python",
   "pygments_lexer": "ipython3",
   "version": "3.12.4"
  }
 },
 "nbformat": 4,
 "nbformat_minor": 5
}
