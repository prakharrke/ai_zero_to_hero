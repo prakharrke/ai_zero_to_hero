{
 "cells": [
  {
   "cell_type": "code",
   "execution_count": 1,
   "id": "61f07481-4ab0-4a71-9bc0-bdbc392d1869",
   "metadata": {},
   "outputs": [],
   "source": [
    "import torch\n",
    "import torch.nn.functional as F\n",
    "import matplotlib.pyplot as plt # for making figures\n",
    "%matplotlib inline"
   ]
  },
  {
   "cell_type": "code",
   "execution_count": 2,
   "id": "8d8e2941-5d8b-4152-a828-5376c92c7a40",
   "metadata": {},
   "outputs": [
    {
     "name": "stdout",
     "output_type": "stream",
     "text": [
      "32033\n",
      "15\n",
      "['emma', 'olivia', 'ava', 'isabella', 'sophia', 'charlotte', 'mia', 'amelia']\n"
     ]
    }
   ],
   "source": [
    "# read in all the words\n",
    "words = open('names.txt', 'r').read().splitlines()\n",
    "print(len(words))\n",
    "print(max(len(w) for w in words))\n",
    "print(words[:8])"
   ]
  },
  {
   "cell_type": "code",
   "execution_count": 3,
   "id": "1552d272-a406-481a-a4b3-ca3957320bae",
   "metadata": {},
   "outputs": [
    {
     "name": "stdout",
     "output_type": "stream",
     "text": [
      "{1: 'a', 2: 'b', 3: 'c', 4: 'd', 5: 'e', 6: 'f', 7: 'g', 8: 'h', 9: 'i', 10: 'j', 11: 'k', 12: 'l', 13: 'm', 14: 'n', 15: 'o', 16: 'p', 17: 'q', 18: 'r', 19: 's', 20: 't', 21: 'u', 22: 'v', 23: 'w', 24: 'x', 25: 'y', 26: 'z', 0: '.'}\n",
      "27\n"
     ]
    }
   ],
   "source": [
    "# build the vocabulary of characters and mappings to/from integers\n",
    "chars = sorted(list(set(''.join(words))))\n",
    "stoi = {s:i+1 for i,s in enumerate(chars)}\n",
    "stoi['.'] = 0\n",
    "itos = {i:s for s,i in stoi.items()}\n",
    "vocab_size = len(itos)\n",
    "print(itos)\n",
    "print(vocab_size)"
   ]
  },
  {
   "cell_type": "code",
   "execution_count": 4,
   "id": "7e5b0de1-b174-429f-a11d-6b2808e142ac",
   "metadata": {},
   "outputs": [],
   "source": [
    "# shuffle up the words\n",
    "import random\n",
    "random.seed(42)\n",
    "random.shuffle(words)"
   ]
  },
  {
   "cell_type": "code",
   "execution_count": 66,
   "id": "f548cff2-c2e8-4315-8041-601cb1940806",
   "metadata": {},
   "outputs": [
    {
     "name": "stdout",
     "output_type": "stream",
     "text": [
      "torch.Size([182625, 8]) torch.Size([182625])\n",
      "torch.Size([22655, 8]) torch.Size([22655])\n",
      "torch.Size([22866, 8]) torch.Size([22866])\n"
     ]
    }
   ],
   "source": [
    "# build the dataset\n",
    "block_size = 8 # context length: how many characters do we take to predict the next one?\n",
    "\n",
    "def build_dataset(words):  \n",
    "  X, Y = [], []\n",
    "  \n",
    "  for w in words:\n",
    "    context = [0] * block_size\n",
    "    for ch in w + '.':\n",
    "      ix = stoi[ch]\n",
    "      X.append(context)\n",
    "      Y.append(ix)\n",
    "      context = context[1:] + [ix] # crop and append\n",
    "\n",
    "  X = torch.tensor(X)\n",
    "  Y = torch.tensor(Y)\n",
    "  print(X.shape, Y.shape)\n",
    "  return X, Y\n",
    "\n",
    "n1 = int(0.8*len(words))\n",
    "n2 = int(0.9*len(words))\n",
    "Xtr,  Ytr  = build_dataset(words[:n1])     # 80%\n",
    "Xdev, Ydev = build_dataset(words[n1:n2])   # 10%\n",
    "Xte,  Yte  = build_dataset(words[n2:])     # 10%"
   ]
  },
  {
   "cell_type": "code",
   "execution_count": 67,
   "id": "9aafe365-982b-4dd8-9c4f-bffa6200d132",
   "metadata": {},
   "outputs": [
    {
     "name": "stdout",
     "output_type": "stream",
     "text": [
      "........ --> y\n",
      ".......y --> u\n",
      "......yu --> h\n",
      ".....yuh --> e\n",
      "....yuhe --> n\n",
      "...yuhen --> g\n",
      "..yuheng --> .\n",
      "........ --> d\n",
      ".......d --> i\n",
      "......di --> o\n",
      ".....dio --> n\n",
      "....dion --> d\n",
      "...diond --> r\n",
      "..diondr --> e\n",
      ".diondre --> .\n",
      "........ --> x\n",
      ".......x --> a\n",
      "......xa --> v\n",
      ".....xav --> i\n",
      "....xavi --> e\n"
     ]
    }
   ],
   "source": [
    "for x,y in zip(Xtr[:20], Ytr[:20]):\n",
    "  print(''.join(itos[ix.item()] for ix in x), '-->', itos[y.item()])"
   ]
  },
  {
   "cell_type": "code",
   "execution_count": 153,
   "id": "296e64b3-b6ec-4eae-b4f9-5a17097e1626",
   "metadata": {},
   "outputs": [],
   "source": [
    "# -----------------------------------------------------------------------------------------------\n",
    "class Linear:\n",
    "  \n",
    "  def __init__(self, fan_in, fan_out, bias=True):\n",
    "    self.weight = torch.randn((fan_in, fan_out)) / fan_in**0.5 # note: kaiming init\n",
    "    self.bias = torch.zeros(fan_out) if bias else None\n",
    "  \n",
    "  def __call__(self, x):\n",
    "    self.out = x @ self.weight\n",
    "    if self.bias is not None:\n",
    "      self.out += self.bias\n",
    "    return self.out\n",
    "  \n",
    "  def parameters(self):\n",
    "    return [self.weight] + ([] if self.bias is None else [self.bias])\n",
    "\n",
    "# -----------------------------------------------------------------------------------------------\n",
    "class BatchNorm1d:\n",
    "  \n",
    "  def __init__(self, dim, eps=1e-5, momentum=0.1):\n",
    "    self.eps = eps\n",
    "    self.momentum = momentum\n",
    "    self.training = True\n",
    "    # parameters (trained with backprop)\n",
    "    self.gamma = torch.ones(dim)\n",
    "    self.beta = torch.zeros(dim)\n",
    "    # buffers (trained with a running 'momentum update')\n",
    "    self.running_mean = torch.zeros(dim)\n",
    "    self.running_var = torch.ones(dim)\n",
    "  \n",
    "  def __call__(self, x):\n",
    "    # calculate the forward pass\n",
    "    if self.training:\n",
    "      if x.ndim == 2:\n",
    "        dim = 0\n",
    "      elif x.ndim == 3:\n",
    "        dim = (0,1)\n",
    "      xmean = x.mean(dim, keepdim=True) # batch mean\n",
    "      xvar = x.var(dim, keepdim=True) # batch variance\n",
    "    else:\n",
    "      xmean = self.running_mean\n",
    "      xvar = self.running_var\n",
    "    xhat = (x - xmean) / torch.sqrt(xvar + self.eps) # normalize to unit variance\n",
    "    self.out = self.gamma * xhat + self.beta\n",
    "    # update the buffers\n",
    "    if self.training:\n",
    "      with torch.no_grad():\n",
    "        self.running_mean = (1 - self.momentum) * self.running_mean + self.momentum * xmean\n",
    "        self.running_var = (1 - self.momentum) * self.running_var + self.momentum * xvar\n",
    "    return self.out\n",
    "  \n",
    "  def parameters(self):\n",
    "    return [self.gamma, self.beta]\n",
    "\n",
    "# -----------------------------------------------------------------------------------------------\n",
    "class Tanh:\n",
    "  def __call__(self, x):\n",
    "    self.out = torch.tanh(x)\n",
    "    return self.out\n",
    "  def parameters(self):\n",
    "    return []\n",
    "\n",
    "class Embedding:\n",
    "    def __init__(self, vocab_size, dim):\n",
    "        self.weight = torch.randn((vocab_size, dim))\n",
    "    def __call__(self, xi):\n",
    "        self.out = self.weight[xi] \n",
    "        return self.out\n",
    "    def parameters(self):\n",
    "        return [self.weight]\n",
    "\n",
    "class Flatten:\n",
    "    def __call__(self, x):\n",
    "        self.out = x.view(x.shape[0], -1)\n",
    "        return self.out\n",
    "    def parameters(self):\n",
    "        return []\n",
    "\n",
    "class Sequential:\n",
    "    def __init__(self, layers):\n",
    "        self.layers = layers\n",
    "\n",
    "    def __call__(self, x):\n",
    "        for layer in self.layers:\n",
    "            x = layer(x)\n",
    "        self.out = x\n",
    "        return self.out\n",
    "    def parameters(self):\n",
    "        return [p for layer in self.layers for p in layer.parameters()]"
   ]
  },
  {
   "cell_type": "code",
   "execution_count": 69,
   "id": "17cf9634-9a2a-41e1-b170-51e54c5ce522",
   "metadata": {},
   "outputs": [],
   "source": [
    "torch.manual_seed(42);"
   ]
  },
  {
   "cell_type": "code",
   "execution_count": 154,
   "id": "1154296c-15bd-4da1-b3d0-7a24cef76e66",
   "metadata": {},
   "outputs": [
    {
     "name": "stdout",
     "output_type": "stream",
     "text": [
      "parameters: 22097\n"
     ]
    }
   ],
   "source": [
    "n_embed = 10\n",
    "n_hidden = 200\n",
    "\n",
    "model = Sequential([\n",
    "    Embedding(vocab_size, n_embed), \n",
    "    Flatten(),\n",
    "    Linear(fan_in=(n_embed * block_size), fan_out=n_hidden, bias=False),\n",
    "    BatchNorm1d(n_hidden),\n",
    "    Tanh(),\n",
    "    Linear(n_hidden, vocab_size),\n",
    "])\n",
    "\n",
    "with torch.no_grad():\n",
    "    layers[-1].weight *= 0.1\n",
    "\n",
    "# parameters = [p for layer in layers for p in layer.parameters()]\n",
    "print(f\"parameters: {sum(p.nelement() for p in model.parameters())}\")\n",
    "\n",
    "for p in model.parameters():\n",
    "    p.requires_grad = True"
   ]
  },
  {
   "cell_type": "code",
   "execution_count": 71,
   "id": "a780ba28-7a56-464b-8e8c-de85abe306a3",
   "metadata": {},
   "outputs": [
    {
     "name": "stdout",
     "output_type": "stream",
     "text": [
      "      0/ 200000: 3.3804\n",
      "  10000/ 200000: 2.0859\n",
      "  20000/ 200000: 1.9975\n",
      "  30000/ 200000: 2.0456\n",
      "  40000/ 200000: 2.0530\n",
      "  50000/ 200000: 2.0230\n",
      "  60000/ 200000: 2.3334\n",
      "  70000/ 200000: 1.9597\n",
      "  80000/ 200000: 2.2143\n",
      "  90000/ 200000: 1.9593\n",
      " 100000/ 200000: 1.5477\n",
      " 110000/ 200000: 2.2521\n",
      " 120000/ 200000: 2.3547\n",
      " 130000/ 200000: 2.2827\n",
      " 140000/ 200000: 2.1726\n",
      " 150000/ 200000: 1.9499\n",
      " 160000/ 200000: 1.5848\n",
      " 170000/ 200000: 2.2562\n",
      " 180000/ 200000: 1.8180\n",
      " 190000/ 200000: 2.0273\n"
     ]
    }
   ],
   "source": [
    "# same optimization as last time\n",
    "max_steps = 200000\n",
    "batch_size = 32\n",
    "lossi = []\n",
    "ud = []\n",
    "\n",
    "for i in range(max_steps):\n",
    "  \n",
    "  # minibatch construct\n",
    "  ix = torch.randint(0, Xtr.shape[0], (batch_size,))\n",
    "  Xb, Yb = Xtr[ix], Ytr[ix] # batch X,Y\n",
    "  \n",
    "  # forward pass\n",
    "  logits = model(Xb)\n",
    "  loss = F.cross_entropy(logits, Yb) # loss function\n",
    "  \n",
    "  for p in model.parameters():\n",
    "    p.grad = None\n",
    "  loss.backward()\n",
    "  \n",
    "  # update\n",
    "  lr = 0.1 if i < 150000 else 0.01 # step learning rate decay\n",
    "  for p in model.parameters():\n",
    "    p.data += -lr * p.grad\n",
    "\n",
    "  # track stats\n",
    "  if i % 10000 == 0: # print every once in a while\n",
    "    print(f'{i:7d}/{max_steps:7d}: {loss.item():.4f}')\n",
    "  lossi.append(loss.log10().item())\n",
    " "
   ]
  },
  {
   "cell_type": "code",
   "execution_count": 56,
   "id": "c1615d5c-de3b-481b-b29e-0181e5a9a41a",
   "metadata": {},
   "outputs": [
    {
     "data": {
      "text/plain": [
       "[<matplotlib.lines.Line2D at 0x123f2a210>]"
      ]
     },
     "execution_count": 56,
     "metadata": {},
     "output_type": "execute_result"
    },
    {
     "data": {
      "image/png": "[encoded data removed]",
      "text/plain": [
       "<Figure size 640x480 with 1 Axes>"
      ]
     },
     "metadata": {},
     "output_type": "display_data"
    }
   ],
   "source": [
    "plt.plot(torch.tensor(lossi).view(-1, 1000).mean(1))"
   ]
  },
  {
   "cell_type": "code",
   "execution_count": 57,
   "id": "d525cca0-3f11-4047-b770-f8e1fd45de35",
   "metadata": {},
   "outputs": [],
   "source": [
    "# Set training to False for evaluation of the model \n",
    "for layer in model.layers:\n",
    "    layer.training = False"
   ]
  },
  {
   "cell_type": "code",
   "execution_count": 58,
   "id": "1ffcd3e3-5a62-4603-8970-47d9d46d2b08",
   "metadata": {},
   "outputs": [
    {
     "name": "stdout",
     "output_type": "stream",
     "text": [
      "train 2.0584716796875\n",
      "val 2.1067593097686768\n"
     ]
    }
   ],
   "source": [
    "@torch.no_grad() # this decorator disables gradient tracking\n",
    "def split_loss(split):\n",
    "  x,y = {\n",
    "    'train': (Xtr, Ytr),\n",
    "    'val': (Xdev, Ydev),\n",
    "    'test': (Xte, Yte),\n",
    "  }[split]\n",
    "  logits = model(x)\n",
    "  \n",
    "  loss = F.cross_entropy(logits, y)\n",
    "  print(split, loss.item())\n",
    "\n",
    "split_loss('train')\n",
    "split_loss('val')"
   ]
  },
  {
   "cell_type": "markdown",
   "id": "d0ffa878-4648-40ed-9a45-c6a265d935b1",
   "metadata": {},
   "source": [
    "### Let's build a hirarchical model, which processes input of 8 length as 4 bigrams instead of processing the entire 8 characters in one go.\n"
   ]
  },
  {
   "cell_type": "code",
   "execution_count": 73,
   "id": "638b2750-3144-4ed0-b9e9-ce647a8dc74c",
   "metadata": {},
   "outputs": [
    {
     "data": {
      "text/plain": [
       "(torch.Size([32, 8, 10]), torch.Size([8, 10]))"
      ]
     },
     "execution_count": 73,
     "metadata": {},
     "output_type": "execute_result"
    }
   ],
   "source": [
    "model.layers[0].out.shape, model.layers[0].out[0].shape"
   ]
  },
  {
   "cell_type": "markdown",
   "id": "9da5f0c7-340d-4cd2-ac9b-949b319c5e7e",
   "metadata": {},
   "source": [
    "The embedding shape and size will remain the same. "
   ]
  },
  {
   "cell_type": "markdown",
   "id": "56acb893-b8e7-45d5-8250-4a3c4dbdded8",
   "metadata": {},
   "source": [
    "The earlier case, each input embedding was flattened into [1, 80] and then fed to the hidden layer. \n",
    "<br/>But now, we want to process each input as a sequence of bigrams. That means, for each input we will have 4 bigrams. For a batch size of 32 inputs, we will have 4 bigrams each, and the length of each bigram embedding will be 20. Over all, for a batch size of 32, the shape after flattening should be, [32, 4, 20], as opposed to [32, 80].\n",
    "\n",
    "<br/> Let's update  our flattening layer in order to achieve that."
   ]
  },
  {
   "cell_type": "code",
   "execution_count": 74,
   "id": "0cb3f3d0-88b6-411b-9fa3-28aa71246ab1",
   "metadata": {},
   "outputs": [],
   "source": [
    "x = model.layers[0].out"
   ]
  },
  {
   "cell_type": "code",
   "execution_count": 75,
   "id": "deb3c3d5-d969-466f-aa5c-960d49c4c455",
   "metadata": {},
   "outputs": [
    {
     "data": {
      "text/plain": [
       "torch.Size([32, 8, 10])"
      ]
     },
     "execution_count": 75,
     "metadata": {},
     "output_type": "execute_result"
    }
   ],
   "source": [
    "x.shape"
   ]
  },
  {
   "cell_type": "code",
   "execution_count": 78,
   "id": "cdc823ac-d2dc-42d0-bcb5-7b4bbc2eae1b",
   "metadata": {},
   "outputs": [],
   "source": [
    "A, B, C = x.shape\n",
    "# A is the batch size\n",
    "# B is the block size\n",
    "# C is the dimensions of the embedding"
   ]
  },
  {
   "cell_type": "code",
   "execution_count": 79,
   "id": "24e2eb2b-ebe3-40b2-8820-e1355bdd6e3d",
   "metadata": {},
   "outputs": [
    {
     "data": {
      "text/plain": [
       "torch.Size([32, 4, 20])"
      ]
     },
     "execution_count": 79,
     "metadata": {},
     "output_type": "execute_result"
    }
   ],
   "source": [
    "x.view(A, -1, 2 * C).shape"
   ]
  },
  {
   "cell_type": "code",
   "execution_count": 80,
   "id": "71661df3-10f6-40aa-a6cc-a1281b06478b",
   "metadata": {},
   "outputs": [
    {
     "data": {
      "text/plain": [
       "torch.Size([32, 4, 20])"
      ]
     },
     "execution_count": 80,
     "metadata": {},
     "output_type": "execute_result"
    }
   ],
   "source": [
    "x.view(A, B // 2, 2 * C).shape"
   ]
  },
  {
   "cell_type": "code",
   "execution_count": 94,
   "id": "242ee693-0fcd-4e57-9f85-4ff5a29fe178",
   "metadata": {},
   "outputs": [],
   "source": [
    "class Flatten:\n",
    "    def __init__(self, n): # n is the number of characters we want to process together (2 in our example)\n",
    "        self.n = n\n",
    "    def __call__(self, x):\n",
    "        A, B, C = x.shape\n",
    "        y = x.view(A, B // self.n, self.n * C)\n",
    "        \n",
    "        if y.shape[1] == 1:\n",
    "            y = y.squeeze(1)\n",
    "        self.out = y \n",
    "        return self.out\n",
    "        return self.out\n",
    "    def parameters(self):\n",
    "        return []"
   ]
  },
  {
   "cell_type": "code",
   "execution_count": 95,
   "id": "23f18b3e-99a3-48c3-b84f-a7b3b78a5716",
   "metadata": {},
   "outputs": [
    {
     "data": {
      "text/plain": [
       "torch.Size([32, 4, 20])"
      ]
     },
     "execution_count": 95,
     "metadata": {},
     "output_type": "execute_result"
    }
   ],
   "source": [
    "x = torch.randn((32, 8, 10))\n",
    "x.shape\n",
    "f = Flatten(2)\n",
    "f(x).shape"
   ]
  },
  {
   "cell_type": "code",
   "execution_count": 96,
   "id": "be353d7a-7c68-46b8-aad4-da1770f9d1df",
   "metadata": {},
   "outputs": [
    {
     "data": {
      "text/plain": [
       "torch.Size([32, 80])"
      ]
     },
     "execution_count": 96,
     "metadata": {},
     "output_type": "execute_result"
    }
   ],
   "source": [
    "### Test if the middle dimension is 1, it should squeeze\n",
    "f = Flatten(8)\n",
    "f(x).squeeze(1).shape"
   ]
  },
  {
   "cell_type": "code",
   "execution_count": 102,
   "id": "f30ffcd3-5189-4d4a-a4fe-e9383ec3bd7c",
   "metadata": {},
   "outputs": [
    {
     "data": {
      "text/plain": [
       "torch.Size([32, 200])"
      ]
     },
     "execution_count": 102,
     "metadata": {},
     "output_type": "execute_result"
    }
   ],
   "source": [
    "model.layers[2].out.shape"
   ]
  },
  {
   "cell_type": "code",
   "execution_count": 104,
   "id": "fd9c4872-6df2-4256-9233-e263b342cc49",
   "metadata": {},
   "outputs": [
    {
     "data": {
      "text/plain": [
       "torch.Size([32, 4, 200])"
      ]
     },
     "execution_count": 104,
     "metadata": {},
     "output_type": "execute_result"
    }
   ],
   "source": [
    "x = torch.randn((32, 8, 10))\n",
    "f = Flatten(2)\n",
    "x = f(x)\n",
    "l = Linear(20, 200)\n",
    "l(x).shape"
   ]
  },
  {
   "cell_type": "markdown",
   "id": "35e6b40d-d225-40e2-afe2-d10dde035c20",
   "metadata": {},
   "source": [
    "### Now that the flattening dimensions have changed, the linear layer parameters will also change. Since each input is of 20 dimensions now, the fan in of the linear layer will change. But before we reinitialise the model parameters, let's look at the BatchNorm1d layer first. \n",
    "\n",
    "The BatchNorm computes the mean and std for a neuron over all the inputs in a batch. Earlier, the batch size was 32. But now, if you think about it, since we will be processing 4 bigrams parallelly. 4 is also kind of a batch size as well. Hence, we have 32 * 4 batch size over which the mean and std should be computed. "
   ]
  },
  {
   "cell_type": "code",
   "execution_count": 107,
   "id": "14db89bd-b19c-44bd-a7d0-0e95b40d8e9f",
   "metadata": {},
   "outputs": [
    {
     "data": {
      "text/plain": [
       "torch.Size([32, 4, 200])"
      ]
     },
     "execution_count": 107,
     "metadata": {},
     "output_type": "execute_result"
    }
   ],
   "source": [
    "o = l(x)\n",
    "o.shape"
   ]
  },
  {
   "cell_type": "markdown",
   "id": "2bdbcaed-b87d-493f-a439-6a6087b1f415",
   "metadata": {},
   "source": [
    "This will be the input to BatchNorm1d now. It has to compute mean and std not only over dimension 0, but over dimensions 0 and 1."
   ]
  },
  {
   "cell_type": "code",
   "execution_count": 108,
   "id": "4018d28f-86f7-41cf-a199-36c1d2b49d6f",
   "metadata": {},
   "outputs": [
    {
     "data": {
      "text/plain": [
       "torch.Size([1, 1, 200])"
      ]
     },
     "execution_count": 108,
     "metadata": {},
     "output_type": "execute_result"
    }
   ],
   "source": [
    "mean = o.mean((0, 1), keepdim=True)\n",
    "mean.shape"
   ]
  },
  {
   "cell_type": "markdown",
   "id": "f5d4af55-6203-4686-a761-db38fc3c428c",
   "metadata": {},
   "source": [
    "I am updating the BatchNorm1d class above, since the class is big. \n",
    "### Let's redefine the model now. And we will add some more hidden layers this time around. "
   ]
  },
  {
   "cell_type": "code",
   "execution_count": 181,
   "id": "9dc5c3cc-1749-484b-a279-1ca398288a5a",
   "metadata": {},
   "outputs": [],
   "source": [
    "class Linear:\n",
    "  \n",
    "  def __init__(self, fan_in, fan_out, bias=True):\n",
    "    self.weight = torch.randn((fan_in, fan_out)) / fan_in**0.5 # note: kaiming init\n",
    "    self.bias = torch.zeros(fan_out) if bias else None\n",
    "  \n",
    "  def __call__(self, x):\n",
    "    self.out = x @ self.weight\n",
    "    if self.bias is not None:\n",
    "      self.out += self.bias\n",
    "    return self.out\n",
    "  \n",
    "  def parameters(self):\n",
    "    return [self.weight] + ([] if self.bias is None else [self.bias])\n",
    "\n",
    "# -----------------------------------------------------------------------------------------------\n",
    "class BatchNorm1d:\n",
    "  \n",
    "  def __init__(self, dim, eps=1e-5, momentum=0.1):\n",
    "    self.eps = eps\n",
    "    self.momentum = momentum\n",
    "    self.training = True\n",
    "    # parameters (trained with backprop)\n",
    "    self.gamma = torch.ones(dim)\n",
    "    self.beta = torch.zeros(dim)\n",
    "    # buffers (trained with a running 'momentum update')\n",
    "    self.running_mean = torch.zeros(dim)\n",
    "    self.running_var = torch.ones(dim)\n",
    "  \n",
    "  def __call__(self, x):\n",
    "    # calculate the forward pass\n",
    "    if self.training:\n",
    "      if x.ndim == 2:\n",
    "        dim = 0\n",
    "      elif x.ndim == 3:\n",
    "        dim = (0,1)\n",
    "      xmean = x.mean(dim, keepdim=True) # batch mean\n",
    "      xvar = x.var(dim, keepdim=True) # batch variance\n",
    "    else:\n",
    "      xmean = self.running_mean\n",
    "      xvar = self.running_var\n",
    "    xhat = (x - xmean) / torch.sqrt(xvar + self.eps) # normalize to unit variance\n",
    "    self.out = self.gamma * xhat + self.beta\n",
    "    # update the buffers\n",
    "    if self.training:\n",
    "      with torch.no_grad():\n",
    "        self.running_mean = (1 - self.momentum) * self.running_mean + self.momentum * xmean\n",
    "        self.running_var = (1 - self.momentum) * self.running_var + self.momentum * xvar\n",
    "    return self.out\n",
    "  \n",
    "  def parameters(self):\n",
    "    return [self.gamma, self.beta]\n",
    "\n",
    "# -----------------------------------------------------------------------------------------------\n",
    "class Tanh:\n",
    "  def __call__(self, x):\n",
    "    self.out = torch.tanh(x)\n",
    "    return self.out\n",
    "  def parameters(self):\n",
    "    return []\n",
    "\n",
    "# -----------------------------------------------------------------------------------------------\n",
    "class Embedding:\n",
    "  \n",
    "  def __init__(self, num_embeddings, embedding_dim):\n",
    "    self.weight = torch.randn((num_embeddings, embedding_dim))\n",
    "    \n",
    "  def __call__(self, IX):\n",
    "    self.out = self.weight[IX]\n",
    "    return self.out\n",
    "  \n",
    "  def parameters(self):\n",
    "    return [self.weight]\n",
    "\n",
    "# -----------------------------------------------------------------------------------------------\n",
    "class FlattenConsecutive:\n",
    "  \n",
    "  def __init__(self, n):\n",
    "    self.n = n\n",
    "    \n",
    "  def __call__(self, x):\n",
    "    B, T, C = x.shape\n",
    "    x = x.view(B, T//self.n, C*self.n)\n",
    "    if x.shape[1] == 1:\n",
    "      x = x.squeeze(1)\n",
    "    self.out = x\n",
    "    return self.out\n",
    "  \n",
    "  def parameters(self):\n",
    "    return []\n",
    "\n",
    "# -----------------------------------------------------------------------------------------------\n",
    "class Sequential:\n",
    "  \n",
    "  def __init__(self, layers):\n",
    "    self.layers = layers\n",
    "  \n",
    "  def __call__(self, x):\n",
    "    for layer in self.layers:\n",
    "      x = layer(x)\n",
    "    self.out = x\n",
    "    return self.out\n",
    "  \n",
    "  def parameters(self):\n",
    "    # get parameters of all layers and stretch them out into one list\n",
    "    return [p for layer in self.layers for p in layer.parameters()]"
   ]
  },
  {
   "cell_type": "code",
   "execution_count": 185,
   "id": "d048410c-2381-4d9e-a76b-9ff0234418d4",
   "metadata": {},
   "outputs": [
    {
     "name": "stdout",
     "output_type": "stream",
     "text": [
      "parameters: 177302\n"
     ]
    }
   ],
   "source": [
    "n_embd = 25 # the dimensionality of the character embedding vectors\n",
    "n_hidden = 200 # the number of neurons in the hidden layer of the MLP\n",
    "model = Sequential([\n",
    "  Embedding(vocab_size, n_embd),\n",
    "  FlattenConsecutive(2), Linear(n_embd * 2, n_hidden, bias=False), BatchNorm1d(n_hidden), Tanh(),\n",
    "  FlattenConsecutive(2), Linear(n_hidden * 2, n_hidden, bias=False), BatchNorm1d(n_hidden), Tanh(),\n",
    "  FlattenConsecutive(2), Linear(n_hidden * 2, n_hidden, bias=False), BatchNorm1d(n_hidden), Tanh(),\n",
    "  Linear(n_hidden, vocab_size),\n",
    "])\n",
    "\n",
    "with torch.no_grad():\n",
    "    layers[-1].weight *= 0.1\n",
    "\n",
    "# parameters = [p for layer in layers for p in layer.parameters()]\n",
    "print(f\"parameters: {sum(p.nelement() for p in model.parameters())}\")\n",
    "\n",
    "for p in model.parameters():\n",
    "    p.requires_grad = True"
   ]
  },
  {
   "cell_type": "code",
   "execution_count": 186,
   "id": "17770d63-d206-4c86-b9bf-7e2b4f468610",
   "metadata": {},
   "outputs": [
    {
     "name": "stdout",
     "output_type": "stream",
     "text": [
      "      0/ 200000: 3.4416\n",
      "  10000/ 200000: 2.5984\n",
      "  20000/ 200000: 2.1030\n",
      "  30000/ 200000: 2.5754\n",
      "  40000/ 200000: 1.8996\n",
      "  50000/ 200000: 1.9882\n",
      "  60000/ 200000: 2.1924\n",
      "  70000/ 200000: 2.1983\n",
      "  80000/ 200000: 2.3228\n",
      "  90000/ 200000: 1.5886\n",
      " 100000/ 200000: 2.2662\n",
      " 110000/ 200000: 2.0661\n",
      " 120000/ 200000: 1.7717\n",
      " 130000/ 200000: 1.8776\n",
      " 140000/ 200000: 1.8387\n",
      " 150000/ 200000: 1.7149\n",
      " 160000/ 200000: 1.7419\n",
      " 170000/ 200000: 1.7760\n",
      " 180000/ 200000: 1.6847\n",
      " 190000/ 200000: 1.8351\n"
     ]
    }
   ],
   "source": [
    "# same optimization as last time\n",
    "max_steps = 200000\n",
    "batch_size = 32\n",
    "lossi = []\n",
    "ud = []\n",
    "\n",
    "for i in range(max_steps):\n",
    "  \n",
    "  # minibatch construct\n",
    "  ix = torch.randint(0, Xtr.shape[0], (batch_size,))\n",
    "  Xb, Yb = Xtr[ix], Ytr[ix] # batch X,Y\n",
    "  \n",
    "  # forward pass\n",
    "  logits = model(Xb)\n",
    "  loss = F.cross_entropy(logits, Yb) # loss function\n",
    "  \n",
    "  for p in model.parameters():\n",
    "    p.grad = None\n",
    "  loss.backward()\n",
    "  \n",
    "  # update\n",
    "  lr = 0.1 if i < 150000 else 0.01 # step learning rate decay\n",
    "  for p in model.parameters():\n",
    "    p.data += -lr * p.grad\n",
    "\n",
    "  # track stats\n",
    "  if i % 10000 == 0: # print every once in a while\n",
    "    print(f'{i:7d}/{max_steps:7d}: {loss.item():.4f}')\n",
    "  lossi.append(loss.log10().item())"
   ]
  },
  {
   "cell_type": "code",
   "execution_count": 187,
   "id": "f576cef1-8766-41ac-8f8c-42907307fb50",
   "metadata": {},
   "outputs": [
    {
     "name": "stdout",
     "output_type": "stream",
     "text": [
      "train 1.7000768184661865\n",
      "val 1.9976288080215454\n"
     ]
    }
   ],
   "source": [
    "for layer in model.layers:\n",
    "    layer.training = False\n",
    "\n",
    "split_loss('train')\n",
    "split_loss('val')"
   ]
  },
  {
   "cell_type": "code",
   "execution_count": 210,
   "id": "2e5af11e-e8e7-4144-991d-6f7a42eb3454",
   "metadata": {},
   "outputs": [
    {
     "name": "stdout",
     "output_type": "stream",
     "text": [
      "rosaalee.\n",
      "marah.\n",
      "kamaleya.\n",
      "jitheya.\n",
      "laylah.\n",
      "grey.\n",
      "rahman.\n",
      "mehra.\n",
      "keelen.\n",
      "karmyan.\n",
      "maita.\n",
      "tahloni.\n",
      "keyon.\n",
      "aette.\n",
      "jodi.\n",
      "eumekgaidra.\n",
      "jennette.\n",
      "gianelli.\n",
      "gasselynn.\n",
      "gracely.\n"
     ]
    }
   ],
   "source": [
    "# sample from the model\n",
    "for _ in range(20):\n",
    "    \n",
    "    out = []\n",
    "    context = [0] * block_size # initialize with all ...\n",
    "    while True:\n",
    "      # forward pass the neural net\n",
    "      logits = model(torch.tensor([context]))\n",
    "      probs = F.softmax(logits, dim=1)\n",
    "      # sample from the distribution\n",
    "      ix = torch.multinomial(probs, num_samples=1).item()\n",
    "      # shift the context window and track the samples\n",
    "      context = context[1:] + [ix]\n",
    "      out.append(ix)\n",
    "      # if we sample the special '.' token, break\n",
    "      if ix == 0:\n",
    "        break\n",
    "    \n",
    "    print(''.join(itos[i] for i in out)) # decode and print the generated word"
   ]
  },
  {
   "cell_type": "code",
   "execution_count": 218,
   "id": "9c463756-83bd-4551-b50d-ad2d23fdfb5a",
   "metadata": {},
   "outputs": [],
   "source": [
    "logits = model(Xtr[[7]])"
   ]
  },
  {
   "cell_type": "code",
   "execution_count": 306,
   "id": "49efbb45-212d-449c-8030-23630d00e7ef",
   "metadata": {},
   "outputs": [],
   "source": [
    "class Conv1d:\n",
    "    def __init__(self, sequence_length, in_channels, out_channels, kernel=2, stride=1):\n",
    "        self. sequence_length = sequence_length\n",
    "        self.in_channels = in_channels\n",
    "        self.out_channels = out_channels\n",
    "        self.kernel = kernel\n",
    "        self.stride = stride \n",
    "        self.filters = torch.randn((out_channels, in_channels, kernel))\n",
    "    def __call__(self, x):\n",
    "        N, L, C = x.shape\n",
    "        # create the sliding windows of the input \n",
    "        x_unfolded = x.unfold(1, self.kernel, self.stride)\n",
    "\n",
    "        Lout = ((self.sequence_length - self.kernel) // self.stride) + 1\n",
    "\n",
    "        # Before cross correlation, we need to broadcast the filters and the input correctly\n",
    "        x_unfolded = x_unfolded.view(N, 1, Lout, C, self.kernel)\n",
    "        self.filters = self.filters.view(1, self.out_channels, 1, self.in_channels, self.kernel)\n",
    "\n",
    "        # Perform element wise multiplication\n",
    "        self.out = torch.mul(x_unfolded, self.filters).sum((3, 4))\n",
    "        return self.out        \n",
    "            "
   ]
  },
  {
   "cell_type": "code",
   "execution_count": 359,
   "id": "3fcab293-c490-414b-8852-ff2ee3212f3f",
   "metadata": {},
   "outputs": [
    {
     "data": {
      "text/plain": [
       "torch.Size([32, 10, 7, 2])"
      ]
     },
     "execution_count": 359,
     "metadata": {},
     "output_type": "execute_result"
    }
   ],
   "source": [
    "x = torch.randn((32, 10, 8))\n",
    "x_unfolded = x.unfold(2, 2, 1)\n",
    "x_unfolded.shape\n"
   ]
  },
  {
   "cell_type": "code",
   "execution_count": 360,
   "id": "b0058779-89e0-484f-a102-ae373ed1f143",
   "metadata": {},
   "outputs": [
    {
     "data": {
      "text/plain": [
       "torch.Size([20, 10, 2])"
      ]
     },
     "execution_count": 360,
     "metadata": {},
     "output_type": "execute_result"
    }
   ],
   "source": [
    "filters = torch.randn((20, 10, 2))\n",
    "filters.shape"
   ]
  },
  {
   "cell_type": "code",
   "execution_count": 361,
   "id": "b333ca0b-a4e5-4419-9da5-0b1683cf6337",
   "metadata": {},
   "outputs": [
    {
     "data": {
      "text/plain": [
       "torch.Size([32, 1, 10, 7, 2])"
      ]
     },
     "execution_count": 361,
     "metadata": {},
     "output_type": "execute_result"
    }
   ],
   "source": [
    "x_unfolded = x_unfolded.view(32, 1, 10, 7, 2)\n",
    "x_unfolded.shape"
   ]
  },
  {
   "cell_type": "code",
   "execution_count": 362,
   "id": "39c2705e-768f-4fca-ba1f-772485f6a5b0",
   "metadata": {},
   "outputs": [
    {
     "data": {
      "text/plain": [
       "torch.Size([1, 20, 10, 1, 2])"
      ]
     },
     "execution_count": 362,
     "metadata": {},
     "output_type": "execute_result"
    }
   ],
   "source": [
    "filters = filters.view(1, 20, 10, 1, 2)\n",
    "filters.shape"
   ]
  },
  {
   "cell_type": "code",
   "execution_count": 363,
   "id": "d2192c07-17b7-4d18-a60e-baf091beec3e",
   "metadata": {},
   "outputs": [
    {
     "data": {
      "text/plain": [
       "torch.Size([32, 20, 10, 7, 2])"
      ]
     },
     "execution_count": 363,
     "metadata": {},
     "output_type": "execute_result"
    }
   ],
   "source": [
    "mul_res = torch.mul(x_unfolded, filters)\n",
    "mul_res.shape"
   ]
  },
  {
   "cell_type": "code",
   "execution_count": 364,
   "id": "33e62c12-cd1e-4e9c-88da-0412146888c7",
   "metadata": {},
   "outputs": [
    {
     "data": {
      "text/plain": [
       "torch.Size([32, 20, 7])"
      ]
     },
     "execution_count": 364,
     "metadata": {},
     "output_type": "execute_result"
    }
   ],
   "source": [
    "mul_res.sum(dim=(2, 4)).shape"
   ]
  },
  {
   "cell_type": "code",
   "execution_count": 403,
   "id": "f8412614-0fc9-477c-afc2-091c6dd6f658",
   "metadata": {},
   "outputs": [],
   "source": [
    "bias = torch.randn(20)"
   ]
  },
  {
   "cell_type": "code",
   "execution_count": 405,
   "id": "b1102b23-da17-4ff7-a8a2-9bb009f941a4",
   "metadata": {},
   "outputs": [
    {
     "data": {
      "text/plain": [
       "torch.Size([32, 20, 7])"
      ]
     },
     "execution_count": 405,
     "metadata": {},
     "output_type": "execute_result"
    }
   ],
   "source": [
    "out = mul_res.sum(dim=(2, 4)) + bias.view(1, 20, 1)\n",
    "out.shape"
   ]
  },
  {
   "cell_type": "code",
   "execution_count": 305,
   "id": "68bd0af4-9eb7-4344-afe4-d2466766f24d",
   "metadata": {},
   "outputs": [
    {
     "data": {
      "text/plain": [
       "torch.Size([32, 20, 7])"
      ]
     },
     "execution_count": 305,
     "metadata": {},
     "output_type": "execute_result"
    }
   ],
   "source": [
    "x = torch.randn((32, 8, 10))\n",
    "conv1d = Conv1d(8, 10, 20)\n",
    "conv1d(x).shape"
   ]
  },
  {
   "cell_type": "code",
   "execution_count": 528,
   "id": "dfa3bc34-fd44-4e14-835e-c385330fab22",
   "metadata": {},
   "outputs": [],
   "source": [
    "class Linear:\n",
    "  \n",
    "  def __init__(self, fan_in, fan_out, bias=True):\n",
    "    self.weight = torch.randn((fan_in, fan_out)) / fan_in**0.5 # note: kaiming init\n",
    "    self.bias = torch.zeros(fan_out) if bias else None\n",
    "  \n",
    "  def __call__(self, x):\n",
    "    self.out = x @ self.weight\n",
    "    if self.bias is not None:\n",
    "      self.out += self.bias\n",
    "    return self.out\n",
    "  \n",
    "  def parameters(self):\n",
    "    return [self.weight] + ([] if self.bias is None else [self.bias])\n",
    "\n",
    "# -----------------------------------------------------------------------------------------------\n",
    "class BatchNorm1d:\n",
    "  \n",
    "  def __init__(self, dim, eps=1e-5, momentum=0.1):\n",
    "    self.eps = eps\n",
    "    self.momentum = momentum\n",
    "    self.training = True\n",
    "    # parameters (trained with backprop)\n",
    "    self.gamma = torch.ones(dim)\n",
    "    self.beta = torch.zeros(dim)\n",
    "    # buffers (trained with a running 'momentum update')\n",
    "    self.running_mean = torch.zeros(dim)\n",
    "    self.running_var = torch.ones(dim)\n",
    "  \n",
    "  def __call__(self, x):\n",
    "    # calculate the forward pass\n",
    "    if self.training:\n",
    "      if x.ndim == 2:\n",
    "        dim = 0\n",
    "      elif x.ndim == 3:\n",
    "        dim = (0,1)\n",
    "      xmean = x.mean(dim, keepdim=True) # batch mean\n",
    "      xvar = x.var(dim, keepdim=True) # batch variance\n",
    "    else:\n",
    "      xmean = self.running_mean\n",
    "      xvar = self.running_var\n",
    "    xhat = (x - xmean) / torch.sqrt(xvar + self.eps) # normalize to unit variance\n",
    "    self.out = self.gamma * xhat + self.beta\n",
    "    # update the buffers\n",
    "    if self.training:\n",
    "      with torch.no_grad():\n",
    "        self.running_mean = (1 - self.momentum) * self.running_mean + self.momentum * xmean\n",
    "        self.running_var = (1 - self.momentum) * self.running_var + self.momentum * xvar\n",
    "    return self.out\n",
    "  \n",
    "  def parameters(self):\n",
    "    return [self.gamma, self.beta]\n",
    "\n",
    "# -----------------------------------------------------------------------------------------------\n",
    "class Tanh:\n",
    "  def __call__(self, x):\n",
    "    self.out = torch.tanh(x)\n",
    "    return self.out\n",
    "  def parameters(self):\n",
    "    return []\n",
    "\n",
    "# -----------------------------------------------------------------------------------------------\n",
    "class Embedding:\n",
    "  \n",
    "  def __init__(self, num_embeddings, embedding_dim):\n",
    "    self.weight = torch.randn((num_embeddings, embedding_dim))\n",
    "    \n",
    "  def __call__(self, IX):\n",
    "    self.out = self.weight[IX].transpose(1, 2)\n",
    "    \n",
    "    return self.out\n",
    "  \n",
    "  def parameters(self):\n",
    "    return [self.weight]\n",
    "\n",
    "# -----------------------------------------------------------------------------------------------\n",
    "class FlattenConsecutive:\n",
    "  \n",
    "  def __init__(self, n):\n",
    "    self.n = n\n",
    "    \n",
    "  def __call__(self, x):\n",
    "    B, T, C = x.shape\n",
    "    x = x.view(B, T//self.n, C*self.n)\n",
    "    if x.shape[1] == 1:\n",
    "      x = x.squeeze(1)\n",
    "    self.out = x\n",
    "    return self.out\n",
    "  \n",
    "  def parameters(self):\n",
    "    return []\n",
    "\n",
    "class Flatten:\n",
    "    def __call__(self, x):\n",
    "        self.out = x.view(x.shape[0], -1)\n",
    "        return self.out\n",
    "    def parameters(self):\n",
    "        return []\n",
    "\n",
    "# -----------------------------------------------------------------------------------------------\n",
    "class Sequential:\n",
    "  \n",
    "  def __init__(self, layers):\n",
    "    self.layers = layers\n",
    "  \n",
    "  def __call__(self, x):\n",
    "    for layer in self.layers:\n",
    "      x = layer(x)\n",
    "    self.out = x\n",
    "    return self.out\n",
    "  \n",
    "  def parameters(self):\n",
    "    # get parameters of all layers and stretch them out into one list\n",
    "    return [p for layer in self.layers for p in layer.parameters()]\n",
    "\n",
    "# --------------------------------------------\n",
    "class Conv1d:\n",
    "    def __init__(self, sequence_length, in_channels, out_channels, kernel=2, stride=1):\n",
    "        self. sequence_length = sequence_length\n",
    "        self.in_channels = in_channels\n",
    "        self.out_channels = out_channels\n",
    "        self.kernel = kernel\n",
    "        self.stride = stride \n",
    "        self.filters = torch.randn((out_channels, in_channels, kernel)) * 0.1\n",
    "        self.bias = torch.randn(out_channels) * 0\n",
    "    def __call__(self, x):\n",
    "        N, C, L = x.shape\n",
    "        # create the sliding windows of the input \n",
    "        x_unfolded = x.unfold(2, self.kernel, self.stride)\n",
    "\n",
    "        Lout = ((self.sequence_length - self.kernel) // self.stride) + 1\n",
    "\n",
    "        # Before cross correlation, we need to broadcast the filters and the input correctly\n",
    "        x_unfolded = x_unfolded.view(N, 1, C, Lout, self.kernel)\n",
    "        filters = self.filters.view(1, self.out_channels, self.in_channels, 1, self.kernel)\n",
    "\n",
    "        # Perform element wise multiplication\n",
    "        self.out = torch.mul(x_unfolded, filters).sum((2, 4)) + self.bias.view(1, self.out_channels, 1)\n",
    "        return self.out        \n",
    "    \n",
    "    def parameters(self): \n",
    "        return [self.filters]\n",
    "\n",
    "class ReLu: \n",
    "    def __call__(self, x):\n",
    "        self.out = torch.relu(x)\n",
    "        return self.out\n",
    "\n",
    "    def parameters(self):\n",
    "        return []\n",
    "        \n",
    "class Transpose:\n",
    "    def __call__(self, x):\n",
    "        self.out = x.transpose(1, 2)\n",
    "        return self.out\n",
    "    \n",
    "    def parameters(self):\n",
    "        return []"
   ]
  },
  {
   "cell_type": "code",
   "execution_count": 531,
   "id": "992c0665-8f30-4e33-8c8b-54fc10f114ad",
   "metadata": {},
   "outputs": [
    {
     "name": "stdout",
     "output_type": "stream",
     "text": [
      "parameters: 34197\n"
     ]
    }
   ],
   "source": [
    "### Let's redefine the model with conv layers \n",
    "n_embedding = 10\n",
    "\n",
    "# conv1d_1\n",
    "n_conv1_out_channels = 20\n",
    "n_conv1_stride = 1 \n",
    "n_conv1_kernel = 2\n",
    "conv1_L_out = ((block_size - n_conv1_kernel) // n_conv1_stride) + 1\n",
    "\n",
    "# conv1d_2\n",
    "n_conv2_out_channels = 30\n",
    "n_conv2_stride = 1 \n",
    "n_conv2_kernel = 3\n",
    "conv2_L_out = ((conv1_L_out - n_conv2_kernel) // n_conv2_stride) + 1\n",
    "\n",
    "# conv1d_3\n",
    "n_conv3_out_channels = 40\n",
    "n_conv3_stride = 1 \n",
    "n_conv3_kernel = 4\n",
    "conv3_L_out = ((conv2_L_out - n_conv3_kernel) // n_conv3_stride) + 1\n",
    "\n",
    "# Hirarchical layer 1\n",
    "h1_fanout = 100 \n",
    "h1_stride = 2\n",
    "# Hirarchical layer 2\n",
    "\n",
    "\n",
    "\n",
    "model = Sequential([\n",
    "    Embedding(vocab_size, n_embedding), \n",
    "    Conv1d(sequence_length=block_size, in_channels=n_embedding, out_channels=n_conv1_out_channels, kernel=n_conv1_kernel, stride=n_conv1_stride), ReLu(),\n",
    "    Conv1d(sequence_length=conv1_L_out, in_channels=n_conv1_out_channels, out_channels=n_conv2_out_channels, kernel=n_conv2_kernel, stride=n_conv2_stride), ReLu(),\n",
    "    Conv1d(sequence_length=conv2_L_out, in_channels=n_conv2_out_channels, out_channels=n_conv3_out_channels, kernel=n_conv3_kernel, stride=n_conv3_stride), ReLu(),\n",
    "    Transpose(), Linear(fan_in=n_conv3_out_channels, fan_out=h1_fanout), Tanh(),\n",
    "    FlattenConsecutive(2), Linear(fan_in=h1_fanout * h1_stride, fan_out=h1_fanout), Tanh(),\n",
    "    Linear(fan_in=h1_fanout, fan_out=vocab_size)\n",
    "])\n",
    "\n",
    "\n",
    "\n",
    "with torch.no_grad():\n",
    "    model.layers[-1].weight *= 0.1\n",
    "\n",
    "# parameters = [p for layer in layers for p in layer.parameters()]\n",
    "print(f\"parameters: {sum(p.nelement() for p in model.parameters())}\")\n",
    "\n",
    "for p in model.parameters():\n",
    "    p.requires_grad = True"
   ]
  },
  {
   "cell_type": "code",
   "execution_count": 540,
   "id": "2368db4b-2bc2-4d87-b7d3-dd6234c91451",
   "metadata": {},
   "outputs": [
    {
     "name": "stdout",
     "output_type": "stream",
     "text": [
      "      0/  50000: 2.0213\n",
      "  10000/  50000: 1.8745\n",
      "  20000/  50000: 1.5550\n",
      "  30000/  50000: 1.9221\n",
      "  40000/  50000: 1.9562\n"
     ]
    }
   ],
   "source": [
    "# same optimization as last time\n",
    "max_steps = 50_000\n",
    "batch_size = 32\n",
    "lossi = []\n",
    "ud = []\n",
    "\n",
    "for i in range(max_steps):\n",
    "  \n",
    "  # minibatch construct\n",
    "  ix = torch.randint(0, Xtr.shape[0], (batch_size,))\n",
    "  Xb, Yb = Xtr[ix], Ytr[ix] # batch X,Y\n",
    "\n",
    "  # forward pass\n",
    "  logits = model(Xb)\n",
    "  loss = F.cross_entropy(logits, Yb) # loss function\n",
    "  \n",
    "  for p in model.parameters():\n",
    "    p.grad = None\n",
    "  loss.backward()\n",
    "  \n",
    "  # update\n",
    "  lr = 0.01 if i < 100000 else 0.01 # step learning rate decay\n",
    "  for p in model.parameters():\n",
    "    p.data += -lr * p.grad\n",
    "\n",
    "  # track stats\n",
    "  if i % 10000 == 0: # print every once in a while\n",
    "    print(f'{i:7d}/{max_steps:7d}: {loss.item():.4f}')\n",
    "  lossi.append(loss.log10().item())\n"
   ]
  },
  {
   "cell_type": "code",
   "execution_count": 537,
   "id": "f2c7e847-b3b2-4e41-8934-7ab263c7995c",
   "metadata": {},
   "outputs": [
    {
     "name": "stdout",
     "output_type": "stream",
     "text": [
      "train 1.8932315111160278\n",
      "val 2.0289735794067383\n"
     ]
    }
   ],
   "source": [
    "for layer in model.layers:\n",
    "    layer.training = False\n",
    "\n",
    "split_loss('train')\n",
    "split_loss('val')"
   ]
  },
  {
   "cell_type": "markdown",
   "id": "de9f51cc-7eea-4cfb-a332-bc175cc5cfab",
   "metadata": {},
   "source": [
    "### Performance log \n",
    "#### with 40 filter size of each conv layer, 10 dimensional embedding\n",
    "* train 1.9566978216171265\n",
    "* val 2.0483827590942383\n",
    "\n",
    "#### With 20, 30, 40 filters (increasing by 10 at each layer), 10 dimensional embedding\n",
    "* train 1.911450743675232\n",
    "* val 2.0312490463256836\n",
    "#### Trained the above for another 50k epochs with 0.01 learning rate\n",
    "* train 1.8932315111160278\n",
    "* val 2.0289735794067383"
   ]
  },
  {
   "cell_type": "code",
   "execution_count": 538,
   "id": "8bb034ed-3b93-47b1-bcba-d46818293ca1",
   "metadata": {},
   "outputs": [
    {
     "name": "stdout",
     "output_type": "stream",
     "text": [
      "fakirah.\n",
      "braccon.\n",
      "kayslee.\n",
      "korlyn.\n",
      "maziah.\n",
      "kohap.\n",
      "lylia.\n",
      "cirio.\n",
      "keatzeoty.\n",
      "kaeda.\n",
      "adrii.\n",
      "kanav.\n",
      "fiobbathir.\n",
      "cai.\n",
      "deaken.\n",
      "paxton.\n",
      "braydan.\n",
      "aaniylah.\n",
      "aurionne.\n",
      "kinsley.\n"
     ]
    }
   ],
   "source": [
    "# sample from the model\n",
    "for _ in range(20):\n",
    "    \n",
    "    out = []\n",
    "    context = [0] * block_size # initialize with all ...\n",
    "    while True:\n",
    "      # forward pass the neural net\n",
    "      logits = model(torch.tensor([context]))\n",
    "      probs = F.softmax(logits, dim=1)\n",
    "      # sample from the distribution\n",
    "      ix = torch.multinomial(probs, num_samples=1).item()\n",
    "      # shift the context window and track the samples\n",
    "      context = context[1:] + [ix]\n",
    "      out.append(ix)\n",
    "      # if we sample the special '.' token, break\n",
    "      if ix == 0:\n",
    "        break\n",
    "    \n",
    "    print(''.join(itos[i] for i in out)) # decode and print the generated word"
   ]
  },
  {
   "cell_type": "code",
   "execution_count": 539,
   "id": "652ba0df-afef-44de-92c8-da9bcc8fe265",
   "metadata": {},
   "outputs": [
    {
     "data": {
      "text/plain": [
       "[<matplotlib.lines.Line2D at 0x1241c29c0>]"
      ]
     },
     "execution_count": 539,
     "metadata": {},
     "output_type": "execute_result"
    },
    {
     "data": {
      "image/png": "[encoded data removed]",
      "text/plain": [
       "<Figure size 640x480 with 1 Axes>"
      ]
     },
     "metadata": {},
     "output_type": "display_data"
    }
   ],
   "source": [
    "plt.plot(torch.tensor(lossi).view(-1, 1000).mean(1))"
   ]
  },
  {
   "cell_type": "code",
   "execution_count": 542,
   "id": "9a9e9556-6db4-4db6-b8c9-e78dea19951c",
   "metadata": {},
   "outputs": [
    {
     "data": {
      "text/plain": [
       "torch.Size([32, 20, 7])"
      ]
     },
     "execution_count": 542,
     "metadata": {},
     "output_type": "execute_result"
    }
   ],
   "source": [
    "model.layers[1].out.shape"
   ]
  },
  {
   "cell_type": "code",
   "execution_count": null,
   "id": "549a7006-c3a4-4a65-b6f5-716fb53f4414",
   "metadata": {},
   "outputs": [],
   "source": []
  }
 ],
 "metadata": {
  "kernelspec": {
   "display_name": "Python 3 (ipykernel)",
   "language": "python",
   "name": "python3"
  },
  "language_info": {
   "codemirror_mode": {
    "name": "ipython",
    "version": 3
   },
   "file_extension": ".py",
   "mimetype": "text/x-python",
   "name": "python",
   "nbconvert_exporter": "python",
   "pygments_lexer": "ipython3",
   "version": "3.12.4"
  }
 },
 "nbformat": 4,
 "nbformat_minor": 5
}
