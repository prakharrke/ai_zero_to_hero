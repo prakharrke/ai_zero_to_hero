{
 "cells": [
  {
   "cell_type": "code",
   "execution_count": 1,
   "id": "d1ebc5b6-202b-4bc3-a58f-de5780ddca0b",
   "metadata": {},
   "outputs": [],
   "source": [
    "words = open('names.txt', 'r').read().splitlines()"
   ]
  },
  {
   "cell_type": "code",
   "execution_count": 2,
   "id": "d01948b0-62fb-47ec-8bf1-ac4d189ccfe4",
   "metadata": {},
   "outputs": [],
   "source": [
    "import torch \n",
    "import matplotlib.pyplot as plt\n",
    "%matplotlib inline\n",
    "import torch.nn.functional as F"
   ]
  },
  {
   "cell_type": "code",
   "execution_count": 5,
   "id": "d4330f57-2794-4756-a703-e593a37df525",
   "metadata": {},
   "outputs": [
    {
     "name": "stdout",
     "output_type": "stream",
     "text": [
      "{1: 'a', 2: 'b', 3: 'c', 4: 'd', 5: 'e', 6: 'f', 7: 'g', 8: 'h', 9: 'i', 10: 'j', 11: 'k', 12: 'l', 13: 'm', 14: 'n', 15: 'o', 16: 'p', 17: 'q', 18: 'r', 19: 's', 20: 't', 21: 'u', 22: 'v', 23: 'w', 24: 'x', 25: 'y', 26: 'z', 0: '.'}\n",
      "27\n"
     ]
    }
   ],
   "source": [
    "# build the vocabulary of characters and mappings to/from integers\n",
    "chars = sorted(list(set(''.join(words))))\n",
    "stoi = {s:i+1 for i,s in enumerate(chars)}\n",
    "stoi['.'] = 0\n",
    "itos = {i:s for s,i in stoi.items()}\n",
    "vocab_size = len(itos)\n",
    "print(itos)\n",
    "print(vocab_size)"
   ]
  },
  {
   "cell_type": "code",
   "execution_count": 6,
   "id": "4d00a0f2-b52d-46a6-ab52-34446c602a72",
   "metadata": {},
   "outputs": [
    {
     "name": "stdout",
     "output_type": "stream",
     "text": [
      "torch.Size([182580, 3]) torch.Size([182580])\n",
      "torch.Size([22767, 3]) torch.Size([22767])\n",
      "torch.Size([22799, 3]) torch.Size([22799])\n"
     ]
    }
   ],
   "source": [
    "# build the dataset\n",
    "block_size = 3 # context length: how many characters do we take to predict the next one?\n",
    "\n",
    "def build_dataset(words):  \n",
    "  X, Y = [], []\n",
    "  for w in words:\n",
    "\n",
    "    #print(w)\n",
    "    context = [0] * block_size\n",
    "    for ch in w + '.':\n",
    "      ix = stoi[ch]\n",
    "      X.append(context)\n",
    "      Y.append(ix)\n",
    "      #print(''.join(itos[i] for i in context), '--->', itos[ix])\n",
    "      context = context[1:] + [ix] # crop and append\n",
    "\n",
    "  X = torch.tensor(X)\n",
    "  Y = torch.tensor(Y)\n",
    "  print(X.shape, Y.shape)\n",
    "  return X, Y\n",
    "\n",
    "import random\n",
    "random.seed(42)\n",
    "random.shuffle(words)\n",
    "n1 = int(0.8*len(words))\n",
    "n2 = int(0.9*len(words))\n",
    "\n",
    "Xtr, Ytr = build_dataset(words[:n1])\n",
    "Xdev, Ydev = build_dataset(words[n1:n2])\n",
    "Xte, Yte = build_dataset(words[n2:])"
   ]
  },
  {
   "cell_type": "code",
   "execution_count": 7,
   "id": "b856e4df-7123-4b86-af2a-4af34c5b0f5e",
   "metadata": {},
   "outputs": [],
   "source": [
    "n_embed = 3 # This is the dimentions of the embeddings. Each character will be defined as a 2D embedding\n",
    "vocab_size = 27 # This is the size of the vocabulary.\n",
    "\n",
    "n_hidden = 200\n",
    "g = torch.Generator().manual_seed(2147483646)\n",
    "C = torch.randn((vocab_size, n_embed), generator=g)\n",
    "\n",
    "W1 = torch.randn((n_embed * block_size, n_hidden), generator=g)\n",
    "B1 = torch.randn(n_hidden, generator=g)\n",
    "\n",
    "W2 = torch.randn((n_hidden, vocab_size), generator=g)\n",
    "B2 = torch.randn(vocab_size, generator=g)\n",
    "\n",
    "parameters = [C, W1, B1, W2, B2]"
   ]
  },
  {
   "cell_type": "code",
   "execution_count": 8,
   "id": "7b39d91c-7a11-4af7-bcbd-4ba48d9fd50e",
   "metadata": {},
   "outputs": [],
   "source": [
    "# Let's set requires_grad to True for all parameters\n",
    "for p in parameters: \n",
    "    p.requires_grad = True"
   ]
  },
  {
   "cell_type": "code",
   "execution_count": 9,
   "id": "419de159-b019-42c5-bbd9-40e4aff9a60e",
   "metadata": {},
   "outputs": [
    {
     "name": "stdout",
     "output_type": "stream",
     "text": [
      "loss: 28.432538986206055\n",
      "loss: 2.1536152362823486\n",
      "loss: 2.074963092803955\n",
      "loss: 2.113626003265381\n",
      "2.255430221557617\n"
     ]
    }
   ],
   "source": [
    "\n",
    "lossi = []\n",
    "epochs = 200000\n",
    "batch_size = 32\n",
    "for k in range (epochs):\n",
    "    # forward pass\n",
    "    ix = torch.randint(0, Xtr.shape[0], (batch_size, ))\n",
    "    X_onehot = F.one_hot(Xtr[ix], num_classes=vocab_size).float()\n",
    "    emb = X_onehot @ C\n",
    "    embeddings = emb.flatten(start_dim=1, end_dim=-1)\n",
    "    h = torch.tanh(embeddings @ W1 + B1)\n",
    "    logits = h @ W2 + B2\n",
    "    # compute nll loss\n",
    "    loss = F.cross_entropy(logits, Ytr[ix])\n",
    "    # print(loss.item())\n",
    "    # update the grad to None\n",
    "    for p in parameters: \n",
    "        p.grad = None\n",
    "\n",
    "    # Backward pass \n",
    "    loss.backward()\n",
    "    \n",
    "    \n",
    "    # Update the values of the parameters \n",
    "    e = 0.1 if k < 100000 else 0.01\n",
    "    for p in parameters: \n",
    "        p.data -= e * p.grad\n",
    "\n",
    "    if k % 50000 == 0:\n",
    "        print(f\"loss: {loss}\")\n",
    "\n",
    "    lossi.append(loss.log10().item())\n",
    "    \n",
    "print(loss.item())"
   ]
  },
  {
   "cell_type": "code",
   "execution_count": 10,
   "id": "2e6687fc-9691-49fc-8a77-d5eac60cd4d6",
   "metadata": {},
   "outputs": [
    {
     "data": {
      "text/plain": [
       "tensor(2.2168, grad_fn=<NllLossBackward0>)"
      ]
     },
     "execution_count": 10,
     "metadata": {},
     "output_type": "execute_result"
    }
   ],
   "source": [
    "    X_onehot = F.one_hot(Xdev, num_classes=vocab_size).float()\n",
    "    emb = X_onehot @ C\n",
    "    embeddings = emb.flatten(start_dim=1, end_dim=-1)\n",
    "    h = torch.tanh(embeddings @ W1 + B1)\n",
    "    logits = h @ W2 + B2\n",
    "    # compute nll loss\n",
    "    loss = F.cross_entropy(logits, Ydev)\n",
    "    loss"
   ]
  },
  {
   "cell_type": "code",
   "execution_count": 11,
   "id": "e0aa3f35-c5aa-4979-8be6-66aad50eb38a",
   "metadata": {},
   "outputs": [],
   "source": [
    "@torch.no_grad()\n",
    "def evaluate_loss(split):\n",
    "    x, y = {\n",
    "        'train': (Xtr, Ytr),\n",
    "        'validation': (Xdev, Ydev),\n",
    "        'test': (Xte, Yte)\n",
    "    }[split]\n",
    "\n",
    "    X_onehot = F.one_hot(x, num_classes=vocab_size).float()\n",
    "    emb = X_onehot @ C\n",
    "    embeddings = emb.flatten(start_dim=1, end_dim=-1)\n",
    "    h = torch.tanh(embeddings @ W1 + B1)\n",
    "    logits = h @ W2 + B2\n",
    "    loss = F.cross_entropy(logits, y)\n",
    "    return loss"
   ]
  },
  {
   "cell_type": "code",
   "execution_count": 12,
   "id": "365eecbd-eb27-47a8-b384-0580527a2e4f",
   "metadata": {},
   "outputs": [
    {
     "name": "stdout",
     "output_type": "stream",
     "text": [
      "Train loss: 2.2031033039093018\n",
      "Validation loss: 2.216813325881958\n"
     ]
    }
   ],
   "source": [
    "print(f\"Train loss: {evaluate_loss('train')}\")\n",
    "print(f\"Validation loss: {evaluate_loss('validation')}\")"
   ]
  },
  {
   "cell_type": "markdown",
   "id": "39e1a10e-2fe8-423b-8297-40e5dd159d6f",
   "metadata": {},
   "source": [
    "### We will try improving this loss by looking at some hidden properties of the network. \n",
    "We will look at how the activations and gradients behave during training. "
   ]
  },
  {
   "cell_type": "markdown",
   "id": "24879ce5-458f-497b-9de4-1d54331a62a1",
   "metadata": {},
   "source": [
    "Initial loss after training but before optimizing: \n",
    "<br/>\n",
    "Training loss = 2.12\n",
    "<br/>\n",
    "Validation loss = 2.19"
   ]
  },
  {
   "cell_type": "markdown",
   "id": "3cc9e791-86ee-458e-bda2-e7371bd17f30",
   "metadata": {},
   "source": [
    "### Let's start by plotting the loss that we have accumulated while training. \n",
    "The loss that we are plotting is actually log10 of the loss value over iterations. This is simply to make the plot more viewable.\n"
   ]
  },
  {
   "cell_type": "code",
   "execution_count": 13,
   "id": "4219a188-d3e5-4861-a489-f82acd38a044",
   "metadata": {},
   "outputs": [
    {
     "data": {
      "text/plain": [
       "[<matplotlib.lines.Line2D at 0x11b68c800>]"
      ]
     },
     "execution_count": 13,
     "metadata": {},
     "output_type": "execute_result"
    },
    {
     "data": {
      "image/png": "[encoded data removed]",
      "text/plain": [
       "<Figure size 640x480 with 1 Axes>"
      ]
     },
     "metadata": {},
     "output_type": "display_data"
    }
   ],
   "source": [
    "plt.plot(lossi)"
   ]
  },
  {
   "cell_type": "markdown",
   "id": "953b6919-2d78-4897-b8ee-37a1ed9feab7",
   "metadata": {},
   "source": [
    "Let's make some observations. \n",
    "<p>The initial loss that we are recording is 23.8. In the very next few iterations during training, this loss drops drastically to the range close to 3. This tells us the <b>Initialisation</b> of the model (weights and biases values) are not correct.</p>\n",
    "<p>In a model based on a problem, you'd always roughly have an idea of what the initial loss would be. It can be calculated as well. We'll calculate what range our initial loss should fall into.</p>\n",
    "\n",
    "<p>Let's talk about what is happening right now, first. The loss is much too high at the initialisation. At the time of initialisation, we have randomly assigned weights. Because of these randomly assigned weights, the probabilities that are coming out of the model are also randomly spread out. The model is therefore, assigning very high probability to some characters and very low probability to others. Because of this, the model is <b>Wrongly very highly Confident</b> about some characters and <b>Very under-confident</b> about others. This is what is causing the initial loss to be so high.</p>\n",
    "<p>What we would like in the beginning is the model to assign almost equal probability to every character, instead, also known as <b>Uniform Distribution</b>. It also makes sense, logically, right? Since the model has not learnt anything yet, why should the model feel that any character is more likely to come as the next character than any other!</p>\n",
    "\n",
    "<p>There are 27 possible characters that can come as the next character. What would be the probability of each character as the next character? It will be <b>(1 / 27)</b>. Thus what we would expect, is the model to roughl assign a probability of 1/27 to each character at the time of initialisation.</p>\n",
    "\n",
    "<p>If the model were assigning the probability of 1/27 to each character, what would be the loss that we would expect? Let's calculate that.</p>"
   ]
  },
  {
   "cell_type": "code",
   "execution_count": 14,
   "id": "e16a7997-3e86-4d2b-b004-05d190d764d2",
   "metadata": {},
   "outputs": [
    {
     "data": {
      "text/plain": [
       "tensor(3.2958)"
      ]
     },
     "execution_count": 14,
     "metadata": {},
     "output_type": "execute_result"
    }
   ],
   "source": [
    "expected_nll = -torch.tensor(1/27).log()\n",
    "expected_nll"
   ]
  },
  {
   "cell_type": "markdown",
   "id": "e2e53857-0b1d-4ece-aeff-52f40d06d814",
   "metadata": {},
   "source": [
    "According to the above computation, we would expect a negative log likelyhood loss to be closs to 3.2. Which is far lesser than 23!\n",
    "\n",
    "<p>Good question to ask here is, <b>We don't directly control the probabilities that come out of the model, right</b>? The probabilities that we compute are a function (softmax function) of the logits that we get. Let's look at how the values of logits affect these probabilities.</p>\n",
    "\n",
    "Let's imagine a 4 dimensional tensor of logit values."
   ]
  },
  {
   "cell_type": "code",
   "execution_count": 15,
   "id": "2d73cce6-f64d-4155-a36c-d0b0cf993630",
   "metadata": {},
   "outputs": [
    {
     "data": {
      "text/plain": [
       "(tensor([0.2500, 0.2500, 0.2500, 0.2500]),\n",
       " tensor([1.3863, 1.3863, 1.3863, 1.3863]))"
      ]
     },
     "execution_count": 15,
     "metadata": {},
     "output_type": "execute_result"
    }
   ],
   "source": [
    "logits = torch.tensor([0.0, 0.0, 0.0, 0.0]) \n",
    "probs = torch.softmax(logits, dim=0)\n",
    "loss = -probs.log()\n",
    "probs, loss"
   ]
  },
  {
   "cell_type": "markdown",
   "id": "ff59486e-416f-4a3a-9d13-ac03987998b1",
   "metadata": {},
   "source": [
    "As we can see above, the probabilities are amost equal if the initial logits are almost equal. \n",
    "If any of these logits take a very high value in the beginning, the probabilities will not be close to each other and the loss would also be an extreme value.  "
   ]
  },
  {
   "cell_type": "code",
   "execution_count": 16,
   "id": "3d15632e-e4c8-4687-9b83-b4c9f9bde55a",
   "metadata": {},
   "outputs": [
    {
     "data": {
      "text/plain": [
       "(tensor([-0.9630,  0.5540,  1.6607, -0.5787]),\n",
       " tensor([0.0480, 0.2190, 0.6624, 0.0706]),\n",
       " tensor([3.0357, 1.5186, 0.4119, 2.6513]),\n",
       " tensor(1.1852))"
      ]
     },
     "execution_count": 16,
     "metadata": {},
     "output_type": "execute_result"
    }
   ],
   "source": [
    "logits = torch.randn(4)\n",
    "probs = torch.softmax(logits, dim=0)\n",
    "loss = -probs.log()\n",
    "logits, probs, loss, logits.std()"
   ]
  },
  {
   "cell_type": "markdown",
   "id": "987095ae-2e90-433d-8df1-d42e32e2cdde",
   "metadata": {},
   "source": [
    "torch.randn gives random values from a normal distribution, with mean 0 and variance 1. \n",
    "As can be seen, the standard deviation of logits is ~ 1. That's what torch.randn provides. Over a large enough sample, the variance converges to 1.\n",
    "This tells us that the values are not that far from the mean.\n",
    "\n",
    "Hence all the values are not that far extreme from one another. Because of this, the probabilities and the losses are also close to one another. \n",
    "\n",
    "Let's mulitply the randn tensor by a factor of 10. This would result in the logits to be much farther away from each other."
   ]
  },
  {
   "cell_type": "code",
   "execution_count": 17,
   "id": "7f558331-dbd9-4b62-9d9b-6763b9c343dc",
   "metadata": {},
   "outputs": [
    {
     "data": {
      "text/plain": [
       "(tensor([-0.0970, -6.5072, -3.2299,  0.5770]),\n",
       " tensor([3.3253e-01, 5.4695e-04, 1.4496e-02, 6.5243e-01]),\n",
       " tensor([1.1010, 7.5112, 4.2339, 0.4270]),\n",
       " tensor(3.2503))"
      ]
     },
     "execution_count": 17,
     "metadata": {},
     "output_type": "execute_result"
    }
   ],
   "source": [
    "logits = torch.randn(4) * 10\n",
    "probs = torch.softmax(logits, dim=0)\n",
    "loss = -probs.log()\n",
    "logits, probs, loss, logits.std()"
   ]
  },
  {
   "cell_type": "code",
   "execution_count": 18,
   "id": "79b2683b-eda3-409c-9c22-fca434e9c888",
   "metadata": {},
   "outputs": [
    {
     "data": {
      "text/plain": [
       "[<matplotlib.lines.Line2D at 0x11b68d1f0>]"
      ]
     },
     "execution_count": 18,
     "metadata": {},
     "output_type": "execute_result"
    },
    {
     "data": {
      "image/png": "[encoded data removed]",
      "text/plain": [
       "<Figure size 640x480 with 1 Axes>"
      ]
     },
     "metadata": {},
     "output_type": "display_data"
    }
   ],
   "source": [
    "plt.plot(loss)"
   ]
  },
  {
   "cell_type": "markdown",
   "id": "318b1872-0efe-4832-a36c-104b6f528b23",
   "metadata": {},
   "source": [
    "And there you go! You can see that the probabilities and the loss for each logit are also much farther from one another!\n",
    "The standard deviation is also so much higher than 1. This shows how far away the logits are from the mean.\n",
    "This is exactly what we do not want. \n",
    "<p>So a good rule of thumb is, the logits at initilisation should be very close to 0 (or equal, thus assigning almost equal probability to each character). </p>"
   ]
  },
  {
   "cell_type": "markdown",
   "id": "9d575c6f-1458-4ad5-bfdb-1a0159d0b01f",
   "metadata": {},
   "source": [
    "### We have a good idea now, of what it is that we want to achieve. \n",
    "Let's now examine the paramters and see what could be causing the logits to be so far away from one another (or far away from the mean). \n",
    "<br/>We have 2 layers, let's examine what the logits are a function of. We know that logits are given by:\n",
    "$$\n",
    "    logits = W2h + B2\n",
    "$$\n",
    "where, W2 are the weights of the neurons of second layer and B2 are the biases of those neurons. \n",
    "\n",
    "We notice the following things right off the bat.\n",
    "1. We are simply adding biases. We have randomly assigned biases to begin with. This offsets the logits by a certain value, thus moving them further away from having a variance of 1.\n",
    "2. We are multiplying the output of the hidden layer with weights W2. Now, W2 are also randomly assigned. Even though their variance would be close to 1, but due to the multiplicative operation, the product would not necessarily follow this property.\n",
    "<br/>\n",
    "Let's try a couple of things to fix this.\n",
    "1. Let's initiaise the B2 as 0. Since B2 is an additive operation, we do not want any offset added to our logits. Hence, set to 0.\n",
    "2. Let's scale down W2 by a factor of 0.01, so that their distances from the mean and one another reduces even further (they become very small values). Why not make them zero? Well, the logits will become zero due to the multiplication.\n",
    "3. <p>I'll re-initialise the parameters and train the model, but break out of the training loop right after the first iteration. Let's see how these changes affect our initial loss.</p>"
   ]
  },
  {
   "cell_type": "code",
   "execution_count": 19,
   "id": "a9cd8bb0-8db3-4583-a80e-fa9ea04c24b4",
   "metadata": {},
   "outputs": [],
   "source": [
    "n_embed = 3 # This is the dimentions of the embeddings. Each character will be defined as a 2D embedding\n",
    "vocab_size = 27 # This is the size of the vocabulary.\n",
    "\n",
    "n_hidden = 200\n",
    "g = torch.Generator().manual_seed(2147483646)\n",
    "C = torch.randn((vocab_size, n_embed), generator=g)\n",
    "\n",
    "W1 = torch.randn((n_embed * block_size, n_hidden), generator=g)\n",
    "B1 = torch.randn(n_hidden, generator=g)\n",
    "\n",
    "W2 = torch.randn((n_hidden, vocab_size), generator=g) * 0.01 # Scalled down to 0.01\n",
    "B2 = torch.randn(vocab_size, generator=g) * 0 # Initialised to zero.\n",
    "\n",
    "parameters = [C, W1, B1, W2, B2]\n",
    "\n",
    "# Let's set requires_grad to True for all parameters\n",
    "for p in parameters: \n",
    "    p.requires_grad = True"
   ]
  },
  {
   "cell_type": "code",
   "execution_count": 20,
   "id": "06fde851-b739-46db-94a6-0577aec63c86",
   "metadata": {},
   "outputs": [
    {
     "name": "stdout",
     "output_type": "stream",
     "text": [
      "loss: 3.2962985038757324\n",
      "3.2962985038757324\n"
     ]
    }
   ],
   "source": [
    "\n",
    "lossi = []\n",
    "epochs = 200000\n",
    "batch_size = 32\n",
    "for k in range (epochs):\n",
    "    # forward pass\n",
    "    ix = torch.randint(0, Xtr.shape[0], (batch_size, ))\n",
    "    X_onehot = F.one_hot(Xtr[ix], num_classes=vocab_size).float()\n",
    "    emb = X_onehot @ C\n",
    "    embeddings = emb.flatten(start_dim=1, end_dim=-1)\n",
    "    h = torch.tanh(embeddings @ W1 + B1)\n",
    "    logits = h @ W2 + B2\n",
    "    # compute nll loss\n",
    "    loss = F.cross_entropy(logits, Ytr[ix])\n",
    "    # print(loss.item())\n",
    "    # update the grad to None\n",
    "    for p in parameters: \n",
    "        p.grad = None\n",
    "\n",
    "    # Backward pass \n",
    "    loss.backward()\n",
    "    \n",
    "    \n",
    "    # Update the values of the parameters \n",
    "    e = 0.1 if k < 100000 else 0.01\n",
    "    for p in parameters: \n",
    "        p.data -= e * p.grad\n",
    "\n",
    "    if k % 50000 == 0:\n",
    "        print(f\"loss: {loss}\")\n",
    "\n",
    "    lossi.append(loss.log10().item())\n",
    "    break\n",
    "    \n",
    "print(loss.item())"
   ]
  },
  {
   "cell_type": "markdown",
   "id": "e7de97bb-e8a2-4093-8cf5-201489f66446",
   "metadata": {},
   "source": [
    "We were able to significantly reduce the initial loss from almost 24 to 3.28!"
   ]
  },
  {
   "cell_type": "code",
   "execution_count": 21,
   "id": "3df73277-fcb0-4b27-af71-aeb561a56d07",
   "metadata": {},
   "outputs": [
    {
     "name": "stdout",
     "output_type": "stream",
     "text": [
      "ERROR! Session/line number was not unique in database. History logging moved to new session 18\n"
     ]
    },
    {
     "data": {
      "text/plain": [
       "(tensor([-0.1405, -0.0429, -0.1592,  0.0293, -0.0932, -0.1021, -0.0297,  0.0411,\n",
       "          0.0300,  0.0287,  0.1193, -0.1835,  0.0113,  0.1638, -0.0863, -0.2443,\n",
       "         -0.2250, -0.3911, -0.1014,  0.0257, -0.0346,  0.0669,  0.0604,  0.1654,\n",
       "         -0.0850, -0.0401,  0.0792], grad_fn=<SelectBackward0>),\n",
       " tensor(0.1288, grad_fn=<StdBackward0>))"
      ]
     },
     "execution_count": 21,
     "metadata": {},
     "output_type": "execute_result"
    }
   ],
   "source": [
    "logits[0], logits[0].std()"
   ]
  },
  {
   "cell_type": "markdown",
   "id": "06ecf2d6-f8f8-4050-92b4-15f39ecf3beb",
   "metadata": {},
   "source": [
    "The logits are also much closer to zero now. The standard deviation is also well within the required range."
   ]
  },
  {
   "cell_type": "code",
   "execution_count": 22,
   "id": "457b32c7-cd26-4e37-adb0-5888e4f7eaa1",
   "metadata": {},
   "outputs": [],
   "source": [
    "n_embed = 3 # This is the dimensions of the embeddings. Each character will be defined as a 3D embedding\n",
    "vocab_size = 27 # This is the size of the vocabulary.\n",
    "\n",
    "n_hidden = 200\n",
    "g = torch.Generator().manual_seed(2147483646)\n",
    "C = torch.randn((vocab_size, n_embed), generator=g)\n",
    "\n",
    "W1 = torch.randn((n_embed * block_size, n_hidden), generator=g)\n",
    "B1 = torch.randn(n_hidden, generator=g)\n",
    "\n",
    "W2 = torch.randn((n_hidden, vocab_size), generator=g) * 0.01 # Scalled down to 0.01\n",
    "B2 = torch.randn(vocab_size, generator=g) * 0 # Initialised to zero.\n",
    "\n",
    "parameters = [C, W1, B1, W2, B2]\n",
    "\n",
    "# Let's set requires_grad to True for all parameters\n",
    "for p in parameters: \n",
    "    p.requires_grad = True"
   ]
  },
  {
   "cell_type": "code",
   "execution_count": 23,
   "id": "580aa08e-72e5-4179-ae30-cfc0789ee21a",
   "metadata": {},
   "outputs": [
    {
     "name": "stdout",
     "output_type": "stream",
     "text": [
      "loss: 3.300264835357666\n"
     ]
    },
    {
     "ename": "KeyboardInterrupt",
     "evalue": "",
     "output_type": "error",
     "traceback": [
      "\u001b[0;31m---------------------------------------------------------------------------\u001b[0m",
      "\u001b[0;31mKeyboardInterrupt\u001b[0m                         Traceback (most recent call last)",
      "Cell \u001b[0;32mIn[23], line 29\u001b[0m\n\u001b[1;32m     26\u001b[0m         p\u001b[38;5;241m.\u001b[39mdata \u001b[38;5;241m-\u001b[39m\u001b[38;5;241m=\u001b[39m e \u001b[38;5;241m*\u001b[39m p\u001b[38;5;241m.\u001b[39mgrad\n\u001b[1;32m     28\u001b[0m     \u001b[38;5;28;01mif\u001b[39;00m k \u001b[38;5;241m%\u001b[39m \u001b[38;5;241m50000\u001b[39m \u001b[38;5;241m==\u001b[39m \u001b[38;5;241m0\u001b[39m:\n\u001b[0;32m---> 29\u001b[0m         \u001b[38;5;28mprint\u001b[39m(\u001b[38;5;124mf\u001b[39m\u001b[38;5;124m\"\u001b[39m\u001b[38;5;124mloss: \u001b[39m\u001b[38;5;132;43;01m{\u001b[39;49;00m\u001b[43mloss\u001b[49m\u001b[38;5;132;43;01m}\u001b[39;49;00m\u001b[38;5;124m\"\u001b[39m)\n\u001b[1;32m     31\u001b[0m     lossi\u001b[38;5;241m.\u001b[39mappend(loss\u001b[38;5;241m.\u001b[39mlog10()\u001b[38;5;241m.\u001b[39mitem())\n\u001b[1;32m     33\u001b[0m \u001b[38;5;28mprint\u001b[39m(loss\u001b[38;5;241m.\u001b[39mitem())\n",
      "File \u001b[0;32m~/.pyenv/versions/3.12.4/lib/python3.12/site-packages/torch/_tensor.py:961\u001b[0m, in \u001b[0;36mTensor.__format__\u001b[0;34m(self, format_spec)\u001b[0m\n\u001b[1;32m    957\u001b[0m \u001b[38;5;129m@_handle_torch_function_and_wrap_type_error_to_not_implemented\u001b[39m\n\u001b[1;32m    958\u001b[0m \u001b[38;5;28;01mdef\u001b[39;00m \u001b[38;5;21m__rmod__\u001b[39m(\u001b[38;5;28mself\u001b[39m, other):\n\u001b[1;32m    959\u001b[0m     \u001b[38;5;28;01mreturn\u001b[39;00m torch\u001b[38;5;241m.\u001b[39mremainder(other, \u001b[38;5;28mself\u001b[39m)\n\u001b[0;32m--> 961\u001b[0m \u001b[38;5;28;01mdef\u001b[39;00m \u001b[38;5;21m__format__\u001b[39m(\u001b[38;5;28mself\u001b[39m, format_spec):\n\u001b[1;32m    962\u001b[0m     \u001b[38;5;28;01mif\u001b[39;00m has_torch_function_unary(\u001b[38;5;28mself\u001b[39m):\n\u001b[1;32m    963\u001b[0m         \u001b[38;5;28;01mreturn\u001b[39;00m handle_torch_function(Tensor\u001b[38;5;241m.\u001b[39m\u001b[38;5;21m__format__\u001b[39m, (\u001b[38;5;28mself\u001b[39m,), \u001b[38;5;28mself\u001b[39m, format_spec)\n",
      "\u001b[0;31mKeyboardInterrupt\u001b[0m: "
     ]
    }
   ],
   "source": [
    "\n",
    "lossi = []\n",
    "epochs = 200000\n",
    "batch_size = 32\n",
    "for k in range (epochs):\n",
    "    # forward pass\n",
    "    ix = torch.randint(0, Xtr.shape[0], (batch_size, ))\n",
    "    X_onehot = F.one_hot(Xtr[ix], num_classes=vocab_size).float()\n",
    "    emb = X_onehot @ C\n",
    "    embeddings = emb.flatten(start_dim=1, end_dim=-1)\n",
    "    h = torch.tanh(embeddings @ W1 + B1)\n",
    "    logits = h @ W2 + B2\n",
    "    # compute nll loss\n",
    "    loss = F.cross_entropy(logits, Ytr[ix])\n",
    "    # print(loss.item())\n",
    "    # update the grad to None\n",
    "    for p in parameters: \n",
    "        p.grad = None\n",
    "\n",
    "    # Backward pass \n",
    "    loss.backward()\n",
    "    \n",
    "    \n",
    "    # Update the values of the parameters \n",
    "    e = 0.1 if k < 100000 else 0.01\n",
    "    for p in parameters: \n",
    "        p.data -= e * p.grad\n",
    "\n",
    "    if k % 50000 == 0:\n",
    "        print(f\"loss: {loss}\")\n",
    "\n",
    "    lossi.append(loss.log10().item())\n",
    "    \n",
    "print(loss.item())"
   ]
  },
  {
   "cell_type": "code",
   "execution_count": null,
   "id": "d0820e9e-78ec-4b46-b273-765674d21573",
   "metadata": {},
   "outputs": [],
   "source": [
    "print(f\"Train loss: {evaluate_loss('train')}\")\n",
    "print(f\"Validation loss: {evaluate_loss('validation')}\")"
   ]
  },
  {
   "cell_type": "markdown",
   "id": "b17f2ad7-e80b-41d5-bf39-ec1ff28e8b55",
   "metadata": {},
   "source": [
    "The validation loss has reduced to 2.16, as opposed to 2.19 prior to initilisation optimization. \n",
    "### Why do we need to worry about correctly initiliase the loss, any way?\n",
    "<b>My model's loss comes down eventually, why do I need to worry about what the initial loss was? </b>\n",
    "<p>This is a great question to ask. Well, the simple answer to this is, since the model was so highly wrongly confident (thus a high loss) at the beginning, some of the training iterations simply get wasted just to squash the loss value to the correct range. That is exactly why the loss falls so drastically. This is a wasted opportunity of the training, as in those iterations, the model could actually have been learning, instead of just brining the loss in the correct range.</p>"
   ]
  },
  {
   "cell_type": "code",
   "execution_count": null,
   "id": "e156b14a-d45c-48c5-83e2-8263ac4db5d7",
   "metadata": {},
   "outputs": [],
   "source": [
    "plt.plot(lossi)"
   ]
  },
  {
   "cell_type": "markdown",
   "id": "b582ac09-29cb-4c01-a42c-410851bf3d1b",
   "metadata": {},
   "source": [
    "Plotting the log10 of loss, we can see that it loses that initial high value, also known as the <b>Hockey Stick Appearance</b>. It starts off a reasonable value. Thus we can be fairly certain that during the iterations of training, the model is actually spending more time and iterations optimizing or learning, instead of spending a first few thousands of iterations just squashing down the bloated loss. "
   ]
  },
  {
   "cell_type": "markdown",
   "id": "43866c87-8155-4a04-9cc5-1dcdba0b5bfa",
   "metadata": {},
   "source": [
    "### Dealing with saturated activation function\n",
    "Now that we have fixed the initialisation loss, let's look at the another problem that is lurking in the nueral net. \n",
    "<br/> Let's reinitialise the network and go from there. In the network code, I'll be separating the tanh operation in a new variable, so we can examine it more closely. "
   ]
  },
  {
   "cell_type": "code",
   "execution_count": null,
   "id": "78a7d497-0125-421f-b92b-87beb998b8cf",
   "metadata": {},
   "outputs": [],
   "source": [
    "n_embed = 3 # This is the dimentions of the embeddings. Each character will be defined as a 2D embedding\n",
    "vocab_size = 27 # This is the size of the vocabulary.\n",
    "\n",
    "n_hidden = 200\n",
    "g = torch.Generator().manual_seed(2147483646)\n",
    "C = torch.randn((vocab_size, n_embed), generator=g)\n",
    "\n",
    "W1 = torch.randn((n_embed * block_size, n_hidden), generator=g)\n",
    "B1 = torch.randn(n_hidden, generator=g)\n",
    "\n",
    "W2 = torch.randn((n_hidden, vocab_size), generator=g) * 0.01 # Scalled down to 0.01\n",
    "B2 = torch.randn(vocab_size, generator=g) * 0 # Initialised to zero.\n",
    "\n",
    "parameters = [C, W1, B1, W2, B2]\n",
    "\n",
    "# Let's set requires_grad to True for all parameters\n",
    "for p in parameters: \n",
    "    p.requires_grad = True"
   ]
  },
  {
   "cell_type": "code",
   "execution_count": null,
   "id": "13fd02c6-9710-4fb0-a725-0b1c02507af7",
   "metadata": {},
   "outputs": [],
   "source": [
    "\n",
    "lossi = []\n",
    "epochs = 200000\n",
    "batch_size = 32\n",
    "for k in range (epochs):\n",
    "    # forward pass\n",
    "    ix = torch.randint(0, Xtr.shape[0], (batch_size, ))\n",
    "    X_onehot = F.one_hot(Xtr[ix], num_classes=vocab_size).float()\n",
    "    emb = X_onehot @ C\n",
    "    embeddings = emb.flatten(start_dim=1, end_dim=-1)\n",
    "    hpreact = embeddings @ W1 + B1\n",
    "    h = torch.tanh(hpreact)\n",
    "    logits = h @ W2 + B2\n",
    "    # compute nll loss\n",
    "    loss = F.cross_entropy(logits, Ytr[ix])\n",
    "    # print(loss.item())\n",
    "    # update the grad to None\n",
    "    for p in parameters: \n",
    "        p.grad = None\n",
    "\n",
    "    # Backward pass \n",
    "    loss.backward()\n",
    "    \n",
    "    \n",
    "    # Update the values of the parameters \n",
    "    e = 0.1 if k < 100000 else 0.01\n",
    "    for p in parameters: \n",
    "        p.data -= e * p.grad\n",
    "\n",
    "    if k % 50000 == 0:\n",
    "        print(f\"loss: {loss}\")\n",
    "\n",
    "    lossi.append(loss.log10().item())\n",
    "    break"
   ]
  },
  {
   "cell_type": "markdown",
   "id": "f4d8f01d-5b8b-478f-a2dc-39707ff60aa9",
   "metadata": {},
   "source": [
    "The initial loss is what we would expect.\n",
    "But let us examine the activation layer of the hidden network, i.e, the variable h. "
   ]
  },
  {
   "cell_type": "code",
   "execution_count": null,
   "id": "460f4928-9650-4a28-8b1f-138d46ea8426",
   "metadata": {},
   "outputs": [],
   "source": [
    "h"
   ]
  },
  {
   "cell_type": "markdown",
   "id": "db0bd10d-45e8-47cb-98be-7cffebca728a",
   "metadata": {},
   "source": [
    "<p>I would like to draw your attention to how many values in the hidden layer output are 1.0 or -1.0.</p>\n",
    "<p>Is that a problem? Before we move forward, let's do a refresher on the tanh function. The tanh function has a squashing property, in that it squashes the values between the ranges [-1, 1]. And values greater than 1 will be be squashed to 1, and any values lesser than -1 will be squashed down to -1.</p>\n",
    "\n",
    "<p>Let's look at a histogram of the hidden layer output, first.</p>\n"
   ]
  },
  {
   "cell_type": "code",
   "execution_count": null,
   "id": "3e9e76b6-0608-4f4a-ae7a-b6b1648a8813",
   "metadata": {},
   "outputs": [],
   "source": [
    "plt.hist(h.flatten().tolist(), 50);"
   ]
  },
  {
   "cell_type": "markdown",
   "id": "73f24739-b4e9-4186-82f5-a93c2826f14a",
   "metadata": {},
   "source": [
    "This gives us the count of how many values are 1 and -1. As you can see, almost 2500 values inside h are 1 and almost the same are -1. \n",
    "This clearly means that most of the values which are being passed to the tanh function are either greater than 1 or lesser than -1.\n",
    "<p>This means that the tanh is very <b>Active</b>.</p>\n",
    "<p>Let's look at the histogram of the data that is being fed to the tanh function, also known as the pre-activation.</p>"
   ]
  },
  {
   "cell_type": "code",
   "execution_count": null,
   "id": "b51b9a30-9526-4be3-ab82-43e6770aaafb",
   "metadata": {},
   "outputs": [],
   "source": [
    "plt.hist(hpreact.flatten().tolist(), 50);"
   ]
  },
  {
   "cell_type": "markdown",
   "id": "8ce242b2-ca55-4158-96ca-57f58462f2bd",
   "metadata": {},
   "source": [
    "As can be seen, the distribution of the pre-activation data is very broad. It takes values from -10 to 15. Which is why the tanh function is squashing so much of it and we are getting so many 1s and -1s in the tanh activation output."
   ]
  },
  {
   "cell_type": "markdown",
   "id": "a73b3180-9e62-4edf-ada9-c5455383c2df",
   "metadata": {},
   "source": [
    "### How is this a problem, though?\n",
    "Well, looking at just the histograms, the problem is not very apparent. Although, if you have understood the backpropogation and gradients well enough so far, you are looking at the tanh activation and sweating. \n",
    "\n",
    "<p>Not sweating already? Let me help you see the problem and sweat. What is a very crucial step that we do while training a network? It is the line <b>loss.backward()</b></p>\n",
    "<p>We back propogate through the network, computing gradients of each parameter wrt to the loss. This is what tells us, how would the loss change as well change these weights.</p>\n",
    "\n",
    "<p>The way back propogation works is, we move backward through all the mathematical operations that we have done in the forward pass, and using chain rule, we compute the gradient at each operation. The problematic operation here, is the <b>tanh.</b></p>\n",
    "\n",
    "</br>What is the derivative of tanh wrt its next operation?\n",
    "$$\n",
    "    d(tanh(x)) / dx = 1 - (tanh(x))**2\n",
    "$$\n",
    "\n",
    "<p>But this is the local gradient. In order to obtain the gradient of tanh wrt to the loss, we apply the chain rule and multiply it with the gradient obtained so far, before this in the backpropogation. Let 'out' be the tanh operation output and the grad of 'out' wrt to loss is 'grad'.</p>\n",
    "\n",
    "$$\n",
    "    gradient wrt loss = (1 - (tanh(x))**2 ) * grad\n",
    "$$\n",
    "\n",
    "<p>Well, do you see the problem now, should x take values greater than 1 or smaller than -1? In other words, do you see the problem now, should tanh become -1 or 1? <b>The gradient becomes 0!</b></p>\n"
   ]
  },
  {
   "cell_type": "markdown",
   "id": "1c2af764-e48c-4d67-8009-ec99db7b05ba",
   "metadata": {},
   "source": [
    "At the tanh neuron, we are essentially killing the gradient. Which means, it does not propogate back to the weights. Let's understand it more intuitively. But first, let's look at the tanh graph."
   ]
  },
  {
   "cell_type": "code",
   "execution_count": null,
   "id": "12fa637c-8526-4d16-863f-9a095ef95f7b",
   "metadata": {},
   "outputs": [],
   "source": [
    "import numpy as np\n",
    "x = np.linspace(-5, 5, 100)\n",
    "y = np.tanh(x)\n",
    "plt.plot(x, y)"
   ]
  },
  {
   "cell_type": "markdown",
   "id": "d2809de2-aaaa-43f1-9aa6-b926792b0993",
   "metadata": {},
   "source": [
    "The <b>Flat</b> regions of the tanh graph, also known as the <b>tail</b>, depict the values of input which are greater than 1 or less than -1. \n",
    "\n",
    "#### Let's look at it intuitively\n",
    "<p>Imagine the weights to be the inputs to this tanh function. And imagine the graph to be output of tanh being applied to those weights. \n",
    "For the weight values greater than 1 and less than -1, the graph is flat, which means the slope is 0. Hence, no matter what changes I make to the weights, the output of this tanh will not change. If this becomes the case of my network, it simply means that no matter how much I train my network, it will never learn (more preceisely, that neuron will never learn). Since updating the weights will never reduce the loss.</p>"
   ]
  },
  {
   "cell_type": "markdown",
   "id": "11766bfc-e1f8-4b46-a7b7-7ce13c5a36c3",
   "metadata": {},
   "source": [
    "Let's look at another graph to see how this affects our network. "
   ]
  },
  {
   "cell_type": "code",
   "execution_count": null,
   "id": "96f518e9-3ffd-4bcb-ae36-20bbd014db63",
   "metadata": {},
   "outputs": [],
   "source": [
    "plt.figure(figsize=(20, 10));\n",
    "plt.imshow(h.abs() > 0.99, cmap='gray', interpolation='nearest')"
   ]
  },
  {
   "cell_type": "markdown",
   "id": "a0a08646-24d8-4b27-bf31-e2c5c89e4f9e",
   "metadata": {},
   "source": [
    "The above image is of a boolean tensor becuase of <i>h.abs() > 0.99</i>.\n",
    "We get a white pixel, if it is true and a black if it is false. \n",
    "<p>You can see, how many of the pixels are white, which means so many of the input values to tanh are greater than 1 or less than -1.</p>\n",
    "<p>What else does it signify? The shape of 'h' is [32, 200]. Which means there are 32 rows, of 200 neurons each, since there are 32 examples.Hence, even in the graph above, there are 32 rows. The columns depict the number of neurons.</p>\n",
    "<p>Imagine a scenario, where an entire column is white. This would signify, that for all the 32 batch size inputs, this particular tanh neruon produced values of 1 or -1. This point is very very crucial and I'll explain what this means. But before that, let's create an example depicting this. </p>"
   ]
  },
  {
   "cell_type": "code",
   "execution_count": null,
   "id": "6430faa9-04fb-4dbb-84ac-70e360be8644",
   "metadata": {},
   "outputs": [],
   "source": [
    "h_temp = h.clone().detach()\n",
    "h_temp[:, 0] = 1.0\n",
    "\n",
    "plt.figure(figsize=(20, 10));\n",
    "plt.imshow(h_temp.abs() > 0.99, cmap='gray', interpolation='nearest')"
   ]
  },
  {
   "cell_type": "code",
   "execution_count": null,
   "id": "b6705703-9df6-4b20-9ab7-2c0b71f788bd",
   "metadata": {},
   "outputs": [],
   "source": [
    "h_temp_grad = 1 - h_temp**2\n",
    "\n",
    "h_temp_grad[:, 0]"
   ]
  },
  {
   "cell_type": "markdown",
   "id": "b1c8a23e-ef74-4603-ae42-4d4bec371112",
   "metadata": {},
   "source": [
    "<p>What we did here is, we set the entire column 0 to 1. This simulates that the neuron indexed 0 (out of 200 neurons), produces the output equal to 1. Remember, this is a tanh neruon. During back propogation, the grad of this neuron will be computed, one for each input in the batch size.</p>\n",
    "<p>Then we computed the grad of the neurons as 'h_temp_grad'. As you can see, the grad of neuron at index 0 is 0 for all the 32 inputs. <b>This signifies that this neuron will never learn from any of the inputs, thus making this a <b>Dead Neuron</b>. The weights which feed into this neuron will never get updated.</b></p>\n",
    "This is a big problem, since we have a network in which a neuron is just not learning. "
   ]
  },
  {
   "cell_type": "markdown",
   "id": "25e07d5e-7d6d-403d-81fc-0004185a29a7",
   "metadata": {},
   "source": [
    "#### Ofcourse the problem is clear now, but looking at the graph, it also gives us the sense of how to solve it!\n",
    "It is clear that if the input to the tanh neuron is largely distributed (have a lot of values greater than 1 or less than -1), most of the outputs will be 1 or -1. \n",
    "<p>This also kind of gives off an intiuitive solution to the problem. Let's look at what gets fed into the tanh layer.</p>\n",
    "<p>The output of the hidden layer is, defined as tanh(embeddings @ W1 + B1). Hence what gets fed into the tanh layer is (embeddings @ W1 + B1). If we make sure that this expression always outputs values within the range of (-1, 1), this tanh saturation problem should go away.</p>\n",
    "\n",
    "<p>In our code, <i>embeddings @ W1 + B1</i> term is called <i>hpreact</i>. We want this output to be well within the range of (-1, 1). Let's use the same approach as in the previous optimization and scale down the W1 by a factor of 0.1 and biases also by a factor of 0.01. We can set the biases to zero, but keeping them very small number, instead of zero, introduces some amount of entropy in the values, causing some variation which could be good for the network.</p>"
   ]
  },
  {
   "cell_type": "code",
   "execution_count": null,
   "id": "81fe4ba5-2b27-4d81-986b-cd8440885c73",
   "metadata": {},
   "outputs": [],
   "source": [
    "n_embed = 3 # This is the dimentions of the embeddings. Each character will be defined as a 2D embedding\n",
    "vocab_size = 27 # This is the size of the vocabulary.\n",
    "\n",
    "n_hidden = 200\n",
    "g = torch.Generator().manual_seed(2147483646)\n",
    "C = torch.randn((vocab_size, n_embed), generator=g)\n",
    "\n",
    "W1 = torch.randn((n_embed * block_size, n_hidden), generator=g) * 0.1 # Scalled down to 0.1\n",
    "B1 = torch.randn(n_hidden, generator=g) * 0.01 # Scalled down to 0.01\n",
    "\n",
    "W2 = torch.randn((n_hidden, vocab_size), generator=g) * 0.01 # Scalled down to 0.01\n",
    "B2 = torch.randn(vocab_size, generator=g) * 0 # Initialised to zero.\n",
    "\n",
    "parameters = [C, W1, B1, W2, B2]\n",
    "\n",
    "# Let's set requires_grad to True for all parameters\n",
    "for p in parameters: \n",
    "    p.requires_grad = True"
   ]
  },
  {
   "cell_type": "code",
   "execution_count": null,
   "id": "04b6cc08-62cc-4ed3-a0d7-0adcdb7b5854",
   "metadata": {},
   "outputs": [],
   "source": [
    "\n",
    "lossi = []\n",
    "epochs = 200000\n",
    "batch_size = 32\n",
    "for k in range (epochs):\n",
    "    # forward pass\n",
    "    ix = torch.randint(0, Xtr.shape[0], (batch_size, ))\n",
    "    X_onehot = F.one_hot(Xtr[ix], num_classes=vocab_size).float()\n",
    "    emb = X_onehot @ C\n",
    "    embeddings = emb.flatten(start_dim=1, end_dim=-1)\n",
    "    hpreact = embeddings @ W1 + B1\n",
    "    h = torch.tanh(hpreact)\n",
    "    logits = h @ W2 + B2\n",
    "    # compute nll loss\n",
    "    loss = F.cross_entropy(logits, Ytr[ix])\n",
    "    # print(loss.item())\n",
    "    # update the grad to None\n",
    "    for p in parameters: \n",
    "        p.grad = None\n",
    "\n",
    "    # Backward pass \n",
    "    loss.backward()\n",
    "    \n",
    "    \n",
    "    # Update the values of the parameters \n",
    "    e = 0.1 if k < 100000 else 0.01\n",
    "    for p in parameters: \n",
    "        p.data -= e * p.grad\n",
    "\n",
    "    if k % 50000 == 0:\n",
    "        print(f\"loss: {loss}\")\n",
    "\n",
    "    lossi.append(loss.log10().item())\n",
    "    break"
   ]
  },
  {
   "cell_type": "markdown",
   "id": "02dc95ac-d52a-4219-a955-43c8edb83a91",
   "metadata": {},
   "source": [
    "Let's check out the histogram of output of the tanh. Also, let's check out the distribution of the input to the tanh, ie hpreact."
   ]
  },
  {
   "cell_type": "code",
   "execution_count": null,
   "id": "f72bd493-615c-4f3b-bbd1-a2e7d64f7df5",
   "metadata": {},
   "outputs": [],
   "source": [
    "plt.hist(h.flatten().tolist(), 50);"
   ]
  },
  {
   "cell_type": "code",
   "execution_count": null,
   "id": "dfec0a99-96e2-47a7-bf51-ec77e2668191",
   "metadata": {},
   "outputs": [],
   "source": [
    "plt.hist(hpreact.flatten().tolist(), 50);"
   ]
  },
  {
   "cell_type": "markdown",
   "id": "e8e14fc2-bc53-4506-857d-be113d945b07",
   "metadata": {},
   "source": [
    "<p>As you can see from the histogram of tanh output (which is h), it is no longer saturated. Most of the values are well within the range of (-1, 1). Because of this, the gradient of tanh operation will never be zero.</p>\n",
    "\n",
    "<p>Also, the histogram of <i>hpreact</i> is not widely distributed. It is within the range of -1 to 1.5, as opposed to the last time,  when it was between -10 to 15 (which was a very high distribution).</p>"
   ]
  },
  {
   "cell_type": "code",
   "execution_count": null,
   "id": "08881b29-9795-4750-8d5f-55bf87ccb4a0",
   "metadata": {},
   "outputs": [],
   "source": [
    "h.std(), h.mean(), hpreact.std(), hpreact.mean()"
   ]
  },
  {
   "cell_type": "markdown",
   "id": "d9a2ae7b-d798-4bed-a173-4d4251ee8edc",
   "metadata": {},
   "source": [
    "You can look at the standard deviations of h and hpreact are less than 1, with means very close to 0. \n",
    "<p>Let's look at the boolean tensor of h now. Just to make sure that we are not hitting \"white\" regions a lot.</p>"
   ]
  },
  {
   "cell_type": "code",
   "execution_count": null,
   "id": "29414a06-c2f6-4792-a6be-5fd146813e25",
   "metadata": {},
   "outputs": [],
   "source": [
    "plt.figure(figsize=(20, 10));\n",
    "plt.imshow(h.abs() > 0.99, cmap='gray', interpolation='nearest')"
   ]
  },
  {
   "cell_type": "markdown",
   "id": "7d32e7ac-44f9-419e-a863-aa7053636265",
   "metadata": {},
   "source": [
    "Wow, there are no white pixels! This indicates that the gradient for no value will ever be zero. Thus, the neuron will learn foe every single input, making it learn much more during training. "
   ]
  },
  {
   "cell_type": "markdown",
   "id": "b55e7223-2395-4627-830d-7036f10e80b7",
   "metadata": {},
   "source": [
    "Let's train the model again, and see if it improves are loss!"
   ]
  },
  {
   "cell_type": "code",
   "execution_count": null,
   "id": "6ffef414-4dc2-402f-bd05-9e450fb50096",
   "metadata": {},
   "outputs": [],
   "source": [
    "n_embed = 3 # This is the dimentions of the embeddings. Each character will be defined as a 2D embedding\n",
    "vocab_size = 27 # This is the size of the vocabulary.\n",
    "\n",
    "n_hidden = 200\n",
    "g = torch.Generator().manual_seed(2147483646)\n",
    "C = torch.randn((vocab_size, n_embed), generator=g)\n",
    "\n",
    "W1 = torch.randn((n_embed * block_size, n_hidden), generator=g) * 0.2 # Scalled down to 0.2\n",
    "B1 = torch.randn(n_hidden, generator=g) * 0.01 # Scalled down to 0.01\n",
    "\n",
    "W2 = torch.randn((n_hidden, vocab_size), generator=g) * 0.01 # Scalled down to 0.01\n",
    "B2 = torch.randn(vocab_size, generator=g) * 0 # Initialised to zero.\n",
    "\n",
    "parameters = [C, W1, B1, W2, B2]\n",
    "\n",
    "# Let's set requires_grad to True for all parameters\n",
    "for p in parameters: \n",
    "    p.requires_grad = True"
   ]
  },
  {
   "cell_type": "code",
   "execution_count": null,
   "id": "bb8dc834-68e9-450b-8432-5ee98243c714",
   "metadata": {},
   "outputs": [],
   "source": [
    "\n",
    "lossi = []\n",
    "epochs = 200000\n",
    "batch_size = 32\n",
    "for k in range (epochs):\n",
    "    # forward pass\n",
    "    ix = torch.randint(0, Xtr.shape[0], (batch_size, ))\n",
    "    X_onehot = F.one_hot(Xtr[ix], num_classes=vocab_size).float()\n",
    "    emb = X_onehot @ C\n",
    "    embeddings = emb.flatten(start_dim=1, end_dim=-1)\n",
    "    hpreact = embeddings @ W1 + B1\n",
    "    h = torch.tanh(hpreact)\n",
    "    logits = h @ W2 + B2\n",
    "    # compute nll loss\n",
    "    loss = F.cross_entropy(logits, Ytr[ix])\n",
    "    # print(loss.item())\n",
    "    # update the grad to None\n",
    "    for p in parameters: \n",
    "        p.grad = None\n",
    "\n",
    "    # Backward pass \n",
    "    loss.backward()\n",
    "    \n",
    "    \n",
    "    # Update the values of the parameters \n",
    "    e = 0.1 if k < 100000 else 0.01\n",
    "    for p in parameters: \n",
    "        p.data -= e * p.grad\n",
    "\n",
    "    if k % 50000 == 0:\n",
    "        print(f\"loss: {loss}\")\n",
    "\n",
    "    lossi.append(loss.log10().item())"
   ]
  },
  {
   "cell_type": "code",
   "execution_count": null,
   "id": "abf36c94-2a8e-4d11-8372-a838c015e4ad",
   "metadata": {},
   "outputs": [],
   "source": [
    "print(f\"Train loss: {evaluate_loss('train')}\")\n",
    "print(f\"Validation loss: {evaluate_loss('validation')}\")"
   ]
  },
  {
   "cell_type": "markdown",
   "id": "6a346421-68ae-426d-8211-ec515c8e1c94",
   "metadata": {},
   "source": [
    "As you can see, the validation loss has reduced to 2.160. Before fixing the tanh saturation issue, we were getting a validation loss of 2.166."
   ]
  },
  {
   "cell_type": "markdown",
   "id": "b29789d0-f3f6-4208-816f-522cdb2332bd",
   "metadata": {},
   "source": [
    "<p>One point I'd like to draw the attention towards, is the fact that our network is very simple right now. It is just a single hidden layer network. Which is why the initialisation issues are very forgiving. Despite of terrible initialisation, our model was able to learn well. In general, the models will not be this simple. They could be 50 layers deep. In such scenario, the initialisation issues stack up, resulting in not-so-forgiving issues. You could easily land in a place where you model is just not learning at all.</p>\n",
    "<p>Using the graphs that we have built above, are a good way to <b>Diagnose</b> the initialisation of your model</p>"
   ]
  },
  {
   "cell_type": "markdown",
   "id": "ba31e97f-eed6-4479-976e-06d162faabf1",
   "metadata": {},
   "source": [
    "### Are there any trade-offs for scaling down our layer output?\n",
    "Well, its a good question to ask at this point. Since, we are manually scaling down the output, which is hpreat to make sure it remains within the standard deviation of 1.\n",
    "<p>But what actually happens is, each time we use tanh activation function, it has a property to squash the input. If we repeatedly keep scaling down the inputs to unit standard deviation and keep passing to tanh, the tanh will continue to keep reducing the standard deviation of the ipnuts, as we go deeper an deeper in the network.</p>\n",
    "<p>Because of this, the values will keep getting closer and closer to zero, thus causing to poor gradient flow. Let's see an example of this.</p>"
   ]
  },
  {
   "cell_type": "code",
   "execution_count": null,
   "id": "0bf2c590-275f-46bf-8f1c-91b727505700",
   "metadata": {},
   "outputs": [],
   "source": [
    "inpt = torch.randn(10000) * 0.1\n",
    "inpt.std()"
   ]
  },
  {
   "cell_type": "markdown",
   "id": "3d23da2e-e503-4fa1-bc2f-62c14c410727",
   "metadata": {},
   "source": [
    "'inpt' is a Gaussian distribution with standard deviation of 1. We scaled it down initially, to make sure no values are out of (-1, 1) range."
   ]
  },
  {
   "cell_type": "code",
   "execution_count": null,
   "id": "28dd8fe6-115f-4baa-a881-008c154ceac5",
   "metadata": {},
   "outputs": [],
   "source": [
    "plt.hist(inpt, 50);"
   ]
  },
  {
   "cell_type": "markdown",
   "id": "115a1959-283d-4bee-89ab-912948c482a0",
   "metadata": {},
   "source": [
    "Let's pass this through a tanh function."
   ]
  },
  {
   "cell_type": "code",
   "execution_count": null,
   "id": "2609052e-90e9-4283-a818-57aeb7aeeb69",
   "metadata": {},
   "outputs": [],
   "source": [
    "t1 = torch.tanh(inpt)\n",
    "t1.std()"
   ]
  },
  {
   "cell_type": "code",
   "execution_count": null,
   "id": "7a613521-ce6b-400f-965c-45e8c9ebfd8f",
   "metadata": {},
   "outputs": [],
   "source": [
    "plt.hist(t1, 50);"
   ]
  },
  {
   "cell_type": "markdown",
   "id": "d70741b4-9b32-4d25-82bd-d229a8204a90",
   "metadata": {},
   "source": [
    "The distribution is now within -4 and 4, after applying the tanh function. Let's apply it one more time."
   ]
  },
  {
   "cell_type": "code",
   "execution_count": null,
   "id": "fbe8550f-6249-4e0d-bf8d-69c7b8ce1094",
   "metadata": {},
   "outputs": [],
   "source": [
    "t2 = torch.tanh(t1)\n",
    "t2.std()"
   ]
  },
  {
   "cell_type": "code",
   "execution_count": null,
   "id": "31c4dbc1-0f25-4ed2-9c3c-83756d6ee2f9",
   "metadata": {},
   "outputs": [],
   "source": [
    "plt.hist(t2, 50);"
   ]
  },
  {
   "cell_type": "markdown",
   "id": "80046e51-4323-4d2a-9660-096d777633f2",
   "metadata": {},
   "source": [
    "As you can see, the t2 output is further squashed, and standard deviation reduced further. \n",
    "<p>This constant squashing as the signal goes through a deep layer of multiple tanh operations, will constantly keep bringing the signal closer and closer to 0. We do not want that. </p>\n"
   ]
  },
  {
   "cell_type": "markdown",
   "id": "7d87c39e-685c-4d19-802b-53d2ffe020c3",
   "metadata": {},
   "source": [
    "#### How do we fight it?\n",
    "<p>As we noticed, above the standard deviation of the signal keeps getting lower and lower. What we actually want is after each layer, the standard deviation of the signal stays almost similar. If we settle on unit standard deviation, it should stay almost usnit SD after each layer.</p>\n",
    "<p>The way to achieve this, is by applying certain <b>Gain</b> to the signal at the time of squashing. This gain fights the squashing function and tries to keep the SD of the signal almost the same.</p>\n",
    "\n",
    "</br>This technique is called <b>Kaiming initialisation</b>. There is an amazing paper which goes deep into this concept that I invite you to read\n",
    "[Here](https://arxiv.org/abs/1502.01852)\n",
    "\n",
    "<p>Let's look at some examples.</p>"
   ]
  },
  {
   "cell_type": "code",
   "execution_count": null,
   "id": "288152f8-8d50-4a6a-a8ae-9e08c6f85525",
   "metadata": {},
   "outputs": [],
   "source": [
    "(torch.randn(100000) * 0.2).std()"
   ]
  },
  {
   "attachments": {
    "ec2c345b-893e-4fe6-ae10-8d8f5fe9b41c.png": {
     "image/png": "[encoded data removed]"
    }
   },
   "cell_type": "markdown",
   "id": "efed0620-f6e6-4dcb-964f-2b46b862a249",
   "metadata": {},
   "source": [
    "<p>Whatever we multiply the input signal with while scaling down (0.2 in above example), becomes the standard deviation SD of the signal. According to Kaiming initialisation, we want this SD (or the multiplicative factor) to be almost similar.</p>\n",
    "\n",
    "<p>But ofc, in a deep network, we will not keep multiplying each layer weights by some hard coded values. So how do we compute this standard deviation (or the multiplicative factor)?</p>\n",
    "\n",
    "<p>According to the paper cited above, the formula to compute this standard diviation value is as follows:</p>\n",
    "$$\n",
    "    std = Gain / \\sqrt{fanin}\n",
    "$$\n",
    "\n",
    "<p>What exactly is this <i>fan_in</i>? Let's consider the network that we have built. We have 32 input batch size. Each input has 3 characters. Each character has a 3 dimensional embedding. This, after flatting operation gave us an input with 9 features. This input with 9 features is fed to the hidden layer. This defines the number of weights each neuron will have. Hence, each neuron will need 9 weights. This value of 9 is the <b>Fan In </b> of the neuron. So the number of the features are are input to a neuron, is the fan in of the neuron.</p>\n",
    "\n",
    "<br/>But what about the gain value? The gain value depends on the type of the activation function we are using.\n",
    "<br/>\n",
    "The following image shows various values of gains for different activation functions. We are using tanh, for which the gain is 5/3.\n",
    "\n",
    "![image.png](attachment:ec2c345b-893e-4fe6-ae10-8d8f5fe9b41c.png)\n",
    "\n",
    "<br/>Let's compute what the std (or the multiplicative factor) should look like.\n"
   ]
  },
  {
   "cell_type": "code",
   "execution_count": null,
   "id": "c40bfbf6-7b51-4e3a-b675-4647d2b9ffd8",
   "metadata": {},
   "outputs": [],
   "source": [
    "fanin = n_embed * block_size\n",
    "std = (5/3) / fanin**0.5\n",
    "std"
   ]
  },
  {
   "cell_type": "markdown",
   "id": "c9384a95-cf19-457a-a6ed-c07e422186b0",
   "metadata": {},
   "source": [
    "0.5 is the expected standard deviation that we want of the hidden layer. \n",
    "Let's retry the training of the model, which this generalised value of standard deviation of the hidden layer.\n",
    "<p>According to Kaiming initialisation, the W1 vector will have std of <b>((5/3) / (n_embed * block_size) ** 0.5)</b></p>\n",
    "<p>What will be the std of W2? W2 is linear layer. The gain for linear layer is 1. Hence std will be <b>1 / (n_hidden)**0.5</b></p>"
   ]
  },
  {
   "cell_type": "code",
   "execution_count": 24,
   "id": "85320d9a-86f8-41c2-aab7-ceb1a11b146f",
   "metadata": {},
   "outputs": [],
   "source": [
    "n_embed = 3 # This is the dimentions of the embeddings. Each character will be defined as a 2D embedding\n",
    "vocab_size = 27 # This is the size of the vocabulary.\n",
    "\n",
    "n_hidden = 200\n",
    "g = torch.Generator().manual_seed(2147483646)\n",
    "C = torch.randn((vocab_size, n_embed), generator=g)\n",
    "\n",
    "W1 = torch.randn((n_embed * block_size, n_hidden), generator=g) * ((5/3) / (n_embed * block_size) ** 0.5)\n",
    "B1 = torch.randn(n_hidden, generator=g) * 0.01 # Scalled down to 0.01\n",
    "\n",
    "W2 = torch.randn((n_hidden, vocab_size), generator=g) * (1 / n_hidden**0.5) # Gain for the linear layer is 1. Hence the std will be 1 / sqrt(fanin)\n",
    "B2 = torch.randn(vocab_size, generator=g) * 0 # Initialised to zero.\n",
    "\n",
    "parameters = [C, W1, B1, W2, B2]\n",
    "\n",
    "# Let's set requires_grad to True for all parameters\n",
    "for p in parameters: \n",
    "    p.requires_grad = True"
   ]
  },
  {
   "cell_type": "code",
   "execution_count": 25,
   "id": "c741387f-e0a2-40d9-b499-1a3ff940877f",
   "metadata": {},
   "outputs": [
    {
     "name": "stdout",
     "output_type": "stream",
     "text": [
      "loss: 3.4547102451324463\n",
      "loss: 2.357806921005249\n",
      "loss: 2.0931575298309326\n",
      "loss: 1.8246097564697266\n"
     ]
    }
   ],
   "source": [
    "\n",
    "lossi = []\n",
    "epochs = 200000\n",
    "batch_size = 32\n",
    "for k in range (epochs):\n",
    "    # forward pass\n",
    "    ix = torch.randint(0, Xtr.shape[0], (batch_size, ))\n",
    "    X_onehot = F.one_hot(Xtr[ix], num_classes=vocab_size).float()\n",
    "    emb = X_onehot @ C\n",
    "    embeddings = emb.flatten(start_dim=1, end_dim=-1)\n",
    "    hpreact = embeddings @ W1 + B1\n",
    "    h = torch.tanh(hpreact)\n",
    "    logits = h @ W2 + B2\n",
    "    # compute nll loss\n",
    "    loss = F.cross_entropy(logits, Ytr[ix])\n",
    "    # print(loss.item())\n",
    "    # update the grad to None\n",
    "    for p in parameters: \n",
    "        p.grad = None\n",
    "\n",
    "    # Backward pass \n",
    "    loss.backward()\n",
    "    \n",
    "    \n",
    "    # Update the values of the parameters \n",
    "    e = 0.1 if k < 100000 else 0.01\n",
    "    for p in parameters: \n",
    "        p.data -= e * p.grad\n",
    "\n",
    "    if k % 50000 == 0:\n",
    "        print(f\"loss: {loss}\")\n",
    "\n",
    "    lossi.append(loss.log10().item())"
   ]
  },
  {
   "cell_type": "code",
   "execution_count": null,
   "id": "2706aa78-d0e8-45e9-9418-bdfcd15834a6",
   "metadata": {},
   "outputs": [],
   "source": [
    "print(f\"Train loss: {evaluate_loss('train')}\")\n",
    "print(f\"Validation loss: {evaluate_loss('validation')}\")"
   ]
  },
  {
   "cell_type": "markdown",
   "id": "7a05e9d9-c59c-4864-8e10-3e7c1d9d4263",
   "metadata": {},
   "source": [
    "With the acurate initialisation using Kaiming, we were able to bring validation gain further down! From 2.16, it came down to 2.15."
   ]
  },
  {
   "cell_type": "markdown",
   "id": "d7915f0c-40db-45ec-9be9-07efa28e9b7b",
   "metadata": {},
   "source": [
    "### Are the precise settings of weights at the time of initialisation really relevant today? Would I have to actually think about each layer's weights and initialise them with this Kaiming initialisation technique?\n",
    "The answer to this question is, no. Given the modern advances in NNs, these initialisations have been taken over by more advanced techniques, one of which is called <b>Batch Normalisation</b>."
   ]
  },
  {
   "cell_type": "markdown",
   "id": "dcc27b5a-6ee1-4075-8081-ca5b3d89b0fd",
   "metadata": {},
   "source": [
    "### What is Batch normalisation?\n",
    "A team a Google in 2015 came up with Batch normalisation to effectively train very deep neural networks very reliably in that we don't have to worry about the pitfalls of saturated activations or too squashed activations. \n",
    "\n",
    "<p>So far using Kaiming initialisation technique, in order to make the hidden layer pre-activation states stay with a set standard deviation range, we were scaling the weights.</p>\n",
    "<p>The radical idea that batch normalisation suggests is, \"If you want to normalise the pre-activation layers to have a standard deviation within a range, why not just normalise the pre-activation states directly before feeding to tanh (or any other activation for that matter), instead of normalising the weights? Lol, that sounds too anticlimactic, but it actually just works.</p>\n",
    "\n",
    "I invite you to read this paper by the team at Google. [Batch Normalization](https://arxiv.org/abs/1502.03167).\n",
    "\n",
    "<p>Our pre-activation states are <i>hpreact</i>. Let' see how do we normalise it before feeding it to tanh.</p>"
   ]
  },
  {
   "cell_type": "code",
   "execution_count": null,
   "id": "8065d568-ef96-42be-b91a-a9e84edc27bb",
   "metadata": {},
   "outputs": [],
   "source": [
    "hpreact.shape"
   ]
  },
  {
   "attachments": {
    "d35a7621-daf9-4902-a975-f47465ced51d.png": {
     "image/png": "[encoded data removed]"
    }
   },
   "cell_type": "markdown",
   "id": "d5be07e6-ddca-451d-842d-8275f740c889",
   "metadata": {},
   "source": [
    "Shape of hpreact is [32, 200], since there are 200 neurons in total and the batch size is 32. For each neuron, there are 32 pre-activation states, one for each input in the batch size of 32. \n",
    "\n",
    "<br/>Let's look at the snippet from the paper which tells how to normalise the pre-activation states.\n",
    "\n",
    "![image.png](attachment:d35a7621-daf9-4902-a975-f47465ced51d.png)\n",
    "\n",
    "<p>According to this, we need mean and standard deviation of hpreact across the batch, for each neuron.Let's take the mean and standard deviation across the batch size for each neuron.</p>"
   ]
  },
  {
   "cell_type": "code",
   "execution_count": 26,
   "id": "7fde7f0a-d10f-4f80-b149-412c30fcdda8",
   "metadata": {},
   "outputs": [
    {
     "data": {
      "text/plain": [
       "(torch.Size([1, 200]), torch.Size([1, 200]))"
      ]
     },
     "execution_count": 26,
     "metadata": {},
     "output_type": "execute_result"
    }
   ],
   "source": [
    "hpreact.mean(0, keepdim=True).shape, hpreact.std(0, keepdim=True).shape"
   ]
  },
  {
   "cell_type": "markdown",
   "id": "ed51a504-7b99-4325-a4ba-47735ce849e4",
   "metadata": {},
   "source": [
    "The shapes of mean and std are [1, 200], since we took the mean and std of the 32 inputs for each neuron.\n",
    "\n",
    "According to this formula, the normalisation is achieved by the following (shown by '// normalize' line in the above image):\n",
    "$$\n",
    "    hpreact(standardised)= (hpreact - hpreactmean) / hpreactstd\n",
    "$$"
   ]
  },
  {
   "cell_type": "code",
   "execution_count": 28,
   "id": "8cfb1544-50f9-4e52-a95a-3775284422dd",
   "metadata": {},
   "outputs": [
    {
     "data": {
      "text/plain": [
       "(tensor(0., grad_fn=<MeanBackward0>), tensor(1., grad_fn=<StdBackward0>))"
      ]
     },
     "execution_count": 28,
     "metadata": {},
     "output_type": "execute_result"
    }
   ],
   "source": [
    "hpreact_normalized = (hpreact - hpreact.mean(0, keepdim=True)) / hpreact.std(0, keepdim=True)\n",
    "hpreact_normalized[:, 0].mean(), hpreact_normalized[:, 0].std()"
   ]
  },
  {
   "cell_type": "markdown",
   "id": "f476eb7c-90b5-4307-98c1-500ac65f21f7",
   "metadata": {},
   "source": [
    "As can be seen above, the hpreact for neuron 0 has been normalised to have a mean of 0 and a unit standard deviation.\n",
    "<p>This function is applied to the pre-activation states (hpreact) during training.</p>"
   ]
  },
  {
   "cell_type": "code",
   "execution_count": null,
   "id": "aad98d25-7ab7-4449-b5a9-c7a8ca67d6dc",
   "metadata": {},
   "outputs": [],
   "source": [
    "\"\"\"\n",
    "    ix = torch.randint(0, Xtr.shape[0], (batch_size, ))\n",
    "    X_onehot = F.one_hot(Xtr[ix], num_classes=vocab_size).float()\n",
    "    emb = X_onehot @ C\n",
    "    embeddings = emb.flatten(start_dim=1, end_dim=-1)\n",
    "    hpreact = embeddings @ W1 + B1\n",
    "    hpreact_normalized = (hpreact - hpreact.mean(0, keepdim=True)) / hpreact.std(0, keepdim=True)\n",
    "    h = torch.tanh(hpreact)\n",
    "    logits = h @ W2 + B2\n",
    "\"\"\";"
   ]
  },
  {
   "cell_type": "markdown",
   "id": "67fb3618-c45f-4543-a592-80269e5754e6",
   "metadata": {},
   "source": [
    "<p>But, if you observe the code above, which is snippet of the forward pass of training, you'd realise that it does not normalize only at the time of initialisation, but instead it tries to normalize hpreact at every iteration. This indeed prevents hpreact to move about freely during training, resulting in hindering of the training process.</p>\n",
    "<p>What we actually want, is to only have this normalization during initialisation, but hpreact should be allowed to move freely as it trains over iterations.</p>\n",
    "<p>The way Batch Normalization solves this, is by the operation of <b>Scale and Shift</b>.</p>\n",
    "\n",
    "Refer to the line '// scale and shift' in the image above.\n",
    "\n",
    "$$\n",
    "    hpreact(standardised) = yi ← γxbi + β\n",
    "$$\n",
    "Where γ and β are the learnable parameters, which at the beginning are 1s and 0s but they get updated during training, enabling the hpreact to move freely during training. \n",
    "\n",
    "<p>Scale (γ) parameter is initialised to 1s and shift (β) are initialised to 0s at the beginning, so that the formlua at the beginning is exactly what we saw in the beginning. </p>\n",
    "\n",
    "$$\n",
    "    hpreact(standardised)= (hpreact - hpreactmean) / hpreactstd\n",
    "$$\n",
    "\n",
    "But as these scale and shift parameters learn, they do not restrict hpreact to remain in the std range of 1. "
   ]
  },
  {
   "cell_type": "code",
   "execution_count": 29,
   "id": "c27e51ac-e6a6-4d55-904f-fd59a1459cce",
   "metadata": {},
   "outputs": [
    {
     "data": {
      "text/plain": [
       "(torch.Size([1, 200]), torch.Size([1, 200]))"
      ]
     },
     "execution_count": 29,
     "metadata": {},
     "output_type": "execute_result"
    }
   ],
   "source": [
    "bngain = torch.ones((1, n_hidden))\n",
    "bnbias = torch.zeros((1, n_hidden))\n",
    "bngain.shape, bnbias.shape"
   ]
  },
  {
   "cell_type": "markdown",
   "id": "6dd5fdc5-933b-4685-a51b-8b7a13310953",
   "metadata": {},
   "source": [
    "Hence, the forward pass becomes the following. Let's train and check.Remember to add bngain and bnbias to the parameters of the model, as these are learnable parameters."
   ]
  },
  {
   "cell_type": "code",
   "execution_count": null,
   "id": "bbc03c22-45fc-4121-b9bb-43620a8c4fce",
   "metadata": {},
   "outputs": [],
   "source": [
    "n_embed = 3 # This is the dimentions of the embeddings. Each character will be defined as a 2D embedding\n",
    "vocab_size = 27 # This is the size of the vocabulary.\n",
    "\n",
    "n_hidden = 200\n",
    "g = torch.Generator().manual_seed(2147483646)\n",
    "C = torch.randn((vocab_size, n_embed), generator=g)\n",
    "\n",
    "W1 = torch.randn((n_embed * block_size, n_hidden), generator=g) #* ((5/3) / (n_embed * block_size) ** 0.5)\n",
    "B1 = torch.randn(n_hidden, generator=g) * 0.01 # Scalled down to 0.01\n",
    "\n",
    "W2 = torch.randn((n_hidden, vocab_size), generator=g) * (1 / n_hidden**0.5) # Gain for the linear layer is 1. Hence the std will be 1 / sqrt(fanin)\n",
    "B2 = torch.randn(vocab_size, generator=g) * 0 # Initialised to zero.\n",
    "\n",
    "bngain = torch.ones((1, n_hidden))\n",
    "bnbias = torch.zeros((1, n_hidden))\n",
    "\n",
    "parameters = [C, W1, B1, W2, B2, bngain, bnbias]\n",
    "\n",
    "# Let's set requires_grad to True for all parameters\n",
    "for p in parameters: \n",
    "    p.requires_grad = True"
   ]
  },
  {
   "cell_type": "code",
   "execution_count": 287,
   "id": "2b678815-6a31-41c0-bad1-2a350e5774ce",
   "metadata": {},
   "outputs": [
    {
     "name": "stdout",
     "output_type": "stream",
     "text": [
      "loss: 3.3478477001190186\n",
      "loss: 2.381439685821533\n",
      "loss: 2.5067310333251953\n",
      "loss: 1.8668248653411865\n"
     ]
    }
   ],
   "source": [
    "\n",
    "lossi = []\n",
    "epochs = 200000\n",
    "batch_size = 32\n",
    "for k in range (epochs):\n",
    "    # forward pass\n",
    "    ix = torch.randint(0, Xtr.shape[0], (batch_size, ))\n",
    "    X_onehot = F.one_hot(Xtr[ix], num_classes=vocab_size).float()\n",
    "    emb = X_onehot @ C\n",
    "    embeddings = emb.flatten(start_dim=1, end_dim=-1)\n",
    "    hpreact = embeddings @ W1 + B1\n",
    "    \n",
    "    hpreact_normalised = bngain * ((hpreact - hpreact.mean(0, keepdim=True)) / hpreact.std(0, keepdim=True)) + bnbias\n",
    "    h = torch.tanh(hpreact_normalised)\n",
    "    logits = h @ W2 + B2\n",
    "    # compute nll loss\n",
    "    loss = F.cross_entropy(logits, Ytr[ix])\n",
    "    # print(loss.item())\n",
    "    # update the grad to None\n",
    "    for p in parameters: \n",
    "        p.grad = None\n",
    "\n",
    "    # Backward pass \n",
    "    loss.backward()\n",
    "    \n",
    "    \n",
    "    # Update the values of the parameters \n",
    "    e = 0.1 if k < 100000 else 0.01\n",
    "    for p in parameters: \n",
    "        p.data -= e * p.grad\n",
    "\n",
    "    if k % 50000 == 0:\n",
    "        print(f\"loss: {loss}\")\n",
    "\n",
    "    lossi.append(loss.log10().item())"
   ]
  },
  {
   "cell_type": "code",
   "execution_count": 288,
   "id": "9ff07a0f-902a-4a51-a9a9-017ebd1a0507",
   "metadata": {},
   "outputs": [],
   "source": [
    "@torch.no_grad()\n",
    "def evaluate_loss_with_bn(split):\n",
    "    x, y = {\n",
    "        'train': (Xtr, Ytr),\n",
    "        'validation': (Xdev, Ydev),\n",
    "        'test': (Xte, Yte)\n",
    "    }[split]\n",
    "\n",
    "    X_onehot = F.one_hot(x, num_classes=vocab_size).float()\n",
    "    emb = X_onehot @ C\n",
    "    embeddings = emb.flatten(start_dim=1, end_dim=-1)\n",
    "    hpreact = embeddings @ W1 + B1\n",
    "    hpreact_normalised = bngain * ((hpreact - hpreact.mean(0, keepdim=True)) / hpreact.std(0, keepdim=True)) + bnbias\n",
    "    h = torch.tanh(hpreact_normalised)\n",
    "    logits = h @ W2 + B2\n",
    "    loss = F.cross_entropy(logits, y)\n",
    "    return loss"
   ]
  },
  {
   "cell_type": "code",
   "execution_count": 289,
   "id": "d78d69a1-6e0b-428f-b5c5-d3183b7d8365",
   "metadata": {},
   "outputs": [
    {
     "name": "stdout",
     "output_type": "stream",
     "text": [
      "Train loss: 2.184086322784424\n",
      "Validation loss: 2.1984779834747314\n"
     ]
    }
   ],
   "source": [
    "print(f\"Train loss: {evaluate_loss_with_bn('train')}\")\n",
    "print(f\"Validation loss: {evaluate_loss_with_bn('validation')}\")"
   ]
  },
  {
   "cell_type": "markdown",
   "id": "94de2cc4-0231-42e5-953b-ca8d81a18994",
   "metadata": {},
   "source": [
    "We have updated the forward pass of the loss computation function to include the batch normalization step."
   ]
  },
  {
   "cell_type": "markdown",
   "id": "98f48088-b7b5-4ae6-af5c-b328980c68d3",
   "metadata": {},
   "source": [
    "### The Batch Normalization comes at a terrible cost.\n",
    "Earlier, the hpreact of an input in a batch, only depended on that input. Even though we were training the model in batches of 32, the hpreact was only a function of a single input. That made the hpreact deterministic. \n",
    "<p>But due to the computation of mean and std for a batch, and using it to normalize the hpreact signal, we made the hpreact of an input not only the function of the corresponding input but all the inputs inside the batch.</p>\n",
    "<p>This adds some jitter or noise in hpreact, since mean and std depends on other inputs as well. This, in theory should be a bad thing. But actually, due to this noise, it makes the training more efficient, as it prevents the model to be overfitted to specific inputs.</p>"
   ]
  },
  {
   "cell_type": "markdown",
   "id": "ecf9033c-7011-4733-a907-b49569638d02",
   "metadata": {},
   "source": [
    "### One more thing to notice here is, the test functon now takes a batch instead of a single input. How will we infer from this model, if it relies on a batch?\n",
    "To get around this, there is an added step after training. We essentially compute the mean and the std over the entire dataset and use those values during testing and inference, enabling us to pass a single input. "
   ]
  },
  {
   "cell_type": "code",
   "execution_count": 291,
   "id": "8d9ecbde-c918-4250-8d95-e167439fbe11",
   "metadata": {},
   "outputs": [],
   "source": [
    "with torch.no_grad():\n",
    "    X_onehot = F.one_hot(Xtr, num_classes=vocab_size).float()\n",
    "    emb = X_onehot @ C\n",
    "    embeddings = emb.flatten(start_dim=1, end_dim=-1)\n",
    "    hpreact = embeddings @ W1 + B1\n",
    "    bnmean = hpreact.mean(0, keepdim=True)\n",
    "    bnstd = hpreact.std(0, keepdim=True)"
   ]
  },
  {
   "cell_type": "code",
   "execution_count": 292,
   "id": "596e48a4-2af6-427d-ad22-db6637fea7b5",
   "metadata": {},
   "outputs": [],
   "source": [
    "@torch.no_grad()\n",
    "def evaluate_loss_with_bn_precomp(split):\n",
    "    x, y = {\n",
    "        'train': (Xtr, Ytr),\n",
    "        'validation': (Xdev, Ydev),\n",
    "        'test': (Xte, Yte)\n",
    "    }[split]\n",
    "\n",
    "    X_onehot = F.one_hot(x, num_classes=vocab_size).float()\n",
    "    emb = X_onehot @ C\n",
    "    embeddings = emb.flatten(start_dim=1, end_dim=-1)\n",
    "    hpreact = embeddings @ W1 + B1\n",
    "    hpreact_normalised = bngain * ((hpreact - bnmean) / bnstd) + bnbias\n",
    "    h = torch.tanh(hpreact_normalised)\n",
    "    logits = h @ W2 + B2\n",
    "    loss = F.cross_entropy(logits, y)\n",
    "    return loss"
   ]
  },
  {
   "cell_type": "code",
   "execution_count": 293,
   "id": "ca8eb938-9628-48f8-b7a1-080ea862e9c4",
   "metadata": {},
   "outputs": [
    {
     "name": "stdout",
     "output_type": "stream",
     "text": [
      "Train loss: 2.184086322784424\n",
      "Validation loss: 2.1984779834747314\n"
     ]
    }
   ],
   "source": [
    "print(f\"Train loss: {evaluate_loss_with_bn_precomp('train')}\")\n",
    "print(f\"Validation loss: {evaluate_loss_with_bn_precomp('validation')}\")"
   ]
  },
  {
   "cell_type": "markdown",
   "id": "b95f5b1a-9474-41d3-87ce-652b5be99633",
   "metadata": {},
   "source": [
    "We get the exact same validation loss as above. But with this, the model can now take a single input and not rely on the entire batch during testing and inference.\n",
    "\n",
    "<p>This additional step after training is cumbursome. Can we not compute the mean and std while training?</p>\n",
    "Well, we can. Let's see how we would do that.\n"
   ]
  },
  {
   "cell_type": "code",
   "execution_count": 302,
   "id": "aeceeb21-aca0-40f6-95b5-df67a0363b8f",
   "metadata": {},
   "outputs": [],
   "source": [
    "n_embed = 3 # This is the dimentions of the embeddings. Each character will be defined as a 2D embedding\n",
    "vocab_size = 27 # This is the size of the vocabulary.\n",
    "\n",
    "n_hidden = 200\n",
    "g = torch.Generator().manual_seed(2147483646)\n",
    "C = torch.randn((vocab_size, n_embed), generator=g)\n",
    "\n",
    "W1 = torch.randn((n_embed * block_size, n_hidden), generator=g) * ((5/3) / (n_embed * block_size) ** 0.5)\n",
    "B1 = torch.randn(n_hidden, generator=g) * 0.01 # Scalled down to 0.01\n",
    "\n",
    "W2 = torch.randn((n_hidden, vocab_size), generator=g) * (1 / n_hidden**0.5) # Gain for the linear layer is 1. Hence the std will be 1 / sqrt(fanin)\n",
    "B2 = torch.randn(vocab_size, generator=g) * 0 # Initialised to zero.\n",
    "\n",
    "bngain = torch.ones((1, n_hidden))\n",
    "bnbias = torch.zeros((1, n_hidden))\n",
    "\n",
    "bnmean_running = torch.zeros((1, n_hidden)) # initialise running mean\n",
    "bnstd_running = torch.ones((1, n_hidden)) # initialise running std\n",
    "\n",
    "parameters = [C, W1, B1, W2, B2, bngain, bnbias]\n",
    "\n",
    "# Let's set requires_grad to True for all parameters\n",
    "for p in parameters: \n",
    "    p.requires_grad = True"
   ]
  },
  {
   "cell_type": "code",
   "execution_count": 303,
   "id": "e089cbfb-ee89-474e-a7fc-5b3f7555afda",
   "metadata": {},
   "outputs": [
    {
     "name": "stdout",
     "output_type": "stream",
     "text": [
      "loss: 3.3767499923706055\n",
      "loss: 2.1419811248779297\n",
      "loss: 2.0966620445251465\n",
      "loss: 2.2530078887939453\n"
     ]
    }
   ],
   "source": [
    "\n",
    "lossi = []\n",
    "epochs = 200000\n",
    "batch_size = 32\n",
    "for k in range (epochs):\n",
    "    # forward pass\n",
    "    ix = torch.randint(0, Xtr.shape[0], (batch_size, ))\n",
    "    X_onehot = F.one_hot(Xtr[ix], num_classes=vocab_size).float()\n",
    "    emb = X_onehot @ C\n",
    "    embeddings = emb.flatten(start_dim=1, end_dim=-1)\n",
    "    hpreact = embeddings @ W1 + B1\n",
    "\n",
    "    bnmeani = hpreact.mean(0, keepdim=True)\n",
    "    bnstdi = hpreact.std(0, keepdim=True)\n",
    "    \n",
    "    hpreact_normalised = bngain * ((hpreact - bnmeani) / bnstdi) + bnbias\n",
    "    \n",
    "    with torch.no_grad():\n",
    "        bnmean_running = 0.999 * bnmean_running + 0.001 * bnmeani\n",
    "        bnstd_running = 0.999 * bnstd_running + 0.001 * bnstdi\n",
    "    \n",
    "    h = torch.tanh(hpreact_normalised)\n",
    "\n",
    "    \n",
    "    logits = h @ W2 + B2\n",
    "    # compute nll loss\n",
    "    loss = F.cross_entropy(logits, Ytr[ix])\n",
    "    # print(loss.item())\n",
    "    # update the grad to None\n",
    "    for p in parameters: \n",
    "        p.grad = None\n",
    "\n",
    "    # Backward pass \n",
    "    loss.backward()\n",
    "    \n",
    "    \n",
    "    # Update the values of the parameters \n",
    "    e = 0.1 if k < 100000 else 0.01\n",
    "    for p in parameters: \n",
    "        p.data -= e * p.grad\n",
    "\n",
    "    if k % 50000 == 0:\n",
    "        print(f\"loss: {loss}\")\n",
    "\n",
    "    lossi.append(loss.log10().item())"
   ]
  },
  {
   "cell_type": "markdown",
   "id": "46eb4482-a091-4c6e-932c-de967e77490d",
   "metadata": {},
   "source": [
    "In the above changes, we will are computing the running mean and std at the time of training. We have put that under torch.no_grad, since we don't want torch to keep track of their operations, since we will never call backward on them."
   ]
  },
  {
   "cell_type": "code",
   "execution_count": 304,
   "id": "e7c1e83a-6b31-47e2-a428-b91c99a2917d",
   "metadata": {},
   "outputs": [],
   "source": [
    "@torch.no_grad()\n",
    "def evaluate_loss_with_bn_running(split):\n",
    "    x, y = {\n",
    "        'train': (Xtr, Ytr),\n",
    "        'validation': (Xdev, Ydev),\n",
    "        'test': (Xte, Yte)\n",
    "    }[split]\n",
    "\n",
    "    X_onehot = F.one_hot(x, num_classes=vocab_size).float()\n",
    "    emb = X_onehot @ C\n",
    "    embeddings = emb.flatten(start_dim=1, end_dim=-1)\n",
    "    hpreact = embeddings @ W1 + B1\n",
    "    hpreact_normalised = bngain * ((hpreact - bnmean_running) / bnstd_running) + bnbias\n",
    "    h = torch.tanh(hpreact_normalised)\n",
    "    logits = h @ W2 + B2\n",
    "    loss = F.cross_entropy(logits, y)\n",
    "    return loss"
   ]
  },
  {
   "cell_type": "code",
   "execution_count": 305,
   "id": "acea64c8-bce9-4dfd-9f02-f517b5c5c06e",
   "metadata": {},
   "outputs": [
    {
     "name": "stdout",
     "output_type": "stream",
     "text": [
      "Train loss: 2.17045521736145\n",
      "Validation loss: 2.18615984916687\n"
     ]
    }
   ],
   "source": [
    "print(f\"Train loss: {evaluate_loss_with_bn_running('train')}\")\n",
    "print(f\"Validation loss: {evaluate_loss_with_bn_running('validation')}\")"
   ]
  },
  {
   "cell_type": "markdown",
   "id": "ead6e21c-2aab-4ef8-be06-b8c211f4e102",
   "metadata": {},
   "source": [
    "The validation loss is unaffected above."
   ]
  },
  {
   "cell_type": "markdown",
   "id": "3ef2609d-3556-4162-be76-0807ab3c47fe",
   "metadata": {},
   "source": [
    "### Where to add these batch normalization layers in the network?\n",
    "It is a good practise to sprinkle these batch normalization layers after linear layers (whereever there is multiplicative operation like x @ W). "
   ]
  },
  {
   "cell_type": "code",
   "execution_count": 306,
   "id": "e8ef893c-82be-4799-9323-c18929bd00ee",
   "metadata": {},
   "outputs": [
    {
     "name": "stdout",
     "output_type": "stream",
     "text": [
      "loss: 3.287585496902466\n",
      "loss: 1.960916519165039\n",
      "loss: 2.1940715312957764\n",
      "loss: 2.235799551010132\n"
     ]
    }
   ],
   "source": [
    "n_embed = 3 # This is the dimentions of the embeddings. Each character will be defined as a 2D embedding\n",
    "vocab_size = 27 # This is the size of the vocabulary.\n",
    "\n",
    "n_hidden = 200\n",
    "g = torch.Generator().manual_seed(2147483646)\n",
    "C = torch.randn((vocab_size, n_embed), generator=g)\n",
    "\n",
    "# ------ Hidden layer parameters -----------\n",
    "W1 = torch.randn((n_embed * block_size, n_hidden), generator=g) * ((5/3) / (n_embed * block_size) ** 0.5)\n",
    "B1 = torch.randn(n_hidden, generator=g) * 0.01 # Scalled down to 0.01\n",
    "\n",
    "# --------- Output layer parameters ------------\n",
    "W2 = torch.randn((n_hidden, vocab_size), generator=g) * (1 / n_hidden**0.5) # Gain for the linear layer is 1. Hence the std will be 1 / sqrt(fanin)\n",
    "B2 = torch.randn(vocab_size, generator=g) * 0 # Initialised to zero.\n",
    "\n",
    "# --------- Batch normalization parameters ---------------------\n",
    "bngain = torch.ones((1, n_hidden))\n",
    "bnbias = torch.zeros((1, n_hidden))\n",
    "\n",
    "# -------------- Batch normalization buffers (these are not trained with back propogation) -----------------\n",
    "bnmean_running = torch.zeros((1, n_hidden)) # initialise running mean\n",
    "bnstd_running = torch.ones((1, n_hidden)) # initialise running std\n",
    "\n",
    "parameters = [C, W1, B1, W2, B2, bngain, bnbias]\n",
    "\n",
    "# Let's set requires_grad to True for all parameters\n",
    "for p in parameters: \n",
    "    p.requires_grad = True\n",
    "\n",
    "\n",
    "# ------------------ Training ----------------------\n",
    "\n",
    "lossi = []\n",
    "epochs = 200000\n",
    "batch_size = 32\n",
    "for k in range (epochs):\n",
    "    # --------- forward pass ------------\n",
    "    ix = torch.randint(0, Xtr.shape[0], (batch_size, ))\n",
    "    X_onehot = F.one_hot(Xtr[ix], num_classes=vocab_size).float()\n",
    "    emb = X_onehot @ C\n",
    "    embeddings = emb.flatten(start_dim=1, end_dim=-1)\n",
    "\n",
    "    # --------- Linear layer ---------------\n",
    "    hpreact = embeddings @ W1 + B1\n",
    "\n",
    "    bnmeani = hpreact.mean(0, keepdim=True)\n",
    "    bnstdi = hpreact.std(0, keepdim=True)\n",
    "\n",
    "    # --------- Batch Normalization layer -----------------\n",
    "    hpreact_normalised = bngain * ((hpreact - bnmeani) / bnstdi) + bnbias\n",
    "    \n",
    "    with torch.no_grad():\n",
    "        bnmean_running = 0.999 * bnmean_running + 0.001 * bnmeani\n",
    "        bnstd_running = 0.999 * bnstd_running + 0.001 * bnstdi\n",
    "    \n",
    "    # ---------- Activation layer -----------------\n",
    "    \n",
    "    h = torch.tanh(hpreact_normalised)\n",
    "\n",
    "    # -------------- Output linear layer ------------------\n",
    "    \n",
    "    logits = h @ W2 + B2\n",
    "    # compute nll loss\n",
    "\n",
    "    # ------------- Softmax & nll layer ---------------------\n",
    "    loss = F.cross_entropy(logits, Ytr[ix])\n",
    "\n",
    "    # update the grad to None\n",
    "    for p in parameters: \n",
    "        p.grad = None\n",
    "\n",
    "    # Backward pass \n",
    "    loss.backward()\n",
    "    \n",
    "    \n",
    "    # Update the values of the parameters \n",
    "    e = 0.1 if k < 100000 else 0.01\n",
    "    for p in parameters: \n",
    "        p.data -= e * p.grad\n",
    "\n",
    "    if k % 50000 == 0:\n",
    "        print(f\"loss: {loss}\")\n",
    "\n",
    "    lossi.append(loss.log10().item())"
   ]
  },
  {
   "cell_type": "code",
   "execution_count": 307,
   "id": "4d068cef-2f04-40a4-87e3-c8d0521da374",
   "metadata": {},
   "outputs": [],
   "source": [
    "@torch.no_grad()\n",
    "def evaluate_loss_with_bn_running(split):\n",
    "    x, y = {\n",
    "        'train': (Xtr, Ytr),\n",
    "        'validation': (Xdev, Ydev),\n",
    "        'test': (Xte, Yte)\n",
    "    }[split]\n",
    "\n",
    "    X_onehot = F.one_hot(x, num_classes=vocab_size).float()\n",
    "    emb = X_onehot @ C\n",
    "    embeddings = emb.flatten(start_dim=1, end_dim=-1)\n",
    "    hpreact = embeddings @ W1 + B1\n",
    "    hpreact_normalised = bngain * ((hpreact - bnmean_running) / bnstd_running) + bnbias\n",
    "    h = torch.tanh(hpreact_normalised)\n",
    "    logits = h @ W2 + B2\n",
    "    loss = F.cross_entropy(logits, y)\n",
    "    return loss"
   ]
  },
  {
   "cell_type": "code",
   "execution_count": 308,
   "id": "e3d20536-5e30-41ea-8555-7917dc377c04",
   "metadata": {},
   "outputs": [
    {
     "name": "stdout",
     "output_type": "stream",
     "text": [
      "Train loss: 2.391275405883789\n",
      "Validation loss: 2.391932249069214\n"
     ]
    }
   ],
   "source": [
    "# ---------------- Test and validation -----------------\n",
    "\n",
    "print(f\"Train loss: {evaluate_loss_with_bn_precomp('train')}\")\n",
    "print(f\"Validation loss: {evaluate_loss_with_bn_precomp('validation')}\")"
   ]
  }
 ],
 "metadata": {
  "kernelspec": {
   "display_name": "Python 3 (ipykernel)",
   "language": "python",
   "name": "python3"
  },
  "language_info": {
   "codemirror_mode": {
    "name": "ipython",
    "version": 3
   },
   "file_extension": ".py",
   "mimetype": "text/x-python",
   "name": "python",
   "nbconvert_exporter": "python",
   "pygments_lexer": "ipython3",
   "version": "3.12.4"
  }
 },
 "nbformat": 4,
 "nbformat_minor": 5
}
