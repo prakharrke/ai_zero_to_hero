{
 "cells": [
  {
   "cell_type": "code",
   "execution_count": 2,
   "id": "1506ebb1-7d40-4f99-848c-7806ab37e7aa",
   "metadata": {},
   "outputs": [],
   "source": [
    "words = open('names.txt', 'r').read().splitlines()"
   ]
  },
  {
   "cell_type": "markdown",
   "id": "05ed5f77-0c89-4c7d-a068-5308e9e5a068",
   "metadata": {},
   "source": [
    "### Create trigrams where first two characters are inputs and the following character is the output."
   ]
  },
  {
   "cell_type": "code",
   "execution_count": 123,
   "id": "8ac68086-a597-4b85-8752-612187aabc7d",
   "metadata": {},
   "outputs": [],
   "source": [
    "import torch\n",
    "chars = sorted(list(set(''.join(words))))\n",
    "stoi = {s:i+1 for i,s in enumerate(chars)}\n",
    "stoi['.'] = 0\n",
    "itos = {i:s for s,i in stoi.items()}\n",
    "xs = []\n",
    "ys = []\n",
    "\n",
    "for w in words[:1]: \n",
    "    chs = ['.'] + list(w) + ['.']  # Add padding character at start and end\n",
    "    for ch1, ch2, ch3 in zip(chs, chs[1:], chs[2:]):\n",
    "        ix1 = stoi[ch1]\n",
    "        ix2 = stoi[ch2]\n",
    "        ix3 = stoi[ch3]\n",
    "        xs.append([ix1, ix2])  # Store the first two characters as input\n",
    "        ys.append(ix3)  # Store the third character as the target\n",
    "\n",
    "# Convert lists to tensors\n",
    "xs = torch.tensor(xs)  # Shape will be (number of trigrams, 2)\n",
    "ys = torch.tensor(ys)  # Shape will be (number of trigrams,)"
   ]
  },
  {
   "cell_type": "code",
   "execution_count": 6,
   "id": "4cd9d89d-710d-4307-a4db-a0526f39833f",
   "metadata": {},
   "outputs": [
    {
     "data": {
      "text/plain": [
       "(tensor([[ 0,  5],\n",
       "         [ 5, 13],\n",
       "         [13, 13],\n",
       "         [13,  1]]),\n",
       " tensor([13, 13,  1,  0]))"
      ]
     },
     "execution_count": 6,
     "metadata": {},
     "output_type": "execute_result"
    }
   ],
   "source": [
    "xs, ys"
   ]
  },
  {
   "cell_type": "markdown",
   "id": "4eb0367c-6d76-45f5-b8fe-44b97b212696",
   "metadata": {},
   "source": [
    "#### Now we have inputs, which indicates two characters. \n",
    "We cannot feed these inputs directly to a neural net since these are integers. Let's <b>one hot</b> encode them to get one hot encoded vectors of these inputs. "
   ]
  },
  {
   "cell_type": "code",
   "execution_count": 7,
   "id": "916bb57b-e932-4219-b1d2-111f0897e392",
   "metadata": {},
   "outputs": [
    {
     "data": {
      "text/plain": [
       "torch.Size([4, 2])"
      ]
     },
     "execution_count": 7,
     "metadata": {},
     "output_type": "execute_result"
    }
   ],
   "source": [
    "xs.shape"
   ]
  },
  {
   "cell_type": "code",
   "execution_count": 9,
   "id": "1be78190-cae0-48b0-a5a5-3c7d50727868",
   "metadata": {},
   "outputs": [
    {
     "data": {
      "text/plain": [
       "torch.Size([4, 2, 27])"
      ]
     },
     "execution_count": 9,
     "metadata": {},
     "output_type": "execute_result"
    }
   ],
   "source": [
    "import torch.nn.functional as F\n",
    "xenc = F.one_hot(xs, num_classes=27).float()\n",
    "xenc.shape"
   ]
  },
  {
   "cell_type": "markdown",
   "id": "b91a1319-2cd5-4719-a9f4-a6fbd55e6ac7",
   "metadata": {},
   "source": [
    "4 indicates the batch dimension. It shows how many inputs are there in the batch. So there are 4 inputs, representing 4 trigrams that got created from the first word 'emma'.\n",
    "That means, each input now is a 2D vector, since there are two characters now. \n",
    "The shape of the 2D vector is [2, 27], where 2 represents the number of characters (which is 2) and 27 represents the one hot encoded representation of the input. 27 means that there are 27 possible characters, out of which only one character will be 1, rest will be zero. \n",
    "\n",
    "Let's examine 1 input."
   ]
  },
  {
   "cell_type": "code",
   "execution_count": 14,
   "id": "e04346a2-5a7d-44c0-8034-497205d5454e",
   "metadata": {},
   "outputs": [
    {
     "data": {
      "text/plain": [
       "(torch.Size([4, 2, 27]),\n",
       " tensor([[1., 0., 0., 0., 0., 0., 0., 0., 0., 0., 0., 0., 0., 0., 0., 0., 0., 0.,\n",
       "          0., 0., 0., 0., 0., 0., 0., 0., 0.],\n",
       "         [0., 0., 0., 0., 0., 1., 0., 0., 0., 0., 0., 0., 0., 0., 0., 0., 0., 0.,\n",
       "          0., 0., 0., 0., 0., 0., 0., 0., 0.]]))"
      ]
     },
     "execution_count": 14,
     "metadata": {},
     "output_type": "execute_result"
    }
   ],
   "source": [
    "xenc.shape, xenc[0]"
   ]
  },
  {
   "cell_type": "markdown",
   "id": "4b6ead83-fed4-4a54-97c6-0a8dc88d5ad6",
   "metadata": {},
   "source": [
    "### If a single input is now a 2D vector, how do we feed it to the neurons? \n",
    "In th bigram example, our input was a 1D [1, 27] vector, which we could directly feed to the model. \n",
    "But here, we have a [2, 27] shape vector.\n",
    "\n",
    "### One way to do this is that we convert this [2, 27] vector into a [1, 54] vector by concatenating the 2 rows into 1 row. This operation is called flattening the vector.\n",
    "There are other ways as well, but first let's try this approach. "
   ]
  },
  {
   "cell_type": "code",
   "execution_count": 29,
   "id": "c9919af2-b1dd-4292-a5c4-5e640ef4ede1",
   "metadata": {},
   "outputs": [
    {
     "data": {
      "text/plain": [
       "torch.Size([2, 27])"
      ]
     },
     "execution_count": 29,
     "metadata": {},
     "output_type": "execute_result"
    }
   ],
   "source": [
    "xsingle = xenc[0]\n",
    "xsingle.shape"
   ]
  },
  {
   "cell_type": "code",
   "execution_count": 21,
   "id": "2fe583bc-5094-4401-bdc3-d3e511a672b7",
   "metadata": {},
   "outputs": [
    {
     "data": {
      "text/plain": [
       "torch.Size([54])"
      ]
     },
     "execution_count": 21,
     "metadata": {},
     "output_type": "execute_result"
    }
   ],
   "source": [
    "xsingle_flat = xsingle.view(-1)\n",
    "xsingle_flat.shape"
   ]
  },
  {
   "cell_type": "markdown",
   "id": "2bb53abe-b600-4edc-97c4-667477997c8f",
   "metadata": {},
   "source": [
    "Now we have 1D vector of  length 54. \n",
    "\n",
    "Let's convert the entire batch of inputs. xenc has the shape of [4, 2, 27]. Where 4 signifies the number of inputs in the batch (meaning, we have 4 inputs, each expecting its next character). So while flattening, we want to flatten each of these 4 inputs separately, so that we have 4 inputs of 1D vectors of length 54. \n",
    "\n",
    "Hence, the expected shape will be [4, 54].\n",
    "This indicates that each input has 54 features now."
   ]
  },
  {
   "cell_type": "code",
   "execution_count": 25,
   "id": "ffcec658-fa98-408b-8f2f-f3b19436e4b9",
   "metadata": {},
   "outputs": [],
   "source": [
    "xenc_f = xenc.view(4, -1)"
   ]
  },
  {
   "cell_type": "code",
   "execution_count": 26,
   "id": "41a94ce5-40bd-4158-b4ad-a69c4e017f6c",
   "metadata": {},
   "outputs": [
    {
     "data": {
      "text/plain": [
       "torch.Size([4, 54])"
      ]
     },
     "execution_count": 26,
     "metadata": {},
     "output_type": "execute_result"
    }
   ],
   "source": [
    "xenc_f.shape"
   ]
  },
  {
   "cell_type": "markdown",
   "id": "69ae716e-6a5e-43dd-9b0f-781a8d2bdbab",
   "metadata": {},
   "source": [
    "Now that our input is ready, let's think about the layer, starting with a single neuron.\n",
    "\n",
    "### How many weights will a neuron have?\n",
    "Since, the input has 54 features, we will need 54 weights per neuron, so that each feature can influence the output of a neuron with a specific weight. \n",
    "The linear transformation of the neuron will look something like this:\n",
    "</br>\n",
    "\n",
    "output of neuron = w1x2 + w2x2 + w3x3 + ....... w54x54\n",
    "\n",
    "Let's define a weight matrix, for a single neuron to begin with, of shape [54, 1].\n",
    "\n",
    "<b>Another important thing to note here, why do we define the weight matrix of shape [54, 1] and not [1, 54]? In other words, why is it a column matrix and not a row matrix? </b>\n",
    "\n",
    "If we check our single input, it is of shape [1, 54], it is a row matrix. Our goal is to multiple the input vector with the weight vector, to obtain a single output of this neuron. It should be of the shape [1, 1]. That is only possible if the input matrix is a row matrix [1, 54] and the weights are a column matrix [54, 1]. The result of this multiplication will be a matrix of [1, 1].\n",
    "We want to add all the multiplicatives of xiwi, which is essentially a matrix multiplication. \n"
   ]
  },
  {
   "cell_type": "code",
   "execution_count": 33,
   "id": "009116fa-7471-47bb-91fb-898bbe20ba2a",
   "metadata": {},
   "outputs": [
    {
     "data": {
      "text/plain": [
       "torch.Size([54, 1])"
      ]
     },
     "execution_count": 33,
     "metadata": {},
     "output_type": "execute_result"
    }
   ],
   "source": [
    "g = torch.Generator().manual_seed(2147483647)\n",
    "W = torch.randn((54, 1), generator = g, requires_grad=True)\n",
    "\n",
    "W.shape"
   ]
  },
  {
   "cell_type": "markdown",
   "id": "e6a03d45-03c9-413c-919f-7755ed3fe6cc",
   "metadata": {},
   "source": [
    "This ofcourse is a single neuron. Each weight in the column influences one feature of the input each. It defines how much will each feature  affect the output of the neuron. \n",
    "This matrix multipliacation that we are performing is nothing but the <b>Forward Pass</b> (barring loss calculation at the moment)."
   ]
  },
  {
   "cell_type": "code",
   "execution_count": 36,
   "id": "def1e272-0853-447d-8906-3ccdd4500ae1",
   "metadata": {},
   "outputs": [
    {
     "data": {
      "text/plain": [
       "torch.Size([4, 1])"
      ]
     },
     "execution_count": 36,
     "metadata": {},
     "output_type": "execute_result"
    }
   ],
   "source": [
    "out = (xenc_f @ W)\n",
    "out.shape"
   ]
  },
  {
   "cell_type": "code",
   "execution_count": 37,
   "id": "4658b3ab-c995-4c0b-b20c-12fdb7dd7ce2",
   "metadata": {},
   "outputs": [
    {
     "data": {
      "text/plain": [
       "tensor([[ 1.6185],\n",
       "        [-0.5326],\n",
       "        [-0.9359],\n",
       "        [-1.6529]], grad_fn=<MmBackward0>)"
      ]
     },
     "execution_count": 37,
     "metadata": {},
     "output_type": "execute_result"
    }
   ],
   "source": [
    "out"
   ]
  },
  {
   "cell_type": "markdown",
   "id": "c2ec5e86-fe1d-4c1a-a8c0-aa2e5cc1ccc0",
   "metadata": {},
   "source": [
    "Since our input has a batch size of 4, we get a [4, 1] vector, which is a column vector. each value is the output of this neuron for each input in the batch. \n",
    "\n",
    "### Let's build a layer with 27 neurons. Why do we need 27 neurons? \n",
    "Since we want to predict the next character, and there are 27 possible characters. Hence, each neuron will give us the probability (logit at the moment) of one character. From these 27 neurons, we will have the probability (logits) of all 27 possible characters, given an input.\n",
    "\n",
    "### What will be the shape of this weights matrix now?\n",
    "Well, each neuron is a column vector and we have 27 such neurons, so the shape will be [54, 27], signiying 27 neurons with each having 54 weights."
   ]
  },
  {
   "cell_type": "code",
   "execution_count": 38,
   "id": "68fda760-4a33-407c-b16a-1abd0c13c74e",
   "metadata": {},
   "outputs": [
    {
     "data": {
      "text/plain": [
       "torch.Size([54, 27])"
      ]
     },
     "execution_count": 38,
     "metadata": {},
     "output_type": "execute_result"
    }
   ],
   "source": [
    "g = torch.Generator().manual_seed(2147483647)\n",
    "W = torch.randn((54, 27), generator = g, requires_grad=True)\n",
    "W.shape"
   ]
  },
  {
   "cell_type": "markdown",
   "id": "eda64762-02ee-4de8-811d-766f4cebccad",
   "metadata": {},
   "source": [
    "### Let's understand the output vector shapes\n",
    "Let's take a single input (batch size 1) and see what that yields. Let's first understand that manually. </br>\n",
    "We have an input vector of shape [1, 54] and a weights vector of shape [54, 27]. Multiplying these vectors will give us an output vector of shape [1, 27]. \n",
    "### What does this shape signify?\n",
    "It signifies that we will have a 1D vector of 27 outputs. These represent the logits of 27 neurons. In other words, it represents the probabilities of each out of the 27 possible characters as the next character in the sequence. \n",
    "\n",
    "If input is [e, m], the 27 outputs signify the probabilities of what the third character can be. Let's call output as the output vector of shape [1, 27], then <br>\n",
    "output[0][0] will signify the probability of '.' character to be next character ('.' has index 0, 'a' has index 1...) and so on. \n",
    "\n",
    "One question might be, if output is a 1D vector, why do we have the shape as [1, 27]? Well, [1, 27] is just torch's way of maintaining the batch dimension. [1, 27] is same as [27] shape 1D vector, expect you need [0] as row value to actually access the 27 outputs."
   ]
  },
  {
   "cell_type": "code",
   "execution_count": 107,
   "id": "967fd62d-2894-4c28-81dc-70b563847f0a",
   "metadata": {},
   "outputs": [
    {
     "data": {
      "text/plain": [
       "torch.Size([1, 54])"
      ]
     },
     "execution_count": 107,
     "metadata": {},
     "output_type": "execute_result"
    }
   ],
   "source": [
    "xsingle = xenc_f[0].unsqueeze(0)\n",
    "xsingle.shape"
   ]
  },
  {
   "cell_type": "markdown",
   "id": "04881e36-8b53-4979-9c98-41ee6ee3e957",
   "metadata": {},
   "source": [
    "xsingle is our single input (batch size is 1). "
   ]
  },
  {
   "cell_type": "code",
   "execution_count": 108,
   "id": "b44fdcdc-32cd-4b32-9dee-5d575ffe974e",
   "metadata": {},
   "outputs": [
    {
     "data": {
      "text/plain": [
       "torch.Size([1, 27])"
      ]
     },
     "execution_count": 108,
     "metadata": {},
     "output_type": "execute_result"
    }
   ],
   "source": [
    "output = xsingle @ W\n",
    "output.shape"
   ]
  },
  {
   "cell_type": "code",
   "execution_count": 109,
   "id": "3186db95-a4ff-47c1-84fe-c2bee87ba591",
   "metadata": {},
   "outputs": [
    {
     "data": {
      "text/plain": [
       "tensor([[ 0.5352,  0.2418, -0.2616, -1.0364,  0.4752, -0.3721, -0.2249, -0.4349,\n",
       "         -0.6773,  1.1168,  1.6238,  1.3033,  0.3456,  0.5469,  2.9616,  1.7805,\n",
       "          0.8366, -0.8746,  2.0334,  0.3803,  0.6542, -0.8347, -1.6931,  1.4028,\n",
       "         -1.6675,  0.6432,  1.0764]], grad_fn=<MmBackward0>)"
      ]
     },
     "execution_count": 109,
     "metadata": {},
     "output_type": "execute_result"
    }
   ],
   "source": [
    "output"
   ]
  },
  {
   "cell_type": "markdown",
   "id": "b543307b-b38c-4dd7-9949-d701eed66a89",
   "metadata": {},
   "source": [
    "Given the input as '.', 'e'; let's check for the probability of 'm' character to be next character is (since .e is followed by m in the trigram). Index of m can be found out from stoi dictionary created above. "
   ]
  },
  {
   "cell_type": "code",
   "execution_count": 110,
   "id": "abce74fb-af00-479d-bc81-0978cec9159e",
   "metadata": {},
   "outputs": [
    {
     "data": {
      "text/plain": [
       "tensor(0.5469, grad_fn=<SelectBackward0>)"
      ]
     },
     "execution_count": 110,
     "metadata": {},
     "output_type": "execute_result"
    }
   ],
   "source": [
    "index_m = stoi['m'] # it is 13\n",
    "output[0][index_m]"
   ]
  },
  {
   "cell_type": "markdown",
   "id": "8eae5dea-7226-4082-8a8c-4924deb8d042",
   "metadata": {},
   "source": [
    "Remember, these probabilities (logits) are just random values that the layer is outputting since we used random weights.\n",
    "</br>Also, these values in output are not actually probabilities, as you can see above that these values are negative as well and also some are greater than 1. These are just neurons' outputs after linear transformation (Σ(xiwi)). \n",
    "\n",
    "We need to perform 2 operations in order to make them probabilities. \n",
    "1. <b>Exponentiation</b>:\n",
    "   This step converts the negative values to positive. Why not just take absolute value? Well, exp also scales the values such that the greater values stand out more. Let's say a = 2 and b = 4. |a| = 2 and |b| = 4. The difference between these values remain the same.\n",
    "   But taking exp(a) = 7.39 and exp(b) = 54.6. You can see that the difference after exponentiation increases, thus making greater values stand out more.\n",
    "2. <b>Normalization</b>:\n",
    "   The outputs are now positive but they are still not probabilities. In order to make them probabilities, we normalise them with the sum of all the outputs for a given input.\n",
    "</br>\n",
    "<b>These 2 steps collectively make Softmax Function.</b></br>\n",
    "\n",
    "$$\n",
    "\\text{softmax}(z_i) = \\frac{\\exp(z_i)}{\\sum_{j=1}^{n} \\exp(z_j)}\n",
    "$$\n",
    "\n",
    "Let's convert these outputs to probabilities. "
   ]
  },
  {
   "cell_type": "code",
   "execution_count": 111,
   "id": "3934b21e-468a-4610-82f7-8e9c347fbcaa",
   "metadata": {},
   "outputs": [
    {
     "data": {
      "text/plain": [
       "tensor([[ 0.5352,  0.2418, -0.2616, -1.0364,  0.4752, -0.3721, -0.2249, -0.4349,\n",
       "         -0.6773,  1.1168,  1.6238,  1.3033,  0.3456,  0.5469,  2.9616,  1.7805,\n",
       "          0.8366, -0.8746,  2.0334,  0.3803,  0.6542, -0.8347, -1.6931,  1.4028,\n",
       "         -1.6675,  0.6432,  1.0764]], grad_fn=<MmBackward0>)"
      ]
     },
     "execution_count": 111,
     "metadata": {},
     "output_type": "execute_result"
    }
   ],
   "source": [
    "output"
   ]
  },
  {
   "cell_type": "code",
   "execution_count": 112,
   "id": "00141532-03b2-46b5-b1d6-ac67971cfac1",
   "metadata": {},
   "outputs": [
    {
     "data": {
      "text/plain": [
       "tensor([[0.0237, 0.0177, 0.0107, 0.0049, 0.0223, 0.0096, 0.0111, 0.0090, 0.0071,\n",
       "         0.0424, 0.0704, 0.0511, 0.0196, 0.0240, 0.2683, 0.0824, 0.0320, 0.0058,\n",
       "         0.1061, 0.0203, 0.0267, 0.0060, 0.0026, 0.0565, 0.0026, 0.0264, 0.0407]],\n",
       "       grad_fn=<DivBackward0>)"
      ]
     },
     "execution_count": 112,
     "metadata": {},
     "output_type": "execute_result"
    }
   ],
   "source": [
    "probs = torch.exp(output)/ output.exp().sum(1, keepdim=True)\n",
    "probs"
   ]
  },
  {
   "cell_type": "markdown",
   "id": "a740253b-2ff4-42a7-8a96-3a0cf8c52e89",
   "metadata": {},
   "source": [
    "Now they are actually probabilities."
   ]
  },
  {
   "cell_type": "code",
   "execution_count": 113,
   "id": "fe1e8d36-ec25-40ba-ae00-5848df8fe8bf",
   "metadata": {},
   "outputs": [
    {
     "data": {
      "text/plain": [
       "tensor(0.0240, grad_fn=<SelectBackward0>)"
      ]
     },
     "execution_count": 113,
     "metadata": {},
     "output_type": "execute_result"
    }
   ],
   "source": [
    "index_m = stoi['m'] # it is 13\n",
    "probs[0][index_m]"
   ]
  },
  {
   "cell_type": "markdown",
   "id": "e5189aaf-92b1-4ed7-b51e-8f9614b9561d",
   "metadata": {},
   "source": [
    "So the probability of 'm' being the next character with input '.e', is 0.02. Not very good. We will improve this by training the model at a later stage. \n",
    "\n",
    "This also defines the <i>Likelyhood</i> of the next character to be 'm'. Right now, we only have 1 input. <br>\n",
    "If we had multiple inputs, we won't be able to indivisually use these probabilities to compute the performance of the model. \n",
    "\n",
    "We would want a single value to access the performance of the model. \n",
    "One way to get that single value is multiplying the probabilities of expected next characters for each input. \n",
    "Let's say, \n",
    "<br>input 1 expects character 'm' to be the next character. Its probability is p1.\n",
    "<br>input 2 expects character 'a' to be the next character. Its probability is p2.\n",
    "\n",
    "The overall probability will be p = p1 * p2. \n",
    "\n",
    "Since, probabilities range between 0 to 1, after multitplying, this value becomes very small. How to deal with that?\n",
    "Let's discuss the issues with working with very small probability values first. \n",
    "\n",
    "1. <b>Underflow issues</b>: Very small values can easily underflow since the datatypes in computers have a certain precision.\n",
    "2. <b>Loss of gradients of vanishing gradients</b>: Working with very small values generate very small gradients during backpropogation, effectively almost losing the gradients. With neglegible gradients, we will not be able to modify the weights to achieve correct weight values. This problem is called <b>vanishing gradient issue</b>.\n",
    "\n",
    "<b>How do we fix this?</b>\n",
    "The problem is the multiplication that makes the values very small. What if we did not have to multiply at all?\n",
    "<b>Logarithms</> to the rescue.\n",
    "We know that \n",
    "$$\n",
    "log(p1*p2) = log(p1) + log(p2)\n",
    "$$\n",
    "\n",
    "Hence, taking logs of probabilities help us get rid of very small values. \n"
   ]
  },
  {
   "cell_type": "code",
   "execution_count": 114,
   "id": "1c5a47bc-324d-4a90-a723-df873e692472",
   "metadata": {},
   "outputs": [
    {
     "data": {
      "text/plain": [
       "tensor(0.0240, grad_fn=<SelectBackward0>)"
      ]
     },
     "execution_count": 114,
     "metadata": {},
     "output_type": "execute_result"
    }
   ],
   "source": [
    "prob_m = probs[0][index_m]\n",
    "prob_m"
   ]
  },
  {
   "cell_type": "code",
   "execution_count": 115,
   "id": "42b458af-07d3-4b56-a152-3931ba381b17",
   "metadata": {},
   "outputs": [
    {
     "data": {
      "text/plain": [
       "tensor(-3.7302, grad_fn=<LogBackward0>)"
      ]
     },
     "execution_count": 115,
     "metadata": {},
     "output_type": "execute_result"
    }
   ],
   "source": [
    "log_prob = torch.log(prob_m)\n",
    "log_prob"
   ]
  },
  {
   "cell_type": "markdown",
   "id": "d9e91371-84aa-48da-9fe4-7efba5c359d1",
   "metadata": {},
   "source": [
    "In order to gauge the performance and improve the performance of the model, we would need to increase this log_probability value. \n",
    "Another way to look at it, is, if I negate this value, it becomes a value that my model should reduce. This is called <b>Loss</b>.\n",
    "More specifically, this is known as the <b>Negative Likelyhood Log</b> loss, since we took log of the <i>likelyhood</i> of a character and the negated it. \n",
    "$$\n",
    "NLL = -(log(probability))\n",
    "$$\n",
    "This is ofcourse just for 1 input. For multiple inputs, we sum the log probabilities of outputs and then negate the sum."
   ]
  },
  {
   "cell_type": "code",
   "execution_count": 117,
   "id": "7259498b-4636-4ab0-b12d-7d6652fec905",
   "metadata": {},
   "outputs": [
    {
     "data": {
      "text/plain": [
       "tensor(3.7302, grad_fn=<NegBackward0>)"
      ]
     },
     "execution_count": 117,
     "metadata": {},
     "output_type": "execute_result"
    }
   ],
   "source": [
    "nll = -log_prob\n",
    "nll"
   ]
  },
  {
   "cell_type": "markdown",
   "id": "64c14f80-c983-4a98-866e-b6e23572e8e0",
   "metadata": {},
   "source": [
    "This is the value we will try to reduce using gradient descent.\n",
    "But before that, let's attempt to use all the inputs instead of just a single input and try to figure out the shape of the output matrix.\n",
    "\n",
    "Our input xenc_f is of shape [4, 54] signifying 4 inputs (batch size) with 54 features each. \n",
    "Our weights are [54, 27] signifying 27 neurons with 54 weights per neuron.\n",
    "\n",
    "The multiplication (xenc_f @ W) of these vectors will yield an output of [4, 27] shape. \n",
    "It must be clear by now, that this represents the 27 logits, one for each character and 4 such vectors, one for each input. "
   ]
  },
  {
   "cell_type": "code",
   "execution_count": 118,
   "id": "2ab21e12-81fe-48d4-ac99-a02024f07b35",
   "metadata": {},
   "outputs": [
    {
     "data": {
      "text/plain": [
       "torch.Size([4, 27])"
      ]
     },
     "execution_count": 118,
     "metadata": {},
     "output_type": "execute_result"
    }
   ],
   "source": [
    "output = xenc_f @ W\n",
    "output.shape"
   ]
  },
  {
   "cell_type": "code",
   "execution_count": 119,
   "id": "57c4de17-c5f0-43fb-be19-856b643d0352",
   "metadata": {},
   "outputs": [
    {
     "data": {
      "text/plain": [
       "tensor([[0.0237, 0.0177, 0.0107, 0.0049, 0.0223, 0.0096, 0.0111, 0.0090, 0.0071,\n",
       "         0.0424, 0.0704, 0.0511, 0.0196, 0.0240, 0.2683, 0.0824, 0.0320, 0.0058,\n",
       "         0.1061, 0.0203, 0.0267, 0.0060, 0.0026, 0.0565, 0.0026, 0.0264, 0.0407],\n",
       "        [0.0224, 0.0482, 0.0110, 0.0675, 0.0691, 0.0033, 0.0108, 0.0058, 0.0093,\n",
       "         0.0043, 0.1095, 0.0867, 0.0058, 0.0074, 0.0009, 0.0084, 0.0135, 0.0044,\n",
       "         0.0651, 0.0046, 0.0327, 0.0632, 0.0720, 0.0006, 0.0040, 0.0079, 0.2616],\n",
       "        [0.0226, 0.0417, 0.0201, 0.0403, 0.0219, 0.0021, 0.0284, 0.0040, 0.1099,\n",
       "         0.0022, 0.0109, 0.2800, 0.0062, 0.0102, 0.0011, 0.0028, 0.0253, 0.0110,\n",
       "         0.0432, 0.0012, 0.0131, 0.0155, 0.0178, 0.0045, 0.0386, 0.1600, 0.0655],\n",
       "        [0.0104, 0.0781, 0.1008, 0.0187, 0.1996, 0.0441, 0.0178, 0.0055, 0.1757,\n",
       "         0.0179, 0.0007, 0.0651, 0.0027, 0.0142, 0.0122, 0.0315, 0.0151, 0.0067,\n",
       "         0.0196, 0.0006, 0.0230, 0.0011, 0.0198, 0.0236, 0.0645, 0.0272, 0.0040]],\n",
       "       grad_fn=<DivBackward0>)"
      ]
     },
     "execution_count": 119,
     "metadata": {},
     "output_type": "execute_result"
    }
   ],
   "source": [
    "probs = torch.exp(output) / torch.exp(output).sum(1, keepdim=True)\n",
    "probs"
   ]
  },
  {
   "cell_type": "markdown",
   "id": "d5ecb7f6-8e20-4ef3-bf2d-48d2c3718842",
   "metadata": {},
   "source": [
    "Let's compute overall loss, knowing what the expected character is for each input, from ys. "
   ]
  },
  {
   "cell_type": "code",
   "execution_count": 120,
   "id": "71e82f64-0ae6-4409-a220-83c5f5f4abaa",
   "metadata": {},
   "outputs": [
    {
     "data": {
      "text/plain": [
       "tensor([13, 13,  1,  0])"
      ]
     },
     "execution_count": 120,
     "metadata": {},
     "output_type": "execute_result"
    }
   ],
   "source": [
    "ys"
   ]
  },
  {
   "cell_type": "code",
   "execution_count": 121,
   "id": "bb041ee8-ba39-4f79-8632-1c9eaaf641f3",
   "metadata": {},
   "outputs": [
    {
     "data": {
      "text/plain": [
       "tensor([0.0240, 0.0074, 0.0417, 0.0104], grad_fn=<IndexBackward0>)"
      ]
     },
     "execution_count": 121,
     "metadata": {},
     "output_type": "execute_result"
    }
   ],
   "source": [
    "probs[torch.arange(4), ys]"
   ]
  },
  {
   "cell_type": "markdown",
   "id": "8d37937c-8f1e-475c-98f1-c5f7f1ca832d",
   "metadata": {},
   "source": [
    "These are the probabilities of the characters which are actually expected as the next character, for each input.\n",
    "Let's compute negative likelyhood loss from these. "
   ]
  },
  {
   "cell_type": "code",
   "execution_count": 122,
   "id": "3d358199-7197-4cc6-a4c7-ce90958fe5a7",
   "metadata": {},
   "outputs": [
    {
     "data": {
      "text/plain": [
       "tensor(4.0953, grad_fn=<NegBackward0>)"
      ]
     },
     "execution_count": 122,
     "metadata": {},
     "output_type": "execute_result"
    }
   ],
   "source": [
    "nll = -probs[torch.arange(4), ys].log().mean()\n",
    "nll"
   ]
  },
  {
   "cell_type": "markdown",
   "id": "e4699b77-bd55-4378-9b36-b6d0a66d68a1",
   "metadata": {},
   "source": [
    "This nll is what we would attempt to reduce.\n",
    "We will do this with gradient descent.\n",
    "\n",
    "Let's take the entire dataset instead of just 1st word.\n"
   ]
  },
  {
   "cell_type": "code",
   "execution_count": 213,
   "id": "2683cdf4-d3d9-4d3c-bc89-41dbcfeed607",
   "metadata": {},
   "outputs": [],
   "source": [
    "xs = []\n",
    "ys = []\n",
    "\n",
    "for w in words: \n",
    "    chs = ['.'] + list(w) + ['.']  # Add padding character at start and end\n",
    "    for ch1, ch2, ch3 in zip(chs, chs[1:], chs[2:]):\n",
    "        ix1 = stoi[ch1]\n",
    "        ix2 = stoi[ch2]\n",
    "        ix3 = stoi[ch3]\n",
    "        xs.append([ix1, ix2])  # Store the first two characters as input\n",
    "        ys.append(ix3)  # Store the third character as the target\n",
    "\n",
    "# Convert lists to tensors\n",
    "xs = torch.tensor(xs)  # Shape will be (number of trigrams, 2)\n",
    "ys = torch.tensor(ys)  # Shape will be (number of trigrams,)\n",
    "\n",
    "nums = len(xs)\n",
    "\n",
    "# One hot encode the inputs\n",
    "xenc = F.one_hot(xs, num_classes=27).float()\n",
    "\n",
    "# Flatten the inputs \n",
    "xenc_f = xenc.view(nums, -1)\n",
    "\n",
    "# Define weights \n",
    "g = torch.Generator().manual_seed(2147483647)\n",
    "W = torch.randn((54, 27), generator = g, requires_grad=True)"
   ]
  },
  {
   "cell_type": "code",
   "execution_count": 214,
   "id": "3de88eac-9eb0-45b5-8e8c-7d38d752e674",
   "metadata": {},
   "outputs": [
    {
     "name": "stdout",
     "output_type": "stream",
     "text": [
      "Loss: 4.186270713806152\n",
      "Loss: 3.0845019817352295\n",
      "Loss: 2.7903473377227783\n",
      "Loss: 2.6534831523895264\n",
      "Loss: 2.569455862045288\n",
      "Loss: 2.512267589569092\n",
      "Loss: 2.4712893962860107\n",
      "Loss: 2.4407241344451904\n",
      "Loss: 2.417064666748047\n",
      "Loss: 2.3981637954711914\n"
     ]
    }
   ],
   "source": [
    "h = 1\n",
    "for k in range(1000):\n",
    "    # Forward pass \n",
    "    output = xenc_f @ W \n",
    "    \n",
    "    # Softmax function\n",
    "    probs = output.exp() / output.exp().sum(1, keepdim=True)\n",
    "\n",
    "    loss = -probs[torch.arange(nums), ys].log().mean() # Taking mean instead of sum, just to normalise the nll value. Can take .sum as well.\n",
    "\n",
    "    # Zero grad \n",
    "    W.grad = None \n",
    "\n",
    "    # Back propogation to generate grads of weights\n",
    "    loss.backward() \n",
    "\n",
    "    # Update the weights based on the backprop \n",
    "    W.data += -h * W.grad\n",
    "    if k % 100 == 0:\n",
    "        print(f\"Loss: {loss}\")"
   ]
  },
  {
   "cell_type": "markdown",
   "id": "31fae988-1c5d-4c72-96cf-419d05ecd702",
   "metadata": {},
   "source": [
    "We brought down the loss from around 4 to 2.4. Let's do some predictions on this! "
   ]
  },
  {
   "cell_type": "code",
   "execution_count": 216,
   "id": "db4d7cdf-f098-4ca3-ab37-790066cf61d7",
   "metadata": {},
   "outputs": [
    {
     "name": "stdout",
     "output_type": "stream",
     "text": [
      "Generated word: pceraha\n",
      "Generated word: prayn\n",
      "Generated word: pcer\n",
      "Generated word: pyahan\n",
      "Generated word: pjenan\n"
     ]
    }
   ],
   "source": [
    "def generate_word(model, stoi, itos, start_letter, max_length=7):\n",
    "    if start_letter not in stoi:\n",
    "        raise ValueError(f\"Starting letter '{start_letter}' not found in vocabulary.\")\n",
    "    \n",
    "    generated_word = [start_letter]\n",
    "    ch1 = start_letter\n",
    "    ch2 = '.'  \n",
    "    \n",
    "    for _ in range(max_length - 1):\n",
    "        # Convert characters to indices\n",
    "        ix1 = stoi[ch1]\n",
    "        ix2 = stoi[ch2]\n",
    "        \n",
    "        x_input = F.one_hot(torch.tensor([ix1, ix2]), num_classes=27).float().view(1, -1)  # Shape: [1, 54]\n",
    "        \n",
    "        output = x_input @ W\n",
    "        \n",
    "        probs = output.exp() / output.exp().sum(1, keepdim=True)\n",
    "        \n",
    "        ix3 = torch.multinomial(probs, num_samples=1).item()  # Randomly sample based on predicted probabilities\n",
    "        \n",
    "        ch3 = itos[ix3]\n",
    "        \n",
    "        if ch3 == '.':\n",
    "            break\n",
    "        \n",
    "        generated_word.append(ch3)\n",
    "        \n",
    "        ch1, ch2 = ch2, ch3  # Shift characters for the next prediction\n",
    "\n",
    "    return ''.join(generated_word)\n",
    "\n",
    "start_letter = 'p'\n",
    "for _ in range(5):\n",
    "    word = generate_word(W, stoi, itos, start_letter)\n",
    "    print(\"Generated word:\", word)\n"
   ]
  },
  {
   "cell_type": "markdown",
   "id": "7c957e5d-0548-4ebf-9ef4-e2e8991e5a21",
   "metadata": {},
   "source": [
    "### torch.multinomial(probs, num_samples=1).item()\n",
    "\n",
    "It samples an index based on the probability distribution in probs. This allows for some randomness, meaning it’s more likely to pick indices with higher probabilities, but it doesn't guarantee that it will pick the one with the highest probability.\n",
    "\n",
    "Here’s what happens in detail:\n",
    "<br>\n",
    "Sampling with Probabilities: torch.multinomial samples from the distribution provided by probs, where each index has a probability of being selected proportional to its value. Indices with higher probabilities have a higher chance of being picked, but it’s not deterministic.\n",
    "\n",
    "<b>Our loss is still ~2.4</b>. "
   ]
  },
  {
   "cell_type": "markdown",
   "id": "7e1a2190-a015-4fad-a964-351d13096ca8",
   "metadata": {},
   "source": [
    "## Understanding the role of bias, mathematically!\n",
    "### We will attempt to improve the loss, but first, let's understand the math behind the bias.\n",
    "#### Let's closely look at the linear transformation of each neuron more closely. Let's consider only 1 input of 2 features, [x1, x2]\n",
    "output of a neuron is given by:\n",
    "$$\n",
    "    neuron linear transformation = x1w1 + x2w2\n",
    "$$\n",
    "This represents a line in a 2 dimentional space, resembling <b><i>y = mx + c</i></b>, where c is 0.\n",
    "<br>Let's set w1 = 1 & w2 = 2 \n",
    "\n",
    "The line equation becomes, \n",
    "\n",
    "$$\n",
    "   neuron linear transformation = x1 + 2(x2)\n",
    "$$\n",
    "\n",
    "The decision boundary of the neuron is simply the line where y = 0. \n",
    "Let's find that out. \n",
    "\n",
    "$$\n",
    "    x1 + 2(x2) = 0\n",
    "$$\n",
    "$$\n",
    "    x2 = -(1/2)x1\n",
    "$$\n",
    "\n",
    "<b>m or the slope of the line becomes</b>\n",
    "$$\n",
    "    m = -(w1/w2)\n",
    "$$\n",
    "\n",
    "Comparing with y = mx + c, where c is 0, m or the slope of the line becomes -(1/2). Let's plot this line. "
   ]
  },
  {
   "cell_type": "code",
   "execution_count": 174,
   "id": "76b63520-6766-42bb-a98b-21789f553102",
   "metadata": {},
   "outputs": [
    {
     "data": {
      "text/plain": [
       "[-0.5, -1.0, -1.5, -2.0, -2.5, -3.0, -3.5, -4.0, -4.5]"
      ]
     },
     "execution_count": 174,
     "metadata": {},
     "output_type": "execute_result"
    }
   ],
   "source": [
    "# w1 = 1 & w2 = 2\n",
    "\n",
    "y = [-0.5 * x1 for x1 in range(1, 10)]\n",
    "y"
   ]
  },
  {
   "cell_type": "code",
   "execution_count": 179,
   "id": "edface4f-2e7f-4a9e-8844-b0978ea5667c",
   "metadata": {},
   "outputs": [
    {
     "data": {
      "image/png": "[encoded data removed]",
      "text/plain": [
       "<Figure size 640x480 with 1 Axes>"
      ]
     },
     "metadata": {},
     "output_type": "display_data"
    }
   ],
   "source": [
    "import matplotlib.pyplot as plt\n",
    "%matplotlib inline\n",
    "\n",
    "x1 = list(range(0, 10))\n",
    "y = [-0.5 * x for x in x1]\n",
    "\n",
    "# Plotting\n",
    "plt.plot(x1, y, marker='o')\n",
    "\n",
    "plt.xlabel('x')\n",
    "plt.ylabel('y')\n",
    "plt.title('Plot of y = -x1 for x1 in range(1, 10)')\n",
    "plt.grid(True)\n",
    "plt.show()"
   ]
  },
  {
   "cell_type": "markdown",
   "id": "f4889447-6ff7-490e-ae1a-e03ceb069ac0",
   "metadata": {},
   "source": [
    "This line above for the neuron, is known as the <b>Decision Boundary</b> of the neuron. \n",
    "Above this boundary, for any value of x, the output of neuron is 'active' and below is 'inactive' (y > 0, y <= 0).\n",
    "\n",
    "Let's see what happens when the model gets trained and the weights get updated. \n",
    "Let's change the values of w1 = 2 and w2 = 1\n",
    "\n",
    "The equation now becomes: \n",
    "$$\n",
    "    y = -2(x1)\n",
    "$$\n",
    "\n",
    "Let's plot this"
   ]
  },
  {
   "cell_type": "code",
   "execution_count": 185,
   "id": "2422ddec-7f8d-48a5-922c-12cb811c32e5",
   "metadata": {},
   "outputs": [
    {
     "data": {
      "image/png": "[encoded data removed]",
      "text/plain": [
       "<Figure size 640x480 with 1 Axes>"
      ]
     },
     "metadata": {},
     "output_type": "display_data"
    }
   ],
   "source": [
    "# Define x1 values\n",
    "x1 = list(range(0, 10))\n",
    "\n",
    "# Compute y values for both lines\n",
    "y1 = [-0.5 * x for x in x1]\n",
    "y2 = [-2 * x for x in x1]\n",
    "\n",
    "# Plotting both lines\n",
    "plt.plot(x1, y1, marker='o', label='y = -0.5 * x')\n",
    "plt.plot(x1, y2, marker='o', label='y = -2 * x')\n",
    "\n",
    "# Labels, title, and grid\n",
    "plt.xlabel('x')\n",
    "plt.ylabel('y')\n",
    "plt.title('Plot of y = -0.5 * x and y = -2 * x')\n",
    "plt.legend()\n",
    "plt.grid(True)\n",
    "\n",
    "plt.show()\n"
   ]
  },
  {
   "cell_type": "markdown",
   "id": "bff2e5cb-2192-4d49-bbcd-9b2dfdd37c18",
   "metadata": {},
   "source": [
    "As can be seen in above figure, changing the weights is only changing the slope of the line, and not really the position of the line.\n",
    "This 'position' of the line is known as the <b><i>intercept</i></b> of the line. Intercept is the point at which the line intersects the y axis.\n",
    "\n",
    "When we train the model, the weights are always influenced by the inputs (because of the multiplication of xi and wi). When the model learns, it essentially moves this decision boundary line in such a way, that it can correctly classify and given point (given point lies above or below the decision boundary).\n",
    "\n",
    "Let's assume a point (4, -7.5), and consider the weights w1 = 2, w2 = 1 (orange line above). \n",
    "Right now, the point lies above this decision boundary, hence the model is classifying this point as 'active'. \n",
    "\n",
    "Let's assume the expected classification of this point is 'inactive'.\n"
   ]
  },
  {
   "cell_type": "code",
   "execution_count": 187,
   "id": "81a468da-4bce-4e02-87ce-3f8029a8d7f1",
   "metadata": {},
   "outputs": [
    {
     "data": {
      "image/png": "[encoded data removed]",
      "text/plain": [
       "<Figure size 640x480 with 1 Axes>"
      ]
     },
     "metadata": {},
     "output_type": "display_data"
    }
   ],
   "source": [
    "# Define x1 values\n",
    "x1 = list(range(0, 10))\n",
    "\n",
    "y2 = [-2 * x for x in x1]\n",
    "\n",
    "\n",
    "plt.plot(x1, y2, marker='o', label='y = -2 * x')\n",
    "plt.scatter(4, -7.5, color='red', label='Point (4, -7.5)', zorder=5)\n",
    "# Labels, title, and grid\n",
    "plt.xlabel('x')\n",
    "plt.ylabel('y')\n",
    "plt.title('Plot of y = -0.5 * x and y = -2 * x')\n",
    "plt.legend()\n",
    "plt.grid(True)\n",
    "\n",
    "plt.show()"
   ]
  },
  {
   "cell_type": "markdown",
   "id": "c5f0cf70-ad01-4808-940e-d0b1af60b3bd",
   "metadata": {},
   "source": [
    "The slope of the line is -2. -w1/w2 = -2.\n",
    "$$\n",
    "    slope = -w1 / w2 = -2\n",
    "$$\n",
    "The model will try to adjust its weights such that the point lies below the decision boundary. \n",
    "\n",
    "But another way to classify this point as 'inactive' (bring this point below the line), we can simply move the exact line slightly above, thus not changing the slope of the line. \n",
    "\n",
    "#### What will that do?\n",
    "The current line intercepts the y axis at 0, which slope = -2. \n",
    "Saying simply moving the line above without changing the slope, essentially means that we make the line intercept y axis at a value > 0.\n",
    "This will keep the slope of the line same. \n",
    "\n",
    "This is known as the <i>Intercept</i> of the line and is defined by <i>c</i> in the expression, <i>y = mx + c</i>.\n",
    "\n",
    "#### What does it mean in terms of our neuron?\n",
    "In our neuron linear transformation, this intercept is defined as <b><i>bias</i><b>. It is a constant value. \n",
    "\n",
    "Since the weights are dependent on the inputs (as seen above due to multitplication), they can only move so far. The constant <b><i>bias</i><b> gives the neuron a certain <i>degree of freedom</i>, which is not dependent on the inputs, so that the nueron can move its decision boundary more freely, thus learning the patterns better. \n",
    "\n",
    "Let's add a bias of 2 to the above orange line and see how it classifies the point now."
   ]
  },
  {
   "cell_type": "code",
   "execution_count": 189,
   "id": "2d884671-b7e0-4622-8dcd-7e2d30d24647",
   "metadata": {},
   "outputs": [
    {
     "data": {
      "image/png": "[encoded data removed]",
      "text/plain": [
       "<Figure size 640x480 with 1 Axes>"
      ]
     },
     "metadata": {},
     "output_type": "display_data"
    }
   ],
   "source": [
    "# Adding a constant to y = mx + c\n",
    "\n",
    "x1 = list(range(0, 10))\n",
    "b = 2 # This is c in line equation\n",
    "y2 = [(-2 * x) + b for x in x1] # (m = -2, x is varying from 0 to 10 and c = 2)\n",
    "\n",
    "\n",
    "plt.plot(x1, y2, marker='o', label='y = -2 * x')\n",
    "plt.scatter(4, -7.5, color='red', label='Point (4, -7.5)', zorder=5)\n",
    "# Labels, title, and grid\n",
    "plt.xlabel('x')\n",
    "plt.ylabel('y')\n",
    "plt.title('Plot of y = -0.5 * x and y = -2 * x')\n",
    "plt.legend()\n",
    "plt.grid(True)\n",
    "\n",
    "plt.show()"
   ]
  },
  {
   "cell_type": "markdown",
   "id": "02478f3f-39d6-4899-9def-432eca5990a4",
   "metadata": {},
   "source": [
    "After adding the constant bias of 2, we can see the neuron was able to classify the point (4, -7.5) as 'inactive', without changing the slope of the decision boundary at all."
   ]
  },
  {
   "cell_type": "markdown",
   "id": "58f86a8e-813c-45f4-9a67-cc652de2fb0f",
   "metadata": {},
   "source": [
    "#### Let's apply a bias to our neurons and see if it can improve the performance (reduce the loss even more)"
   ]
  },
  {
   "cell_type": "code",
   "execution_count": 199,
   "id": "d9762602-1728-4079-9161-f88e20109156",
   "metadata": {},
   "outputs": [],
   "source": [
    "b = torch.randn(27, generator=g, requires_grad=True)"
   ]
  },
  {
   "cell_type": "code",
   "execution_count": 194,
   "id": "86b40545-a00b-4455-997a-24a15ddde4c2",
   "metadata": {},
   "outputs": [
    {
     "data": {
      "text/plain": [
       "torch.Size([27])"
      ]
     },
     "execution_count": 194,
     "metadata": {},
     "output_type": "execute_result"
    }
   ],
   "source": [
    "b.shape"
   ]
  },
  {
   "cell_type": "markdown",
   "id": "255fc2be-ccf9-4895-9505-ee335240df35",
   "metadata": {},
   "source": [
    "The shape of the bias is 1D vector of 27 length. Values in this vector represent biases for 27 neurons. \n",
    "This bias will get added to the output. \n",
    "This makes the entire transformation of the neuron to be: \n",
    "$$\n",
    "    output = Σ(wixi) + b\n",
    "$$\n",
    "\n",
    "Also, we want the biases to be updated as well. Hence the requires_grad for the bias is also true"
   ]
  },
  {
   "cell_type": "code",
   "execution_count": 210,
   "id": "effbf05c-4d07-43b1-bd14-b9cef9458422",
   "metadata": {},
   "outputs": [],
   "source": [
    "xs = []\n",
    "ys = []\n",
    "\n",
    "for w in words: \n",
    "    chs = ['.'] + list(w) + ['.']  # Add padding character at start and end\n",
    "    for ch1, ch2, ch3 in zip(chs, chs[1:], chs[2:]):\n",
    "        ix1 = stoi[ch1]\n",
    "        ix2 = stoi[ch2]\n",
    "        ix3 = stoi[ch3]\n",
    "        xs.append([ix1, ix2])  # Store the first two characters as input\n",
    "        ys.append(ix3)  # Store the third character as the target\n",
    "\n",
    "# Convert lists to tensors\n",
    "xs = torch.tensor(xs)  # Shape will be (number of trigrams, 2)\n",
    "ys = torch.tensor(ys)  # Shape will be (number of trigrams,)\n",
    "\n",
    "nums = len(xs)\n",
    "\n",
    "# One hot encode the inputs\n",
    "xenc = F.one_hot(xs, num_classes=27).float()\n",
    "\n",
    "# Flatten the inputs \n",
    "xenc_f = xenc.view(nums, -1)\n",
    "\n",
    "# Define weights Define bias \n",
    "g = torch.Generator().manual_seed(2147483647)\n",
    "W = torch.randn((54, 27), generator = g, requires_grad=True)\n",
    "b = torch.randn(27, generator=g, requires_grad=True)"
   ]
  },
  {
   "cell_type": "code",
   "execution_count": 218,
   "id": "d38d3193-6bfc-4f5a-b802-9bb5a35f3775",
   "metadata": {},
   "outputs": [
    {
     "name": "stdout",
     "output_type": "stream",
     "text": [
      "Loss: 2.298389196395874\n",
      "Loss: 2.295156478881836\n",
      "Loss: 2.292229413986206\n",
      "Loss: 2.2895660400390625\n",
      "Loss: 2.2871315479278564\n",
      "Loss: 2.284897565841675\n",
      "Loss: 2.2828404903411865\n",
      "Loss: 2.280940055847168\n",
      "Loss: 2.279179573059082\n",
      "Loss: 2.277543544769287\n"
     ]
    }
   ],
   "source": [
    "h = 1\n",
    "for k in range(1000):\n",
    "    # Forward pass \n",
    "    output = ( xenc_f @ W ) + b\n",
    "    \n",
    "    # Softmax function\n",
    "    probs = output.exp() / output.exp().sum(1, keepdim=True)\n",
    "\n",
    "    loss = -probs[torch.arange(nums), ys].log().mean() # Taking mean instead of sum, just to normalise the nll value. Can take .sum as well.\n",
    "\n",
    "    # Zero grad \n",
    "    W.grad = None\n",
    "    b.grad = None\n",
    "\n",
    "    # Back propogation to generate grads of weights\n",
    "    loss.backward() \n",
    "\n",
    "    # Update the weights and th bias based on the backprop \n",
    "    W.data += -h * W.grad\n",
    "    b.data += -h * b.grad\n",
    "    if k % 100 == 0:\n",
    "        print(f\"Loss: {loss}\")"
   ]
  },
  {
   "cell_type": "markdown",
   "id": "3bec5d85-86d9-410f-bf45-541df661edfb",
   "metadata": {},
   "source": [
    "Comparing the losses from the model with no bias, we can see that we were able to bring down the loss from 2.4 to 2.35.\n",
    "This might seem insignificant but when layers are stacked, this makes a huge difference. "
   ]
  },
  {
   "cell_type": "code",
   "execution_count": null,
   "id": "4e643beb-0959-413e-9f76-6a8eaba7cdf8",
   "metadata": {},
   "outputs": [],
   "source": []
  }
 ],
 "metadata": {
  "kernelspec": {
   "display_name": "Python 3 (ipykernel)",
   "language": "python",
   "name": "python3"
  },
  "language_info": {
   "codemirror_mode": {
    "name": "ipython",
    "version": 3
   },
   "file_extension": ".py",
   "mimetype": "text/x-python",
   "name": "python",
   "nbconvert_exporter": "python",
   "pygments_lexer": "ipython3",
   "version": "3.12.4"
  }
 },
 "nbformat": 4,
 "nbformat_minor": 5
}
