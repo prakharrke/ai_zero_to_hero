{
 "cells": [
  {
   "cell_type": "code",
   "execution_count": null,
   "id": "edc2728debd03c40",
   "metadata": {
    "jupyter": {
     "is_executing": true
    }
   },
   "outputs": [],
   "source": []
  },
  {
   "cell_type": "code",
   "execution_count": 1,
   "id": "3bd7973e-2008-486f-9cef-e2872bd909b2",
   "metadata": {
    "ExecuteTime": {
     "end_time": "2024-11-19T11:53:55.889292Z",
     "start_time": "2024-11-19T11:53:55.884347Z"
    }
   },
   "outputs": [],
   "source": [
    "import torch\n",
    "import torch.nn.functional as F\n",
    "import matplotlib.pyplot as plt # for making figures\n",
    "%matplotlib inline\n",
    "import time"
   ]
  },
  {
   "cell_type": "code",
   "execution_count": 2,
   "id": "d16c7fa6-a1dd-49f6-918d-c2c6ec6bbe4b",
   "metadata": {
    "ExecuteTime": {
     "end_time": "2024-11-19T11:53:56.373941Z",
     "start_time": "2024-11-19T11:53:56.363170Z"
    }
   },
   "outputs": [
    {
     "name": "stdout",
     "output_type": "stream",
     "text": [
      "32033\n",
      "15\n",
      "['emma', 'olivia', 'ava', 'isabella', 'sophia', 'charlotte', 'mia', 'amelia']\n"
     ]
    }
   ],
   "source": [
    "# read in all the words\n",
    "words = open('names.txt', 'r').read().splitlines()\n",
    "print(len(words))\n",
    "print(max(len(w) for w in words))\n",
    "print(words[:8])"
   ]
  },
  {
   "cell_type": "code",
   "execution_count": 3,
   "id": "015c2980-fd92-41ea-b5a6-7c56e644e060",
   "metadata": {
    "ExecuteTime": {
     "end_time": "2024-11-19T11:53:57.065692Z",
     "start_time": "2024-11-19T11:53:57.058406Z"
    }
   },
   "outputs": [
    {
     "name": "stdout",
     "output_type": "stream",
     "text": [
      "{1: 'a', 2: 'b', 3: 'c', 4: 'd', 5: 'e', 6: 'f', 7: 'g', 8: 'h', 9: 'i', 10: 'j', 11: 'k', 12: 'l', 13: 'm', 14: 'n', 15: 'o', 16: 'p', 17: 'q', 18: 'r', 19: 's', 20: 't', 21: 'u', 22: 'v', 23: 'w', 24: 'x', 25: 'y', 26: 'z', 0: '.'}\n",
      "27\n"
     ]
    }
   ],
   "source": [
    "# build the vocabulary of characters and mappings to/from integers\n",
    "chars = sorted(list(set(''.join(words))))\n",
    "stoi = {s:i+1 for i,s in enumerate(chars)}\n",
    "stoi['.'] = 0\n",
    "itos = {i:s for s,i in stoi.items()}\n",
    "vocab_size = len(itos)\n",
    "print(itos)\n",
    "print(vocab_size)"
   ]
  },
  {
   "cell_type": "code",
   "execution_count": 4,
   "id": "890fbe5f-47fd-4fb2-8e4a-bab433e70e43",
   "metadata": {
    "ExecuteTime": {
     "end_time": "2024-11-19T11:53:58.310410Z",
     "start_time": "2024-11-19T11:53:58.290680Z"
    }
   },
   "outputs": [],
   "source": [
    "# shuffle up the words\n",
    "import random\n",
    "random.seed(42)\n",
    "random.shuffle(words)"
   ]
  },
  {
   "cell_type": "code",
   "execution_count": 5,
   "id": "197cc879-f8ef-4394-b302-96ff8a9c3d82",
   "metadata": {
    "ExecuteTime": {
     "end_time": "2024-11-19T11:54:00.313829Z",
     "start_time": "2024-11-19T11:53:59.305483Z"
    }
   },
   "outputs": [
    {
     "name": "stdout",
     "output_type": "stream",
     "text": [
      "torch.Size([182625, 15]) torch.Size([182625])\n",
      "torch.Size([22655, 15]) torch.Size([22655])\n",
      "torch.Size([22866, 15]) torch.Size([22866])\n"
     ]
    }
   ],
   "source": [
    "# build the dataset\n",
    "block_size = 15 # context length: how many characters do we take to predict the next one?\n",
    "\n",
    "def build_dataset(words):  \n",
    "  X, Y = [], []\n",
    "  \n",
    "  for w in words:\n",
    "    context = [0] * block_size\n",
    "    for ch in w + '.':\n",
    "      ix = stoi[ch]\n",
    "      X.append(context)\n",
    "      Y.append(ix)\n",
    "      context = context[1:] + [ix] # crop and append\n",
    "\n",
    "  X = torch.tensor(X)\n",
    "  Y = torch.tensor(Y)\n",
    "  print(X.shape, Y.shape)\n",
    "  return X, Y\n",
    "\n",
    "n1 = int(0.8*len(words))\n",
    "n2 = int(0.9*len(words))\n",
    "Xtr,  Ytr  = build_dataset(words[:n1])     # 80%\n",
    "Xdev, Ydev = build_dataset(words[n1:n2])   # 10%\n",
    "Xte,  Yte  = build_dataset(words[n2:])     # 10%"
   ]
  },
  {
   "cell_type": "code",
   "execution_count": 6,
   "id": "358a180a-0ab6-46ad-b21f-92743547c138",
   "metadata": {
    "ExecuteTime": {
     "end_time": "2024-11-19T11:54:01.147023Z",
     "start_time": "2024-11-19T11:54:01.127148Z"
    }
   },
   "outputs": [],
   "source": [
    "class Linear:\n",
    "  \n",
    "  def __init__(self, fan_in, fan_out, bias=True):\n",
    "    self.weight = torch.randn((fan_in, fan_out)) / fan_in**0.5 # note: kaiming init\n",
    "    self.bias = torch.zeros(fan_out) if bias else None\n",
    "  \n",
    "  def __call__(self, x):\n",
    "    self.out = x @ self.weight\n",
    "    if self.bias is not None:\n",
    "      self.out += self.bias\n",
    "    return self.out\n",
    "  \n",
    "  def parameters(self):\n",
    "    return [self.weight] + ([] if self.bias is None else [self.bias])\n",
    "\n",
    "# -----------------------------------------------------------------------------------------------\n",
    "class BatchNorm1d:\n",
    "  \n",
    "  def __init__(self, dim, eps=1e-5, momentum=0.1):\n",
    "    self.eps = eps\n",
    "    self.momentum = momentum\n",
    "    self.training = True\n",
    "    # parameters (trained with backprop)\n",
    "    self.gamma = torch.ones(dim)\n",
    "    self.beta = torch.zeros(dim)\n",
    "    # buffers (trained with a running 'momentum update')\n",
    "    self.running_mean = torch.zeros(dim)\n",
    "    self.running_var = torch.ones(dim)\n",
    "  \n",
    "  def __call__(self, x):\n",
    "    # calculate the forward pass\n",
    "    if self.training:\n",
    "      if x.ndim == 2:\n",
    "        dim = 0\n",
    "      elif x.ndim == 3:\n",
    "        dim = (0,1)\n",
    "      xmean = x.mean(dim, keepdim=True) # batch mean\n",
    "      xvar = x.var(dim, keepdim=True) # batch variance\n",
    "    else:\n",
    "      xmean = self.running_mean\n",
    "      xvar = self.running_var\n",
    "    xhat = (x - xmean) / torch.sqrt(xvar + self.eps) # normalize to unit variance\n",
    "    self.out = self.gamma * xhat + self.beta\n",
    "    # update the buffers\n",
    "    if self.training:\n",
    "      with torch.no_grad():\n",
    "        self.running_mean = (1 - self.momentum) * self.running_mean + self.momentum * xmean\n",
    "        self.running_var = (1 - self.momentum) * self.running_var + self.momentum * xvar\n",
    "    return self.out\n",
    "  \n",
    "  def parameters(self):\n",
    "    return [self.gamma, self.beta]\n",
    "\n",
    "# -----------------------------------------------------------------------------------------------\n",
    "class Tanh:\n",
    "  def __call__(self, x):\n",
    "    self.out = torch.tanh(x)\n",
    "    return self.out\n",
    "  def parameters(self):\n",
    "    return []\n",
    "\n",
    "# -----------------------------------------------------------------------------------------------\n",
    "class Embedding:\n",
    "  \n",
    "  def __init__(self, num_embeddings, embedding_dim):\n",
    "    self.weight = torch.randn((num_embeddings, embedding_dim))\n",
    "    \n",
    "  def __call__(self, IX):\n",
    "    self.out = self.weight[IX].transpose(1, 2)\n",
    "    \n",
    "    return self.out\n",
    "  \n",
    "  def parameters(self):\n",
    "    return [self.weight]\n",
    "\n",
    "# -----------------------------------------------------------------------------------------------\n",
    "class FlattenConsecutive:\n",
    "  \n",
    "  def __init__(self, n):\n",
    "    self.n = n\n",
    "    \n",
    "  def __call__(self, x):\n",
    "    B, T, C = x.shape\n",
    "    x = x.view(B, T//self.n, C*self.n)\n",
    "    if x.shape[1] == 1:\n",
    "      x = x.squeeze(1)\n",
    "    self.out = x\n",
    "    return self.out\n",
    "  \n",
    "  def parameters(self):\n",
    "    return []\n",
    "\n",
    "class Flatten:\n",
    "    def __call__(self, x):\n",
    "        self.out = x.view(x.shape[0], -1)\n",
    "        return self.out\n",
    "    def parameters(self):\n",
    "        return []\n",
    "\n",
    "# -----------------------------------------------------------------------------------------------\n",
    "class Sequential:\n",
    "  \n",
    "  def __init__(self, layers):\n",
    "    self.layers = layers\n",
    "  \n",
    "  def __call__(self, x):\n",
    "    for layer in self.layers:\n",
    "      x = layer(x)\n",
    "    self.out = x\n",
    "    return self.out\n",
    "  \n",
    "  def parameters(self):\n",
    "    # get parameters of all layers and stretch them out into one list\n",
    "    return [p for layer in self.layers for p in layer.parameters()]\n",
    "\n",
    "# --------------------------------------------\n",
    "class Conv1d:\n",
    "    def __init__(self, sequence_length, in_channels, out_channels, kernel=2, stride=1, dilation=1):\n",
    "        self. sequence_length = sequence_length\n",
    "        self.in_channels = in_channels\n",
    "        self.out_channels = out_channels\n",
    "        self.kernel = kernel\n",
    "        self.stride = stride\n",
    "        self.dilation = dilation\n",
    "        self.filters = torch.randn((out_channels, in_channels, kernel)) * 0.1\n",
    "        self.bias = torch.randn(out_channels) * 0\n",
    "    def __call__(self, x):\n",
    "        # Compute effective kernel size based on dilation \n",
    "        effective_kernel = ((self.kernel - 1) * self.dilation) + 1\n",
    "        \n",
    "        N, C, L = x.shape\n",
    "        assert effective_kernel <= L\n",
    "            \n",
    "        # create the sliding windows of the input \n",
    "        x_unfolded = x.unfold(2, effective_kernel, self.stride)\n",
    "\n",
    "        # Extract dilated inputs from x_unfolded which used effective_kernel. The shape of the unfolded vector is [N, C, L, effective_k] \n",
    "        # where L is the length of the sequence depending on the effective kernel. From the dimension of effective_kernel, we clip every 'dilated' index\n",
    "        # If effective_kernel is 3 and dilation is 2, [1, 2, 3] will result in [1, 3]. [1,3] has length of 2, which is equal to actual kernel value\n",
    "        x_unfolded = x_unfolded[:, :, :, ::self.dilation]\n",
    "\n",
    "        # The dilation also changes the sequence length, since effective kernel value changes with dilation > 1. \n",
    "        # Compute Lout based on effective_kernel\n",
    "        \n",
    "        Lout = ((self.sequence_length - effective_kernel) // self.stride) + 1\n",
    "        \n",
    "        # Before cross correlation, we need to broadcast the filters and the input correctly\n",
    "        x_unfolded = x_unfolded.view(N, 1, C, Lout, self.kernel)\n",
    "        filters = self.filters.view(1, self.out_channels, self.in_channels, 1, self.kernel)\n",
    "\n",
    "        # Perform element wise multiplication\n",
    "        self.out = torch.mul(x_unfolded, filters).sum((2, 4)) + self.bias.view(1, self.out_channels, 1)\n",
    "        return self.out        \n",
    "    \n",
    "    def parameters(self): \n",
    "        return [self.filters] + [self.bias]\n",
    "\n",
    "class ReLu: \n",
    "    def __call__(self, x):\n",
    "        self.out = torch.relu(x)\n",
    "        return self.out\n",
    "\n",
    "    def parameters(self):\n",
    "        return []\n",
    "        \n",
    "class Transpose:\n",
    "    def __call__(self, x):\n",
    "        self.out = x.transpose(1, 2)\n",
    "        return self.out\n",
    "    \n",
    "    def parameters(self):\n",
    "        return []"
   ]
  },
  {
   "cell_type": "code",
   "execution_count": 7,
   "id": "3f4dbc8b-dfa2-45d9-a9ad-b6ac3cdacc71",
   "metadata": {
    "ExecuteTime": {
     "end_time": "2024-11-19T11:54:02.087947Z",
     "start_time": "2024-11-19T11:54:02.074523Z"
    }
   },
   "outputs": [
    {
     "name": "stdout",
     "output_type": "stream",
     "text": [
      "conv1_L_out:  14\n",
      "conv2_L_out:  10\n",
      "conv3_L_out:  6\n",
      "parameters: 43087\n"
     ]
    }
   ],
   "source": [
    "def get_Lout(sequence_length, kernel, dilation, stride):\n",
    "    effective_kernel = (kernel - 1) * dilation + 1\n",
    "    Lout = ((sequence_length - effective_kernel) // stride) + 1\n",
    "    return Lout\n",
    "    \n",
    "### Let's redefine the model with conv layers \n",
    "n_embedding = 10\n",
    "\n",
    "# conv1d_1\n",
    "n_conv1_out_channels = 20\n",
    "n_conv1_stride = 1 \n",
    "n_conv1_kernel = 2\n",
    "n_conv1_dilation = 1\n",
    "\n",
    "# Compute Lout based on effective kernel using dilation, instead of actual kernel\n",
    "conv1_L_out = get_Lout(block_size, n_conv1_kernel, n_conv1_dilation, n_conv1_stride)\n",
    "# conv1_L_out = ((block_size - n_conv1_kernel) // n_conv1_stride) + 1\n",
    "print(\"conv1_L_out: \", conv1_L_out)\n",
    "# conv1d_2\n",
    "n_conv2_out_channels = 30\n",
    "n_conv2_stride = 1 \n",
    "n_conv2_kernel = 3\n",
    "n_conv2_dilation = 2\n",
    "conv2_L_out = get_Lout(conv1_L_out, n_conv2_kernel, n_conv2_dilation, n_conv2_stride)\n",
    "# conv2_L_out = ((conv1_L_out - n_conv2_kernel) // n_conv2_stride) + 1\n",
    "print(\"conv2_L_out: \", conv2_L_out)\n",
    "\n",
    "# conv1d_3\n",
    "n_conv3_out_channels = 40\n",
    "n_conv3_stride = 1 \n",
    "n_conv3_kernel = 3\n",
    "n_conv3_dilation = 2\n",
    "conv3_L_out = get_Lout(conv2_L_out, n_conv3_kernel, n_conv3_dilation, n_conv3_stride)\n",
    "# conv3_L_out = ((conv2_L_out - n_conv3_kernel) // n_conv3_stride) + 1\n",
    "print(\"conv3_L_out: \", conv3_L_out)\n",
    "\n",
    "#h1\n",
    "n_h1_fanout = 100\n",
    "\n",
    "#h2\n",
    "n_h2_fanout = 100\n",
    "\n",
    "model = Sequential([\n",
    "    Embedding(vocab_size, n_embedding), \n",
    "    Conv1d(sequence_length=block_size, in_channels=n_embedding, out_channels=n_conv1_out_channels, kernel=n_conv1_kernel, stride=n_conv1_stride), ReLu(),\n",
    "    Conv1d(sequence_length=conv1_L_out, in_channels=n_conv1_out_channels, out_channels=n_conv2_out_channels, kernel=n_conv2_kernel, stride=n_conv2_stride, dilation=2), ReLu(),\n",
    "    Conv1d(sequence_length=conv2_L_out, in_channels=n_conv2_out_channels, out_channels=n_conv3_out_channels, kernel=n_conv3_kernel, stride=n_conv3_stride, dilation=2), ReLu(),\n",
    "\n",
    "    Flatten(), Linear(fan_in=n_conv3_out_channels * conv3_L_out, fan_out=n_h1_fanout), Tanh(),\n",
    "    Linear(fan_in=n_h1_fanout, fan_out=n_h2_fanout), Tanh(),\n",
    "    Linear(fan_in=n_h1_fanout, fan_out=vocab_size)\n",
    "])\n",
    "\n",
    "\n",
    "\n",
    "with torch.no_grad():\n",
    "    model.layers[-1].weight *= 0.1\n",
    "\n",
    "# parameters = [p for layer in layers for p in layer.parameters()]\n",
    "print(f\"parameters: {sum(p.nelement() for p in model.parameters())}\")\n",
    "\n",
    "for p in model.parameters():\n",
    "    p.requires_grad = True"
   ]
  },
  {
   "cell_type": "code",
   "execution_count": null,
   "id": "6fca78af-575a-4371-bb83-87e00118c277",
   "metadata": {
    "ExecuteTime": {
     "end_time": "2024-11-19T11:54:38.430208Z",
     "start_time": "2024-11-19T11:54:02.786730Z"
    }
   },
   "outputs": [],
   "source": [
    "# same optimization as last time\n",
    "max_steps = 200_000\n",
    "batch_size = 32\n",
    "lossi = []\n",
    "ud = []\n",
    "\n",
    "for i in range(max_steps):\n",
    "  \n",
    "  # minibatch construct\n",
    "  ix = torch.randint(0, Xtr.shape[0], (batch_size,))\n",
    "  Xb, Yb = Xtr[ix], Ytr[ix] # batch X,Y\n",
    "\n",
    "  # forward pass\n",
    "  logits = model(Xb)\n",
    "  loss = F.cross_entropy(logits, Yb) # loss function\n",
    "  \n",
    "  for p in model.parameters():\n",
    "    p.grad = None\n",
    "  loss.backward()\n",
    "  \n",
    "  # update\n",
    "  lr = 0.1 if i < 100000 else 0.01 # step learning rate decay\n",
    "  for p in model.parameters():\n",
    "    p.data += -lr * p.grad\n",
    "\n",
    "  # track stats\n",
    "  if i % 10000 == 0: # print every once in a while\n",
    "    print(f'{i:7d}/{max_steps:7d}: {loss.item():.4f}')\n",
    "  lossi.append(loss.log10().item())"
   ]
  },
  {
   "cell_type": "code",
   "execution_count": 21,
   "id": "336af99e-4ee8-416a-b4f5-6f304951e4ac",
   "metadata": {},
   "outputs": [],
   "source": [
    "@torch.no_grad() # this decorator disables gradient tracking\n",
    "def split_loss(split):\n",
    "  x,y = {\n",
    "    'train': (Xtr, Ytr),\n",
    "    'val': (Xdev, Ydev),\n",
    "    'test': (Xte, Yte),\n",
    "  }[split]\n",
    "  logits = model(x)\n",
    "  \n",
    "  loss = F.cross_entropy(logits, y)\n",
    "  print(split, loss.item())"
   ]
  },
  {
   "cell_type": "code",
   "execution_count": 221,
   "id": "255e7fc1-d5bf-4a19-b103-16a0852e8f1a",
   "metadata": {},
   "outputs": [
    {
     "name": "stdout",
     "output_type": "stream",
     "text": [
      "train 1.8569831848144531\n",
      "val 2.029000997543335\n"
     ]
    }
   ],
   "source": [
    "split_loss('train')\n",
    "split_loss('val')"
   ]
  },
  {
   "cell_type": "code",
   "execution_count": 222,
   "id": "c5337a46-4d62-4a13-b5c6-d27f54247267",
   "metadata": {},
   "outputs": [
    {
     "data": {
      "text/plain": [
       "[<matplotlib.lines.Line2D at 0x11d7e37a0>]"
      ]
     },
     "execution_count": 222,
     "metadata": {},
     "output_type": "execute_result"
    },
    {
     "data": {
      "image/png": "[encoded data removed]",
      "text/plain": [
       "<Figure size 640x480 with 1 Axes>"
      ]
     },
     "metadata": {},
     "output_type": "display_data"
    }
   ],
   "source": [
    "plt.plot(torch.tensor(lossi).view(-1, 1000).mean(1))"
   ]
  },
  {
   "cell_type": "markdown",
   "id": "98e707d9-d139-431f-b169-fca0e375020d",
   "metadata": {},
   "source": [
    "### Performance log \n",
    "#### with 40 filter size of each conv layer, 10 dimensional embedding\n",
    "* train 1.9566978216171265\n",
    "* val 2.0483827590942383\n",
    "\n",
    "#### With 20, 30, 40 filters (increasing by 10 at each layer), 10 dimensional embedding\n",
    "* train 1.911450743675232\n",
    "* val 2.0312490463256836\n",
    "#### Trained the above for another 50k epochs with 0.01 learning rate\n",
    "* train 1.8932315111160278\n",
    "* val 2.0289735794067383\n",
    "\n",
    "#### Introduced dilated convolutional networks. Reduced the complexity of the model. Hirarchical layer removed and a linear 100 neuron layer added. Parameter count also reduced, yet got almost similar val loss, with smaller network. Block size = 8. The names sampled were much more diverse this time.\n",
    "* train 1.904414415359497\n",
    "* val 2.0429046154022217\n",
    "\n",
    "#### Increased the block size to 15. Kernel of conv2 and conv3 to 3 and dilations remained same.\n",
    "* train 1.8675997257232666\n",
    "* val 2.0497312545776367\n",
    "\n",
    "#### Added another hidden layer of 100 neurons and now the validation loss has come down. \n",
    "* train 1.86508047580719\n",
    "* val 2.037341833114624\n",
    "\n",
    "#### Ran for another 100k epochs with 0.05 lr reduced to 0.01 after 50k iterations\n",
    "* train 1.8569831848144531\n",
    "* val 2.029000997543335\n",
    "#### Adding residual layer around conv1d layers did not impact the loss, mainly because the network is very shallow right now\n",
    "* train 1.8663831844748521\n",
    "* val 2.04\n",
    "#### We reduced the parameter count from 80k to 29k simply by using identity mapping in residual layer. The training time increased. The val loss slightly worsened but that is because each conv layer has now 10 channels only (to maintain identity mapping of the residual layer).\n",
    "* train 1.89764404296875\n",
    "* val 2.079698085784912\n"
   ]
  },
  {
   "cell_type": "code",
   "execution_count": 226,
   "id": "7abc8c55-9c90-4502-bd69-f62a3de4d5f7",
   "metadata": {},
   "outputs": [
    {
     "name": "stdout",
     "output_type": "stream",
     "text": [
      "eldiea.\n",
      "jermar.\n",
      "yurder.\n",
      "joseja.\n",
      "taorance.\n",
      "thorsis.\n",
      "adriella.\n",
      "leniya.\n",
      "xadata.\n",
      "aryanaed.\n",
      "auxgan.\n",
      "ilisia.\n",
      "khaleian.\n",
      "andrey.\n",
      "elio.\n",
      "ereckel.\n",
      "daviya.\n",
      "ahris.\n",
      "ariza.\n",
      "mackh.\n"
     ]
    }
   ],
   "source": [
    "# sample from the model\n",
    "for _ in range(20):\n",
    "    \n",
    "    out = []\n",
    "    context = [0] * block_size # initialize with all ...\n",
    "    while True:\n",
    "      # forward pass the neural net\n",
    "      logits = model(torch.tensor([context]))\n",
    "      probs = F.softmax(logits, dim=1)\n",
    "      # sample from the distribution\n",
    "      ix = torch.multinomial(probs, num_samples=1).item()\n",
    "      # shift the context window and track the samples\n",
    "      context = context[1:] + [ix]\n",
    "      out.append(ix)\n",
    "      # if we sample the special '.' token, break\n",
    "      if ix == 0:\n",
    "        break\n",
    "    \n",
    "    print(''.join(itos[i] for i in out)) # decode and print the generated word"
   ]
  },
  {
   "cell_type": "markdown",
   "id": "f9cbab10-6434-43c1-b0fe-ee30224bed3f",
   "metadata": {},
   "source": [
    "### Adding residual connections!\n"
   ]
  },
  {
   "cell_type": "code",
   "execution_count": 64,
   "id": "52285ac8-5919-43b3-bfd0-fb186c8bf5a1",
   "metadata": {},
   "outputs": [],
   "source": [
    "class Linear:\n",
    "  \n",
    "  def __init__(self, fan_in, fan_out, bias=True):\n",
    "    self.weight = torch.randn((fan_in, fan_out)) / fan_in**0.5 # note: kaiming init\n",
    "    self.bias = torch.zeros(fan_out) if bias else None\n",
    "  \n",
    "  def __call__(self, x):\n",
    "    self.out = x @ self.weight\n",
    "    if self.bias is not None:\n",
    "      self.out += self.bias\n",
    "    return self.out\n",
    "  \n",
    "  def parameters(self):\n",
    "    return [self.weight] + ([] if self.bias is None else [self.bias])\n",
    "\n",
    "# -----------------------------------------------------------------------------------------------\n",
    "class BatchNorm1d:\n",
    "  \n",
    "  def __init__(self, dim, eps=1e-5, momentum=0.1):\n",
    "    self.eps = eps\n",
    "    self.momentum = momentum\n",
    "    self.training = True\n",
    "    # Parameters (trainable via backprop)\n",
    "    self.gamma = torch.ones(dim).view(1, -1, 1)  # Shape [1, C, 1]\n",
    "    self.beta = torch.zeros(dim).view(1, -1, 1)  # Shape [1, C, 1]\n",
    "    # Buffers (updated via momentum)\n",
    "    self.running_mean = torch.zeros(dim)  # Shape [C]\n",
    "    self.running_var = torch.ones(dim)    # Shape [C]\n",
    "  \n",
    "  def __call__(self, x):\n",
    "    if self.training:\n",
    "      # Compute mean and variance across batch and sequence length (dim=(0,2))\n",
    "      xmean = x.mean(dim=(0, 2), keepdim=True)  # Shape [1, C, 1]\n",
    "      xvar = x.var(dim=(0, 2), keepdim=True)    # Shape [1, C, 1]\n",
    "    else:\n",
    "      # Use running statistics for inference\n",
    "      xmean = self.running_mean.view(1, -1, 1)  # Shape [1, C, 1]\n",
    "      xvar = self.running_var.view(1, -1, 1)    # Shape [1, C, 1]\n",
    "    \n",
    "    # Normalize input\n",
    "    xhat = (x - xmean) / torch.sqrt(xvar + self.eps)  # Normalize to unit variance\n",
    "    self.out = self.gamma * xhat + self.beta         # Scale and shift\n",
    "\n",
    "    # Update running statistics during training\n",
    "    if self.training:\n",
    "      with torch.no_grad():\n",
    "        self.running_mean = (1 - self.momentum) * self.running_mean + self.momentum * xmean.squeeze()\n",
    "        self.running_var = (1 - self.momentum) * self.running_var + self.momentum * xvar.squeeze()\n",
    "    \n",
    "    return self.out\n",
    "  \n",
    "  def parameters(self):\n",
    "    # Return trainable parameters\n",
    "    return [self.gamma, self.beta]\n",
    "\n",
    "\n",
    "# -----------------------------------------------------------------------------------------------\n",
    "class Tanh:\n",
    "  def __call__(self, x):\n",
    "    self.out = torch.tanh(x)\n",
    "    return self.out\n",
    "  def parameters(self):\n",
    "    return []\n",
    "\n",
    "# -----------------------------------------------------------------------------------------------\n",
    "class Embedding:\n",
    "  \n",
    "  def __init__(self, num_embeddings, embedding_dim):\n",
    "    self.weight = torch.randn((num_embeddings, embedding_dim))\n",
    "    \n",
    "  def __call__(self, IX):\n",
    "    self.out = self.weight[IX].transpose(1, 2)\n",
    "    \n",
    "    return self.out\n",
    "  \n",
    "  def parameters(self):\n",
    "    return [self.weight]\n",
    "\n",
    "# -----------------------------------------------------------------------------------------------\n",
    "class FlattenConsecutive:\n",
    "  \n",
    "  def __init__(self, n):\n",
    "    self.n = n\n",
    "    \n",
    "  def __call__(self, x):\n",
    "    B, T, C = x.shape\n",
    "    x = x.view(B, T//self.n, C*self.n)\n",
    "    if x.shape[1] == 1:\n",
    "      x = x.squeeze(1)\n",
    "    self.out = x\n",
    "    return self.out\n",
    "  \n",
    "  def parameters(self):\n",
    "    return []\n",
    "\n",
    "class Flatten:\n",
    "    def __call__(self, x):\n",
    "        self.out = x.view(x.shape[0], -1)\n",
    "        return self.out\n",
    "    def parameters(self):\n",
    "        return []\n",
    "\n",
    "# -----------------------------------------------------------------------------------------------\n",
    "class Sequential:\n",
    "  \n",
    "  def __init__(self, layers):\n",
    "    self.layers = layers\n",
    "  \n",
    "  def __call__(self, x):\n",
    "    for layer in self.layers:\n",
    "      x = layer(x)\n",
    "    self.out = x\n",
    "    return self.out\n",
    "  \n",
    "  def parameters(self):\n",
    "    # get parameters of all layers and stretch them out into one list\n",
    "    return [p for layer in self.layers for p in layer.parameters()]\n",
    "\n",
    "# --------------------------------------------\n",
    "class Conv1d:\n",
    "    def __init__(self, sequence_length, in_channels, out_channels, kernel=2, stride=1, dilation=1):\n",
    "        self. sequence_length = sequence_length\n",
    "        self.in_channels = in_channels\n",
    "        self.out_channels = out_channels\n",
    "        self.kernel = kernel\n",
    "        self.stride = stride\n",
    "        self.dilation = dilation\n",
    "        self.filters = torch.randn((out_channels, in_channels, kernel)) * ((2 / (in_channels * kernel)) ** 0.5)\n",
    "        self.bias = torch.randn(out_channels) * 0\n",
    "        self.effective_kernel = ((self.kernel - 1) * self.dilation) + 1\n",
    "        self.Lout = ((self.sequence_length - self.effective_kernel) // self.stride) + 1\n",
    "    def __call__(self, x):\n",
    "        # Compute effective kernel size based on dilation \n",
    "        # effective_kernel = ((self.kernel - 1) * self.dilation) + 1\n",
    "        \n",
    "        N, C, L = x.shape\n",
    "        assert self.effective_kernel <= L\n",
    "            \n",
    "        # create the sliding windows of the input \n",
    "        x_unfolded = x.unfold(2, self.effective_kernel, self.stride)\n",
    "\n",
    "        # Extract dilated inputs from x_unfolded which used effective_kernel. The shape of the unfolded vector is [N, C, L, effective_k] \n",
    "        # where L is the length of the sequence depending on the effective kernel. From the dimension of effective_kernel, we clip every 'dilated' index\n",
    "        # If effective_kernel is 3 and dilation is 2, [1, 2, 3] will result in [1, 3]. [1,3] has length of 2, which is equal to actual kernel value\n",
    "        x_unfolded = x_unfolded[:, :, :, ::self.dilation]\n",
    "\n",
    "        # The dilation also changes the sequence length, since effective kernel value changes with dilation > 1. \n",
    "        # Compute Lout based on effective_kernel\n",
    "        \n",
    "        # Lout = ((self.sequence_length - self.effective_kernel) // self.stride) + 1\n",
    "        \n",
    "        # Before cross correlation, we need to broadcast the filters and the input correctly\n",
    "        x_unfolded = x_unfolded.view(N, 1, C, self.Lout, self.kernel)\n",
    "        filters = self.filters.view(1, self.out_channels, self.in_channels, 1, self.kernel)\n",
    "\n",
    "        # Perform element wise multiplication\n",
    "        self.out = torch.mul(x_unfolded, filters).sum((2, 4)) + self.bias.view(1, self.out_channels, 1)\n",
    "        return self.out        \n",
    "    \n",
    "    def parameters(self): \n",
    "        return [self.filters] + [self.bias]\n",
    "\n",
    "class ReLu: \n",
    "    def __call__(self, x):\n",
    "        self.out = torch.relu(x)\n",
    "        return self.out\n",
    "\n",
    "    def parameters(self):\n",
    "        return []\n",
    "        \n",
    "class Transpose:\n",
    "    def __call__(self, x):\n",
    "        self.out = x.transpose(1, 2)\n",
    "        return self.out\n",
    "    \n",
    "    def parameters(self):\n",
    "        return []\n",
    "\n",
    "class Residual: \n",
    "    def __init__(self, layers):\n",
    "        self.projection_needed = False\n",
    "        self.layers = layers\n",
    "        \n",
    "        \n",
    "        # Input of the in layer config\n",
    "        in_layer = layers[0]\n",
    "        out_layer = layers[-1]\n",
    "\n",
    "        self.in_channels = in_layer.in_channels\n",
    "        self.in_sequence_length = in_layer.sequence_length\n",
    "\n",
    "        self.out_channels = out_layer.out_channels\n",
    "        self.out_sequence_length = out_layer.Lout\n",
    "\n",
    "        if self.in_channels != self.out_channels: # Assuming for now, this will always be the case\n",
    "            self.projection_needed = True\n",
    "            self.linear_projection_conv = Conv1d(sequence_length=self.in_sequence_length, out_channels=self.out_channels, in_channels=self.in_channels, kernel=1)\n",
    "            \n",
    "    def __call__(self, x):\n",
    "        self.input = x\n",
    "        for layer in self.layers: \n",
    "            x = layer(x)\n",
    "        # Perform residual operation\n",
    "        if self.projection_needed:\n",
    "            linear_projection = self.linear_projection_conv(self.input)\n",
    "            \n",
    "        # Pad the output since the Lout != Lin\n",
    "        sequence_length_diff = self.in_sequence_length - self.out_sequence_length\n",
    "        x = F.pad(x, (sequence_length_diff // 2, sequence_length_diff - sequence_length_diff // 2))\n",
    "        \n",
    "        self.out = x + linear_projection if self.projection_needed else x + self.input\n",
    "        \n",
    "        return self.out\n",
    "        \n",
    "    def parameters(self):\n",
    "        # Collect parameters from all layers and the projection (if used)\n",
    "        params = [p for layer in self.layers for p in layer.parameters()]\n",
    "        if self.projection_needed:\n",
    "            params += self.linear_projection_conv.parameters()\n",
    "        return params"
   ]
  },
  {
   "cell_type": "code",
   "execution_count": 52,
   "id": "be59c493-b2b1-4fcf-ac5c-c578f8c89026",
   "metadata": {},
   "outputs": [
    {
     "data": {
      "text/plain": [
       "torch.Size([32, 20, 8])"
      ]
     },
     "execution_count": 52,
     "metadata": {},
     "output_type": "execute_result"
    }
   ],
   "source": [
    "x = torch.randn((32, 10, 8))\n",
    "c1 = Conv1d(8, 10, 20)\n",
    "c2 = Conv1d(7, 20, 20)  # torch.Size([32, 20, 6])\n",
    "\n",
    "resnet = Residual([c1, ReLu(), c2])\n",
    "resnet(x).shape\n",
    "# resnet.layers[2].out_channels"
   ]
  },
  {
   "cell_type": "markdown",
   "id": "21534ac806df2ba2",
   "metadata": {},
   "source": [
    "### Let's build our model with residual layers now. \n",
    "We will wrap the each conv1d in a residual layer. "
   ]
  },
  {
   "cell_type": "code",
   "execution_count": 60,
   "id": "e7645f3c9d778689",
   "metadata": {},
   "outputs": [
    {
     "name": "stdout",
     "output_type": "stream",
     "text": [
      "conv1_L_out:  14\n",
      "conv2_L_out:  10\n",
      "conv3_L_out:  6\n",
      "parameters: 79527\n"
     ]
    }
   ],
   "source": [
    "def get_Lout(sequence_length, kernel, dilation, stride):\n",
    "    effective_kernel = (kernel - 1) * dilation + 1\n",
    "    Lout = ((sequence_length - effective_kernel) // stride) + 1\n",
    "    return Lout\n",
    "    \n",
    "### Let's redefine the model with conv layers \n",
    "n_embedding = 10\n",
    "\n",
    "# conv1d_1\n",
    "n_conv1_out_channels = 20\n",
    "n_conv1_stride = 1 \n",
    "n_conv1_kernel = 2\n",
    "n_conv1_dilation = 1\n",
    "\n",
    "# Compute Lout based on effective kernel using dilation, instead of actual kernel\n",
    "conv1_L_out = get_Lout(block_size, n_conv1_kernel, n_conv1_dilation, n_conv1_stride)\n",
    "# conv1_L_out = ((block_size - n_conv1_kernel) // n_conv1_stride) + 1\n",
    "print(\"conv1_L_out: \", conv1_L_out)\n",
    "# conv1d_2\n",
    "n_conv2_out_channels = 30\n",
    "n_conv2_stride = 1 \n",
    "n_conv2_kernel = 3\n",
    "n_conv2_dilation = 2\n",
    "conv2_L_out = get_Lout(conv1_L_out, n_conv2_kernel, n_conv2_dilation, n_conv2_stride)\n",
    "# conv2_L_out = ((conv1_L_out - n_conv2_kernel) // n_conv2_stride) + 1\n",
    "print(\"conv2_L_out: \", conv2_L_out)\n",
    "\n",
    "# conv1d_3\n",
    "n_conv3_out_channels = 40\n",
    "n_conv3_stride = 1 \n",
    "n_conv3_kernel = 3\n",
    "n_conv3_dilation = 2\n",
    "conv3_L_out = get_Lout(conv2_L_out, n_conv3_kernel, n_conv3_dilation, n_conv3_stride)\n",
    "# conv3_L_out = ((conv2_L_out - n_conv3_kernel) // n_conv3_stride) + 1\n",
    "print(\"conv3_L_out: \", conv3_L_out)\n",
    "\n",
    "#h1\n",
    "n_h1_fanout = 100\n",
    "\n",
    "#h2\n",
    "n_h2_fanout = 100\n",
    "\n",
    "model = Sequential([\n",
    "    Embedding(vocab_size, n_embedding), \n",
    "    Residual([\n",
    "        Conv1d(sequence_length=block_size, in_channels=n_embedding, out_channels=n_conv1_out_channels, kernel=n_conv1_kernel, stride=n_conv1_stride), ReLu(),\n",
    "        Conv1d(sequence_length=conv1_L_out, in_channels=n_conv1_out_channels, out_channels=n_conv2_out_channels, kernel=n_conv2_kernel, stride=n_conv2_stride, dilation=2), ReLu(),\n",
    "        Conv1d(sequence_length=conv2_L_out, in_channels=n_conv2_out_channels, out_channels=n_conv3_out_channels, kernel=n_conv3_kernel, stride=n_conv3_stride, dilation=2), \n",
    "    ]),\n",
    "    ReLu(),\n",
    "    # Output of residual will be the [out_channels, input_sequence_length of the layer before the residual layer]\n",
    "    Flatten(), Linear(fan_in=n_conv3_out_channels * block_size, fan_out=n_h1_fanout), Tanh(),\n",
    "    Linear(fan_in=n_h1_fanout, fan_out=n_h2_fanout), Tanh(),\n",
    "    Linear(fan_in=n_h1_fanout, fan_out=vocab_size)\n",
    "])\n",
    "\n",
    "\n",
    "\n",
    "with torch.no_grad():\n",
    "    model.layers[-1].weight *= 0.1\n",
    "\n",
    "# parameters = [p for layer in layers for p in layer.parameters()]\n",
    "print(f\"parameters: {sum(p.nelement() for p in model.parameters())}\")\n",
    "\n",
    "for p in model.parameters():\n",
    "    p.requires_grad = True"
   ]
  },
  {
   "cell_type": "code",
   "execution_count": 65,
   "id": "330f0f87-68c9-4e37-b805-000bbc616b9d",
   "metadata": {},
   "outputs": [
    {
     "name": "stdout",
     "output_type": "stream",
     "text": [
      "      0/ 200000: 1.6993\n",
      "  10000/ 200000: 2.0160\n",
      "  20000/ 200000: 1.3258\n",
      "  30000/ 200000: 1.8583\n",
      "  40000/ 200000: 1.8102\n",
      "  50000/ 200000: 1.7424\n",
      "  60000/ 200000: 1.6037\n",
      "  70000/ 200000: 1.8541\n",
      "  80000/ 200000: 1.9159\n",
      "  90000/ 200000: 1.9372\n",
      " 100000/ 200000: 1.8772\n",
      " 110000/ 200000: 1.5870\n",
      " 120000/ 200000: 1.7653\n",
      " 130000/ 200000: 2.0590\n",
      " 140000/ 200000: 1.4296\n",
      " 150000/ 200000: 1.5070\n",
      " 160000/ 200000: 1.7304\n",
      " 170000/ 200000: 1.9687\n",
      " 180000/ 200000: 1.5479\n",
      " 190000/ 200000: 1.8390\n"
     ]
    }
   ],
   "source": [
    "# same optimization as last time\n",
    "max_steps = 200_000\n",
    "batch_size = 32\n",
    "# lossi = []\n",
    "ud = []\n",
    "\n",
    "for i in range(max_steps):\n",
    "  \n",
    "  # minibatch construct\n",
    "  ix = torch.randint(0, Xtr.shape[0], (batch_size,))\n",
    "  Xb, Yb = Xtr[ix], Ytr[ix] # batch X,Y\n",
    "\n",
    "  # forward pass\n",
    "  logits = model(Xb)\n",
    "  loss = F.cross_entropy(logits, Yb) # loss function\n",
    "  \n",
    "  for p in model.parameters():\n",
    "    p.grad = None\n",
    "  loss.backward()\n",
    "  \n",
    "  # update\n",
    "  lr = 0.05 if i < 100000 else 0.001 # step learning rate decay\n",
    "  for p in model.parameters():\n",
    "    p.data += -lr * p.grad\n",
    "\n",
    "  # track stats\n",
    "  if i % 10000 == 0: # print every once in a while\n",
    "    print(f'{i:7d}/{max_steps:7d}: {loss.item():.4f}')\n",
    "  lossi.append(loss.log10().item())\n"
   ]
  },
  {
   "cell_type": "code",
   "execution_count": 68,
   "id": "1e26b83c-2674-4188-bbc1-e82de53f8ece",
   "metadata": {},
   "outputs": [
    {
     "name": "stdout",
     "output_type": "stream",
     "text": [
      "train 1.7102802991867065\n",
      "val 2.0659449100494385\n"
     ]
    }
   ],
   "source": [
    "split_loss('train')\n",
    "split_loss('val')"
   ]
  },
  {
   "cell_type": "code",
   "execution_count": 69,
   "id": "2ea9efdb-5edb-4324-920d-51c620df1cee",
   "metadata": {},
   "outputs": [
    {
     "data": {
      "text/plain": [
       "[<matplotlib.lines.Line2D at 0x11f0fb0b0>]"
      ]
     },
     "execution_count": 69,
     "metadata": {},
     "output_type": "execute_result"
    },
    {
     "data": {
      "image/png": "[encoded data removed]",
      "text/plain": [
       "<Figure size 640x480 with 1 Axes>"
      ]
     },
     "metadata": {},
     "output_type": "display_data"
    }
   ],
   "source": [
    "plt.plot(torch.tensor(lossi).view(-1, 1000).mean(1))"
   ]
  },
  {
   "cell_type": "code",
   "execution_count": 59,
   "id": "34011e1b-8955-4385-bc48-02e3fd334fef",
   "metadata": {},
   "outputs": [
    {
     "data": {
      "image/png": "[encoded data removed]",
      "text/plain": [
       "<Figure size 640x480 with 1 Axes>"
      ]
     },
     "metadata": {},
     "output_type": "display_data"
    }
   ],
   "source": [
    "plt.hist(model.layers[1].layers[0].out.clone().detach().view(-1));\n",
    "\n",
    "# plt.hist(model.layers[2].out.clone().detach().view(-1));"
   ]
  },
  {
   "cell_type": "code",
   "execution_count": 23,
   "id": "8a5f3c70-3851-4f12-bdde-faa24b3c884e",
   "metadata": {},
   "outputs": [],
   "source": [
    "# sample from the model\n",
    "def sample_from_model():\n",
    "    res = []\n",
    "    for _ in range(20):\n",
    "        out = []\n",
    "        context = [0] * block_size # initialize with all ...\n",
    "        while True:\n",
    "          # forward pass the neural net\n",
    "          logits = model(torch.tensor([context]))\n",
    "          probs = F.softmax(logits, dim=1)\n",
    "          # sample from the distribution\n",
    "          ix = torch.multinomial(probs, num_samples=1).item()\n",
    "          # shift the context window and track the samples\n",
    "          context = context[1:] + [ix]\n",
    "          out.append(ix)\n",
    "          # if we sample the special '.' token, break\n",
    "          if ix == 0:\n",
    "            break\n",
    "        res.append(''.join(itos[i] for i in out)) # decode and print the generated word\n",
    "    return res"
   ]
  },
  {
   "cell_type": "markdown",
   "id": "55802574-3a25-4d37-9187-b9bc79289a1a",
   "metadata": {},
   "source": [
    "### Next attempt is to using identity mapping in the residual layer. This is done in order to not add more paramters to the model because of the projection done at the residual level. \n",
    "We will make sure that the input number of channels of the residual block input is the same as the output number of channels. \n",
    "<br/> We will update the code of the residual block in order to make it so that if the in and out channels are the same, it does not do projection of the input. \n",
    "* We do not expect to see any loss improvement in this case, but we do expect to see training time reduced. "
   ]
  },
  {
   "cell_type": "code",
   "execution_count": 90,
   "id": "992bf320-ba83-4c57-b58a-7934ce4595df",
   "metadata": {},
   "outputs": [
    {
     "name": "stdout",
     "output_type": "stream",
     "text": [
      "parameters: 1030\n"
     ]
    }
   ],
   "source": [
    "# Let's increase the inchannels on every conv layer to compare parameter count\n",
    "x = torch.randn((32, 10, 8))\n",
    "c1 = Conv1d(8, 20, 10)\n",
    "c2 = Conv1d(7, 20, 10)\n",
    "\n",
    "resnet = Residual([\n",
    "    c1, c2\n",
    "])\n",
    "print(f\"parameters: {sum(p.nelement() for p in resnet.parameters())}\")\n"
   ]
  },
  {
   "cell_type": "code",
   "execution_count": 91,
   "id": "f81b2f7f-3bb4-42d9-ab70-5e0556c65835",
   "metadata": {},
   "outputs": [
    {
     "name": "stdout",
     "output_type": "stream",
     "text": [
      "parameters: 420\n"
     ]
    }
   ],
   "source": [
    "# Let's keep the inchannels same on every conv layer to compare parameter count\n",
    "x = torch.randn((32, 10, 8))\n",
    "c1 = Conv1d(8, 10, 10)\n",
    "c2 = Conv1d(7, 10, 10)\n",
    "\n",
    "resnet = Residual([\n",
    "    c1, c2\n",
    "])\n",
    "print(f\"parameters: {sum(p.nelement() for p in resnet.parameters())}\")\n"
   ]
  },
  {
   "cell_type": "markdown",
   "id": "399ae056-e63c-438e-b8ce-05c66dc2d7e9",
   "metadata": {},
   "source": [
    "As you can see, the parameter count is significantly lower. "
   ]
  },
  {
   "cell_type": "code",
   "execution_count": 100,
   "id": "4e00bb08-1392-496a-8d37-ef705524f8a4",
   "metadata": {},
   "outputs": [
    {
     "name": "stdout",
     "output_type": "stream",
     "text": [
      "conv1_L_out:  14\n",
      "conv2_L_out:  10\n",
      "conv3_L_out:  6\n",
      "parameters: 29027\n"
     ]
    }
   ],
   "source": [
    "def get_Lout(sequence_length, kernel, dilation, stride):\n",
    "    effective_kernel = (kernel - 1) * dilation + 1\n",
    "    Lout = ((sequence_length - effective_kernel) // stride) + 1\n",
    "    return Lout\n",
    "    \n",
    "### Let's redefine the model with conv layers \n",
    "n_embedding = 10\n",
    "\n",
    "# conv1d_1\n",
    "n_conv1_out_channels = 10\n",
    "n_conv1_stride = 1 \n",
    "n_conv1_kernel = 2\n",
    "n_conv1_dilation = 1\n",
    "\n",
    "# Compute Lout based on effective kernel using dilation, instead of actual kernel\n",
    "conv1_L_out = get_Lout(block_size, n_conv1_kernel, n_conv1_dilation, n_conv1_stride)\n",
    "# conv1_L_out = ((block_size - n_conv1_kernel) // n_conv1_stride) + 1\n",
    "print(\"conv1_L_out: \", conv1_L_out)\n",
    "# conv1d_2\n",
    "n_conv2_out_channels = 10\n",
    "n_conv2_stride = 1 \n",
    "n_conv2_kernel = 3\n",
    "n_conv2_dilation = 2\n",
    "conv2_L_out = get_Lout(conv1_L_out, n_conv2_kernel, n_conv2_dilation, n_conv2_stride)\n",
    "# conv2_L_out = ((conv1_L_out - n_conv2_kernel) // n_conv2_stride) + 1\n",
    "print(\"conv2_L_out: \", conv2_L_out)\n",
    "\n",
    "# conv1d_3\n",
    "n_conv3_out_channels = 10\n",
    "n_conv3_stride = 1 \n",
    "n_conv3_kernel = 3\n",
    "n_conv3_dilation = 2\n",
    "conv3_L_out = get_Lout(conv2_L_out, n_conv3_kernel, n_conv3_dilation, n_conv3_stride)\n",
    "# conv3_L_out = ((conv2_L_out - n_conv3_kernel) // n_conv3_stride) + 1\n",
    "print(\"conv3_L_out: \", conv3_L_out)\n",
    "\n",
    "#h1\n",
    "n_h1_fanout = 100\n",
    "\n",
    "#h2\n",
    "n_h2_fanout = 100\n",
    "\n",
    "model = Sequential([\n",
    "    Embedding(vocab_size, n_embedding), \n",
    "    Residual([\n",
    "        Conv1d(sequence_length=block_size, in_channels=n_embedding, out_channels=n_conv1_out_channels, kernel=n_conv1_kernel, stride=n_conv1_stride), ReLu(),\n",
    "        Conv1d(sequence_length=conv1_L_out, in_channels=n_conv1_out_channels, out_channels=n_conv2_out_channels, kernel=n_conv2_kernel, stride=n_conv2_stride, dilation=2), ReLu(),\n",
    "        Conv1d(sequence_length=conv2_L_out, in_channels=n_conv2_out_channels, out_channels=n_conv3_out_channels, kernel=n_conv3_kernel, stride=n_conv3_stride, dilation=2), \n",
    "    ]),\n",
    "    ReLu(),\n",
    "    # Output of residual will be the [out_channels, input_sequence_length of the layer before the residual layer]\n",
    "    Flatten(), Linear(fan_in=n_conv3_out_channels * block_size, fan_out=n_h1_fanout), Tanh(),\n",
    "    Linear(fan_in=n_h1_fanout, fan_out=n_h2_fanout), Tanh(),\n",
    "    Linear(fan_in=n_h1_fanout, fan_out=vocab_size)\n",
    "])\n",
    "\n",
    "\n",
    "\n",
    "with torch.no_grad():\n",
    "    model.layers[-1].weight *= 0.1\n",
    "\n",
    "# parameters = [p for layer in layers for p in layer.parameters()]\n",
    "print(f\"parameters: {sum(p.nelement() for p in model.parameters())}\")\n",
    "\n",
    "for p in model.parameters():\n",
    "    p.requires_grad = True"
   ]
  },
  {
   "cell_type": "code",
   "execution_count": 101,
   "id": "6aa64e1f-a307-48f6-bcc2-ce33934a9718",
   "metadata": {},
   "outputs": [],
   "source": [
    "lossi = []"
   ]
  },
  {
   "cell_type": "code",
   "execution_count": 102,
   "id": "757ec014-628a-406f-8f4e-7ef2aec19500",
   "metadata": {},
   "outputs": [
    {
     "name": "stdout",
     "output_type": "stream",
     "text": [
      "      0/ 200000: 3.3152\n",
      "  10000/ 200000: 2.0705\n",
      "  20000/ 200000: 1.9496\n",
      "  30000/ 200000: 2.1305\n",
      "  40000/ 200000: 2.2046\n",
      "  50000/ 200000: 1.7311\n",
      "  60000/ 200000: 2.3502\n",
      "  70000/ 200000: 1.8276\n",
      "  80000/ 200000: 2.0754\n",
      "  90000/ 200000: 1.7440\n",
      " 100000/ 200000: 1.7872\n",
      " 110000/ 200000: 1.7746\n",
      " 120000/ 200000: 1.6675\n",
      " 130000/ 200000: 1.8793\n",
      " 140000/ 200000: 1.9258\n",
      " 150000/ 200000: 1.7521\n",
      " 160000/ 200000: 1.9227\n",
      " 170000/ 200000: 1.7370\n",
      " 180000/ 200000: 2.0329\n",
      " 190000/ 200000: 1.6422\n"
     ]
    }
   ],
   "source": [
    "# same optimization as last time\n",
    "max_steps = 200_000\n",
    "batch_size = 32\n",
    "# lossi = []\n",
    "ud = []\n",
    "\n",
    "for i in range(max_steps):\n",
    "  \n",
    "  # minibatch construct\n",
    "  ix = torch.randint(0, Xtr.shape[0], (batch_size,))\n",
    "  Xb, Yb = Xtr[ix], Ytr[ix] # batch X,Y\n",
    "\n",
    "  # forward pass\n",
    "  logits = model(Xb)\n",
    "  loss = F.cross_entropy(logits, Yb) # loss function\n",
    "  \n",
    "  for p in model.parameters():\n",
    "    p.grad = None\n",
    "  loss.backward()\n",
    "  \n",
    "  # update\n",
    "  lr = 0.1 if i < 100000 else 0.05 # step learning rate decay\n",
    "  for p in model.parameters():\n",
    "    p.data += -lr * p.grad\n",
    "\n",
    "  # track stats\n",
    "  if i % 10000 == 0: # print every once in a while\n",
    "    print(f'{i:7d}/{max_steps:7d}: {loss.item():.4f}')\n",
    "  lossi.append(loss.log10().item())\n",
    "  "
   ]
  },
  {
   "cell_type": "code",
   "execution_count": 99,
   "id": "81a985ac-6ffb-4fd0-a896-fca4042b0595",
   "metadata": {},
   "outputs": [
    {
     "data": {
      "text/plain": [
       "False"
      ]
     },
     "execution_count": 99,
     "metadata": {},
     "output_type": "execute_result"
    }
   ],
   "source": [
    "model.layers[1].projection_needed"
   ]
  },
  {
   "cell_type": "code",
   "execution_count": 103,
   "id": "bb1f5e2c-9968-4879-a8d5-c511a8c67c0a",
   "metadata": {},
   "outputs": [
    {
     "name": "stdout",
     "output_type": "stream",
     "text": [
      "train 1.89764404296875\n",
      "val 2.079698085784912\n"
     ]
    }
   ],
   "source": [
    "split_loss('train')\n",
    "split_loss('val')"
   ]
  },
  {
   "cell_type": "code",
   "execution_count": 104,
   "id": "642681bf-220b-4b7e-b695-d027d26d765a",
   "metadata": {},
   "outputs": [
    {
     "data": {
      "text/plain": [
       "[<matplotlib.lines.Line2D at 0x120fd1b20>]"
      ]
     },
     "execution_count": 104,
     "metadata": {},
     "output_type": "execute_result"
    },
    {
     "data": {
      "image/png": "[encoded data removed]",
      "text/plain": [
       "<Figure size 640x480 with 1 Axes>"
      ]
     },
     "metadata": {},
     "output_type": "display_data"
    }
   ],
   "source": [
    "plt.plot(torch.tensor(lossi).view(-1, 1000).mean(1))"
   ]
  },
  {
   "cell_type": "code",
   "execution_count": 111,
   "id": "df53e127-35b2-4079-9a98-7d081ca04ffe",
   "metadata": {},
   "outputs": [
    {
     "data": {
      "text/plain": [
       "['stefiom.',\n",
       " 'schash.',\n",
       " 'rickin.',\n",
       " 'kelilah.',\n",
       " 'brise.',\n",
       " 'hannya.',\n",
       " 'anziel.',\n",
       " 'demontay.',\n",
       " 'mikenzeo.',\n",
       " 'kailee.',\n",
       " 'jale.',\n",
       " 'jemmi.',\n",
       " 'jeon.',\n",
       " 'laurye.',\n",
       " 'raini.',\n",
       " 'deshanah.',\n",
       " 'eloma.',\n",
       " 'ariona.',\n",
       " 'dimari.',\n",
       " 'lovee.']"
      ]
     },
     "execution_count": 111,
     "metadata": {},
     "output_type": "execute_result"
    }
   ],
   "source": [
    "sample_from_model()"
   ]
  },
  {
   "attachments": {
    "6636fc71-95e1-4823-a6bc-d170bb7b4976.png": {
     "image/png": "[encoded data removed]"
    }
   },
   "cell_type": "markdown",
   "id": "76b0e52f-4267-40b1-aa29-c429df161687",
   "metadata": {},
   "source": [
    "### Bottlenech architecture in residual networks\n",
    "![image.png](attachment:6636fc71-95e1-4823-a6bc-d170bb7b4976.png)\n",
    "\n",
    "In bottleneck architecture, we reduce the channel size while passing the input to the conv layer which does the feature extraction. This enables the model to not perform the conv1 on a high dimensional data, thus reducing the time to train. \n",
    "<br/>\n",
    "This will allow us to be able to make the network deeper, and yet keep the training time reduced. \n",
    "<br/> We will use 3 conv layers now, but each conv layer will be a part of a bottleneck residual layer. \n",
    "<br/> We will use 1x1 convolutional layer in order to modify the channel size. \n",
    "<br/> Here is what the model will look like (follows [N, C, L] format):\n",
    "* Input [32, 10, 8]\n",
    "* 1st residual block starts here\n",
    "  1x1 conv1d layer reduces channel size 4. Output will be [32, 4, 8]\n",
    "  <br/>3x3 conv1d layer for feature extraction with dilation 1. This will output [32, 4, 6].\n",
    "  <br/>1x1 conv1d layer to upsample to the original channel size. This will output [32, 10, 6]\n",
    "  <br/>Residual connection added here. Output will be [32, 10, 8]\n",
    "\n",
    "* 2nd residual block starts here\n",
    "  1x1 conv1d layer reduces channel size 4. Output will be [32, 4, 8]\n",
    "  <br/>3x3 conv1d layer for feature extraction with dilation 1. This will output [32, 4, 6].\n",
    "  <br/>1x1 conv1d layer to upsample to the original channel size. This will output [32, 10, 6]\n",
    "  <br/>Residual connection added here. Output will be [32, 10, 8]\n",
    "\n",
    "* 3rd residual block starts here\n",
    "  1x1 conv1d layer reduces channel size 4. Output will be [32, 4, 8]\n",
    "  <br/>3x3 conv1d layer for feature extraction with dilation 1. This will output [32, 4, 6].\n",
    "  <br/>1x1 conv1d layer to upsample to the original channel size. This will output [32, 10, 6]\n",
    "  <br/>Residual connection added here. Output will be [32, 10, 8]"
   ]
  },
  {
   "cell_type": "code",
   "execution_count": 119,
   "id": "286afb44-6f38-461e-81ad-f4fc6eec940f",
   "metadata": {},
   "outputs": [
    {
     "data": {
      "text/plain": [
       "torch.Size([32, 10, 8])"
      ]
     },
     "execution_count": 119,
     "metadata": {},
     "output_type": "execute_result"
    }
   ],
   "source": [
    "x = torch.randn((32, 10, 8))\n",
    "\n",
    "downconv1 = Conv1d(8, 10, 4, kernel=1)\n",
    "conv1 = Conv1d(8, 4, 4, kernel=3)\n",
    "upconv1 = Conv1d(6, 4, 10, kernel=1)\n",
    "\n",
    "resnet = Residual([\n",
    "    downconv1,\n",
    "    conv1, \n",
    "    upconv1\n",
    "])\n",
    "\n",
    "resnet(x).shape"
   ]
  },
  {
   "cell_type": "markdown",
   "id": "c2c6ee2b-1dda-4ee4-a9dc-113b6d740fca",
   "metadata": {},
   "source": [
    "### Let's build this!"
   ]
  },
  {
   "cell_type": "code",
   "execution_count": 181,
   "id": "065b6b1e-f18c-419d-b7fa-6a69aa350677",
   "metadata": {},
   "outputs": [
    {
     "name": "stdout",
     "output_type": "stream",
     "text": [
      "parameters: 96527\n"
     ]
    }
   ],
   "source": [
    "def get_Lout(sequence_length, kernel, dilation, stride):\n",
    "    effective_kernel = (kernel - 1) * dilation + 1\n",
    "    Lout = ((sequence_length - effective_kernel) // stride) + 1\n",
    "    return Lout\n",
    "    \n",
    "### Let's redefine the model with conv layers \n",
    "n_embedding = 24\n",
    "\n",
    "# Residual Layer 1:\n",
    "# Downsample to 4\n",
    "res1_down_out_channels = 15\n",
    "res1_down_stride = 1 \n",
    "res1_down_kernel = 1\n",
    "res1_down_dilation = 1\n",
    "res1_down_Lout = get_Lout(block_size, res1_down_kernel, res1_down_dilation, res1_down_stride)\n",
    "\n",
    "# Conv1d for feature extraction \n",
    "res1_conv_out_channels = 15\n",
    "res1_conv_stride = 1 \n",
    "res1_conv_kernel = 2\n",
    "res1_conv_dilation = 1\n",
    "res1_conv_Lout = get_Lout(res1_down_Lout, res1_conv_kernel, res1_conv_dilation, res1_conv_stride)\n",
    "# Upsample to 10\n",
    "res1_up_out_channels = 24\n",
    "res1_up_stride = 1 \n",
    "res1_up_kernel = 1\n",
    "res1_up_dilation = 1\n",
    "res1_up_Lout = get_Lout(res1_conv_Lout, res1_up_kernel, res1_up_dilation, res1_up_stride)\n",
    "\n",
    "# Upsampling Layer 1x1 conv to scale to 40\n",
    "up_1_out_channels = 40\n",
    "up_1_stride = 1 \n",
    "up_1_kernel = 1\n",
    "up_1_dilation = 1\n",
    "up_1_Lout = get_Lout(block_size, up_1_kernel, up_1_dilation, up_1_stride)\n",
    "\n",
    "\n",
    "# Residual Layer 2:\n",
    "# Downsample to 4\n",
    "res2_down_out_channels = 15\n",
    "res2_down_stride = 1 \n",
    "res2_down_kernel = 1\n",
    "res2_down_dilation = 1\n",
    "res2_down_Lout = get_Lout(up_1_Lout, res2_down_kernel, res2_down_dilation, res2_down_stride)\n",
    "# Conv1d for feature extraction \n",
    "res2_conv_out_channels = 15\n",
    "res2_conv_stride = 1 \n",
    "res2_conv_kernel = 2\n",
    "res2_conv_dilation = 1\n",
    "res2_conv_Lout = get_Lout(res2_down_Lout, res2_conv_kernel, res2_conv_dilation, res2_conv_stride)\n",
    "# Upsample to 10\n",
    "res2_up_out_channels = 40\n",
    "res2_up_stride = 1 \n",
    "res2_up_kernel = 1\n",
    "res2_up_dilation = 1\n",
    "res2_up_Lout = get_Lout(res2_conv_Lout, res2_up_kernel, res2_up_dilation, res2_up_stride)\n",
    "\n",
    "# Upsampling Layer 1x1 conv to scale to 60\n",
    "up_2_out_channels = 60\n",
    "up_2_stride = 1 \n",
    "up_2_kernel = 1\n",
    "up_2_dilation = 1\n",
    "up_2_Lout = get_Lout(res2_up_Lout, up_2_kernel, up_2_dilation, up_2_stride)\n",
    "\n",
    "# Residual Layer 3:\n",
    "# Downsample to 4\n",
    "res3_down_out_channels = 15\n",
    "res3_down_stride = 1 \n",
    "res3_down_kernel = 1\n",
    "res3_down_dilation = 1\n",
    "res3_down_Lout = get_Lout(up_2_Lout, res3_down_kernel, res3_down_dilation, res3_down_stride)\n",
    "# Conv1d for feature extraction \n",
    "res3_conv_out_channels = 15\n",
    "res3_conv_stride = 1 \n",
    "res3_conv_kernel = 2\n",
    "res3_conv_dilation = 1\n",
    "res3_conv_Lout = get_Lout(res3_down_Lout, res3_conv_kernel, res3_conv_dilation, res3_conv_stride)\n",
    "# Upsample to 10\n",
    "res3_up_out_channels = 24\n",
    "res3_up_stride = 1 \n",
    "res3_up_kernel = 1\n",
    "res3_up_dilation = 1\n",
    "res3_up_Lout = get_Lout(res3_conv_Lout, res3_down_kernel, res3_down_dilation, res3_down_stride)\n",
    "\n",
    "## Note: Remember that each residual layer restores the sequence length Lout to the actual sequence length (block_size), \n",
    "# due to padding and adding input to the output. Hence, commenting the Lout computation out below.\n",
    "\n",
    "\n",
    "#h1\n",
    "n_h1_fanout = 100\n",
    "\n",
    "#h2\n",
    "n_h2_fanout = 100\n",
    "\n",
    "model = Sequential([\n",
    "    Embedding(vocab_size, n_embedding), \n",
    "\n",
    "    Residual([\n",
    "        Conv1d(\n",
    "                sequence_length=block_size,\n",
    "                in_channels=24,\n",
    "                out_channels=15,\n",
    "                kernel=1,\n",
    "            ),\n",
    "    \n",
    "        # Conv Layer\n",
    "        Conv1d(\n",
    "                    sequence_length=res1_down_Lout,\n",
    "                    in_channels=15,\n",
    "                    out_channels=15,\n",
    "                    kernel=2,\n",
    "                ),\n",
    "        # Upsample \n",
    "        Conv1d(\n",
    "                    sequence_length=14,\n",
    "                    in_channels=15,\n",
    "                    out_channels=24,\n",
    "                    kernel=1,\n",
    "                ),\n",
    "    ]),\n",
    "    \n",
    "    BatchNorm1d(24),\n",
    "    ReLu(),\n",
    "    # Up sample to 40 channels\n",
    "    Conv1d(\n",
    "            sequence_length=block_size,\n",
    "            in_channels=24,\n",
    "            out_channels=40,\n",
    "            kernel=1,\n",
    "        ),\n",
    "    ReLu(),\n",
    "\n",
    "    Residual([\n",
    "        Conv1d(\n",
    "            sequence_length=block_size,\n",
    "            in_channels=40,\n",
    "            out_channels=15,\n",
    "            kernel=1,\n",
    "        ), \n",
    "        # Conv \n",
    "        Conv1d(\n",
    "                    sequence_length=block_size,\n",
    "                    in_channels=15,\n",
    "                    out_channels=15,\n",
    "                    kernel=res2_conv_kernel,\n",
    "                ),\n",
    "        # Up sample\n",
    "        Conv1d(\n",
    "                    sequence_length=14,\n",
    "                    in_channels=15,\n",
    "                    out_channels=40,\n",
    "                    kernel=1,\n",
    "                ),\n",
    "    ]),\n",
    "    BatchNorm1d(40),\n",
    "    ReLu(), \n",
    "    \n",
    "    Conv1d(\n",
    "                sequence_length=block_size,\n",
    "                in_channels=40,\n",
    "                out_channels=60,\n",
    "                kernel=res3_conv_kernel,\n",
    "            ),\n",
    "    \n",
    "    BatchNorm1d(60),\n",
    "    ReLu(),\n",
    "    \n",
    "    # Output of residual will be the [out_channels, input_sequence_length of the layer before the residual layer]\n",
    "    Flatten(), Linear(fan_in=14 * 60, fan_out=n_h1_fanout), Tanh(),\n",
    "    # Linear(fan_in=n_h1_fanout, fan_out=n_h2_fanout), Tanh(),\n",
    "    Linear(fan_in=n_h1_fanout, fan_out=vocab_size)\n",
    "])\n",
    "\n",
    "\n",
    "\n",
    "with torch.no_grad():\n",
    "    model.layers[-1].weight *= 0.1\n",
    "\n",
    "# parameters = [p for layer in layers for p in layer.parameters()]\n",
    "print(f\"parameters: {sum(p.nelement() for p in model.parameters())}\")\n",
    "\n",
    "for p in model.parameters():\n",
    "    p.requires_grad = True"
   ]
  },
  {
   "cell_type": "code",
   "execution_count": 182,
   "id": "95610efc-20f9-44d9-a8ec-d49d1b8b6c38",
   "metadata": {},
   "outputs": [],
   "source": [
    "lossi = []"
   ]
  },
  {
   "cell_type": "code",
   "execution_count": null,
   "id": "6f9b695c-e7e6-4f02-97a6-a4682f241435",
   "metadata": {},
   "outputs": [
    {
     "name": "stdout",
     "output_type": "stream",
     "text": [
      "      0/ 300000: 3.3090\n",
      "  10000/ 300000: 2.4852\n",
      "  20000/ 300000: 2.4768\n",
      "  30000/ 300000: 2.0283\n",
      "  40000/ 300000: 2.5358\n",
      "  50000/ 300000: 2.4696\n",
      "  60000/ 300000: 2.0901\n",
      "  70000/ 300000: 2.3004\n",
      "  80000/ 300000: 2.1909\n",
      "  90000/ 300000: 2.3850\n",
      " 100000/ 300000: 1.9358\n",
      " 110000/ 300000: 2.2036\n",
      " 120000/ 300000: 2.4861\n",
      " 130000/ 300000: 2.0613\n",
      " 140000/ 300000: 2.0693\n",
      " 150000/ 300000: 1.9569\n",
      " 160000/ 300000: 2.1989\n",
      " 170000/ 300000: 2.1034\n",
      " 180000/ 300000: 2.4403\n",
      " 190000/ 300000: 2.1670\n",
      " 200000/ 300000: 2.5693\n",
      " 210000/ 300000: 2.0004\n",
      " 220000/ 300000: 1.8282\n",
      " 230000/ 300000: 2.4483\n"
     ]
    }
   ],
   "source": [
    "# same optimization as last time\n",
    "max_steps = 300_000\n",
    "batch_size = 32\n",
    "start_time = time.time_ns()\n",
    "ud = []\n",
    "for i in range(max_steps):\n",
    "  \n",
    "  # minibatch construct\n",
    "  ix = torch.randint(0, Xtr.shape[0], (batch_size,))\n",
    "  Xb, Yb = Xtr[ix], Ytr[ix] # batch X,Y\n",
    "\n",
    "  # forward pass\n",
    "  logits = model(Xb)\n",
    "  loss = F.cross_entropy(logits, Yb) # loss function\n",
    "  \n",
    "  for p in model.parameters():\n",
    "    p.grad = None\n",
    "  loss.backward()\n",
    "  \n",
    "  # update\n",
    "  lr = 0.001 if i < 100_000 else 0.001 # step learning rate decay\n",
    "  for p in model.parameters():\n",
    "    p.data += -lr * p.grad\n",
    "\n",
    "  # track stats\n",
    "  if i % 10000 == 0: # print every once in a while\n",
    "    print(f'{i:7d}/{max_steps:7d}: {loss.item():.4f}')\n",
    "  lossi.append(loss.log10().item())\n",
    "  \n",
    "end_time = time.time_ns()\n",
    "print(f\"time taken to train: {(end_time - start_time) // 1_000_000_000}\")"
   ]
  },
  {
   "cell_type": "code",
   "execution_count": 155,
   "id": "3a2e451e-be38-4806-8215-2b8912d54888",
   "metadata": {},
   "outputs": [
    {
     "data": {
      "text/plain": [
       "[<matplotlib.lines.Line2D at 0x11c9fb4a0>]"
      ]
     },
     "execution_count": 155,
     "metadata": {},
     "output_type": "execute_result"
    },
    {
     "data": {
      "image/png": "[encoded data removed]",
      "text/plain": [
       "<Figure size 640x480 with 1 Axes>"
      ]
     },
     "metadata": {},
     "output_type": "display_data"
    }
   ],
   "source": [
    "plt.plot(torch.tensor(lossi).view(-1, 1000).mean(1))\n"
   ]
  },
  {
   "cell_type": "code",
   "execution_count": 156,
   "id": "276fba06-bbe8-4561-b679-4ecc660fb8ae",
   "metadata": {},
   "outputs": [
    {
     "name": "stdout",
     "output_type": "stream",
     "text": [
      "train 2.105100154876709\n",
      "val 2.1281425952911377\n"
     ]
    }
   ],
   "source": [
    "for layer in model.layers:\n",
    "    layer.training = False\n",
    "    \n",
    "split_loss('train')\n",
    "split_loss('val')"
   ]
  },
  {
   "cell_type": "code",
   "execution_count": 157,
   "id": "0e1bd9ec-b72e-4789-8250-8149575b4cb4",
   "metadata": {},
   "outputs": [
    {
     "data": {
      "text/plain": [
       "['mavaristi.',\n",
       " 'breyden.',\n",
       " 'thuesyn.',\n",
       " 'kahmondek.',\n",
       " 'vyman.',\n",
       " 'mari.',\n",
       " 'meashi.',\n",
       " 'yaxiyah.',\n",
       " 'aeira.',\n",
       " 'ishan.',\n",
       " 'makris.',\n",
       " 'asel.',\n",
       " 'anyrey.',\n",
       " 'ariana.',\n",
       " 'naily.',\n",
       " 'zatia.',\n",
       " 'soleina.',\n",
       " 'kaesyn.',\n",
       " 'kahiel.',\n",
       " 'enrille.']"
      ]
     },
     "execution_count": 157,
     "metadata": {},
     "output_type": "execute_result"
    }
   ],
   "source": [
    "sample_from_model()"
   ]
  },
  {
   "cell_type": "code",
   "execution_count": null,
   "id": "c6d9ceb9-c5fb-40bb-a4b6-3a94b772384b",
   "metadata": {},
   "outputs": [],
   "source": []
  }
 ],
 "metadata": {
  "kernelspec": {
   "display_name": "Python 3 (ipykernel)",
   "language": "python",
   "name": "python3"
  },
  "language_info": {
   "codemirror_mode": {
    "name": "ipython",
    "version": 3
   },
   "file_extension": ".py",
   "mimetype": "text/x-python",
   "name": "python",
   "nbconvert_exporter": "python",
   "pygments_lexer": "ipython3",
   "version": "3.12.4"
  }
 },
 "nbformat": 4,
 "nbformat_minor": 5
}
