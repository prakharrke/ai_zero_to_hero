{
 "cells": [
  {
   "cell_type": "code",
   "execution_count": 285,
   "id": "3a137b0c-500b-4079-bcb2-1f8b0d8d35fe",
   "metadata": {},
   "outputs": [
    {
     "name": "stderr",
     "output_type": "stream",
     "text": [
      "[nltk_data] Downloading package punkt_tab to\n",
      "[nltk_data]     /Users/pdixit/nltk_data...\n",
      "[nltk_data]   Package punkt_tab is already up-to-date!\n"
     ]
    },
    {
     "data": {
      "text/plain": [
       "True"
      ]
     },
     "execution_count": 285,
     "metadata": {},
     "output_type": "execute_result"
    }
   ],
   "source": [
    "import torch\n",
    "import torch.nn.functional as F\n",
    "import matplotlib.pyplot as plt # for making figures\n",
    "%matplotlib inline\n",
    "import time\n",
    "import re\n",
    "import nltk\n",
    "from nltk.tokenize import sent_tokenize, word_tokenize\n",
    "nltk.download('punkt_tab')"
   ]
  },
  {
   "cell_type": "code",
   "execution_count": 286,
   "id": "803c95c7-e406-4482-9d76-6d38639a05be",
   "metadata": {},
   "outputs": [],
   "source": [
    "device='cpu'"
   ]
  },
  {
   "cell_type": "code",
   "execution_count": 287,
   "id": "ed63cbde-2991-444c-9b98-97b8a4590107",
   "metadata": {},
   "outputs": [],
   "source": [
    "with open(f\"Book1.txt\", encoding=\"utf8\") as f:\n",
    "    book = f.read()\n",
    "    book_pages = re.sub(\"Page.*?Rowling\", \"\", book, flags=re.DOTALL)\n",
    "    book_chapters = re.sub(\"(?:\\\\n){5,}[A-Z- \\\\n]+ (?:\\\\n){2,}\", \"\", book_pages)\n",
    "    book_line_breaks = re.sub(\"\\\\n\", \"\", book_chapters)\n",
    "    sentence_split = sent_tokenize(book_chapters)\n",
    "    "
   ]
  },
  {
   "cell_type": "code",
   "execution_count": 288,
   "id": "d352b6ee-60c9-4373-9c9e-68b8f58a7458",
   "metadata": {},
   "outputs": [],
   "source": [
    "processed_sentences = [sentence.lower() for sentence in sentence_split]\n",
    "\n",
    "processed_sentences = [sent.lower() for sent in sentence_split if len(sent.strip()) > 0]\n"
   ]
  },
  {
   "cell_type": "code",
   "execution_count": 289,
   "id": "fe296d6f-64dd-44bd-9dda-d198410f5364",
   "metadata": {},
   "outputs": [],
   "source": [
    "import string\n",
    "vocab = string.ascii_lowercase + string.digits + string.punctuation + '“' + '”' + '’' + '—' + '‘' + \" \" + '•' \n",
    "stoi = {char: idx for idx, char in enumerate(vocab)}\n",
    "itos = {idx: char for idx, char in enumerate(vocab)}\n",
    "stoi['<S>'] = len(stoi)\n",
    "itos[len(itos)] = '<S>'\n",
    "vocab_size = len(stoi)\n"
   ]
  },
  {
   "cell_type": "code",
   "execution_count": 290,
   "id": "7828e3ac-c9f0-4309-b92e-9b7eac7e6bb4",
   "metadata": {},
   "outputs": [],
   "source": [
    "# Shuffle sentences\n",
    "import random\n",
    "random.seed(42)\n",
    "random.shuffle(processed_sentences)"
   ]
  },
  {
   "cell_type": "code",
   "execution_count": 291,
   "id": "99374c3a-7b7e-4c6e-b861-d9c82e0eee4f",
   "metadata": {},
   "outputs": [
    {
     "name": "stdout",
     "output_type": "stream",
     "text": [
      "X shape: torch.Size([350021, 100]), Y shape: torch.Size([350021])\n",
      "X shape: torch.Size([43670, 100]), Y shape: torch.Size([43670])\n",
      "X shape: torch.Size([42532, 100]), Y shape: torch.Size([42532])\n"
     ]
    }
   ],
   "source": [
    "block_size = 100  # context length: how many characters do we take to predict the next one?\n",
    "\n",
    "def build_dataset(sentences):  \n",
    "    X, Y = [], []\n",
    "    for sentence in sentences:\n",
    "        context = [stoi['<S>']] * block_size  # Start with <S> token\n",
    "        for ch in sentence + ' ':\n",
    "            if ch not in stoi:  # Check if the character is in the vocabulary\n",
    "                continue\n",
    "            ix = stoi[ch]\n",
    "            X.append(context)\n",
    "            Y.append(ix)\n",
    "            \n",
    "            # Slide the window: crop context to the last `block_size` characters and append the current character\n",
    "            context = context[1:] + [ix]\n",
    "\n",
    "    X = torch.tensor(X)\n",
    "    Y = torch.tensor(Y)\n",
    "    print(f\"X shape: {X.shape}, Y shape: {Y.shape}\")\n",
    "    return X, Y\n",
    "\n",
    "# Split the data into train, dev, and test sets\n",
    "n1 = int(0.8 * len(processed_sentences))  # 80% for training\n",
    "n2 = int(0.9 * len(processed_sentences))  # 10% for dev\n",
    "Xtr, Ytr = build_dataset(processed_sentences[:n1])  # Training data\n",
    "Xdev, Ydev = build_dataset(processed_sentences[n1:n2])  # Validation data\n",
    "Xte, Yte = build_dataset(processed_sentences[n2:])  # Test data"
   ]
  },
  {
   "cell_type": "code",
   "execution_count": 314,
   "id": "4a921fe4-0923-49f9-b1ee-db5fade8b276",
   "metadata": {},
   "outputs": [],
   "source": [
    "class Linear:\n",
    "  \n",
    "  def __init__(self, fan_in, fan_out, bias=True):\n",
    "    self.weight = torch.randn((fan_in, fan_out), device=device) / fan_in**0.5 # note: kaiming init\n",
    "    self.bias = torch.zeros(fan_out, device=device) if bias else None\n",
    "  \n",
    "  def __call__(self, x):\n",
    "    \n",
    "    self.out = x @ self.weight\n",
    "    if self.bias is not None:\n",
    "      self.out += self.bias\n",
    "    return self.out\n",
    "  \n",
    "  def parameters(self):\n",
    "    return [self.weight] + ([] if self.bias is None else [self.bias])\n",
    "\n",
    "# -----------------------------------------------------------------------------------------------\n",
    "class BatchNorm1d:\n",
    "  \n",
    "  def __init__(self, dim, eps=1e-5, momentum=0.1):\n",
    "    self.eps = eps\n",
    "    self.momentum = momentum\n",
    "    self.training = True\n",
    "    # Parameters (trainable via backprop)\n",
    "    self.gamma = torch.ones(dim, device=device).view(1, -1, 1)  # Shape [1, C, 1]\n",
    "    self.beta = torch.zeros(dim, device=device).view(1, -1, 1)  # Shape [1, C, 1]\n",
    "    # Buffers (updated via momentum)\n",
    "    self.running_mean = torch.zeros(dim, device=device)  # Shape [C]\n",
    "    self.running_var = torch.ones(dim, device=device)    # Shape [C]\n",
    "  \n",
    "  def __call__(self, x):\n",
    "    if self.training:\n",
    "      # Compute mean and variance across batch and sequence length (dim=(0,2))\n",
    "      xmean = x.mean(dim=(0, 2), keepdim=True)  # Shape [1, C, 1]\n",
    "      xvar = x.var(dim=(0, 2), keepdim=True)    # Shape [1, C, 1]\n",
    "    else:\n",
    "      # Use running statistics for inference\n",
    "      xmean = self.running_mean.view(1, -1, 1)  # Shape [1, C, 1]\n",
    "      xvar = self.running_var.view(1, -1, 1)    # Shape [1, C, 1]\n",
    "    \n",
    "    # Normalize input\n",
    "    xhat = (x - xmean) / torch.sqrt(xvar + self.eps)  # Normalize to unit variance\n",
    "    self.out = self.gamma * xhat + self.beta         # Scale and shift\n",
    "\n",
    "    # Update running statistics during training\n",
    "    if self.training:\n",
    "      with torch.no_grad():\n",
    "        self.running_mean = (1 - self.momentum) * self.running_mean + self.momentum * xmean.squeeze()\n",
    "        self.running_var = (1 - self.momentum) * self.running_var + self.momentum * xvar.squeeze()\n",
    "    \n",
    "    return self.out\n",
    "  \n",
    "  def parameters(self):\n",
    "    # Return trainable parameters\n",
    "    return [self.gamma, self.beta]\n",
    "\n",
    "\n",
    "# -----------------------------------------------------------------------------------------------\n",
    "class Tanh:\n",
    "  def __call__(self, x):\n",
    "    self.out = torch.tanh(x)\n",
    "    return self.out\n",
    "  def parameters(self):\n",
    "    return []\n",
    "\n",
    "# -----------------------------------------------------------------------------------------------\n",
    "class Embedding:\n",
    "  \n",
    "  def __init__(self, num_embeddings, embedding_dim):\n",
    "    self.weight = torch.randn((num_embeddings, embedding_dim), device=device)\n",
    "    \n",
    "  def __call__(self, IX):\n",
    "    self.out = self.weight[IX].transpose(1, 2)\n",
    "    \n",
    "    return self.out\n",
    "  \n",
    "  def parameters(self):\n",
    "    return [self.weight]\n",
    "\n",
    "# -----------------------------------------------------------------------------------------------\n",
    "class FlattenConsecutive:\n",
    "  \n",
    "  def __init__(self, n):\n",
    "    self.n = n\n",
    "    \n",
    "  def __call__(self, x):\n",
    "    B, T, C = x.shape\n",
    "    x = x.view(B, T//self.n, C*self.n)\n",
    "    if x.shape[1] == 1:\n",
    "      x = x.squeeze(1)\n",
    "    self.out = x\n",
    "    return self.out\n",
    "  \n",
    "  def parameters(self):\n",
    "    return []\n",
    "\n",
    "class Flatten:\n",
    "    def __call__(self, x):\n",
    "        self.out = x.view(x.shape[0], -1)\n",
    "        return self.out\n",
    "    def parameters(self):\n",
    "        return []\n",
    "\n",
    "# -----------------------------------------------------------------------------------------------\n",
    "class Sequential:\n",
    "  \n",
    "  def __init__(self, layers):\n",
    "    self.layers = layers\n",
    "  \n",
    "  def __call__(self, x):\n",
    "    for layer in self.layers:\n",
    "      x = layer(x)\n",
    "    self.out = x\n",
    "    return self.out\n",
    "  \n",
    "  def parameters(self):\n",
    "    # get parameters of all layers and stretch them out into one list\n",
    "    return [p for layer in self.layers for p in layer.parameters()]\n",
    "\n",
    "# --------------------------------------------\n",
    "class Conv1d:\n",
    "    def __init__(self, sequence_length, in_channels, out_channels, kernel=2, stride=1, dilation=1):\n",
    "        self. sequence_length = sequence_length\n",
    "        self.in_channels = in_channels\n",
    "        self.out_channels = out_channels\n",
    "        self.kernel = kernel\n",
    "        self.stride = stride\n",
    "        self.dilation = dilation\n",
    "        self.filters = torch.randn((out_channels, in_channels, kernel), device=device) * ((2 / (in_channels * kernel)) ** 0.5)\n",
    "        self.bias = torch.randn(out_channels, device=device) * 0\n",
    "        self.effective_kernel = ((self.kernel - 1) * self.dilation) + 1\n",
    "        self.Lout = ((self.sequence_length - self.effective_kernel) // self.stride) + 1\n",
    "    def __call__(self, x):\n",
    "        # Compute effective kernel size based on dilation \n",
    "        # effective_kernel = ((self.kernel - 1) * self.dilation) + 1\n",
    "        \n",
    "        N, C, L = x.shape\n",
    "        assert self.effective_kernel <= L\n",
    "            \n",
    "        # create the sliding windows of the input \n",
    "        x_unfolded = x.unfold(2, self.effective_kernel, self.stride)\n",
    "\n",
    "        # Extract dilated inputs from x_unfolded which used effective_kernel. The shape of the unfolded vector is [N, C, L, effective_k] \n",
    "        # where L is the length of the sequence depending on the effective kernel. From the dimension of effective_kernel, we clip every 'dilated' index\n",
    "        # If effective_kernel is 3 and dilation is 2, [1, 2, 3] will result in [1, 3]. [1,3] has length of 2, which is equal to actual kernel value\n",
    "        x_unfolded = x_unfolded[:, :, :, ::self.dilation]\n",
    "\n",
    "        # The dilation also changes the sequence length, since effective kernel value changes with dilation > 1. \n",
    "        # Compute Lout based on effective_kernel\n",
    "        \n",
    "        # Lout = ((self.sequence_length - self.effective_kernel) // self.stride) + 1\n",
    "        \n",
    "        # Before cross correlation, we need to broadcast the filters and the input correctly\n",
    "        x_unfolded = x_unfolded.view(N, 1, C, self.Lout, self.kernel)\n",
    "        filters = self.filters.view(1, self.out_channels, self.in_channels, 1, self.kernel)\n",
    "\n",
    "        # Perform element wise multiplication\n",
    "        self.out = torch.mul(x_unfolded, filters).sum((2, 4)) + self.bias.view(1, self.out_channels, 1)\n",
    "        return self.out        \n",
    "    \n",
    "    def parameters(self): \n",
    "        return [self.filters] + [self.bias]\n",
    "\n",
    "class ReLu: \n",
    "    def __call__(self, x):\n",
    "        self.out = torch.relu(x)\n",
    "        return self.out\n",
    "\n",
    "    def parameters(self):\n",
    "        return []\n",
    "        \n",
    "class Transpose:\n",
    "    def __call__(self, x):\n",
    "        self.out = x.transpose(1, 2)\n",
    "        return self.out\n",
    "    \n",
    "    def parameters(self):\n",
    "        return []\n",
    "\n",
    "class Residual: \n",
    "    def __init__(self, layers):\n",
    "        self.projection_needed = False\n",
    "        self.layers = layers\n",
    "        \n",
    "        \n",
    "        # Input of the in layer config\n",
    "        in_layer = layers[0]\n",
    "        out_layer = layers[-1]\n",
    "\n",
    "        self.in_channels = in_layer.in_channels\n",
    "        self.in_sequence_length = in_layer.sequence_length\n",
    "\n",
    "        self.out_channels = out_layer.out_channels\n",
    "        self.out_sequence_length = out_layer.Lout\n",
    "\n",
    "        if self.in_channels != self.out_channels: # Assuming for now, this will always be the case\n",
    "            self.projection_needed = True\n",
    "            self.linear_projection_conv = Conv1d(sequence_length=self.in_sequence_length, out_channels=self.out_channels, in_channels=self.in_channels, kernel=1)\n",
    "            \n",
    "    def __call__(self, x):\n",
    "        self.input = x\n",
    "        for layer in self.layers: \n",
    "            x = layer(x)\n",
    "        # Perform residual operation\n",
    "        if self.projection_needed:\n",
    "            linear_projection = self.linear_projection_conv(self.input)\n",
    "            \n",
    "        # Pad the output since the Lout != Lin\n",
    "        sequence_length_diff = self.in_sequence_length - self.out_sequence_length\n",
    "        x = F.pad(x, (sequence_length_diff // 2, sequence_length_diff - sequence_length_diff // 2))\n",
    "        \n",
    "        self.out = x + linear_projection if self.projection_needed else x + self.input\n",
    "        \n",
    "        return self.out\n",
    "        \n",
    "    def parameters(self):\n",
    "        # Collect parameters from all layers and the projection (if used)\n",
    "        params = [p for layer in self.layers for p in layer.parameters()]\n",
    "        if self.projection_needed:\n",
    "            params += self.linear_projection_conv.parameters()\n",
    "        return params\n",
    "\n",
    "class ElmanRNN:\n",
    "    def __init__(self, input_channels, hidden_channels): # Bias would be present. Tanh non linearity will be applied. \n",
    "        self.wxh = torch.randn((input_channels, hidden_channels), device=device) * (5/3 / (input_channels) ** 0.5)\n",
    "        self.bxh = torch.randn((1, hidden_channels), device=device) * 0.001\n",
    "        \n",
    "        self.whh = torch.randn((hidden_channels, hidden_channels), device=device) * (5/3 / (hidden_channels) ** 0.5)\n",
    "        self.bhh = torch.randn((1, hidden_channels), device=device) * 0.001\n",
    "        \n",
    "        self.hidden_channels = hidden_channels\n",
    "        self.input_channels = input_channels\n",
    "\n",
    "    def __call__(self, x):\n",
    "        N, C, L = x.shape\n",
    "\n",
    "        # Iterate over the entire sequence length and generate logits. The shape of the output logits will be [N, Hout, L]\n",
    "        logits = torch.zeros((N, self.hidden_channels, L), device=device)\n",
    "        H = torch.zeros((N, self.hidden_channels), device=device)\n",
    "        for i in range(L):\n",
    "            xi = x[:, :, i]\n",
    "            xih = (xi @ self.wxh) + self.bxh\n",
    "            hh = (H @ self.whh) + self.bhh\n",
    "            ht = torch.tanh(xih + hh)\n",
    "            \n",
    "            H = ht \n",
    "            logits[:, :, i] = ht\n",
    "            self.out = logits\n",
    "            \n",
    "        return self.out\n",
    "\n",
    "    def parameters(self):\n",
    "        return [self.wxh] + [self.whh] + [self.bxh] + [self.bhh]\n",
    "\n",
    "class LSTM:\n",
    "    def __init__(self, input_size, hidden_size):\n",
    "        self.input_size = input_size\n",
    "        self.hidden_size = hidden_size\n",
    "\n",
    "        # Define gate weights \n",
    "        # Input Gate weights\n",
    "        self. wii = torch.randn((input_size, hidden_size))\n",
    "        self.whi = torch.randn((hidden_size, hidden_size))\n",
    "        self.bii = torch.randn(hidden_size)\n",
    "        \n",
    "        # Forget Gate weights \n",
    "        self.wif = torch.randn((input_size, hidden_size))\n",
    "        self.whf = torch.randn((hidden_size, hidden_size))\n",
    "        self.bif = torch.randn(hidden_size)\n",
    "\n",
    "        # Cell candidiate weights \n",
    "        self.wig = torch.randn((input_size, hidden_size))\n",
    "        self.whg = torch.randn((hidden_size, hidden_size))\n",
    "        self.big = torch.randn(hidden_size)\n",
    "        # Output gate weights \n",
    "        self.wio = torch.randn((input_size, hidden_size))\n",
    "        self.who = torch.randn((hidden_size, hidden_size))\n",
    "        self.bio = torch.randn(hidden_size)\n",
    "\n",
    "    def __call__(self, x, H=None, C=None):\n",
    "        # Shape of x will be [N, C, L]. N = batch size, C = input channel size, L = input sequence length \n",
    "        N, I, L = x.shape \n",
    "        if H == None:\n",
    "            H = torch.zeros((N, self.hidden_size))\n",
    "        if C == None: \n",
    "            C = torch.zeros((N, self.hidden_size))\n",
    "        logits = torch.zeros((N, self.hidden_size, L))\n",
    "        for i in range(x.shape[2]):\n",
    "            xi = x[:, :, i]\n",
    "            # Compute gate vectors \n",
    "            it = torch.sigmoid((xi @ self.wii) + (H @ self.whi) + self.bii)\n",
    "            ft = torch.sigmoid((xi @ self.wif) + (H @ self.whf) + self.bif)\n",
    "            gt = torch.tanh((xi @ self.wig) + (H @ self.whg) + self.big)\n",
    "            ot = torch.sigmoid((xi @ self.wio) + (H @ self.who) + self.bio)\n",
    "            ct = (ft * C) + (it * gt)\n",
    "            C = ct\n",
    "            ht = ot * torch.tanh(ct)\n",
    "            H = ht\n",
    "            logits[:, :, i] = ht\n",
    "        self.out = logits\n",
    "        self.C = C\n",
    "        return self.out, self.C\n",
    "    def parameters(self):\n",
    "        return [self.wii, self.whi, self.bii] + [self.wif, self.whf, self.bif] + [self.wig, self.whg, self.big] + [self.wio, self.who, self.bio]\n",
    "\n",
    "class LayeredLSTM:\n",
    "    def __init__(self, layers):\n",
    "        self.layers = layers\n",
    "\n",
    "\n",
    "    def __call__(self, x, h=None, c=None):\n",
    "        N, I, L = x.shape  # N=batch size, I=input channels, L=sequence length\n",
    "\n",
    "        if h is None:\n",
    "            h = [torch.zeros((N, layer.hidden_size)) for layer in self.layers]\n",
    "        if c is None:\n",
    "            c = [torch.zeros((N, layer.hidden_size)) for layer in self.layers]\n",
    "\n",
    "        for i, layer in enumerate(self.layers):\n",
    "            x, cell_state = layer(x, h[i], c[i])\n",
    "            h[i] = x[:, :, -1]\n",
    "            c[i] = cell_state\n",
    "        \n",
    "        return x\n",
    "    def parameters(self): \n",
    "        return [p for layer in self.layers for p in layer.parameters()]\n",
    "\n",
    "        "
   ]
  },
  {
   "cell_type": "code",
   "execution_count": 322,
   "id": "2c0b3ed8-50dd-45a3-bbc4-f61bc6c1e04d",
   "metadata": {},
   "outputs": [
    {
     "name": "stdout",
     "output_type": "stream",
     "text": [
      "parameters: 892300\n"
     ]
    }
   ],
   "source": [
    "n_embeddings = 24\n",
    "h_channels = 100\n",
    "h2_channels = 100\n",
    "# h3_channels = 500\n",
    "# h4_channels = 100\n",
    "# h4_channels = 100\n",
    "\n",
    "model = Sequential([\n",
    "    Embedding(vocab_size, n_embeddings),\n",
    "    LayeredLSTM([\n",
    "        LSTM(n_embeddings, h_channels),\n",
    "        LSTM(h_channels, h2_channels),\n",
    "    ]),\n",
    "    \n",
    "    Flatten(), Linear(h2_channels * block_size, vocab_size)\n",
    "])\n",
    "# parameters = [p for layer in layers for p in layer.parameters()]\n",
    "print(f\"parameters: {sum(p.nelement() for p in model.parameters())}\")\n",
    "\n",
    "for p in model.parameters():\n",
    "        p.requires_grad = True"
   ]
  },
  {
   "cell_type": "code",
   "execution_count": 323,
   "id": "a77b3027-4286-428d-86fc-4a8ce4a5e0d3",
   "metadata": {},
   "outputs": [],
   "source": [
    "lossi = []"
   ]
  },
  {
   "cell_type": "code",
   "execution_count": 324,
   "id": "eeb6cf04-4a25-401c-9900-2642134e79e0",
   "metadata": {},
   "outputs": [
    {
     "name": "stdout",
     "output_type": "stream",
     "text": [
      "      0/ 100000: 4.3848\n",
      "   1000/ 100000: 4.3948\n",
      "   2000/ 100000: 4.4629\n",
      "   3000/ 100000: 4.4761\n",
      "   4000/ 100000: 4.4475\n",
      "   5000/ 100000: 4.4450\n",
      "   6000/ 100000: 4.3374\n",
      "   7000/ 100000: 4.2687\n",
      "   8000/ 100000: 4.2818\n",
      "   9000/ 100000: 4.3929\n",
      "  10000/ 100000: 4.3480\n",
      "  11000/ 100000: 4.4516\n"
     ]
    },
    {
     "ename": "KeyboardInterrupt",
     "evalue": "",
     "output_type": "error",
     "traceback": [
      "\u001b[0;31m---------------------------------------------------------------------------\u001b[0m",
      "\u001b[0;31mKeyboardInterrupt\u001b[0m                         Traceback (most recent call last)",
      "Cell \u001b[0;32mIn[324], line 9\u001b[0m\n\u001b[1;32m      6\u001b[0m Xb, Yb \u001b[38;5;241m=\u001b[39m Xtr[ix], Ytr[ix] \n\u001b[1;32m      8\u001b[0m \u001b[38;5;66;03m# Forward pass \u001b[39;00m\n\u001b[0;32m----> 9\u001b[0m logits \u001b[38;5;241m=\u001b[39m \u001b[43mmodel\u001b[49m\u001b[43m(\u001b[49m\u001b[43mXb\u001b[49m\u001b[43m)\u001b[49m\n\u001b[1;32m     10\u001b[0m loss \u001b[38;5;241m=\u001b[39m F\u001b[38;5;241m.\u001b[39mcross_entropy(logits, Yb)\n\u001b[1;32m     12\u001b[0m \u001b[38;5;66;03m# backward \u001b[39;00m\n",
      "Cell \u001b[0;32mIn[314], line 112\u001b[0m, in \u001b[0;36mSequential.__call__\u001b[0;34m(self, x)\u001b[0m\n\u001b[1;32m    110\u001b[0m \u001b[38;5;28;01mdef\u001b[39;00m \u001b[38;5;21m__call__\u001b[39m(\u001b[38;5;28mself\u001b[39m, x):\n\u001b[1;32m    111\u001b[0m   \u001b[38;5;28;01mfor\u001b[39;00m layer \u001b[38;5;129;01min\u001b[39;00m \u001b[38;5;28mself\u001b[39m\u001b[38;5;241m.\u001b[39mlayers:\n\u001b[0;32m--> 112\u001b[0m     x \u001b[38;5;241m=\u001b[39m \u001b[43mlayer\u001b[49m\u001b[43m(\u001b[49m\u001b[43mx\u001b[49m\u001b[43m)\u001b[49m\n\u001b[1;32m    113\u001b[0m   \u001b[38;5;28mself\u001b[39m\u001b[38;5;241m.\u001b[39mout \u001b[38;5;241m=\u001b[39m x\n\u001b[1;32m    114\u001b[0m   \u001b[38;5;28;01mreturn\u001b[39;00m \u001b[38;5;28mself\u001b[39m\u001b[38;5;241m.\u001b[39mout\n",
      "Cell \u001b[0;32mIn[314], line 320\u001b[0m, in \u001b[0;36mLayeredLSTM.__call__\u001b[0;34m(self, x, h, c)\u001b[0m\n\u001b[1;32m    317\u001b[0m     c \u001b[38;5;241m=\u001b[39m [torch\u001b[38;5;241m.\u001b[39mzeros((N, layer\u001b[38;5;241m.\u001b[39mhidden_size)) \u001b[38;5;28;01mfor\u001b[39;00m layer \u001b[38;5;129;01min\u001b[39;00m \u001b[38;5;28mself\u001b[39m\u001b[38;5;241m.\u001b[39mlayers]\n\u001b[1;32m    319\u001b[0m \u001b[38;5;28;01mfor\u001b[39;00m i, layer \u001b[38;5;129;01min\u001b[39;00m \u001b[38;5;28menumerate\u001b[39m(\u001b[38;5;28mself\u001b[39m\u001b[38;5;241m.\u001b[39mlayers):\n\u001b[0;32m--> 320\u001b[0m     x, cell_state \u001b[38;5;241m=\u001b[39m \u001b[43mlayer\u001b[49m\u001b[43m(\u001b[49m\u001b[43mx\u001b[49m\u001b[43m,\u001b[49m\u001b[43m \u001b[49m\u001b[43mh\u001b[49m\u001b[43m[\u001b[49m\u001b[43mi\u001b[49m\u001b[43m]\u001b[49m\u001b[43m,\u001b[49m\u001b[43m \u001b[49m\u001b[43mc\u001b[49m\u001b[43m[\u001b[49m\u001b[43mi\u001b[49m\u001b[43m]\u001b[49m\u001b[43m)\u001b[49m\n\u001b[1;32m    321\u001b[0m     h[i] \u001b[38;5;241m=\u001b[39m x[:, :, \u001b[38;5;241m-\u001b[39m\u001b[38;5;241m1\u001b[39m]\n\u001b[1;32m    322\u001b[0m     c[i] \u001b[38;5;241m=\u001b[39m cell_state\n",
      "Cell \u001b[0;32mIn[314], line 293\u001b[0m, in \u001b[0;36mLSTM.__call__\u001b[0;34m(self, x, H, C)\u001b[0m\n\u001b[1;32m    291\u001b[0m it \u001b[38;5;241m=\u001b[39m torch\u001b[38;5;241m.\u001b[39msigmoid((xi \u001b[38;5;241m@\u001b[39m \u001b[38;5;28mself\u001b[39m\u001b[38;5;241m.\u001b[39mwii) \u001b[38;5;241m+\u001b[39m (H \u001b[38;5;241m@\u001b[39m \u001b[38;5;28mself\u001b[39m\u001b[38;5;241m.\u001b[39mwhi) \u001b[38;5;241m+\u001b[39m \u001b[38;5;28mself\u001b[39m\u001b[38;5;241m.\u001b[39mbii)\n\u001b[1;32m    292\u001b[0m ft \u001b[38;5;241m=\u001b[39m torch\u001b[38;5;241m.\u001b[39msigmoid((xi \u001b[38;5;241m@\u001b[39m \u001b[38;5;28mself\u001b[39m\u001b[38;5;241m.\u001b[39mwif) \u001b[38;5;241m+\u001b[39m (H \u001b[38;5;241m@\u001b[39m \u001b[38;5;28mself\u001b[39m\u001b[38;5;241m.\u001b[39mwhf) \u001b[38;5;241m+\u001b[39m \u001b[38;5;28mself\u001b[39m\u001b[38;5;241m.\u001b[39mbif)\n\u001b[0;32m--> 293\u001b[0m gt \u001b[38;5;241m=\u001b[39m \u001b[43mtorch\u001b[49m\u001b[38;5;241;43m.\u001b[39;49m\u001b[43mtanh\u001b[49m\u001b[43m(\u001b[49m\u001b[43m(\u001b[49m\u001b[43mxi\u001b[49m\u001b[43m \u001b[49m\u001b[38;5;241;43m@\u001b[39;49m\u001b[43m \u001b[49m\u001b[38;5;28;43mself\u001b[39;49m\u001b[38;5;241;43m.\u001b[39;49m\u001b[43mwig\u001b[49m\u001b[43m)\u001b[49m\u001b[43m \u001b[49m\u001b[38;5;241;43m+\u001b[39;49m\u001b[43m \u001b[49m\u001b[43m(\u001b[49m\u001b[43mH\u001b[49m\u001b[43m \u001b[49m\u001b[38;5;241;43m@\u001b[39;49m\u001b[43m \u001b[49m\u001b[38;5;28;43mself\u001b[39;49m\u001b[38;5;241;43m.\u001b[39;49m\u001b[43mwhg\u001b[49m\u001b[43m)\u001b[49m\u001b[43m \u001b[49m\u001b[38;5;241;43m+\u001b[39;49m\u001b[43m \u001b[49m\u001b[38;5;28;43mself\u001b[39;49m\u001b[38;5;241;43m.\u001b[39;49m\u001b[43mbig\u001b[49m\u001b[43m)\u001b[49m\n\u001b[1;32m    294\u001b[0m ot \u001b[38;5;241m=\u001b[39m torch\u001b[38;5;241m.\u001b[39msigmoid((xi \u001b[38;5;241m@\u001b[39m \u001b[38;5;28mself\u001b[39m\u001b[38;5;241m.\u001b[39mwio) \u001b[38;5;241m+\u001b[39m (H \u001b[38;5;241m@\u001b[39m \u001b[38;5;28mself\u001b[39m\u001b[38;5;241m.\u001b[39mwho) \u001b[38;5;241m+\u001b[39m \u001b[38;5;28mself\u001b[39m\u001b[38;5;241m.\u001b[39mbio)\n\u001b[1;32m    295\u001b[0m ct \u001b[38;5;241m=\u001b[39m (ft \u001b[38;5;241m*\u001b[39m C) \u001b[38;5;241m+\u001b[39m (it \u001b[38;5;241m*\u001b[39m gt)\n",
      "\u001b[0;31mKeyboardInterrupt\u001b[0m: "
     ]
    }
   ],
   "source": [
    "batch_size = 32\n",
    "start_time = time.time_ns()\n",
    "max_steps = 100000\n",
    "for i in range(max_steps): \n",
    "    ix = torch.randint(0, Xtr.shape[0], (batch_size,))\n",
    "    Xb, Yb = Xtr[ix], Ytr[ix] \n",
    "    \n",
    "    # Forward pass \n",
    "    logits = model(Xb)\n",
    "    loss = F.cross_entropy(logits, Yb)\n",
    "    \n",
    "    # backward \n",
    "    for p in model.parameters():\n",
    "        p.grad = None\n",
    "    loss.backward() \n",
    "    torch.nn.utils.clip_grad_norm_(model.parameters(), max_norm=0.5)\n",
    "    \n",
    "    # Update the parameters \n",
    "    e = 0.01  if i < 20_000 else 0.005\n",
    "    for p in model.parameters():\n",
    "        p.data += -e * p.grad\n",
    "    \n",
    "    if i % 1000 == 0: # print every once in a while\n",
    "        print(f'{i:7d}/{max_steps:7d}: {loss.item():.4f}')\n",
    "    lossi.append(loss.log10().item())\n",
    "end_time = time.time_ns() \n",
    "print(f\"Total time: {(end_time - start_time) / 1_000_000_000}\")"
   ]
  },
  {
   "cell_type": "code",
   "execution_count": 296,
   "id": "d1d7832c-b227-492c-8ddb-273c503dc947",
   "metadata": {},
   "outputs": [],
   "source": [
    "@torch.no_grad() # this decorator disables gradient tracking\n",
    "def split_loss(split):\n",
    "  x,y = {\n",
    "    'train': (Xtr, Ytr),\n",
    "    'val': (Xdev, Ydev),\n",
    "    'test': (Xte, Yte),\n",
    "  }[split]\n",
    "  logits = model(x)\n",
    "  \n",
    "  loss = F.cross_entropy(logits, y)\n",
    "  print(split, loss.item())"
   ]
  },
  {
   "cell_type": "code",
   "execution_count": null,
   "id": "31be3dca-4df6-48c1-a3dd-bd4a6dfe624b",
   "metadata": {},
   "outputs": [],
   "source": [
    "for layer in model.layers:\n",
    "    layer.training = False\n",
    "    \n",
    "# split_loss('train')\n",
    "split_loss('val')"
   ]
  },
  {
   "cell_type": "code",
   "execution_count": 298,
   "id": "94136286-da35-45f5-b5fd-52bcb3860d77",
   "metadata": {},
   "outputs": [],
   "source": [
    "def sample_from_model(num_samples=2, max_length=100, temperature=1.0):\n",
    "    \"\"\"\n",
    "    Samples sentences from the model.\n",
    "    \n",
    "    Parameters:\n",
    "    - num_samples: Number of sentences to generate.\n",
    "    - max_length: Maximum length of each generated sentence.\n",
    "    - temperature: Sampling temperature to control randomness.\n",
    "    \n",
    "    Returns:\n",
    "    - res: List of generated sentences.\n",
    "    \"\"\"\n",
    "    res = []\n",
    "    for _ in range(num_samples):\n",
    "        out = []\n",
    "        context = [stoi['<S>']] * block_size  # Initialize with all `<S>` tokens\n",
    "        for _ in range(max_length):\n",
    "            # Forward pass through the neural network\n",
    "            logits = model(torch.tensor([context], dtype=torch.long))  # Shape: (1, block_size)\n",
    "            \n",
    "            # If Flatten is used, logits will be (1 * block_size, vocab_size), so adjust:\n",
    "            logits = logits[-1, :]  # Take the logits for the last character\n",
    "            \n",
    "            # Apply temperature scaling\n",
    "            logits = logits / temperature\n",
    "            probs = F.softmax(logits, dim=0)\n",
    "            \n",
    "            # Sample from the probability distribution\n",
    "            ix = torch.multinomial(probs, num_samples=1).item()\n",
    "            \n",
    "            # Shift the context window and track the samples\n",
    "            context = context[1:] + [ix]\n",
    "            out.append(ix)\n",
    "            \n",
    "            # If the end token `<E>` or `.` is sampled, stop generation\n",
    "            if ix == stoi.get('.'):\n",
    "                break\n",
    "        \n",
    "        # Decode and append the generated sentence\n",
    "        res.append(''.join(itos[i] for i in out))\n",
    "    return res\n"
   ]
  },
  {
   "cell_type": "code",
   "execution_count": 299,
   "id": "4b62ab27-605b-48b2-ad24-6d4fdd6f984a",
   "metadata": {},
   "outputs": [
    {
     "data": {
      "text/plain": [
       "['marrys ane a aace said sy uta bedd leser acringitt as hoic o wpy ofwitar satred frip, ald sssape” do',\n",
       " '““r thee’sy cous aid seder, sued dranpenazbscaryybatn ae clute t oguta toen .']"
      ]
     },
     "execution_count": 299,
     "metadata": {},
     "output_type": "execute_result"
    }
   ],
   "source": [
    "sample_from_model()"
   ]
  },
  {
   "cell_type": "code",
   "execution_count": 300,
   "id": "55ad12f8-50f0-4376-9322-b37b927338c9",
   "metadata": {},
   "outputs": [],
   "source": [
    "lossi = torch.tensor(lossi)\n"
   ]
  },
  {
   "cell_type": "code",
   "execution_count": 301,
   "id": "d03a41a2-c5b0-47db-a1ec-04c5ae9bc30a",
   "metadata": {},
   "outputs": [
    {
     "data": {
      "text/plain": [
       "[<matplotlib.lines.Line2D at 0x12f44ac30>]"
      ]
     },
     "execution_count": 301,
     "metadata": {},
     "output_type": "execute_result"
    },
    {
     "data": {
      "image/png": "[encoded data removed]",
      "text/plain": [
       "<Figure size 640x480 with 1 Axes>"
      ]
     },
     "metadata": {},
     "output_type": "display_data"
    }
   ],
   "source": [
    "plt.plot(lossi.view(-1, 1000).mean(1))"
   ]
  },
  {
   "cell_type": "code",
   "execution_count": 307,
   "id": "ff5d3b6d-f439-407a-937b-e1479e639ade",
   "metadata": {},
   "outputs": [
    {
     "data": {
      "text/plain": [
       "'<S><S><S><S><S><S><S><S><S><S><S><S><S><S><S><S><S><S><S><S><S><S><S><S><S><S><S><S><S><S><S><S><S><S><S><S><S><S><S><S><S><S><S><S><S><S><S><S><S><S><S><S><S><S><S><S><S><S><S><S><S><S><S><S><S><S><S><S><S>his stomach twisted as he imagi'"
      ]
     },
     "execution_count": 307,
     "metadata": {},
     "output_type": "execute_result"
    }
   ],
   "source": [
    "''.join([itos[c] for c in Xdev[96].tolist()])\n"
   ]
  },
  {
   "cell_type": "code",
   "execution_count": 308,
   "id": "98be3f08-12c7-435e-8500-0d7a77f64329",
   "metadata": {},
   "outputs": [
    {
     "name": "stderr",
     "output_type": "stream",
     "text": [
      "/var/folders/84/r3s7dwr93cs3k0kzl447b_8c0000gp/T/ipykernel_82803/1197392954.py:3: UserWarning: To copy construct from a tensor, it is recommended to use sourceTensor.clone().detach() or sourceTensor.clone().detach().requires_grad_(True), rather than torch.tensor(sourceTensor).\n",
      "  probs = F.softmax(model(torch.tensor(context)), dim=1)\n"
     ]
    }
   ],
   "source": [
    "context = [stoi['<S>']] * block_size\n",
    "context = torch.tensor(context).view(1, -1)\n",
    "probs = F.softmax(model(torch.tensor(context)), dim=1)\n"
   ]
  },
  {
   "cell_type": "code",
   "execution_count": 309,
   "id": "2dfc9294-4310-4f60-951c-47171e4c9529",
   "metadata": {},
   "outputs": [],
   "source": [
    "ix = torch.multinomial(probs, num_samples=1).item()"
   ]
  },
  {
   "cell_type": "code",
   "execution_count": 310,
   "id": "c6f479cd-facf-42a8-82fe-c96fea689e95",
   "metadata": {},
   "outputs": [
    {
     "data": {
      "text/plain": [
       "'w'"
      ]
     },
     "execution_count": 310,
     "metadata": {},
     "output_type": "execute_result"
    }
   ],
   "source": [
    "itos[ix]"
   ]
  },
  {
   "cell_type": "code",
   "execution_count": 311,
   "id": "1f04d106-9ac5-4ed5-aba1-c8aa25a59eaf",
   "metadata": {},
   "outputs": [],
   "source": [
    "def sample_from_model(model, stoi, itos, block_size, max_length=200, temperature=1.0, seed=\"<S>\"):\n",
    "    \"\"\"\n",
    "    Generates a sequence of characters from the trained model.\n",
    "    \n",
    "    Parameters:\n",
    "    - model: Trained PyTorch model\n",
    "    - stoi: Dictionary mapping characters to indices\n",
    "    - itos: Dictionary mapping indices to characters\n",
    "    - block_size: Context size (length of input sequence to model)\n",
    "    - max_length: Maximum length of the generated sequence\n",
    "    - temperature: Softmax temperature for controlling randomness in sampling\n",
    "    - seed: Initial context to start generation\n",
    "    \n",
    "    Returns:\n",
    "    - generated_text: The generated sequence as a string\n",
    "    \"\"\"\n",
    "    # Start with the seed sequence\n",
    "    # context = [stoi[ch] for ch in seed if ch in stoi]  # Convert seed to indices\n",
    "    context = [stoi['<S>']] * (block_size)\n",
    "    print(context)\n",
    "    generated_indices = []\n",
    "    \n",
    "    for _ in range(max_length):\n",
    "        # Prepare input tensor\n",
    "        x = torch.tensor([context], dtype=torch.long)  # Shape: (1, block_size)\n",
    "        \n",
    "        # Forward pass through the model\n",
    "        logits = model(x)  # Shape: (1 * block_size, vocab_size)\n",
    "        logits = logits[-1, :]  # Take the logits for the last character in the sequence\n",
    "        \n",
    "        # Adjust for temperature\n",
    "        logits = logits / temperature\n",
    "        probs = F.softmax(logits, dim=-1)\n",
    "        \n",
    "        # Sample from the probability distribution\n",
    "        idx = torch.multinomial(probs, num_samples=1).item()\n",
    "        \n",
    "        # Add the predicted character to the generated output\n",
    "        generated_indices.append(idx)\n",
    "        context = context[1:] + [idx]  # Slide the context window\n",
    "        \n",
    "        # Stop if the end token `<E>` is generated\n",
    "        if itos[idx] == \".\":\n",
    "            break\n",
    "    \n",
    "    # Convert indices back to characters\n",
    "    generated_text = ''.join([itos[idx] for idx in generated_indices if itos[idx] not in {\"<S>\", \"<E>\"}])\n",
    "    return generated_text\n"
   ]
  },
  {
   "cell_type": "code",
   "execution_count": 312,
   "id": "7731f3c4-024f-4bff-9497-6387b3fad118",
   "metadata": {},
   "outputs": [
    {
     "name": "stdout",
     "output_type": "stream",
     "text": [
      "[75, 75, 75, 75, 75, 75, 75, 75, 75, 75, 75, 75, 75, 75, 75, 75, 75, 75, 75, 75, 75, 75, 75, 75, 75, 75, 75, 75, 75, 75, 75, 75, 75, 75, 75, 75, 75, 75, 75, 75, 75, 75, 75, 75, 75, 75, 75, 75, 75, 75, 75, 75, 75, 75, 75, 75, 75, 75, 75, 75, 75, 75, 75, 75, 75, 75, 75, 75, 75, 75, 75, 75, 75, 75, 75, 75, 75, 75, 75, 75, 75, 75, 75, 75, 75, 75, 75, 75, 75, 75, 75, 75, 75, 75, 75, 75, 75, 75, 75, 75]\n",
      "Generated text: the carling iand s” ped testhey.\n"
     ]
    }
   ],
   "source": [
    "seed_text = \"<S>\"  # Start token for generation\n",
    "generated_text = sample_from_model(model, stoi, itos, block_size=100, max_length=200, temperature=0.8, seed=seed_text)\n",
    "print(\"Generated text:\", generated_text)"
   ]
  },
  {
   "cell_type": "code",
   "execution_count": 208,
   "id": "67e75fbc-e4a4-42af-af78-e0960a327cf1",
   "metadata": {},
   "outputs": [],
   "source": [
    "context = [stoi['<S>']] * block_size\n",
    "s = 'a centaur was standing over him, not ronan or bane; '\n",
    "\n",
    "l = len(s)\n",
    "for i, c in enumerate(s):\n",
    "    context[block_size - l + i] = stoi[c]\n"
   ]
  },
  {
   "cell_type": "code",
   "execution_count": 210,
   "id": "b0d0ea28-840f-47b2-9676-a61112dca8bf",
   "metadata": {},
   "outputs": [
    {
     "data": {
      "text/plain": [
       "'<S><S><S><S><S><S><S><S><S><S><S><S><S><S><S><S><S><S><S><S><S><S><S><S><S><S><S><S><S><S><S><S><S><S><S><S><S><S><S><S><S><S><S><S><S><S><S><S>a centaur was standing over him, not ronan or bane; '"
      ]
     },
     "execution_count": 210,
     "metadata": {},
     "output_type": "execute_result"
    }
   ],
   "source": [
    "''.join([itos[c] for c in context])"
   ]
  },
  {
   "cell_type": "code",
   "execution_count": null,
   "id": "7a39518b-a74e-4284-a3ba-236de1f86e1f",
   "metadata": {},
   "outputs": [],
   "source": []
  }
 ],
 "metadata": {
  "kernelspec": {
   "display_name": "Python 3 (ipykernel)",
   "language": "python",
   "name": "python3"
  },
  "language_info": {
   "codemirror_mode": {
    "name": "ipython",
    "version": 3
   },
   "file_extension": ".py",
   "mimetype": "text/x-python",
   "name": "python",
   "nbconvert_exporter": "python",
   "pygments_lexer": "ipython3",
   "version": "3.12.4"
  }
 },
 "nbformat": 4,
 "nbformat_minor": 5
}
