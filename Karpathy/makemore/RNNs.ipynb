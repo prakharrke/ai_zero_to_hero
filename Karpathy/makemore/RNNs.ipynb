{
 "cells": [
  {
   "cell_type": "code",
   "execution_count": 1,
   "id": "fcfa8da0-8a0e-46ce-adf3-e36867d2f7c3",
   "metadata": {},
   "outputs": [],
   "source": [
    "import torch\n",
    "import torch.nn.functional as F\n",
    "import matplotlib.pyplot as plt # for making figures\n",
    "%matplotlib inline\n",
    "import time"
   ]
  },
  {
   "cell_type": "code",
   "execution_count": 428,
   "id": "95a85bc4-def4-4ebb-9d4f-8f64e10f05c4",
   "metadata": {},
   "outputs": [],
   "source": [
    "device='cpu'"
   ]
  },
  {
   "cell_type": "code",
   "execution_count": 429,
   "id": "06a43e90-c45f-4d11-a6bb-d1fe090be563",
   "metadata": {},
   "outputs": [
    {
     "name": "stdout",
     "output_type": "stream",
     "text": [
      "32033\n",
      "15\n",
      "['emma', 'olivia', 'ava', 'isabella', 'sophia', 'charlotte', 'mia', 'amelia']\n"
     ]
    }
   ],
   "source": [
    "# read in all the words\n",
    "words = open('names.txt', 'r').read().splitlines()\n",
    "print(len(words))\n",
    "print(max(len(w) for w in words))\n",
    "print(words[:8])"
   ]
  },
  {
   "cell_type": "code",
   "execution_count": 430,
   "id": "cf2a718d-cdb6-43ba-b1fe-f327d0bacd8e",
   "metadata": {},
   "outputs": [
    {
     "name": "stdout",
     "output_type": "stream",
     "text": [
      "{1: 'a', 2: 'b', 3: 'c', 4: 'd', 5: 'e', 6: 'f', 7: 'g', 8: 'h', 9: 'i', 10: 'j', 11: 'k', 12: 'l', 13: 'm', 14: 'n', 15: 'o', 16: 'p', 17: 'q', 18: 'r', 19: 's', 20: 't', 21: 'u', 22: 'v', 23: 'w', 24: 'x', 25: 'y', 26: 'z', 0: '.'}\n",
      "27\n"
     ]
    }
   ],
   "source": [
    "# build the vocabulary of characters and mappings to/from integers\n",
    "chars = sorted(list(set(''.join(words))))\n",
    "stoi = {s:i+1 for i,s in enumerate(chars)}\n",
    "stoi['.'] = 0\n",
    "itos = {i:s for s,i in stoi.items()}\n",
    "vocab_size = len(itos)\n",
    "print(itos)\n",
    "print(vocab_size)"
   ]
  },
  {
   "cell_type": "code",
   "execution_count": 431,
   "id": "dadeee13-4ab8-4158-a58f-17a30aaf7588",
   "metadata": {},
   "outputs": [],
   "source": [
    "# shuffle up the words\n",
    "import random\n",
    "random.seed(42)\n",
    "random.shuffle(words)"
   ]
  },
  {
   "cell_type": "code",
   "execution_count": 550,
   "id": "881d2394-5d75-48a7-bd63-1f000971f905",
   "metadata": {},
   "outputs": [
    {
     "name": "stdout",
     "output_type": "stream",
     "text": [
      "torch.Size([182625, 15]) torch.Size([182625])\n",
      "torch.Size([22655, 15]) torch.Size([22655])\n",
      "torch.Size([22866, 15]) torch.Size([22866])\n"
     ]
    }
   ],
   "source": [
    "# build the dataset\n",
    "block_size = 15 # context length: how many characters do we take to predict the next one?\n",
    "\n",
    "def build_dataset(words):  \n",
    "  X, Y = [], []\n",
    "  \n",
    "  for w in words:\n",
    "    context = [0] * block_size\n",
    "    for ch in w + '.':\n",
    "      ix = stoi[ch]\n",
    "      X.append(context)\n",
    "      Y.append(ix)\n",
    "      context = context[1:] + [ix] # crop and append\n",
    "\n",
    "  X = torch.tensor(X)\n",
    "  Y = torch.tensor(Y)\n",
    "  print(X.shape, Y.shape)\n",
    "  return X, Y\n",
    "\n",
    "n1 = int(0.8*len(words))\n",
    "n2 = int(0.9*len(words))\n",
    "Xtr,  Ytr  = build_dataset(words[:n1])     # 80%\n",
    "Xdev, Ydev = build_dataset(words[n1:n2])   # 10%\n",
    "Xte,  Yte  = build_dataset(words[n2:])     # 10%\n",
    "\n",
    "Xtr = Xtr.to(device)\n",
    "Ytr = Ytr.to(device)\n",
    "\n",
    "Xdev = Xdev.to(device)\n",
    "Ydev = Ydev.to(device)\n",
    "\n",
    "Xte = Xte.to(device)\n",
    "Yte = Yte.to(device)"
   ]
  },
  {
   "cell_type": "code",
   "execution_count": 433,
   "id": "dd5741a3-44b4-456f-8ad9-47e1c32fe08d",
   "metadata": {},
   "outputs": [
    {
     "data": {
      "text/plain": [
       "device(type='cpu')"
      ]
     },
     "execution_count": 433,
     "metadata": {},
     "output_type": "execute_result"
    }
   ],
   "source": [
    "Ytr.device"
   ]
  },
  {
   "cell_type": "code",
   "execution_count": 498,
   "id": "bcb4d388-a98f-42c6-a93b-a3c21a54f42a",
   "metadata": {},
   "outputs": [],
   "source": [
    "class Linear:\n",
    "  \n",
    "  def __init__(self, fan_in, fan_out, bias=True):\n",
    "    self.weight = torch.randn((fan_in, fan_out), device=device) / fan_in**0.5 # note: kaiming init\n",
    "    self.bias = torch.zeros(fan_out, device=device) if bias else None\n",
    "  \n",
    "  def __call__(self, x):\n",
    "    \n",
    "    self.out = x @ self.weight\n",
    "    if self.bias is not None:\n",
    "      self.out += self.bias\n",
    "    return self.out\n",
    "  \n",
    "  def parameters(self):\n",
    "    return [self.weight] + ([] if self.bias is None else [self.bias])\n",
    "\n",
    "# -----------------------------------------------------------------------------------------------\n",
    "class BatchNorm1d:\n",
    "  \n",
    "  def __init__(self, dim, eps=1e-5, momentum=0.1):\n",
    "    self.eps = eps\n",
    "    self.momentum = momentum\n",
    "    self.training = True\n",
    "    # Parameters (trainable via backprop)\n",
    "    self.gamma = torch.ones(dim, device=device).view(1, -1, 1)  # Shape [1, C, 1]\n",
    "    self.beta = torch.zeros(dim, device=device).view(1, -1, 1)  # Shape [1, C, 1]\n",
    "    # Buffers (updated via momentum)\n",
    "    self.running_mean = torch.zeros(dim, device=device)  # Shape [C]\n",
    "    self.running_var = torch.ones(dim, device=device)    # Shape [C]\n",
    "  \n",
    "  def __call__(self, x):\n",
    "    if self.training:\n",
    "      # Compute mean and variance across batch and sequence length (dim=(0,2))\n",
    "      xmean = x.mean(dim=(0, 2), keepdim=True)  # Shape [1, C, 1]\n",
    "      xvar = x.var(dim=(0, 2), keepdim=True)    # Shape [1, C, 1]\n",
    "    else:\n",
    "      # Use running statistics for inference\n",
    "      xmean = self.running_mean.view(1, -1, 1)  # Shape [1, C, 1]\n",
    "      xvar = self.running_var.view(1, -1, 1)    # Shape [1, C, 1]\n",
    "    \n",
    "    # Normalize input\n",
    "    xhat = (x - xmean) / torch.sqrt(xvar + self.eps)  # Normalize to unit variance\n",
    "    self.out = self.gamma * xhat + self.beta         # Scale and shift\n",
    "\n",
    "    # Update running statistics during training\n",
    "    if self.training:\n",
    "      with torch.no_grad():\n",
    "        self.running_mean = (1 - self.momentum) * self.running_mean + self.momentum * xmean.squeeze()\n",
    "        self.running_var = (1 - self.momentum) * self.running_var + self.momentum * xvar.squeeze()\n",
    "    \n",
    "    return self.out\n",
    "  \n",
    "  def parameters(self):\n",
    "    # Return trainable parameters\n",
    "    return [self.gamma, self.beta]\n",
    "\n",
    "\n",
    "# -----------------------------------------------------------------------------------------------\n",
    "class Tanh:\n",
    "  def __call__(self, x):\n",
    "    self.out = torch.tanh(x)\n",
    "    return self.out\n",
    "  def parameters(self):\n",
    "    return []\n",
    "\n",
    "# -----------------------------------------------------------------------------------------------\n",
    "class Embedding:\n",
    "  \n",
    "  def __init__(self, num_embeddings, embedding_dim):\n",
    "    self.weight = torch.randn((num_embeddings, embedding_dim), device=device)\n",
    "    \n",
    "  def __call__(self, IX):\n",
    "    self.out = self.weight[IX].transpose(1, 2)\n",
    "    \n",
    "    return self.out\n",
    "  \n",
    "  def parameters(self):\n",
    "    return [self.weight]\n",
    "\n",
    "# -----------------------------------------------------------------------------------------------\n",
    "class FlattenConsecutive:\n",
    "  \n",
    "  def __init__(self, n):\n",
    "    self.n = n\n",
    "    \n",
    "  def __call__(self, x):\n",
    "    B, T, C = x.shape\n",
    "    x = x.view(B, T//self.n, C*self.n)\n",
    "    if x.shape[1] == 1:\n",
    "      x = x.squeeze(1)\n",
    "    self.out = x\n",
    "    return self.out\n",
    "  \n",
    "  def parameters(self):\n",
    "    return []\n",
    "\n",
    "class Flatten:\n",
    "    def __call__(self, x):\n",
    "        self.out = x.view(x.shape[0], -1)\n",
    "        return self.out\n",
    "    def parameters(self):\n",
    "        return []\n",
    "\n",
    "# -----------------------------------------------------------------------------------------------\n",
    "class Sequential:\n",
    "  \n",
    "  def __init__(self, layers):\n",
    "    self.layers = layers\n",
    "  \n",
    "  def __call__(self, x):\n",
    "    for layer in self.layers:\n",
    "      x = layer(x)\n",
    "    self.out = x\n",
    "    return self.out\n",
    "  \n",
    "  def parameters(self):\n",
    "    # get parameters of all layers and stretch them out into one list\n",
    "    return [p for layer in self.layers for p in layer.parameters()]\n",
    "\n",
    "# --------------------------------------------\n",
    "class Conv1d:\n",
    "    def __init__(self, sequence_length, in_channels, out_channels, kernel=2, stride=1, dilation=1):\n",
    "        self. sequence_length = sequence_length\n",
    "        self.in_channels = in_channels\n",
    "        self.out_channels = out_channels\n",
    "        self.kernel = kernel\n",
    "        self.stride = stride\n",
    "        self.dilation = dilation\n",
    "        self.filters = torch.randn((out_channels, in_channels, kernel), device=device) * ((2 / (in_channels * kernel)) ** 0.5)\n",
    "        self.bias = torch.randn(out_channels, device=device) * 0\n",
    "        self.effective_kernel = ((self.kernel - 1) * self.dilation) + 1\n",
    "        self.Lout = ((self.sequence_length - self.effective_kernel) // self.stride) + 1\n",
    "    def __call__(self, x):\n",
    "        # Compute effective kernel size based on dilation \n",
    "        # effective_kernel = ((self.kernel - 1) * self.dilation) + 1\n",
    "        \n",
    "        N, C, L = x.shape\n",
    "        assert self.effective_kernel <= L\n",
    "            \n",
    "        # create the sliding windows of the input \n",
    "        x_unfolded = x.unfold(2, self.effective_kernel, self.stride)\n",
    "\n",
    "        # Extract dilated inputs from x_unfolded which used effective_kernel. The shape of the unfolded vector is [N, C, L, effective_k] \n",
    "        # where L is the length of the sequence depending on the effective kernel. From the dimension of effective_kernel, we clip every 'dilated' index\n",
    "        # If effective_kernel is 3 and dilation is 2, [1, 2, 3] will result in [1, 3]. [1,3] has length of 2, which is equal to actual kernel value\n",
    "        x_unfolded = x_unfolded[:, :, :, ::self.dilation]\n",
    "\n",
    "        # The dilation also changes the sequence length, since effective kernel value changes with dilation > 1. \n",
    "        # Compute Lout based on effective_kernel\n",
    "        \n",
    "        # Lout = ((self.sequence_length - self.effective_kernel) // self.stride) + 1\n",
    "        \n",
    "        # Before cross correlation, we need to broadcast the filters and the input correctly\n",
    "        x_unfolded = x_unfolded.view(N, 1, C, self.Lout, self.kernel)\n",
    "        filters = self.filters.view(1, self.out_channels, self.in_channels, 1, self.kernel)\n",
    "\n",
    "        # Perform element wise multiplication\n",
    "        self.out = torch.mul(x_unfolded, filters).sum((2, 4)) + self.bias.view(1, self.out_channels, 1)\n",
    "        return self.out        \n",
    "    \n",
    "    def parameters(self): \n",
    "        return [self.filters] + [self.bias]\n",
    "\n",
    "class ReLu: \n",
    "    def __call__(self, x):\n",
    "        self.out = torch.relu(x)\n",
    "        return self.out\n",
    "\n",
    "    def parameters(self):\n",
    "        return []\n",
    "        \n",
    "class Transpose:\n",
    "    def __call__(self, x):\n",
    "        self.out = x.transpose(1, 2)\n",
    "        return self.out\n",
    "    \n",
    "    def parameters(self):\n",
    "        return []\n",
    "\n",
    "class Residual: \n",
    "    def __init__(self, layers):\n",
    "        self.projection_needed = False\n",
    "        self.layers = layers\n",
    "        \n",
    "        \n",
    "        # Input of the in layer config\n",
    "        in_layer = layers[0]\n",
    "        out_layer = layers[-1]\n",
    "\n",
    "        self.in_channels = in_layer.in_channels\n",
    "        self.in_sequence_length = in_layer.sequence_length\n",
    "\n",
    "        self.out_channels = out_layer.out_channels\n",
    "        self.out_sequence_length = out_layer.Lout\n",
    "\n",
    "        if self.in_channels != self.out_channels: # Assuming for now, this will always be the case\n",
    "            self.projection_needed = True\n",
    "            self.linear_projection_conv = Conv1d(sequence_length=self.in_sequence_length, out_channels=self.out_channels, in_channels=self.in_channels, kernel=1)\n",
    "            \n",
    "    def __call__(self, x):\n",
    "        self.input = x\n",
    "        for layer in self.layers: \n",
    "            x = layer(x)\n",
    "        # Perform residual operation\n",
    "        if self.projection_needed:\n",
    "            linear_projection = self.linear_projection_conv(self.input)\n",
    "            \n",
    "        # Pad the output since the Lout != Lin\n",
    "        sequence_length_diff = self.in_sequence_length - self.out_sequence_length\n",
    "        x = F.pad(x, (sequence_length_diff // 2, sequence_length_diff - sequence_length_diff // 2))\n",
    "        \n",
    "        self.out = x + linear_projection if self.projection_needed else x + self.input\n",
    "        \n",
    "        return self.out\n",
    "        \n",
    "    def parameters(self):\n",
    "        # Collect parameters from all layers and the projection (if used)\n",
    "        params = [p for layer in self.layers for p in layer.parameters()]\n",
    "        if self.projection_needed:\n",
    "            params += self.linear_projection_conv.parameters()\n",
    "        return params\n",
    "\n",
    "class ElmanRNN:\n",
    "    def __init__(self, input_channels, hidden_channels): # Bias would be present. Tanh non linearity will be applied. \n",
    "        self.wxh = torch.randn((input_channels, hidden_channels), device=device) * (5/3 / (input_channels) ** 0.5)\n",
    "        self.bxh = torch.randn((1, hidden_channels), device=device) * 0.001\n",
    "        \n",
    "        self.whh = torch.randn((hidden_channels, hidden_channels), device=device) * (5/3 / (hidden_channels) ** 0.5)\n",
    "        self.bhh = torch.randn((1, hidden_channels), device=device) * 0.001\n",
    "        \n",
    "        self.hidden_channels = hidden_channels\n",
    "        self.input_channels = input_channels\n",
    "\n",
    "    def __call__(self, x):\n",
    "        N, C, L = x.shape\n",
    "\n",
    "        # Iterate over the entire sequence length and generate logits. The shape of the output logits will be [N, Hout, L]\n",
    "        logits = torch.zeros((N, self.hidden_channels, L), device=device)\n",
    "        H = torch.zeros((N, self.hidden_channels), device=device)\n",
    "        for i in range(L):\n",
    "            xi = x[:, :, i]\n",
    "            xih = (xi @ self.wxh) + self.bxh\n",
    "            hh = (H @ self.whh) + self.bhh\n",
    "            ht = torch.tanh(xih + hh)\n",
    "            \n",
    "            H = ht \n",
    "            logits[:, :, i] = ht\n",
    "            self.out = logits\n",
    "            \n",
    "        return self.out\n",
    "\n",
    "    def parameters(self):\n",
    "        return [self.wxh] + [self.whh] + [self.bxh] + [self.bhh]\n",
    "\n"
   ]
  },
  {
   "cell_type": "markdown",
   "id": "8713fa85-45b0-40c0-8002-1354ad1a1fcd",
   "metadata": {},
   "source": [
    "### Recurrent Neural Nets \n",
    "Instead of passing the entire sequence as a single input, we pass one character at a time. \n",
    "each character creates a hidden state of its own. But the hidden state of a character is also a function of the hidden state of the previous character. \n",
    "This enables the RNNs to build the next output, not just on specific localisations of the input, but the entire time series of the sequence. "
   ]
  },
  {
   "cell_type": "code",
   "execution_count": 520,
   "id": "09d219c3-72c5-4208-81e2-527315d2135e",
   "metadata": {},
   "outputs": [
    {
     "name": "stdout",
     "output_type": "stream",
     "text": [
      "parameters: 141235\n"
     ]
    }
   ],
   "source": [
    "n_embeddings = 24\n",
    "h_channels = 120\n",
    "h2_channels = 60\n",
    "h3_channels = 60\n",
    "h4_channels = 80\n",
    "h5_channels = 100\n",
    "h6_channels = 120\n",
    "model = Sequential([\n",
    "    Embedding(vocab_size, n_embeddings),\n",
    "    ElmanRNN(n_embeddings, h_channels),\n",
    "    ElmanRNN(h_channels, h2_channels),\n",
    "    ElmanRNN(h2_channels, h3_channels),\n",
    "    ElmanRNN(h3_channels, h4_channels),\n",
    "    ElmanRNN(h4_channels, h5_channels),\n",
    "    ElmanRNN(h5_channels, h6_channels),\n",
    "    Flatten(), Linear(h6_channels * block_size, vocab_size)\n",
    "])\n",
    "# parameters = [p for layer in layers for p in layer.parameters()]\n",
    "print(f\"parameters: {sum(p.nelement() for p in model.parameters())}\")\n",
    "\n",
    "for p in model.parameters():\n",
    "        p.requires_grad = True"
   ]
  },
  {
   "cell_type": "code",
   "execution_count": 521,
   "id": "6178ef73-231b-4ede-94d6-74d5f999721b",
   "metadata": {},
   "outputs": [],
   "source": [
    "lossi = []"
   ]
  },
  {
   "cell_type": "code",
   "execution_count": 522,
   "id": "6014e956-4cb2-4060-b583-89ca5052c221",
   "metadata": {},
   "outputs": [
    {
     "name": "stdout",
     "output_type": "stream",
     "text": [
      "      0/ 100000: 3.7010\n",
      "   1000/ 100000: 3.0973\n",
      "   2000/ 100000: 2.7753\n",
      "   3000/ 100000: 2.7046\n",
      "   4000/ 100000: 2.2872\n",
      "   5000/ 100000: 2.5552\n",
      "   6000/ 100000: 2.6025\n",
      "   7000/ 100000: 2.8151\n",
      "   8000/ 100000: 2.7658\n",
      "   9000/ 100000: 2.5638\n",
      "  10000/ 100000: 2.2385\n",
      "  11000/ 100000: 2.1548\n",
      "  12000/ 100000: 2.2002\n",
      "  13000/ 100000: 2.6872\n",
      "  14000/ 100000: 2.4253\n",
      "  15000/ 100000: 2.1521\n",
      "  16000/ 100000: 2.1424\n",
      "  17000/ 100000: 2.2963\n",
      "  18000/ 100000: 2.0958\n",
      "  19000/ 100000: 2.7157\n",
      "  20000/ 100000: 2.4237\n",
      "  21000/ 100000: 2.4928\n",
      "  22000/ 100000: 1.8205\n",
      "  23000/ 100000: 2.3989\n",
      "  24000/ 100000: 2.2293\n",
      "  25000/ 100000: 2.1902\n",
      "  26000/ 100000: 1.9902\n",
      "  27000/ 100000: 2.5287\n",
      "  28000/ 100000: 2.2691\n",
      "  29000/ 100000: 2.4413\n",
      "  30000/ 100000: 2.3797\n",
      "  31000/ 100000: 2.2396\n",
      "  32000/ 100000: 1.9454\n",
      "  33000/ 100000: 2.2365\n",
      "  34000/ 100000: 2.3998\n",
      "  35000/ 100000: 1.8863\n",
      "  36000/ 100000: 1.9341\n",
      "  37000/ 100000: 1.6442\n",
      "  38000/ 100000: 2.2832\n",
      "  39000/ 100000: 1.7940\n",
      "  40000/ 100000: 1.9087\n",
      "  41000/ 100000: 2.0742\n",
      "  42000/ 100000: 1.9781\n",
      "  43000/ 100000: 1.7978\n",
      "  44000/ 100000: 2.1241\n",
      "  45000/ 100000: 2.1124\n",
      "  46000/ 100000: 2.3266\n",
      "  47000/ 100000: 1.9540\n",
      "  48000/ 100000: 1.8303\n",
      "  49000/ 100000: 2.1895\n",
      "  50000/ 100000: 1.8911\n",
      "  51000/ 100000: 2.0479\n",
      "  52000/ 100000: 2.0974\n",
      "  53000/ 100000: 1.8334\n",
      "  54000/ 100000: 2.2132\n",
      "  55000/ 100000: 1.8109\n",
      "  56000/ 100000: 1.8649\n",
      "  57000/ 100000: 2.3533\n",
      "  58000/ 100000: 1.8750\n",
      "  59000/ 100000: 1.7042\n",
      "  60000/ 100000: 2.0969\n",
      "  61000/ 100000: 1.8895\n",
      "  62000/ 100000: 2.2218\n",
      "  63000/ 100000: 1.9044\n",
      "  64000/ 100000: 2.1652\n",
      "  65000/ 100000: 2.2498\n",
      "  66000/ 100000: 2.1086\n",
      "  67000/ 100000: 1.5196\n",
      "  68000/ 100000: 1.9231\n",
      "  69000/ 100000: 1.8146\n",
      "  70000/ 100000: 1.9232\n",
      "  71000/ 100000: 1.7990\n",
      "  72000/ 100000: 2.2931\n",
      "  73000/ 100000: 2.2290\n",
      "  74000/ 100000: 2.2380\n",
      "  75000/ 100000: 2.1049\n",
      "  76000/ 100000: 1.7903\n",
      "  77000/ 100000: 1.8573\n",
      "  78000/ 100000: 1.9870\n",
      "  79000/ 100000: 1.3759\n",
      "  80000/ 100000: 1.9680\n",
      "  81000/ 100000: 1.9651\n",
      "  82000/ 100000: 1.5605\n",
      "  83000/ 100000: 1.7383\n",
      "  84000/ 100000: 2.2165\n",
      "  85000/ 100000: 1.9249\n",
      "  86000/ 100000: 1.7281\n",
      "  87000/ 100000: 1.8983\n",
      "  88000/ 100000: 2.1621\n",
      "  89000/ 100000: 2.0526\n",
      "  90000/ 100000: 1.9818\n",
      "  91000/ 100000: 1.9300\n",
      "  92000/ 100000: 1.9789\n",
      "  93000/ 100000: 1.6072\n",
      "  94000/ 100000: 2.0109\n",
      "  95000/ 100000: 1.3554\n",
      "  96000/ 100000: 1.7380\n",
      "  97000/ 100000: 1.8993\n",
      "  98000/ 100000: 1.9194\n",
      "  99000/ 100000: 2.1092\n",
      "Total time: 1488.002754\n"
     ]
    }
   ],
   "source": [
    "start_time = time.time_ns()\n",
    "max_steps = 100000\n",
    "for i in range(max_steps): \n",
    "    ix = torch.randint(0, Xtr.shape[0], (batch_size,))\n",
    "    Xb, Yb = Xtr[ix], Ytr[ix] \n",
    "    \n",
    "    # Forward pass \n",
    "    logits = model(Xb)\n",
    "    loss = F.cross_entropy(logits, Yb)\n",
    "    \n",
    "    # backward \n",
    "    for p in model.parameters():\n",
    "        p.grad = None\n",
    "    loss.backward() \n",
    "    torch.nn.utils.clip_grad_norm_(model.parameters(), max_norm=1.0)\n",
    "    \n",
    "    # Update the parameters \n",
    "    e = 0.001 if i < 5000 else 0.0005\n",
    "    for p in model.parameters():\n",
    "        p.data += -0.1 * p.grad\n",
    "    \n",
    "    if i % 1000 == 0: # print every once in a while\n",
    "        print(f'{i:7d}/{max_steps:7d}: {loss.item():.4f}')\n",
    "    lossi.append(loss.log10().item())\n",
    "end_time = time.time_ns() \n",
    "print(f\"Total time: {(end_time - start_time) / 1_000_000_000}\")"
   ]
  },
  {
   "cell_type": "markdown",
   "id": "ed946b4b-1cde-41df-9dd6-874e1572195d",
   "metadata": {},
   "source": [
    "### Important Note:\n",
    "Increasing the hidden layer channels beyond a certain value, the loss actually gets worse, goes all the way to 10. This could be because of the exploding/vanishing gradients."
   ]
  },
  {
   "cell_type": "code",
   "execution_count": 523,
   "id": "7d2e4afd-bf01-4f29-a4ab-7bebfc3e843c",
   "metadata": {},
   "outputs": [],
   "source": [
    "@torch.no_grad() # this decorator disables gradient tracking\n",
    "def split_loss(split):\n",
    "  x,y = {\n",
    "    'train': (Xtr, Ytr),\n",
    "    'val': (Xdev, Ydev),\n",
    "    'test': (Xte, Yte),\n",
    "  }[split]\n",
    "  logits = model(x)\n",
    "  \n",
    "  loss = F.cross_entropy(logits, y)\n",
    "  print(split, loss.item())"
   ]
  },
  {
   "cell_type": "code",
   "execution_count": 524,
   "id": "74a7f6c5-bdf5-4dc5-b3f0-736987167aa0",
   "metadata": {},
   "outputs": [
    {
     "name": "stdout",
     "output_type": "stream",
     "text": [
      "train 1.8942958116531372\n",
      "val 2.0800225734710693\n"
     ]
    }
   ],
   "source": [
    "for layer in model.layers:\n",
    "    layer.training = False\n",
    "    \n",
    "split_loss('train')\n",
    "split_loss('val')"
   ]
  },
  {
   "cell_type": "code",
   "execution_count": 525,
   "id": "feb44a07-51af-4a6d-b4c4-25d31cf31e0e",
   "metadata": {},
   "outputs": [],
   "source": [
    "def sample_from_model():\n",
    "    res = []\n",
    "    for _ in range(20):\n",
    "        out = []\n",
    "        context = [0] * block_size # initialize with all ...\n",
    "        while True:\n",
    "          # forward pass the neural net\n",
    "          logits = model(torch.tensor([context]))\n",
    "          probs = F.softmax(logits, dim=1)\n",
    "          # sample from the distribution\n",
    "          ix = torch.multinomial(probs, num_samples=1).item()\n",
    "          # shift the context window and track the samples\n",
    "          context = context[1:] + [ix]\n",
    "          out.append(ix)\n",
    "          # if we sample the special '.' token, break\n",
    "          if ix == 0:\n",
    "            break\n",
    "        res.append(''.join(itos[i] for i in out)) # decode and print the generated word\n",
    "    return res"
   ]
  },
  {
   "cell_type": "code",
   "execution_count": 526,
   "id": "0a57458f-a334-412b-a3b1-5f6de99c1420",
   "metadata": {},
   "outputs": [
    {
     "data": {
      "text/plain": [
       "['rydley.',\n",
       " 'jubia.',\n",
       " 'arjan.',\n",
       " 'gear.',\n",
       " 'diva.',\n",
       " 'naili.',\n",
       " 'kian.',\n",
       " 'tybian.',\n",
       " 'leandra.',\n",
       " 'avannah.',\n",
       " 'zahmar.',\n",
       " 'wallen.',\n",
       " 'gwencia.',\n",
       " 'meytia.',\n",
       " 'shasty.',\n",
       " 'colese.',\n",
       " 'kristie.',\n",
       " 'tavin.',\n",
       " 'symver.',\n",
       " 'jeancis.']"
      ]
     },
     "execution_count": 526,
     "metadata": {},
     "output_type": "execute_result"
    }
   ],
   "source": [
    "sample_from_model()"
   ]
  },
  {
   "cell_type": "code",
   "execution_count": 527,
   "id": "8773962a-3a0f-4733-b85c-3a80f3ed8587",
   "metadata": {},
   "outputs": [],
   "source": [
    "lossi = torch.tensor(lossi)\n"
   ]
  },
  {
   "cell_type": "code",
   "execution_count": 528,
   "id": "cf7d8ea8-4d8d-4445-8c9a-bf211c7344ed",
   "metadata": {},
   "outputs": [
    {
     "data": {
      "text/plain": [
       "[<matplotlib.lines.Line2D at 0x2cf4be0f0>]"
      ]
     },
     "execution_count": 528,
     "metadata": {},
     "output_type": "execute_result"
    },
    {
     "data": {
      "image/png": "[encoded data removed]",
      "text/plain": [
       "<Figure size 640x480 with 1 Axes>"
      ]
     },
     "metadata": {},
     "output_type": "display_data"
    }
   ],
   "source": [
    "plt.plot(lossi.view(-1, 1000).mean(1))"
   ]
  },
  {
   "cell_type": "code",
   "execution_count": 519,
   "id": "71b34ce1-2845-4803-b8ec-f43e9977e973",
   "metadata": {},
   "outputs": [
    {
     "data": {
      "text/plain": [
       "(array([623., 100.,  56.,  39.,  28.,  35.,  39.,  61., 104., 715.]),\n",
       " array([-1.00000000e+00, -8.00000072e-01, -6.00000143e-01, -4.00000215e-01,\n",
       "        -2.00000286e-01, -3.57627869e-07,  1.99999571e-01,  3.99999499e-01,\n",
       "         5.99999428e-01,  7.99999356e-01,  9.99999285e-01]),\n",
       " <BarContainer object of 10 artists>)"
      ]
     },
     "execution_count": 519,
     "metadata": {},
     "output_type": "execute_result"
    },
    {
     "data": {
      "image/png": "[encoded data removed]",
      "text/plain": [
       "<Figure size 640x480 with 1 Axes>"
      ]
     },
     "metadata": {},
     "output_type": "display_data"
    }
   ],
   "source": [
    "plt.hist(model.layers[1].out.clone().detach().view(-1));\n"
   ]
  },
  {
   "cell_type": "markdown",
   "id": "6efe3770-ac2f-448a-99c3-c48f6249f4f3",
   "metadata": {},
   "source": [
    "### Long-Short Term Memory"
   ]
  },
  {
   "cell_type": "code",
   "execution_count": 695,
   "id": "05879a5d-9a83-4124-813a-bc2fdd0b202d",
   "metadata": {},
   "outputs": [],
   "source": [
    "class LSTM:\n",
    "    def __init__(self, input_size, hidden_size):\n",
    "        self.input_size = input_size\n",
    "        self.hidden_size = hidden_size\n",
    "\n",
    "        # Define gate weights \n",
    "        # Input Gate weights\n",
    "        self. wii = torch.randn((input_size, hidden_size))\n",
    "        self.whi = torch.randn((hidden_size, hidden_size))\n",
    "        self.bii = torch.randn(hidden_size)\n",
    "        \n",
    "        # Forget Gate weights \n",
    "        self.wif = torch.randn((input_size, hidden_size))\n",
    "        self.whf = torch.randn((hidden_size, hidden_size))\n",
    "        self.bif = torch.randn(hidden_size)\n",
    "\n",
    "        # Cell candidiate weights \n",
    "        self.wig = torch.randn((input_size, hidden_size))\n",
    "        self.whg = torch.randn((hidden_size, hidden_size))\n",
    "        self.big = torch.randn(hidden_size)\n",
    "        # Output gate weights \n",
    "        self.wio = torch.randn((input_size, hidden_size))\n",
    "        self.who = torch.randn((hidden_size, hidden_size))\n",
    "        self.bio = torch.randn(hidden_size)\n",
    "\n",
    "    def __call__(self, x, H=None, C=None):\n",
    "        # Shape of x will be [N, C, L]. N = batch size, C = input channel size, L = input sequence length \n",
    "        N, I, L = x.shape \n",
    "        if H == None:\n",
    "            H = torch.zeros((N, self.hidden_size))\n",
    "        if C == None: \n",
    "            C = torch.zeros((N, self.hidden_size))\n",
    "        logits = torch.zeros((N, self.hidden_size, L))\n",
    "        for i in range(x.shape[2]):\n",
    "            xi = x[:, :, i]\n",
    "            # Compute gate vectors \n",
    "            it = torch.sigmoid((xi @ self.wii) + (H @ self.whi) + self.bii)\n",
    "            ft = torch.sigmoid((xi @ self.wif) + (H @ self.whf) + self.bif)\n",
    "            gt = torch.tanh((xi @ self.wig) + (H @ self.whg) + self.big)\n",
    "            ot = torch.sigmoid((xi @ self.wio) + (H @ self.who) + self.bio)\n",
    "            ct = (ft * C) + (it * gt)\n",
    "            C = ct\n",
    "            ht = ot * torch.tanh(ct)\n",
    "            H = ht\n",
    "            logits[:, :, i] = ht\n",
    "        self.out = logits\n",
    "        self.C = C\n",
    "        return self.out, self.C\n",
    "    def parameters(self):\n",
    "        return [self.wii, self.whi, self.bii] + [self.wif, self.whf, self.bif] + [self.wig, self.whg, self.big] + [self.wio, self.who, self.bio]\n",
    "\n",
    "class LayeredLSTM:\n",
    "    def __init__(self, layers):\n",
    "        self.layers = layers\n",
    "\n",
    "\n",
    "    def __call__(self, x, h=None, c=None):\n",
    "        N, I, L = x.shape  # N=batch size, I=input channels, L=sequence length\n",
    "\n",
    "        if h is None:\n",
    "            h = [torch.zeros((N, layer.hidden_size)) for layer in self.layers]\n",
    "        if c is None:\n",
    "            c = [torch.zeros((N, layer.hidden_size)) for layer in self.layers]\n",
    "\n",
    "        for i, layer in enumerate(self.layers):\n",
    "            x, cell_state = layer(x, h[i], c[i])\n",
    "            h[i] = x[:, :, -1]\n",
    "            c[i] = cell_state\n",
    "        \n",
    "        return x\n",
    "    def parameters(self): \n",
    "        return [p for layer in self.layers for p in layer.parameters()]\n"
   ]
  },
  {
   "cell_type": "code",
   "execution_count": 588,
   "id": "b45372ca-1fdf-46f4-b802-9b8fc4cb0f2a",
   "metadata": {},
   "outputs": [
    {
     "name": "stdout",
     "output_type": "stream",
     "text": [
      "parameters: 73515\n"
     ]
    }
   ],
   "source": [
    "n_embeddings = 24\n",
    "h_channels = 120\n",
    "model = Sequential([\n",
    "    Embedding(vocab_size, n_embeddings),\n",
    "    LSTM(n_embeddings, h_channels),\n",
    "    Flatten(), Linear(h_channels, vocab_size)\n",
    "])\n",
    "# parameters = [p for layer in layers for p in layer.parameters()]\n",
    "print(f\"parameters: {sum(p.nelement() for p in model.parameters())}\")\n",
    "\n",
    "for p in model.parameters():\n",
    "        p.requires_grad = True"
   ]
  },
  {
   "cell_type": "code",
   "execution_count": 589,
   "id": "916d4872-8b9e-4d34-9bd3-f32478acd263",
   "metadata": {},
   "outputs": [],
   "source": [
    "lossi = []"
   ]
  },
  {
   "cell_type": "code",
   "execution_count": 590,
   "id": "988c39e8-38dc-4b7c-83fd-f1a204d4c827",
   "metadata": {},
   "outputs": [
    {
     "name": "stdout",
     "output_type": "stream",
     "text": [
      "      0/ 100000: 3.3662\n",
      "   1000/ 100000: 3.0175\n",
      "   2000/ 100000: 2.8309\n",
      "   3000/ 100000: 2.7810\n",
      "   4000/ 100000: 2.7401\n",
      "   5000/ 100000: 2.6225\n",
      "   6000/ 100000: 2.6869\n",
      "   7000/ 100000: 2.6830\n",
      "   8000/ 100000: 2.8185\n",
      "   9000/ 100000: 2.8013\n",
      "  10000/ 100000: 1.9832\n",
      "  11000/ 100000: 2.2383\n",
      "  12000/ 100000: 2.6652\n",
      "  13000/ 100000: 2.5085\n",
      "  14000/ 100000: 2.1977\n",
      "  15000/ 100000: 2.1921\n",
      "  16000/ 100000: 2.3635\n",
      "  17000/ 100000: 2.0285\n",
      "  18000/ 100000: 2.8960\n",
      "  19000/ 100000: 2.4472\n",
      "  20000/ 100000: 2.0105\n",
      "  21000/ 100000: 2.2377\n",
      "  22000/ 100000: 2.1830\n",
      "  23000/ 100000: 1.9762\n",
      "  24000/ 100000: 2.2043\n",
      "  25000/ 100000: 2.1222\n",
      "  26000/ 100000: 2.3407\n",
      "  27000/ 100000: 1.8874\n",
      "  28000/ 100000: 2.4812\n",
      "  29000/ 100000: 2.3148\n",
      "  30000/ 100000: 1.9913\n",
      "  31000/ 100000: 2.1941\n",
      "  32000/ 100000: 2.1680\n",
      "  33000/ 100000: 2.4322\n",
      "  34000/ 100000: 2.2261\n",
      "  35000/ 100000: 2.1541\n",
      "  36000/ 100000: 2.2270\n",
      "  37000/ 100000: 2.2516\n",
      "  38000/ 100000: 2.0072\n",
      "  39000/ 100000: 2.2620\n",
      "  40000/ 100000: 2.5012\n",
      "  41000/ 100000: 2.4664\n",
      "  42000/ 100000: 1.9915\n",
      "  43000/ 100000: 1.9967\n",
      "  44000/ 100000: 1.9583\n",
      "  45000/ 100000: 2.3658\n",
      "  46000/ 100000: 2.2683\n",
      "  47000/ 100000: 2.3015\n",
      "  48000/ 100000: 2.3841\n",
      "  49000/ 100000: 2.0203\n",
      "  50000/ 100000: 2.0389\n",
      "  51000/ 100000: 2.1265\n",
      "  52000/ 100000: 2.4110\n",
      "  53000/ 100000: 2.0518\n",
      "  54000/ 100000: 1.8677\n",
      "  55000/ 100000: 2.2693\n",
      "  56000/ 100000: 2.1275\n",
      "  57000/ 100000: 2.2883\n",
      "  58000/ 100000: 2.0891\n",
      "  59000/ 100000: 2.2676\n",
      "  60000/ 100000: 2.0516\n",
      "  61000/ 100000: 1.9247\n",
      "  62000/ 100000: 1.9017\n",
      "  63000/ 100000: 2.1731\n",
      "  64000/ 100000: 2.4263\n",
      "  65000/ 100000: 1.9861\n",
      "  66000/ 100000: 1.9097\n",
      "  67000/ 100000: 2.2279\n",
      "  68000/ 100000: 2.0887\n",
      "  69000/ 100000: 2.5929\n",
      "  70000/ 100000: 1.9326\n",
      "  71000/ 100000: 1.9305\n",
      "  72000/ 100000: 1.7976\n",
      "  73000/ 100000: 1.9521\n",
      "  74000/ 100000: 2.0166\n",
      "  75000/ 100000: 1.2520\n",
      "  76000/ 100000: 2.0264\n",
      "  77000/ 100000: 2.1746\n",
      "  78000/ 100000: 2.5957\n",
      "  79000/ 100000: 1.7402\n",
      "  80000/ 100000: 2.0729\n",
      "  81000/ 100000: 2.1593\n",
      "  82000/ 100000: 2.4498\n",
      "  83000/ 100000: 1.9873\n",
      "  84000/ 100000: 2.0326\n",
      "  85000/ 100000: 2.2416\n",
      "  86000/ 100000: 2.3820\n",
      "  87000/ 100000: 2.1718\n",
      "  88000/ 100000: 1.8078\n",
      "  89000/ 100000: 1.8211\n",
      "  90000/ 100000: 1.6892\n",
      "  91000/ 100000: 2.1825\n",
      "  92000/ 100000: 2.1811\n",
      "  93000/ 100000: 2.0464\n",
      "  94000/ 100000: 1.9578\n",
      "  95000/ 100000: 1.6799\n",
      "  96000/ 100000: 1.7766\n",
      "  97000/ 100000: 2.0955\n",
      "  98000/ 100000: 2.4800\n",
      "  99000/ 100000: 2.0095\n",
      "Total time: 407.728734\n"
     ]
    }
   ],
   "source": [
    "start_time = time.time_ns()\n",
    "max_steps = 100000\n",
    "for i in range(max_steps): \n",
    "    ix = torch.randint(0, Xtr.shape[0], (batch_size,))\n",
    "    Xb, Yb = Xtr[ix], Ytr[ix] \n",
    "    \n",
    "    # Forward pass \n",
    "    logits = model(Xb)\n",
    "    loss = F.cross_entropy(logits, Yb)\n",
    "    \n",
    "    # backward \n",
    "    for p in model.parameters():\n",
    "        p.grad = None\n",
    "    loss.backward() \n",
    "    torch.nn.utils.clip_grad_norm_(model.parameters(), max_norm=1.0)\n",
    "    \n",
    "    # Update the parameters \n",
    "    e = 0.001 if i < 5000 else 0.0005\n",
    "    for p in model.parameters():\n",
    "        p.data += -0.1 * p.grad\n",
    "    \n",
    "    if i % 1000 == 0: # print every once in a while\n",
    "        print(f'{i:7d}/{max_steps:7d}: {loss.item():.4f}')\n",
    "    lossi.append(loss.log10().item())\n",
    "end_time = time.time_ns() \n",
    "print(f\"Total time: {(end_time - start_time) / 1_000_000_000}\")"
   ]
  },
  {
   "cell_type": "code",
   "execution_count": 591,
   "id": "879c1cbc-ca76-4834-ae4f-97888123daf5",
   "metadata": {},
   "outputs": [
    {
     "data": {
      "text/plain": [
       "[<matplotlib.lines.Line2D at 0x2cf410da0>]"
      ]
     },
     "execution_count": 591,
     "metadata": {},
     "output_type": "execute_result"
    },
    {
     "data": {
      "image/png": "[encoded data removed]",
      "text/plain": [
       "<Figure size 640x480 with 1 Axes>"
      ]
     },
     "metadata": {},
     "output_type": "display_data"
    }
   ],
   "source": [
    "lossi = torch.tensor(lossi)\n",
    "plt.plot(lossi.view(-1, 1000).mean(1))"
   ]
  },
  {
   "cell_type": "code",
   "execution_count": 592,
   "id": "9107b35d-e6c9-4c1e-912a-947df5cd96ba",
   "metadata": {},
   "outputs": [
    {
     "name": "stdout",
     "output_type": "stream",
     "text": [
      "train 2.065868854522705\n",
      "val 2.128507137298584\n"
     ]
    }
   ],
   "source": [
    "for layer in model.layers:\n",
    "    layer.training = False\n",
    "    \n",
    "split_loss('train')\n",
    "split_loss('val')"
   ]
  },
  {
   "cell_type": "code",
   "execution_count": 593,
   "id": "8bf69ab8-afda-4ff0-b64e-39b3a8ee9b4e",
   "metadata": {},
   "outputs": [
    {
     "data": {
      "text/plain": [
       "['luci.',\n",
       " 'arvan.',\n",
       " 'asven.',\n",
       " 'cannier.',\n",
       " 'samzenuela.',\n",
       " 'leomarlys.',\n",
       " 'garase.',\n",
       " 'ardies.',\n",
       " 'cailyn.',\n",
       " 'abakagani.',\n",
       " 'deannat.',\n",
       " 'shani.',\n",
       " 'amrricce.',\n",
       " 'aydieel.',\n",
       " 'shamiyah.',\n",
       " 'aniz.',\n",
       " 'arma.',\n",
       " 'gailee.',\n",
       " 'khyarion.',\n",
       " 'styshau.']"
      ]
     },
     "execution_count": 593,
     "metadata": {},
     "output_type": "execute_result"
    }
   ],
   "source": [
    "sample_from_model()"
   ]
  },
  {
   "cell_type": "code",
   "execution_count": 704,
   "id": "f9c52d6e-f131-4f75-a43c-3c2c4c9c1333",
   "metadata": {},
   "outputs": [
    {
     "name": "stdout",
     "output_type": "stream",
     "text": [
      "parameters: 234555\n"
     ]
    }
   ],
   "source": [
    "n_embeddings = 24\n",
    "h1_channels = 120\n",
    "h2_channels = 120\n",
    "model = Sequential([\n",
    "    Embedding(vocab_size, n_embeddings),\n",
    "    LayeredLSTM([\n",
    "        LSTM(n_embeddings, h1_channels),\n",
    "        LSTM(h1_channels, h2_channels)\n",
    "    ]),\n",
    "    Flatten(), Linear(h2_channels * block_size, vocab_size)\n",
    "])\n",
    "# parameters = [p for layer in layers for p in layer.parameters()]\n",
    "print(f\"parameters: {sum(p.nelement() for p in model.parameters())}\")\n",
    "\n",
    "for p in model.parameters():\n",
    "        p.requires_grad = True"
   ]
  },
  {
   "cell_type": "code",
   "execution_count": 705,
   "id": "d2b28206-aa38-406e-930f-e9795b53e097",
   "metadata": {},
   "outputs": [],
   "source": [
    "lossi = [] "
   ]
  },
  {
   "cell_type": "code",
   "execution_count": 707,
   "id": "f34842ea-498b-4a9f-91a8-cb4be62bd4fb",
   "metadata": {},
   "outputs": [
    {
     "name": "stdout",
     "output_type": "stream",
     "text": [
      "      0/ 100000: 2.6464\n",
      "   1000/ 100000: 2.3885\n",
      "   2000/ 100000: 2.4222\n",
      "   3000/ 100000: 2.4947\n",
      "   4000/ 100000: 2.5292\n",
      "   5000/ 100000: 2.0526\n",
      "   6000/ 100000: 2.6365\n",
      "   7000/ 100000: 2.4876\n",
      "   8000/ 100000: 2.3652\n",
      "   9000/ 100000: 2.4949\n",
      "  10000/ 100000: 2.6167\n",
      "  11000/ 100000: 2.1506\n",
      "  12000/ 100000: 2.6561\n",
      "  13000/ 100000: 2.7081\n",
      "  14000/ 100000: 2.3598\n",
      "  15000/ 100000: 2.5726\n",
      "  16000/ 100000: 2.2196\n",
      "  17000/ 100000: 2.3286\n",
      "  18000/ 100000: 2.6407\n",
      "  19000/ 100000: 2.4589\n",
      "  20000/ 100000: 2.4807\n",
      "  21000/ 100000: 2.4172\n",
      "  22000/ 100000: 2.3400\n",
      "  23000/ 100000: 2.4838\n",
      "  24000/ 100000: 2.5193\n",
      "  25000/ 100000: 2.7888\n",
      "  26000/ 100000: 2.5380\n",
      "  27000/ 100000: 2.6455\n",
      "  28000/ 100000: 2.4548\n",
      "  29000/ 100000: 2.8274\n",
      "  30000/ 100000: 2.2755\n",
      "  31000/ 100000: 2.4162\n",
      "  32000/ 100000: 2.8419\n",
      "  33000/ 100000: 2.3085\n",
      "  34000/ 100000: 2.4716\n",
      "  35000/ 100000: 2.5741\n",
      "  36000/ 100000: 2.7734\n",
      "  37000/ 100000: 2.5935\n",
      "  38000/ 100000: 2.2473\n",
      "  39000/ 100000: 2.2987\n",
      "  40000/ 100000: 2.6181\n",
      "  41000/ 100000: 2.7513\n",
      "  42000/ 100000: 2.6565\n",
      "  43000/ 100000: 2.3965\n",
      "  44000/ 100000: 2.1627\n",
      "  45000/ 100000: 2.4634\n",
      "  46000/ 100000: 2.2366\n",
      "  47000/ 100000: 2.2779\n",
      "  48000/ 100000: 2.2649\n",
      "  49000/ 100000: 2.1988\n",
      "  50000/ 100000: 2.0314\n",
      "  51000/ 100000: 2.0602\n",
      "  52000/ 100000: 2.4336\n",
      "  53000/ 100000: 2.3066\n",
      "  54000/ 100000: 2.0568\n",
      "  55000/ 100000: 2.5169\n",
      "  56000/ 100000: 2.2815\n",
      "  57000/ 100000: 2.2067\n",
      "  58000/ 100000: 2.2029\n",
      "  59000/ 100000: 2.0907\n",
      "  60000/ 100000: 2.3730\n",
      "  61000/ 100000: 2.5598\n",
      "  62000/ 100000: 2.1040\n",
      "  63000/ 100000: 1.9186\n",
      "  64000/ 100000: 2.5080\n",
      "  65000/ 100000: 2.4021\n",
      "  66000/ 100000: 2.5365\n",
      "  67000/ 100000: 2.4976\n",
      "  68000/ 100000: 2.1627\n",
      "  69000/ 100000: 2.5567\n",
      "  70000/ 100000: 2.2414\n",
      "  71000/ 100000: 2.3773\n",
      "  72000/ 100000: 2.4481\n",
      "  73000/ 100000: 2.3343\n",
      "  74000/ 100000: 1.8668\n",
      "  75000/ 100000: 2.2582\n",
      "  76000/ 100000: 2.1371\n",
      "  77000/ 100000: 2.2320\n",
      "  78000/ 100000: 2.5654\n",
      "  79000/ 100000: 2.3974\n",
      "  80000/ 100000: 2.4804\n",
      "  81000/ 100000: 2.1514\n",
      "  82000/ 100000: 2.6169\n",
      "  83000/ 100000: 2.3290\n",
      "  84000/ 100000: 2.2955\n",
      "  85000/ 100000: 2.3493\n",
      "  86000/ 100000: 2.3140\n",
      "  87000/ 100000: 2.1767\n",
      "  88000/ 100000: 2.1192\n",
      "  89000/ 100000: 2.3496\n",
      "  90000/ 100000: 2.6363\n",
      "  91000/ 100000: 2.6908\n",
      "  92000/ 100000: 2.3494\n",
      "  93000/ 100000: 2.1219\n",
      "  94000/ 100000: 2.4054\n",
      "  95000/ 100000: 2.3524\n",
      "  96000/ 100000: 2.7702\n",
      "  97000/ 100000: 2.4074\n",
      "  98000/ 100000: 2.4316\n",
      "  99000/ 100000: 2.5472\n",
      "Total time: 1174.764664\n"
     ]
    }
   ],
   "source": [
    "start_time = time.time_ns()\n",
    "max_steps = 100000\n",
    "for i in range(max_steps): \n",
    "    ix = torch.randint(0, Xtr.shape[0], (batch_size,))\n",
    "    Xb, Yb = Xtr[ix], Ytr[ix] \n",
    "    \n",
    "    # Forward pass \n",
    "    logits = model(Xb)\n",
    "    loss = F.cross_entropy(logits, Yb)\n",
    "    \n",
    "    # backward \n",
    "    for p in model.parameters():\n",
    "        p.grad = None\n",
    "    loss.backward() \n",
    "    torch.nn.utils.clip_grad_norm_(model.parameters(), max_norm=1.0)\n",
    "    \n",
    "    # Update the parameters \n",
    "    e = 0.01 if i < 70000 else 0.005\n",
    "    for p in model.parameters():\n",
    "        p.data += -e * p.grad\n",
    "    \n",
    "    if i % 1000 == 0: # print every once in a while\n",
    "        print(f'{i:7d}/{max_steps:7d}: {loss.item():.4f}')\n",
    "    lossi.append(loss.log10().item())\n",
    "end_time = time.time_ns() \n",
    "print(f\"Total time: {(end_time - start_time) / 1_000_000_000}\")"
   ]
  },
  {
   "cell_type": "code",
   "execution_count": 708,
   "id": "a2f158ae-8422-4347-8c46-52eee85c5d29",
   "metadata": {},
   "outputs": [
    {
     "data": {
      "text/plain": [
       "[<matplotlib.lines.Line2D at 0x2af424230>]"
      ]
     },
     "execution_count": 708,
     "metadata": {},
     "output_type": "execute_result"
    },
    {
     "data": {
      "image/png": "[encoded data removed]",
      "text/plain": [
       "<Figure size 640x480 with 1 Axes>"
      ]
     },
     "metadata": {},
     "output_type": "display_data"
    }
   ],
   "source": [
    "lossi = torch.tensor(lossi)\n",
    "plt.plot(lossi.view(-1, 1000).mean(1))"
   ]
  },
  {
   "cell_type": "code",
   "execution_count": 709,
   "id": "aa14f19a-1ca5-4946-92a4-d4b0ca98be3e",
   "metadata": {},
   "outputs": [
    {
     "name": "stdout",
     "output_type": "stream",
     "text": [
      "train 2.316899299621582\n",
      "val 2.340223550796509\n"
     ]
    }
   ],
   "source": [
    "for layer in model.layers:\n",
    "    layer.training = False\n",
    "    \n",
    "split_loss('train')\n",
    "split_loss('val')"
   ]
  },
  {
   "cell_type": "code",
   "execution_count": 710,
   "id": "f4ed968d-51d4-42d1-bc30-31a3735e7141",
   "metadata": {},
   "outputs": [
    {
     "data": {
      "text/plain": [
       "['mareyoinun.',\n",
       " 'rudgeen.',\n",
       " 'anmoaeii.',\n",
       " 'aharei.',\n",
       " 'jional.',\n",
       " 'makarennen.',\n",
       " 'janalin.',\n",
       " 'cren.',\n",
       " 'kandjn.',\n",
       " 'enmet.',\n",
       " 'roaea.',\n",
       " 'levee.',\n",
       " 'ineurnoh.',\n",
       " 'abane.',\n",
       " 'yonecn.',\n",
       " 'oeemly.',\n",
       " 'ganeli.',\n",
       " 'samadan.',\n",
       " 'denia.',\n",
       " 'parel.']"
      ]
     },
     "execution_count": 710,
     "metadata": {},
     "output_type": "execute_result"
    }
   ],
   "source": [
    "sample_from_model()"
   ]
  },
  {
   "cell_type": "code",
   "execution_count": null,
   "id": "f85e03ec-4fe5-463e-978e-57426a0f68d9",
   "metadata": {},
   "outputs": [],
   "source": []
  }
 ],
 "metadata": {
  "kernelspec": {
   "display_name": "Python 3 (ipykernel)",
   "language": "python",
   "name": "python3"
  },
  "language_info": {
   "codemirror_mode": {
    "name": "ipython",
    "version": 3
   },
   "file_extension": ".py",
   "mimetype": "text/x-python",
   "name": "python",
   "nbconvert_exporter": "python",
   "pygments_lexer": "ipython3",
   "version": "3.12.4"
  }
 },
 "nbformat": 4,
 "nbformat_minor": 5
}
